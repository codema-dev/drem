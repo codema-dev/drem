{
 "cells": [
  {
   "cell_type": "markdown",
   "metadata": {},
   "source": [
    "# Store_hourly_data_as_csv"
   ]
  },
  {
   "cell_type": "code",
   "execution_count": 12,
   "metadata": {},
   "outputs": [],
   "source": [
    "%store -r df_hourly"
   ]
  },
  {
   "cell_type": "code",
   "execution_count": 13,
   "metadata": {},
   "outputs": [
    {
     "data": {
      "text/plain": [
       "Date        Time    \n",
       "2009-07-15  00:00:00    1.084284\n",
       "            01:00:00    0.819371\n",
       "            02:00:00    0.684438\n",
       "            03:00:00    0.637190\n",
       "            04:00:00    0.609808\n",
       "dtype: float64"
      ]
     },
     "execution_count": 13,
     "metadata": {},
     "output_type": "execute_result"
    }
   ],
   "source": [
    "df_hourly.head()"
   ]
  },
  {
   "cell_type": "code",
   "execution_count": 14,
   "metadata": {},
   "outputs": [
    {
     "data": {
      "text/html": [
       "<div>\n",
       "<style scoped>\n",
       "    .dataframe tbody tr th:only-of-type {\n",
       "        vertical-align: middle;\n",
       "    }\n",
       "\n",
       "    .dataframe tbody tr th {\n",
       "        vertical-align: top;\n",
       "    }\n",
       "\n",
       "    .dataframe thead th {\n",
       "        text-align: right;\n",
       "    }\n",
       "</style>\n",
       "<table border=\"1\" class=\"dataframe\">\n",
       "  <thead>\n",
       "    <tr style=\"text-align: right;\">\n",
       "      <th></th>\n",
       "      <th>Date</th>\n",
       "      <th>Time</th>\n",
       "      <th>0</th>\n",
       "    </tr>\n",
       "  </thead>\n",
       "  <tbody>\n",
       "    <tr>\n",
       "      <th>0</th>\n",
       "      <td>2009-07-15</td>\n",
       "      <td>00:00:00</td>\n",
       "      <td>1.084284</td>\n",
       "    </tr>\n",
       "    <tr>\n",
       "      <th>1</th>\n",
       "      <td>2009-07-15</td>\n",
       "      <td>01:00:00</td>\n",
       "      <td>0.819371</td>\n",
       "    </tr>\n",
       "    <tr>\n",
       "      <th>2</th>\n",
       "      <td>2009-07-15</td>\n",
       "      <td>02:00:00</td>\n",
       "      <td>0.684438</td>\n",
       "    </tr>\n",
       "    <tr>\n",
       "      <th>3</th>\n",
       "      <td>2009-07-15</td>\n",
       "      <td>03:00:00</td>\n",
       "      <td>0.637190</td>\n",
       "    </tr>\n",
       "    <tr>\n",
       "      <th>4</th>\n",
       "      <td>2009-07-15</td>\n",
       "      <td>04:00:00</td>\n",
       "      <td>0.609808</td>\n",
       "    </tr>\n",
       "    <tr>\n",
       "      <th>...</th>\n",
       "      <td>...</td>\n",
       "      <td>...</td>\n",
       "      <td>...</td>\n",
       "    </tr>\n",
       "    <tr>\n",
       "      <th>12858</th>\n",
       "      <td>2011-01-01</td>\n",
       "      <td>19:00:00</td>\n",
       "      <td>2.444566</td>\n",
       "    </tr>\n",
       "    <tr>\n",
       "      <th>12859</th>\n",
       "      <td>2011-01-01</td>\n",
       "      <td>20:00:00</td>\n",
       "      <td>2.205351</td>\n",
       "    </tr>\n",
       "    <tr>\n",
       "      <th>12860</th>\n",
       "      <td>2011-01-01</td>\n",
       "      <td>21:00:00</td>\n",
       "      <td>1.975453</td>\n",
       "    </tr>\n",
       "    <tr>\n",
       "      <th>12861</th>\n",
       "      <td>2011-01-01</td>\n",
       "      <td>22:00:00</td>\n",
       "      <td>1.747120</td>\n",
       "    </tr>\n",
       "    <tr>\n",
       "      <th>12862</th>\n",
       "      <td>2011-01-01</td>\n",
       "      <td>23:00:00</td>\n",
       "      <td>1.671803</td>\n",
       "    </tr>\n",
       "  </tbody>\n",
       "</table>\n",
       "<p>12863 rows × 3 columns</p>\n",
       "</div>"
      ],
      "text/plain": [
       "            Date      Time         0\n",
       "0     2009-07-15  00:00:00  1.084284\n",
       "1     2009-07-15  01:00:00  0.819371\n",
       "2     2009-07-15  02:00:00  0.684438\n",
       "3     2009-07-15  03:00:00  0.637190\n",
       "4     2009-07-15  04:00:00  0.609808\n",
       "...          ...       ...       ...\n",
       "12858 2011-01-01  19:00:00  2.444566\n",
       "12859 2011-01-01  20:00:00  2.205351\n",
       "12860 2011-01-01  21:00:00  1.975453\n",
       "12861 2011-01-01  22:00:00  1.747120\n",
       "12862 2011-01-01  23:00:00  1.671803\n",
       "\n",
       "[12863 rows x 3 columns]"
      ]
     },
     "execution_count": 14,
     "metadata": {},
     "output_type": "execute_result"
    }
   ],
   "source": [
    "# Store csv of data in Downloads\n",
    "\n",
    "df_hourly = df_hourly.to_frame().reset_index()\n",
    "df_hourly.rename(columns={0:\"Consumption [kWh]\"}, inplace=True)\n",
    "\n",
    "df_hourly.head()"
   ]
  },
  {
   "cell_type": "code",
   "execution_count": 20,
   "metadata": {},
   "outputs": [],
   "source": [
    "path_to_downloads = r\"C:\\Users\\RowanM\\Downloads\"\n",
    "storage_path = path_to_downloads + r\"\\Avg_hourly_electricity_data_profile.csv\""
   ]
  },
  {
   "cell_type": "code",
   "execution_count": 22,
   "metadata": {},
   "outputs": [],
   "source": [
    "df_hourly.to_csv(storage_path,index=False)"
   ]
  }
 ],
 "metadata": {
  "kernelspec": {
   "display_name": "Python 3",
   "language": "python",
   "name": "python3"
  },
  "language_info": {
   "codemirror_mode": {
    "name": "ipython",
    "version": 3
   },
   "file_extension": ".py",
   "mimetype": "text/x-python",
   "name": "python",
   "nbconvert_exporter": "python",
   "pygments_lexer": "ipython3",
   "version": "3.8.1"
  }
 },
 "nbformat": 4,
 "nbformat_minor": 4
}
