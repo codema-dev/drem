{
 "cells": [
  {
   "cell_type": "markdown",
   "metadata": {
    "Collapsed": "false"
   },
   "source": [
    "# Pull_out_business_by_ID"
   ]
  },
  {
   "cell_type": "code",
   "execution_count": 1,
   "metadata": {
    "Collapsed": "false"
   },
   "outputs": [],
   "source": [
    "%load_ext sql\n",
    "%load_ext lab_black"
   ]
  },
  {
   "cell_type": "code",
   "execution_count": 2,
   "metadata": {
    "Collapsed": "false"
   },
   "outputs": [],
   "source": [
    "import sqlite3\n",
    "import pandas as pd\n",
    "from tqdm import tqdm_notebook as tqdm\n",
    "\n",
    "from src.features import paths"
   ]
  },
  {
   "cell_type": "code",
   "execution_count": 3,
   "metadata": {
    "Collapsed": "false"
   },
   "outputs": [
    {
     "name": "stdout",
     "output_type": "stream",
     "text": [
      "C:\\Users\\RowanM\\Documents\\dublin_energy_masterplan\\Residential\\data\\raw\\SM_electricity\\SME and Residential allocations.xlsx\n"
     ]
    }
   ],
   "source": [
    "path_to_electricity_allocations = paths.get_path_to_data(\n",
    "    \"SME and Residential allocations.xlsx\"\n",
    ")\n",
    "\n",
    "print(path_to_electricity_allocations)"
   ]
  },
  {
   "cell_type": "code",
   "execution_count": 4,
   "metadata": {
    "Collapsed": "false"
   },
   "outputs": [
    {
     "name": "stdout",
     "output_type": "stream",
     "text": [
      "C:\\Users\\RowanM\\Documents\\dublin_energy_masterplan\\Residential\\data\\raw\\SM_electricity\\Smart meters SME pre-trial survey data.csv\n"
     ]
    }
   ],
   "source": [
    "path_to_SME_electricity_survey = paths.get_path_to_data(\n",
    "    \"Smart meters SME pre-trial survey data.csv\"\n",
    ")\n",
    "\n",
    "print(path_to_SME_electricity_survey)"
   ]
  },
  {
   "cell_type": "code",
   "execution_count": 5,
   "metadata": {
    "Collapsed": "false"
   },
   "outputs": [
    {
     "name": "stdout",
     "output_type": "stream",
     "text": [
      "C:\\Users\\RowanM\\Documents\\dublin_energy_masterplan\\Residential\\data\\processed\\data.db\n"
     ]
    }
   ],
   "source": [
    "path_to_data_database = paths.get_path_to_data(\"data.db\")\n",
    "\n",
    "print(path_to_data_database)"
   ]
  },
  {
   "cell_type": "markdown",
   "metadata": {
    "Collapsed": "false"
   },
   "source": [
    "# Pull out SME Survey business types"
   ]
  },
  {
   "cell_type": "code",
   "execution_count": 6,
   "metadata": {
    "Collapsed": "false"
   },
   "outputs": [
    {
     "data": {
      "text/html": [
       "<div>\n",
       "<style scoped>\n",
       "    .dataframe tbody tr th:only-of-type {\n",
       "        vertical-align: middle;\n",
       "    }\n",
       "\n",
       "    .dataframe tbody tr th {\n",
       "        vertical-align: top;\n",
       "    }\n",
       "\n",
       "    .dataframe thead th {\n",
       "        text-align: right;\n",
       "    }\n",
       "</style>\n",
       "<table border=\"1\" class=\"dataframe\">\n",
       "  <thead>\n",
       "    <tr style=\"text-align: right;\">\n",
       "      <th></th>\n",
       "      <th>SME_type</th>\n",
       "    </tr>\n",
       "    <tr>\n",
       "      <th>ID</th>\n",
       "      <th></th>\n",
       "    </tr>\n",
       "  </thead>\n",
       "  <tbody>\n",
       "    <tr>\n",
       "      <th>1023</th>\n",
       "      <td>5</td>\n",
       "    </tr>\n",
       "    <tr>\n",
       "      <th>1026</th>\n",
       "      <td>5</td>\n",
       "    </tr>\n",
       "    <tr>\n",
       "      <th>1050</th>\n",
       "      <td>4</td>\n",
       "    </tr>\n",
       "    <tr>\n",
       "      <th>1056</th>\n",
       "      <td>2</td>\n",
       "    </tr>\n",
       "    <tr>\n",
       "      <th>1101</th>\n",
       "      <td>5</td>\n",
       "    </tr>\n",
       "    <tr>\n",
       "      <th>...</th>\n",
       "      <td>...</td>\n",
       "    </tr>\n",
       "    <tr>\n",
       "      <th>7348</th>\n",
       "      <td>6</td>\n",
       "    </tr>\n",
       "    <tr>\n",
       "      <th>7357</th>\n",
       "      <td>4</td>\n",
       "    </tr>\n",
       "    <tr>\n",
       "      <th>7369</th>\n",
       "      <td>4</td>\n",
       "    </tr>\n",
       "    <tr>\n",
       "      <th>7427</th>\n",
       "      <td>2</td>\n",
       "    </tr>\n",
       "    <tr>\n",
       "      <th>7439</th>\n",
       "      <td>6</td>\n",
       "    </tr>\n",
       "  </tbody>\n",
       "</table>\n",
       "<p>329 rows × 1 columns</p>\n",
       "</div>"
      ],
      "text/plain": [
       "      SME_type\n",
       "ID            \n",
       "1023         5\n",
       "1026         5\n",
       "1050         4\n",
       "1056         2\n",
       "1101         5\n",
       "...        ...\n",
       "7348         6\n",
       "7357         4\n",
       "7369         4\n",
       "7427         2\n",
       "7439         6\n",
       "\n",
       "[329 rows x 1 columns]"
      ]
     },
     "execution_count": 6,
     "metadata": {},
     "output_type": "execute_result"
    }
   ],
   "source": [
    "SME_electricity_survey = pd.read_csv(\n",
    "    path_to_SME_electricity_survey, usecols=[0, 1], index_col=[0]\n",
    ")\n",
    "\n",
    "SME_electricity_survey.rename(\n",
    "    columns={\n",
    "        \"Question 611: INT:Code organistation s business as appropriate to the following\": \"SME_type\"\n",
    "    },\n",
    "    inplace=True,\n",
    ")\n",
    "\n",
    "SME_electricity_survey"
   ]
  },
  {
   "cell_type": "code",
   "execution_count": 7,
   "metadata": {
    "Collapsed": "false"
   },
   "outputs": [],
   "source": [
    "SME_electricity_survey_grouped = SME_electricity_survey.groupby(\"SME_type\")"
   ]
  },
  {
   "cell_type": "code",
   "execution_count": 8,
   "metadata": {
    "Collapsed": "false"
   },
   "outputs": [
    {
     "data": {
      "text/html": [
       "<div>\n",
       "<style scoped>\n",
       "    .dataframe tbody tr th:only-of-type {\n",
       "        vertical-align: middle;\n",
       "    }\n",
       "\n",
       "    .dataframe tbody tr th {\n",
       "        vertical-align: top;\n",
       "    }\n",
       "\n",
       "    .dataframe thead th {\n",
       "        text-align: right;\n",
       "    }\n",
       "</style>\n",
       "<table border=\"1\" class=\"dataframe\">\n",
       "  <thead>\n",
       "    <tr style=\"text-align: right;\">\n",
       "      <th></th>\n",
       "      <th>SME_type</th>\n",
       "    </tr>\n",
       "    <tr>\n",
       "      <th>ID</th>\n",
       "      <th></th>\n",
       "    </tr>\n",
       "  </thead>\n",
       "  <tbody>\n",
       "    <tr>\n",
       "      <th>1637</th>\n",
       "      <td>1</td>\n",
       "    </tr>\n",
       "    <tr>\n",
       "      <th>2639</th>\n",
       "      <td>1</td>\n",
       "    </tr>\n",
       "    <tr>\n",
       "      <th>4285</th>\n",
       "      <td>1</td>\n",
       "    </tr>\n",
       "    <tr>\n",
       "      <th>6458</th>\n",
       "      <td>1</td>\n",
       "    </tr>\n",
       "    <tr>\n",
       "      <th>6939</th>\n",
       "      <td>1</td>\n",
       "    </tr>\n",
       "  </tbody>\n",
       "</table>\n",
       "</div>"
      ],
      "text/plain": [
       "      SME_type\n",
       "ID            \n",
       "1637         1\n",
       "2639         1\n",
       "4285         1\n",
       "6458         1\n",
       "6939         1"
      ]
     },
     "execution_count": 8,
     "metadata": {},
     "output_type": "execute_result"
    }
   ],
   "source": [
    "SME_electricity_survey_grouped.get_group(1)"
   ]
  },
  {
   "cell_type": "markdown",
   "metadata": {
    "Collapsed": "false"
   },
   "source": [
    "# Connect to Database"
   ]
  },
  {
   "cell_type": "code",
   "execution_count": 9,
   "metadata": {
    "Collapsed": "false"
   },
   "outputs": [
    {
     "data": {
      "text/plain": [
       "'Connected: @C:\\\\Users\\\\RowanM\\\\Documents\\\\dublin_energy_masterplan\\\\Residential\\\\data\\\\processed\\\\data.db'"
      ]
     },
     "execution_count": 9,
     "metadata": {},
     "output_type": "execute_result"
    }
   ],
   "source": [
    "%sql sqlite:///$path_to_data_database"
   ]
  },
  {
   "cell_type": "code",
   "execution_count": 10,
   "metadata": {
    "Collapsed": "false"
   },
   "outputs": [
    {
     "data": {
      "text/plain": [
       "<sqlite3.Connection at 0x268fb2567b0>"
      ]
     },
     "execution_count": 10,
     "metadata": {},
     "output_type": "execute_result"
    }
   ],
   "source": [
    "conn = sqlite3.connect(path_to_data_database)\n",
    "\n",
    "conn"
   ]
  },
  {
   "cell_type": "code",
   "execution_count": 11,
   "metadata": {
    "Collapsed": "false"
   },
   "outputs": [],
   "source": [
    "cursor = conn.cursor()"
   ]
  },
  {
   "cell_type": "code",
   "execution_count": 12,
   "metadata": {
    "Collapsed": "false"
   },
   "outputs": [
    {
     "name": "stdout",
     "output_type": "stream",
     "text": [
      " * sqlite:///C:\\Users\\RowanM\\Documents\\dublin_energy_masterplan\\Residential\\data\\processed\\data.db\n",
      "Done.\n"
     ]
    },
    {
     "data": {
      "text/html": [
       "<table>\n",
       "    <tr>\n",
       "        <th>type</th>\n",
       "        <th>name</th>\n",
       "        <th>tbl_name</th>\n",
       "        <th>rootpage</th>\n",
       "        <th>sql</th>\n",
       "    </tr>\n",
       "    <tr>\n",
       "        <td>table</td>\n",
       "        <td>electricity_data_ordered</td>\n",
       "        <td>electricity_data_ordered</td>\n",
       "        <td>2</td>\n",
       "        <td>CREATE TABLE electricity_data_ordered (<br>    ID TEXT,<br>    Date TEXT,<br>    Time TEXT,<br>    Consumption FLOAT<br>)</td>\n",
       "    </tr>\n",
       "    <tr>\n",
       "        <td>table</td>\n",
       "        <td>electricity_average_consumption</td>\n",
       "        <td>electricity_average_consumption</td>\n",
       "        <td>1629893</td>\n",
       "        <td>CREATE TABLE electricity_average_consumption (<br>    Date TEXT,<br>    Time TEXT,<br>    Consumption FLOAT<br>)</td>\n",
       "    </tr>\n",
       "</table>"
      ],
      "text/plain": [
       "[('table', 'electricity_data_ordered', 'electricity_data_ordered', 2, 'CREATE TABLE electricity_data_ordered (\\n    ID TEXT,\\n    Date TEXT,\\n    Time TEXT,\\n    Consumption FLOAT\\n)'),\n",
       " ('table', 'electricity_average_consumption', 'electricity_average_consumption', 1629893, 'CREATE TABLE electricity_average_consumption (\\n    Date TEXT,\\n    Time TEXT,\\n    Consumption FLOAT\\n)')]"
      ]
     },
     "execution_count": 12,
     "metadata": {},
     "output_type": "execute_result"
    }
   ],
   "source": [
    "%%sql\n",
    "\n",
    "SELECT * FROM sqlite_master"
   ]
  },
  {
   "cell_type": "markdown",
   "metadata": {
    "Collapsed": "false"
   },
   "source": [
    "# Pull out by ID"
   ]
  },
  {
   "cell_type": "code",
   "execution_count": 13,
   "metadata": {
    "Collapsed": "false"
   },
   "outputs": [
    {
     "name": "stdout",
     "output_type": "stream",
     "text": [
      "Calculating an average demand profile for group 1...\n",
      "Reading of SQL query complete\n",
      "\n",
      "Calculating hourly demand...\n",
      "Storing Data for group 1 in csv...\n",
      "\n",
      "Calculating an average demand profile for group 2...\n",
      "Reading of SQL query complete\n",
      "\n",
      "Calculating hourly demand...\n",
      "Storing Data for group 2 in csv...\n",
      "\n",
      "Calculating an average demand profile for group 3...\n",
      "Reading of SQL query complete\n",
      "\n",
      "Calculating hourly demand...\n",
      "Storing Data for group 3 in csv...\n",
      "\n",
      "Calculating an average demand profile for group 4...\n",
      "Reading of SQL query complete\n",
      "\n",
      "Calculating hourly demand...\n",
      "Storing Data for group 4 in csv...\n",
      "\n",
      "Calculating an average demand profile for group 5...\n",
      "Reading of SQL query complete\n",
      "\n",
      "Calculating hourly demand...\n",
      "Storing Data for group 5 in csv...\n",
      "\n",
      "Calculating an average demand profile for group 6...\n",
      "Reading of SQL query complete\n",
      "\n",
      "Calculating hourly demand...\n",
      "Storing Data for group 6 in csv...\n",
      "\n",
      "Wall time: 6min 36s\n"
     ]
    }
   ],
   "source": [
    "%%time\n",
    "\n",
    "for business_type in range(1, 7):\n",
    "\n",
    "    select = SME_electricity_survey_grouped.get_group(business_type)\n",
    "    \n",
    "    select_IDs = tuple(select.index)\n",
    "    print(f\"Calculating an average demand profile for group {business_type}...\")\n",
    "    sql = f\"\"\"SELECT Date, Time, AVG(Consumption) FROM electricity_data_ordered \n",
    "            WHERE ID in {select_IDs}\n",
    "            GROUP BY Date, Time\n",
    "            \"\"\"\n",
    "    group = pd.read_sql_query(sql, conn)\n",
    "    print(\"Reading of SQL query complete\\n\")\n",
    "    \n",
    "    print(\"Calculating hourly demand...\")\n",
    "    group[\"Date\"] = pd.to_datetime(group[\"Date\"])\n",
    "    group[\"Time\"] = pd.to_datetime(group[\"Time\"], format=\"%H:%M:%S\").dt.time\n",
    "    group.set_index([\"Date\", \"Time\"], inplace=True)\n",
    "\n",
    "    hourly_demand = group[\"AVG(Consumption)\"].iloc[0::2].values + group[\"AVG(Consumption)\"].iloc[1::2].values\n",
    "\n",
    "    # Calculate hourly profiles\n",
    "    group_hourly = pd.Series(\n",
    "        hourly_demand,\n",
    "        index=group.iloc[0::2].index,\n",
    "    )\n",
    "\n",
    "    print(f\"Storing Data for group {business_type} in csv...\\n\")\n",
    "    group_hourly.to_csv(r\"C:\\Users\\RowanM\\Downloads\\group{}.csv\".format(business_type))"
   ]
  }
 ],
 "metadata": {
  "kernelspec": {
   "display_name": "Python 3",
   "language": "python",
   "name": "python3"
  },
  "language_info": {
   "codemirror_mode": {
    "name": "ipython",
    "version": 3
   },
   "file_extension": ".py",
   "mimetype": "text/x-python",
   "name": "python",
   "nbconvert_exporter": "python",
   "pygments_lexer": "ipython3",
   "version": "3.8.1"
  }
 },
 "nbformat": 4,
 "nbformat_minor": 4
}
