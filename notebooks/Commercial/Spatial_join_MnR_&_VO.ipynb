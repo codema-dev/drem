{
 "cells": [
  {
   "cell_type": "code",
   "execution_count": null,
   "metadata": {},
   "outputs": [],
   "source": [
    "import matplotlib.pyplot as plt # to visualize data\n",
    "import pandas as pd # to read/write plain tables\n",
    "import numpy as np\n",
    "\n",
    "# to display a few webpages within the notebook\n",
    "from IPython.display import IFrame\n",
    "%matplotlib inline\n",
    "\n",
    "import geopandas as gpd # to read/write spatial data\n",
    "import descartes\n",
    "from toolz.functoolz import pipe"
   ]
  },
  {
   "cell_type": "code",
   "execution_count": null,
   "metadata": {},
   "outputs": [],
   "source": [
    "from src.data import path, load "
   ]
  },
  {
   "cell_type": "code",
   "execution_count": null,
   "metadata": {},
   "outputs": [],
   "source": [
    "%load_ext autoreload\n",
    "%autoreload 2"
   ]
  },
  {
   "cell_type": "code",
   "execution_count": null,
   "metadata": {},
   "outputs": [],
   "source": [
    "VO = pipe(\n",
    "    path.get(\"VO.pkl\"),\n",
    "    load.local_data\n",
    ")"
   ]
  },
  {
   "cell_type": "code",
   "execution_count": null,
   "metadata": {},
   "outputs": [],
   "source": [
    "print(\"Number of data points = \", VO.shape[0])\n",
    "\n",
    "VO_raw_rows = VO.shape[0]\n",
    "\n",
    "VO.head()"
   ]
  },
  {
   "cell_type": "code",
   "execution_count": null,
   "metadata": {},
   "outputs": [],
   "source": [
    "MnR_path = path.get(r\"MnR from Rebecca and Located 27-03-2020.csv\")\n",
    "MnR = pd.read_csv(MnR_path)"
   ]
  },
  {
   "cell_type": "code",
   "execution_count": null,
   "metadata": {},
   "outputs": [],
   "source": [
    "print(\"Number of data points = \", MnR.shape[0])\n",
    "\n",
    "MnR_raw_rows = MnR.shape[0]\n",
    "\n",
    "MnR.head()"
   ]
  },
  {
   "cell_type": "code",
   "execution_count": null,
   "metadata": {},
   "outputs": [],
   "source": [
    "map_of_Dublin = pipe(\n",
    "    path.get(\"map_of_Dublin_2016_Electoral_Districts_UG.pkl\"),\n",
    "    load.local_data\n",
    ")\n",
    "map_of_Dublin.crs = 'epsg:4326'\n",
    "\n",
    "map_of_Dublin.plot()"
   ]
  },
  {
   "cell_type": "markdown",
   "metadata": {},
   "source": [
    "# Create Geo dfs"
   ]
  },
  {
   "cell_type": "code",
   "execution_count": null,
   "metadata": {},
   "outputs": [],
   "source": [
    "def create_geodf_from_GPS (df, x, y, crs):\n",
    "    \n",
    "    locations = gpd.points_from_xy(x, y)\n",
    "    geo_df = gpd.GeoDataFrame(df, geometry=locations)\n",
    "    geo_df.crs = crs\n",
    "    \n",
    "    return geo_df"
   ]
  },
  {
   "cell_type": "code",
   "execution_count": null,
   "metadata": {},
   "outputs": [],
   "source": [
    "MnR_geo = create_geodf_from_GPS(MnR, y=MnR[\"Latitude\"], x=MnR[\"Longitude\"], crs='epsg:4326')\n",
    "MnR_geo.plot()"
   ]
  },
  {
   "cell_type": "code",
   "execution_count": null,
   "metadata": {},
   "outputs": [],
   "source": [
    "VO_geo = create_geodf_from_GPS(VO, x=VO[\" X ITM\"], y=VO[\" Y ITM\"], crs = 'epsg:2157')\n",
    "\n",
    "VO_geo.plot()"
   ]
  },
  {
   "cell_type": "markdown",
   "metadata": {},
   "source": [
    "# Clean data\n",
    "\n",
    "Filter out all Data points falling outside of Dublin (errors...)"
   ]
  },
  {
   "cell_type": "markdown",
   "metadata": {},
   "source": [
    "__MnR:__"
   ]
  },
  {
   "cell_type": "code",
   "execution_count": null,
   "metadata": {},
   "outputs": [],
   "source": [
    "MnR_geo_clean = gpd.sjoin(MnR_geo, map_of_Dublin)\n",
    "\n",
    "print(\"Number of data points = \", MnR_geo_clean.shape[0])\n",
    "print(\"Number of rows lost in cleaning = \", MnR_raw_rows - MnR_geo_clean.shape[0])\n",
    "\n",
    "MnR_geo_clean.plot()"
   ]
  },
  {
   "cell_type": "markdown",
   "metadata": {},
   "source": [
    "__VO:__"
   ]
  },
  {
   "cell_type": "markdown",
   "metadata": {},
   "source": [
    "VO has outliers at 47, -16 when all should be roughly 53, -6 so remove these ..."
   ]
  },
  {
   "cell_type": "code",
   "execution_count": null,
   "metadata": {},
   "outputs": [],
   "source": [
    "VO_geo.head()"
   ]
  },
  {
   "cell_type": "code",
   "execution_count": null,
   "metadata": {},
   "outputs": [],
   "source": [
    "mask = VO_geo[\" X ITM\"] > 100000\n",
    "VO_geo_clean = VO_geo[mask]\n",
    "\n",
    "VO_geo_clean.plot()"
   ]
  },
  {
   "cell_type": "code",
   "execution_count": null,
   "metadata": {},
   "outputs": [],
   "source": [
    "# VO_geo_clean = gpd.sjoin(map_of_Dublin, VO_geo, how=\"inner\", op=\"intersects\")\n",
    "\n",
    "print(\"Number of data points = \", VO_geo_clean.shape[0])\n",
    "print(\"Number of rows lost in cleaning = \", VO_raw_rows - VO_geo_clean.shape[0])\n",
    "\n",
    "VO_geo_clean.plot()"
   ]
  },
  {
   "cell_type": "markdown",
   "metadata": {},
   "source": [
    "# Plot data"
   ]
  },
  {
   "cell_type": "markdown",
   "metadata": {},
   "source": [
    "For VO near Dublin"
   ]
  },
  {
   "cell_type": "code",
   "execution_count": null,
   "metadata": {},
   "outputs": [],
   "source": [
    "fig, ax = plt.subplots(sharex=True, sharey=True, figsize = (20,16))\n",
    "\n",
    "map_of_Dublin.plot(ax=ax, color='white', edgecolor='black')\n",
    "VO_geo_clean.to_crs(\"epsg:4326\").plot(ax=ax, marker='o', color='red')\n",
    "MnR_geo_clean.plot(ax=ax, marker='o', color='blue')\n",
    "\n",
    "# fig.savefig(\"VO_&_MnR_on_Dublin.png\")"
   ]
  },
  {
   "cell_type": "markdown",
   "metadata": {},
   "source": [
    "# Create buffer around MnR bldgs to try and capture nearest VO bldg"
   ]
  },
  {
   "cell_type": "code",
   "execution_count": null,
   "metadata": {
    "lines_to_next_cell": 2
   },
   "outputs": [],
   "source": [
    "fig, ax = plt.subplots(sharex=True, sharey=True, figsize = (20,16))\n"
   ]
  },
  {
   "cell_type": "code",
   "execution_count": null,
   "metadata": {},
   "outputs": [],
   "source": [
    "gpd.GeoDataFrame??"
   ]
  },
  {
   "cell_type": "code",
   "execution_count": null,
   "metadata": {},
   "outputs": [],
   "source": [
    "fig, ax = plt.subplots(sharex=True, sharey=True, figsize = (20,16))\n",
    "\n",
    "map_of_Dublin.plot(ax=ax, color='white', edgecolor='black')\n",
    "\n",
    "searchbuffer = MnR_geo_clean.buffer(0.0005)\n",
    "\n",
    "searchbuffer.plot(ax=ax, color='purple')\n",
    "MnR_geo_clean.plot(ax=ax, color='blue', markersize=0.1)\n",
    "VO_geo_clean.to_crs(\"epsg:4326\").plot(ax=ax,color='red', markersize=0.1)\n",
    "\n",
    "fig.savefig('MnR_buffered.png')"
   ]
  },
  {
   "cell_type": "code",
   "execution_count": null,
   "metadata": {},
   "outputs": [],
   "source": [
    "searchbuffer = MnR_geo_clean.buffer(0.00015)\n",
    "MnR_buffered = gpd.GeoDataFrame(\n",
    "    MnR_geo_clean.drop(columns=\"geometry\"),\n",
    "    geometry = searchbuffer.to_list(),\n",
    "    crs = \"epsg:4326\")\n",
    "\n",
    "# fig, ax = plt.subplots(sharex=True, sharey=True, figsize = (20,16))\n",
    "# map_of_Dublin.plot(ax=ax, color='white', edgecolor='black')\n",
    "# MnR_buffered.plot(ax=ax)\n",
    "# VO_geo_clean.to_crs(\"epsg:4326\").plot(ax=ax,color='red', markersize=0.1)"
   ]
  },
  {
   "cell_type": "code",
   "execution_count": null,
   "metadata": {},
   "outputs": [],
   "source": [
    "# CLEAN COLUMN NAMES\n",
    "MnR_buffered.drop(columns=[\"Unnamed: 0\", \"Unnamed: 0.1\", \"index_right\"], inplace=True)"
   ]
  },
  {
   "cell_type": "code",
   "execution_count": null,
   "metadata": {},
   "outputs": [],
   "source": [
    "MnR_and_VO = gpd.sjoin(left_df=MnR_buffered, right_df=VO_geo_clean.to_crs(\"epsg:4326\"), op='intersects', how='inner')\n",
    "\n",
    "print(\"MnR to match: \", str(MnR_buffered.shape[0]))\n",
    "print(\"MnR matched: \", str(MnR_and_VO.shape[0]))\n",
    "\n",
    "MnR_and_VO.plot()"
   ]
  },
  {
   "cell_type": "code",
   "execution_count": null,
   "metadata": {},
   "outputs": [],
   "source": [
    "MnR_and_VO.columns"
   ]
  },
  {
   "cell_type": "code",
   "execution_count": null,
   "metadata": {},
   "outputs": [],
   "source": [
    "compare_addresses = pd.DataFrame(MnR_and_VO[[\"Address_left\", \"Address_right\"]])\n",
    "path_comparison = path.set(\"MnR_and_VO_join_comparison.xlsx\", \"interim\")\n",
    "compare_addresses.drop_duplicates().to_excel(path_comparison)"
   ]
  },
  {
   "cell_type": "code",
   "execution_count": null,
   "metadata": {},
   "outputs": [],
   "source": [
    "MnR_and_VO_path = path.set(\"MnR_and_VO_joined.csv\", \"interim\")\n",
    "MnR_and_VO.to_file(MnR_and_VO_path)"
   ]
  }
 ],
 "metadata": {
  "kernelspec": {
   "display_name": "Python 3",
   "language": "python",
   "name": "python3"
  }
 },
 "nbformat": 4,
 "nbformat_minor": 4
}
