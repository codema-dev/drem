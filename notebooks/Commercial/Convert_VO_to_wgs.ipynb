{
 "cells": [
  {
   "cell_type": "code",
   "execution_count": 1,
   "metadata": {
    "ExecuteTime": {
     "end_time": "2020-03-10T13:48:49.707183Z",
     "start_time": "2020-03-10T13:48:49.538186Z"
    }
   },
   "outputs": [],
   "source": [
    "import pandas as pd\n",
    "import numpy as np\n",
    "import pyproj "
   ]
  },
  {
   "cell_type": "code",
   "execution_count": 20,
   "metadata": {
    "ExecuteTime": {
     "end_time": "2020-03-10T14:27:43.096229Z",
     "start_time": "2020-03-10T14:27:42.988233Z"
    }
   },
   "outputs": [],
   "source": [
    "from src.data import path,load,save"
   ]
  },
  {
   "cell_type": "code",
   "execution_count": 3,
   "metadata": {},
   "outputs": [
    {
     "name": "stdout",
     "output_type": "stream",
     "text": [
      "/home/notebooks/Commercial\n"
     ]
    }
   ],
   "source": [
    "!pwd"
   ]
  },
  {
   "cell_type": "code",
   "execution_count": 4,
   "metadata": {},
   "outputs": [
    {
     "name": "stdout",
     "output_type": "stream",
     "text": [
      "Accessing data @ ../../data/interim/VO.pkl\n"
     ]
    }
   ],
   "source": [
    "path = path.get(\"VO.pkl\")"
   ]
  },
  {
   "cell_type": "code",
   "execution_count": 5,
   "metadata": {},
   "outputs": [
    {
     "name": "stdout",
     "output_type": "stream",
     "text": [
      "Attempting to load data...\n",
      "Data successfully loaded!\n"
     ]
    }
   ],
   "source": [
    "VO = load.local_data(path)"
   ]
  },
  {
   "cell_type": "markdown",
   "metadata": {},
   "source": [
    "# Convert VO to wgs"
   ]
  },
  {
   "cell_type": "markdown",
   "metadata": {},
   "source": [
    "<STRONG> Similar solution </STRONG>\n",
    "\n",
    "```python\n",
    "from pyproj import Proj, transform\n",
    "\n",
    "\n",
    "def reproject_wgs_to_itm(longitude, latitude):\n",
    "    prj_wgs = Proj(init='epsg:4326')\n",
    "    prj_itm = Proj(init='epsg:2157')\n",
    "    x, y = transform(prj_wgs, prj_itm, longitude, latitude)\n",
    "    return x, y\n",
    "    \n",
    "print (reproject_wgs_to_itm(-7.748108, 53.431628))\n",
    ">> 616739.1657790709, 742421.4589047702\n",
    "```\n",
    "\n",
    "<STRONG>Source: \n",
    "    https://gis.stackexchange.com/questions/32418/python-script-to-convert-lat-long-to-itm-irish-transverse-mercator\n",
    "    </STRONG>"
   ]
  },
  {
   "cell_type": "code",
   "execution_count": 6,
   "metadata": {
    "ExecuteTime": {
     "end_time": "2020-03-10T13:49:04.893952Z",
     "start_time": "2020-03-10T13:49:04.608187Z"
    }
   },
   "outputs": [],
   "source": [
    "@np.vectorize\n",
    "def reproject_itm_to_wgs(\n",
    "    x_itm,\n",
    "    y_itm,\n",
    "    prj_wgs=pyproj.Proj('epsg:4326'),\n",
    "    prj_itm=pyproj.Proj('epsg:2157')\n",
    "):    \n",
    "    latitude, longitude = pyproj.transform(prj_itm, prj_wgs, y_itm, x_itm)\n",
    "    return latitude, longitude"
   ]
  },
  {
   "cell_type": "code",
   "execution_count": 7,
   "metadata": {
    "ExecuteTime": {
     "end_time": "2020-03-10T14:21:28.439266Z",
     "start_time": "2020-03-10T13:56:01.822981Z"
    }
   },
   "outputs": [
    {
     "name": "stdout",
     "output_type": "stream",
     "text": [
      "CPU times: user 57min 37s, sys: 2min 25s, total: 1h 2s\n",
      "Wall time: 1h 3s\n"
     ]
    }
   ],
   "source": [
    "%%time \n",
    "\n",
    "VO[\"Latitude\"], VO[\"Longitude\"] = reproject_itm_to_wgs(VO[\" X ITM\"], VO[\" Y ITM\"])"
   ]
  },
  {
   "cell_type": "code",
   "execution_count": 8,
   "metadata": {
    "ExecuteTime": {
     "end_time": "2020-03-10T14:22:25.449294Z",
     "start_time": "2020-03-10T14:22:25.181311Z"
    }
   },
   "outputs": [
    {
     "data": {
      "text/html": [
       "<div>\n",
       "<style scoped>\n",
       "    .dataframe tbody tr th:only-of-type {\n",
       "        vertical-align: middle;\n",
       "    }\n",
       "\n",
       "    .dataframe tbody tr th {\n",
       "        vertical-align: top;\n",
       "    }\n",
       "\n",
       "    .dataframe thead th {\n",
       "        text-align: right;\n",
       "    }\n",
       "</style>\n",
       "<table border=\"1\" class=\"dataframe\">\n",
       "  <thead>\n",
       "    <tr style=\"text-align: right;\">\n",
       "      <th></th>\n",
       "      <th>Property Number</th>\n",
       "      <th>Publication Date</th>\n",
       "      <th>County</th>\n",
       "      <th>Local Authority</th>\n",
       "      <th>Valuation</th>\n",
       "      <th>Category</th>\n",
       "      <th>Uses</th>\n",
       "      <th>Car Park</th>\n",
       "      <th>X ITM</th>\n",
       "      <th>Y ITM</th>\n",
       "      <th>Level</th>\n",
       "      <th>Floor Use</th>\n",
       "      <th>Area</th>\n",
       "      <th>Nav Per M2</th>\n",
       "      <th>Nav</th>\n",
       "      <th>Address</th>\n",
       "      <th>Latitude</th>\n",
       "      <th>Longitude</th>\n",
       "    </tr>\n",
       "  </thead>\n",
       "  <tbody>\n",
       "    <tr>\n",
       "      <th>0</th>\n",
       "      <td>518283</td>\n",
       "      <td>NaN</td>\n",
       "      <td>DUBLIN</td>\n",
       "      <td>DUN LAOGHAIRE RATHDOWN CO CO</td>\n",
       "      <td>0.0</td>\n",
       "      <td>MISCELLANEOUS</td>\n",
       "      <td>-, -</td>\n",
       "      <td>0</td>\n",
       "      <td>725438.36</td>\n",
       "      <td>724561.59</td>\n",
       "      <td>NaN</td>\n",
       "      <td>NaN</td>\n",
       "      <td>NaN</td>\n",
       "      <td>NaN</td>\n",
       "      <td>NaN</td>\n",
       "      <td>71b Killiney Hill Road Killiney Co. Dublin</td>\n",
       "      <td>53.264648</td>\n",
       "      <td>-6.132807</td>\n",
       "    </tr>\n",
       "    <tr>\n",
       "      <th>1</th>\n",
       "      <td>329596</td>\n",
       "      <td>31/12/2010</td>\n",
       "      <td>DUBLIN</td>\n",
       "      <td>DUN LAOGHAIRE RATHDOWN CO CO</td>\n",
       "      <td>2045000.0</td>\n",
       "      <td>RETAIL (SHOPS)</td>\n",
       "      <td>DEPARTMENT STORE, -</td>\n",
       "      <td>0</td>\n",
       "      <td>722732.98</td>\n",
       "      <td>725572.42</td>\n",
       "      <td>0</td>\n",
       "      <td>NaN</td>\n",
       "      <td>0.0</td>\n",
       "      <td>0.0</td>\n",
       "      <td>0.0</td>\n",
       "      <td>Cornelscourt S.C. Cornelscourt Dublin 18</td>\n",
       "      <td>53.240109</td>\n",
       "      <td>-6.118730</td>\n",
       "    </tr>\n",
       "    <tr>\n",
       "      <th>2</th>\n",
       "      <td>329596</td>\n",
       "      <td>31/12/2010</td>\n",
       "      <td>DUBLIN</td>\n",
       "      <td>DUN LAOGHAIRE RATHDOWN CO CO</td>\n",
       "      <td>2045000.0</td>\n",
       "      <td>RETAIL (SHOPS)</td>\n",
       "      <td>DEPARTMENT STORE, -</td>\n",
       "      <td>0</td>\n",
       "      <td>722732.98</td>\n",
       "      <td>725572.42</td>\n",
       "      <td>0</td>\n",
       "      <td>SHOP</td>\n",
       "      <td>0.0</td>\n",
       "      <td>0.0</td>\n",
       "      <td>0.0</td>\n",
       "      <td>Cornelscourt S.C. Cornelscourt Dublin 18</td>\n",
       "      <td>53.240109</td>\n",
       "      <td>-6.118730</td>\n",
       "    </tr>\n",
       "    <tr>\n",
       "      <th>3</th>\n",
       "      <td>329596</td>\n",
       "      <td>31/12/2010</td>\n",
       "      <td>DUBLIN</td>\n",
       "      <td>DUN LAOGHAIRE RATHDOWN CO CO</td>\n",
       "      <td>2045000.0</td>\n",
       "      <td>RETAIL (SHOPS)</td>\n",
       "      <td>DEPARTMENT STORE, -</td>\n",
       "      <td>0</td>\n",
       "      <td>722732.98</td>\n",
       "      <td>725572.42</td>\n",
       "      <td>0</td>\n",
       "      <td>DEPARTMENT STORE</td>\n",
       "      <td>7163.0</td>\n",
       "      <td>250.0</td>\n",
       "      <td>1790750.0</td>\n",
       "      <td>Cornelscourt S.C. Cornelscourt Dublin 18</td>\n",
       "      <td>53.240109</td>\n",
       "      <td>-6.118730</td>\n",
       "    </tr>\n",
       "    <tr>\n",
       "      <th>4</th>\n",
       "      <td>329596</td>\n",
       "      <td>31/12/2010</td>\n",
       "      <td>DUBLIN</td>\n",
       "      <td>DUN LAOGHAIRE RATHDOWN CO CO</td>\n",
       "      <td>2045000.0</td>\n",
       "      <td>RETAIL (SHOPS)</td>\n",
       "      <td>DEPARTMENT STORE, -</td>\n",
       "      <td>0</td>\n",
       "      <td>722732.98</td>\n",
       "      <td>725572.42</td>\n",
       "      <td>1</td>\n",
       "      <td>STORE</td>\n",
       "      <td>501.0</td>\n",
       "      <td>120.0</td>\n",
       "      <td>60120.0</td>\n",
       "      <td>Cornelscourt S.C. Cornelscourt Dublin 18</td>\n",
       "      <td>53.240109</td>\n",
       "      <td>-6.118730</td>\n",
       "    </tr>\n",
       "  </tbody>\n",
       "</table>\n",
       "</div>"
      ],
      "text/plain": [
       "   Property Number Publication Date  County               Local Authority  \\\n",
       "0           518283              NaN  DUBLIN  DUN LAOGHAIRE RATHDOWN CO CO   \n",
       "1           329596       31/12/2010  DUBLIN  DUN LAOGHAIRE RATHDOWN CO CO   \n",
       "2           329596       31/12/2010  DUBLIN  DUN LAOGHAIRE RATHDOWN CO CO   \n",
       "3           329596       31/12/2010  DUBLIN  DUN LAOGHAIRE RATHDOWN CO CO   \n",
       "4           329596       31/12/2010  DUBLIN  DUN LAOGHAIRE RATHDOWN CO CO   \n",
       "\n",
       "    Valuation        Category                 Uses  Car Park      X ITM  \\\n",
       "0         0.0   MISCELLANEOUS                 -, -         0  725438.36   \n",
       "1   2045000.0  RETAIL (SHOPS)  DEPARTMENT STORE, -         0  722732.98   \n",
       "2   2045000.0  RETAIL (SHOPS)  DEPARTMENT STORE, -         0  722732.98   \n",
       "3   2045000.0  RETAIL (SHOPS)  DEPARTMENT STORE, -         0  722732.98   \n",
       "4   2045000.0  RETAIL (SHOPS)  DEPARTMENT STORE, -         0  722732.98   \n",
       "\n",
       "       Y ITM Level         Floor Use    Area  Nav Per M2        Nav  \\\n",
       "0  724561.59   NaN               NaN     NaN         NaN        NaN   \n",
       "1  725572.42     0               NaN     0.0         0.0        0.0   \n",
       "2  725572.42     0              SHOP     0.0         0.0        0.0   \n",
       "3  725572.42     0  DEPARTMENT STORE  7163.0       250.0  1790750.0   \n",
       "4  725572.42     1             STORE   501.0       120.0    60120.0   \n",
       "\n",
       "                                          Address   Latitude  Longitude  \n",
       "0  71b Killiney Hill Road Killiney Co. Dublin      53.264648  -6.132807  \n",
       "1    Cornelscourt S.C. Cornelscourt Dublin 18      53.240109  -6.118730  \n",
       "2    Cornelscourt S.C. Cornelscourt Dublin 18      53.240109  -6.118730  \n",
       "3    Cornelscourt S.C. Cornelscourt Dublin 18      53.240109  -6.118730  \n",
       "4    Cornelscourt S.C. Cornelscourt Dublin 18      53.240109  -6.118730  "
      ]
     },
     "execution_count": 8,
     "metadata": {},
     "output_type": "execute_result"
    }
   ],
   "source": [
    "VO.head()"
   ]
  },
  {
   "cell_type": "code",
   "execution_count": 10,
   "metadata": {},
   "outputs": [
    {
     "data": {
      "text/html": [
       "<div>\n",
       "<style scoped>\n",
       "    .dataframe tbody tr th:only-of-type {\n",
       "        vertical-align: middle;\n",
       "    }\n",
       "\n",
       "    .dataframe tbody tr th {\n",
       "        vertical-align: top;\n",
       "    }\n",
       "\n",
       "    .dataframe thead th {\n",
       "        text-align: right;\n",
       "    }\n",
       "</style>\n",
       "<table border=\"1\" class=\"dataframe\">\n",
       "  <thead>\n",
       "    <tr style=\"text-align: right;\">\n",
       "      <th></th>\n",
       "      <th>Property Number</th>\n",
       "      <th>Publication Date</th>\n",
       "      <th>County</th>\n",
       "      <th>Local Authority</th>\n",
       "      <th>Valuation</th>\n",
       "      <th>Category</th>\n",
       "      <th>Uses</th>\n",
       "      <th>Car Park</th>\n",
       "      <th>X ITM</th>\n",
       "      <th>Y ITM</th>\n",
       "      <th>Level</th>\n",
       "      <th>Floor Use</th>\n",
       "      <th>Area</th>\n",
       "      <th>Nav Per M2</th>\n",
       "      <th>Nav</th>\n",
       "      <th>Address</th>\n",
       "      <th>Latitude</th>\n",
       "      <th>Longitude</th>\n",
       "    </tr>\n",
       "  </thead>\n",
       "  <tbody>\n",
       "    <tr>\n",
       "      <th>0</th>\n",
       "      <td>518283</td>\n",
       "      <td>NaN</td>\n",
       "      <td>DUBLIN</td>\n",
       "      <td>DUN LAOGHAIRE RATHDOWN CO CO</td>\n",
       "      <td>0.0</td>\n",
       "      <td>MISCELLANEOUS</td>\n",
       "      <td>-, -</td>\n",
       "      <td>0</td>\n",
       "      <td>725438.36</td>\n",
       "      <td>724561.59</td>\n",
       "      <td>NaN</td>\n",
       "      <td>NaN</td>\n",
       "      <td>NaN</td>\n",
       "      <td>NaN</td>\n",
       "      <td>NaN</td>\n",
       "      <td>71b Killiney Hill Road Killiney Co. Dublin</td>\n",
       "      <td>53.264648</td>\n",
       "      <td>-6.132807</td>\n",
       "    </tr>\n",
       "    <tr>\n",
       "      <th>1</th>\n",
       "      <td>329596</td>\n",
       "      <td>31/12/2010</td>\n",
       "      <td>DUBLIN</td>\n",
       "      <td>DUN LAOGHAIRE RATHDOWN CO CO</td>\n",
       "      <td>2045000.0</td>\n",
       "      <td>RETAIL (SHOPS)</td>\n",
       "      <td>DEPARTMENT STORE, -</td>\n",
       "      <td>0</td>\n",
       "      <td>722732.98</td>\n",
       "      <td>725572.42</td>\n",
       "      <td>0</td>\n",
       "      <td>NaN</td>\n",
       "      <td>0.0</td>\n",
       "      <td>0.0</td>\n",
       "      <td>0.0</td>\n",
       "      <td>Cornelscourt S.C. Cornelscourt Dublin 18</td>\n",
       "      <td>53.240109</td>\n",
       "      <td>-6.118730</td>\n",
       "    </tr>\n",
       "    <tr>\n",
       "      <th>2</th>\n",
       "      <td>329596</td>\n",
       "      <td>31/12/2010</td>\n",
       "      <td>DUBLIN</td>\n",
       "      <td>DUN LAOGHAIRE RATHDOWN CO CO</td>\n",
       "      <td>2045000.0</td>\n",
       "      <td>RETAIL (SHOPS)</td>\n",
       "      <td>DEPARTMENT STORE, -</td>\n",
       "      <td>0</td>\n",
       "      <td>722732.98</td>\n",
       "      <td>725572.42</td>\n",
       "      <td>0</td>\n",
       "      <td>SHOP</td>\n",
       "      <td>0.0</td>\n",
       "      <td>0.0</td>\n",
       "      <td>0.0</td>\n",
       "      <td>Cornelscourt S.C. Cornelscourt Dublin 18</td>\n",
       "      <td>53.240109</td>\n",
       "      <td>-6.118730</td>\n",
       "    </tr>\n",
       "    <tr>\n",
       "      <th>3</th>\n",
       "      <td>329596</td>\n",
       "      <td>31/12/2010</td>\n",
       "      <td>DUBLIN</td>\n",
       "      <td>DUN LAOGHAIRE RATHDOWN CO CO</td>\n",
       "      <td>2045000.0</td>\n",
       "      <td>RETAIL (SHOPS)</td>\n",
       "      <td>DEPARTMENT STORE, -</td>\n",
       "      <td>0</td>\n",
       "      <td>722732.98</td>\n",
       "      <td>725572.42</td>\n",
       "      <td>0</td>\n",
       "      <td>DEPARTMENT STORE</td>\n",
       "      <td>7163.0</td>\n",
       "      <td>250.0</td>\n",
       "      <td>1790750.0</td>\n",
       "      <td>Cornelscourt S.C. Cornelscourt Dublin 18</td>\n",
       "      <td>53.240109</td>\n",
       "      <td>-6.118730</td>\n",
       "    </tr>\n",
       "    <tr>\n",
       "      <th>4</th>\n",
       "      <td>329596</td>\n",
       "      <td>31/12/2010</td>\n",
       "      <td>DUBLIN</td>\n",
       "      <td>DUN LAOGHAIRE RATHDOWN CO CO</td>\n",
       "      <td>2045000.0</td>\n",
       "      <td>RETAIL (SHOPS)</td>\n",
       "      <td>DEPARTMENT STORE, -</td>\n",
       "      <td>0</td>\n",
       "      <td>722732.98</td>\n",
       "      <td>725572.42</td>\n",
       "      <td>1</td>\n",
       "      <td>STORE</td>\n",
       "      <td>501.0</td>\n",
       "      <td>120.0</td>\n",
       "      <td>60120.0</td>\n",
       "      <td>Cornelscourt S.C. Cornelscourt Dublin 18</td>\n",
       "      <td>53.240109</td>\n",
       "      <td>-6.118730</td>\n",
       "    </tr>\n",
       "  </tbody>\n",
       "</table>\n",
       "</div>"
      ],
      "text/plain": [
       "   Property Number Publication Date  County               Local Authority  \\\n",
       "0           518283              NaN  DUBLIN  DUN LAOGHAIRE RATHDOWN CO CO   \n",
       "1           329596       31/12/2010  DUBLIN  DUN LAOGHAIRE RATHDOWN CO CO   \n",
       "2           329596       31/12/2010  DUBLIN  DUN LAOGHAIRE RATHDOWN CO CO   \n",
       "3           329596       31/12/2010  DUBLIN  DUN LAOGHAIRE RATHDOWN CO CO   \n",
       "4           329596       31/12/2010  DUBLIN  DUN LAOGHAIRE RATHDOWN CO CO   \n",
       "\n",
       "    Valuation        Category                 Uses  Car Park      X ITM  \\\n",
       "0         0.0   MISCELLANEOUS                 -, -         0  725438.36   \n",
       "1   2045000.0  RETAIL (SHOPS)  DEPARTMENT STORE, -         0  722732.98   \n",
       "2   2045000.0  RETAIL (SHOPS)  DEPARTMENT STORE, -         0  722732.98   \n",
       "3   2045000.0  RETAIL (SHOPS)  DEPARTMENT STORE, -         0  722732.98   \n",
       "4   2045000.0  RETAIL (SHOPS)  DEPARTMENT STORE, -         0  722732.98   \n",
       "\n",
       "       Y ITM Level         Floor Use    Area  Nav Per M2        Nav  \\\n",
       "0  724561.59   NaN               NaN     NaN         NaN        NaN   \n",
       "1  725572.42     0               NaN     0.0         0.0        0.0   \n",
       "2  725572.42     0              SHOP     0.0         0.0        0.0   \n",
       "3  725572.42     0  DEPARTMENT STORE  7163.0       250.0  1790750.0   \n",
       "4  725572.42     1             STORE   501.0       120.0    60120.0   \n",
       "\n",
       "                                          Address   Latitude  Longitude  \n",
       "0  71b Killiney Hill Road Killiney Co. Dublin      53.264648  -6.132807  \n",
       "1    Cornelscourt S.C. Cornelscourt Dublin 18      53.240109  -6.118730  \n",
       "2    Cornelscourt S.C. Cornelscourt Dublin 18      53.240109  -6.118730  \n",
       "3    Cornelscourt S.C. Cornelscourt Dublin 18      53.240109  -6.118730  \n",
       "4    Cornelscourt S.C. Cornelscourt Dublin 18      53.240109  -6.118730  "
      ]
     },
     "execution_count": 10,
     "metadata": {},
     "output_type": "execute_result"
    }
   ],
   "source": [
    "VO.head()"
   ]
  },
  {
   "cell_type": "code",
   "execution_count": 28,
   "metadata": {},
   "outputs": [
    {
     "name": "stdout",
     "output_type": "stream",
     "text": [
      "Setting data @ ../../data/interim/VO_with_loc.pkl\n"
     ]
    }
   ],
   "source": [
    "to_path = path.set(\"VO_with_loc.pkl\", \"interim\")"
   ]
  },
  {
   "cell_type": "code",
   "execution_count": 29,
   "metadata": {},
   "outputs": [
    {
     "name": "stdout",
     "output_type": "stream",
     "text": [
      "Df saved @../../data/interim/VO_with_loc.pkl...\n"
     ]
    }
   ],
   "source": [
    "save.df(VO, to_path)"
   ]
  }
 ],
 "metadata": {
  "hide_input": false,
  "kernelspec": {
   "display_name": "Python 3",
   "language": "python",
   "name": "python3"
  },
  "language_info": {
   "codemirror_mode": {
    "name": "ipython",
    "version": 3
   },
   "file_extension": ".py",
   "mimetype": "text/x-python",
   "name": "python",
   "nbconvert_exporter": "python",
   "pygments_lexer": "ipython3",
   "version": "3.7.4"
  },
  "toc": {
   "base_numbering": 1,
   "nav_menu": {},
   "number_sections": true,
   "sideBar": true,
   "skip_h1_title": false,
   "title_cell": "Table of Contents",
   "title_sidebar": "Contents",
   "toc_cell": false,
   "toc_position": {},
   "toc_section_display": true,
   "toc_window_display": false
  },
  "varInspector": {
   "cols": {
    "lenName": 16,
    "lenType": 16,
    "lenVar": 40
   },
   "kernels_config": {
    "python": {
     "delete_cmd_postfix": "",
     "delete_cmd_prefix": "del ",
     "library": "var_list.py",
     "varRefreshCmd": "print(var_dic_list())"
    },
    "r": {
     "delete_cmd_postfix": ") ",
     "delete_cmd_prefix": "rm(",
     "library": "var_list.r",
     "varRefreshCmd": "cat(var_dic_list()) "
    }
   },
   "types_to_exclude": [
    "module",
    "function",
    "builtin_function_or_method",
    "instance",
    "_Feature"
   ],
   "window_display": false
  }
 },
 "nbformat": 4,
 "nbformat_minor": 4
}
