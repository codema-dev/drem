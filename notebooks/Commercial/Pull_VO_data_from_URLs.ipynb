{
 "cells": [
  {
   "cell_type": "code",
   "execution_count": 1,
   "metadata": {
    "ExecuteTime": {
     "end_time": "2020-03-10T13:48:49.707183Z",
     "start_time": "2020-03-10T13:48:49.538186Z"
    }
   },
   "outputs": [],
   "source": [
    "import pandas as pd\n",
    "import numpy as np\n",
    "import pyproj "
   ]
  },
  {
   "cell_type": "code",
   "execution_count": 2,
   "metadata": {},
   "outputs": [],
   "source": [
    "from src.data import save, path"
   ]
  },
  {
   "cell_type": "code",
   "execution_count": null,
   "metadata": {
    "ExecuteTime": {
     "end_time": "2020-03-10T13:49:03.784188Z",
     "start_time": "2020-03-10T13:48:50.401188Z"
    }
   },
   "outputs": [],
   "source": [
    "LA_URLs = [\n",
    "    \"https://api.valoff.ie/api/Property/GetProperties?Fields=*&LocalAuthority=DUN%20LAOGHAIRE%20RATHDOWN%20CO%20CO&CategorySelected=OFFICE%2CFUEL%2FDEPOT%2CLEISURE%2CINDUSTRIAL%20USES%2CHEALTH%2CHOSPITALITY%2CMINERALS%2CMISCELLANEOUS%2CRETAIL%20(SHOPS)%2CUTILITY%2CRETAIL%20(WAREHOUSE)%2CNO%20CATEGORY%20SELECTED%2CCENTRAL%20VALUATION%20LIST%2CCHECK%20CATEGORY%2CNON-LIST%2CNON-LIST%20EXEMPT&Format=csv&Download=true\",\n",
    "    \"https://api.valoff.ie/api/Property/GetProperties?Fields=*&LocalAuthority=DUBLIN%20CITY%20COUNCIL&CategorySelected=LEISURE%2CINDUSTRIAL%20USES%2CHEALTH%2CHOSPITALITY%2CMINERALS%2CMISCELLANEOUS%2CRETAIL%20(SHOPS)%2CUTILITY%2CRETAIL%20(WAREHOUSE)%2CNO%20CATEGORY%20SELECTED%2CCENTRAL%20VALUATION%20LIST%2CCHECK%20CATEGORY%2CNON-LIST%2CNON-LIST%20EXEMPT&Format=csv&Download=true\",\n",
    "    \"https://api.valoff.ie/api/Property/GetProperties?Fields=*&LocalAuthority=SOUTH%20DUBLIN%20COUNTY%20COUNCIL&CategorySelected=LEISURE%2CINDUSTRIAL%20USES%2CHEALTH%2CHOSPITALITY%2CMINERALS%2CMISCELLANEOUS%2CRETAIL%20(SHOPS)%2CUTILITY%2CRETAIL%20(WAREHOUSE)%2CNO%20CATEGORY%20SELECTED%2CCENTRAL%20VALUATION%20LIST%2CCHECK%20CATEGORY%2CNON-LIST%2CNON-LIST%20EXEMPT&Format=csv&Download=true\",\n",
    "    \"https://api.valoff.ie/api/Property/GetProperties?Fields=*&LocalAuthority=FINGAL%20COUNTY%20COUNCIL&CategorySelected=LEISURE%2CINDUSTRIAL%20USES%2CHEALTH%2CHOSPITALITY%2CMINERALS%2CMISCELLANEOUS%2CRETAIL%20(SHOPS)%2CUTILITY%2CRETAIL%20(WAREHOUSE)%2CNO%20CATEGORY%20SELECTED%2CCENTRAL%20VALUATION%20LIST%2CCHECK%20CATEGORY%2CNON-LIST%2CNON-LIST%20EXEMPT&Format=csv&Download=true\"\n",
    "]\n",
    "\n",
    "VO_list = []\n",
    "for URL in LA_URLs:\n",
    "    VO_for_LA = pd.read_csv(URL)\n",
    "    VO_list.append(VO_for_LA)\n",
    "\n",
    "VO_list;"
   ]
  },
  {
   "cell_type": "code",
   "execution_count": null,
   "metadata": {},
   "outputs": [],
   "source": [
    "VO = pd.concat(VO_list)"
   ]
  },
  {
   "cell_type": "code",
   "execution_count": null,
   "metadata": {
    "ExecuteTime": {
     "end_time": "2020-03-10T13:49:04.598189Z",
     "start_time": "2020-03-10T13:49:04.131190Z"
    }
   },
   "outputs": [],
   "source": [
    "VO[\"Address\"] = (\n",
    "    VO[\" Address 1\"].fillna(' ').astype(str) + ' ' \n",
    "    + VO[\"Address 2\"].fillna(' ').astype(str) + ' ' \n",
    "    + VO[\"Address 3\"].fillna(' ').astype(str) + ' ' \n",
    "    + VO[\"Address 4\"].fillna(' ').astype(str) + ' ' \n",
    "    + VO[\"Address 5\"].fillna(' ').astype(str) \n",
    "    )\n",
    "\n",
    "VO.drop(columns = [\" Address 1\",\"Address 2\",\"Address 3\",\"Address 4\",\"Address 5\"],inplace=True)\n",
    "\n",
    "VO.head()"
   ]
  },
  {
   "cell_type": "code",
   "execution_count": 6,
   "metadata": {},
   "outputs": [
    {
     "name": "stdout",
     "output_type": "stream",
     "text": [
      "Setting data @ ../../data/interim/VO.pkl\n"
     ]
    }
   ],
   "source": [
    "path = path.set(\"VO.pkl\", \"interim\")"
   ]
  },
  {
   "cell_type": "code",
   "execution_count": 10,
   "metadata": {},
   "outputs": [
    {
     "name": "stdout",
     "output_type": "stream",
     "text": [
      "Saving df @../../data/interim/VO.pkl...\n"
     ]
    }
   ],
   "source": [
    "save.df(VO, path)"
   ]
  }
 ],
 "metadata": {
  "kernelspec": {
   "display_name": "Python 3",
   "language": "python",
   "name": "python3"
  },
  "language_info": {
   "codemirror_mode": {
    "name": "ipython",
    "version": 3
   },
   "file_extension": ".py",
   "mimetype": "text/x-python",
   "name": "python",
   "nbconvert_exporter": "python",
   "pygments_lexer": "ipython3",
   "version": "3.7.4"
  }
 },
 "nbformat": 4,
 "nbformat_minor": 4
}
