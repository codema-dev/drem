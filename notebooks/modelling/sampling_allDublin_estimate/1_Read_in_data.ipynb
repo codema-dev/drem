{
 "cells": [
  {
   "cell_type": "code",
   "execution_count": 1,
   "metadata": {
    "ExecuteTime": {
     "end_time": "2020-02-04T15:38:13.992699Z",
     "start_time": "2020-02-04T15:38:13.032699Z"
    }
   },
   "outputs": [],
   "source": [
    "import pandas as pd\n",
    "import numpy as np"
   ]
  },
  {
   "cell_type": "code",
   "execution_count": 2,
   "metadata": {
    "ExecuteTime": {
     "end_time": "2020-02-04T15:38:14.011732Z",
     "start_time": "2020-02-04T15:38:13.995698Z"
    }
   },
   "outputs": [],
   "source": [
    "## import custom functions\n",
    "\n",
    "from pathlib import Path\n",
    "import sys\n",
    "\n",
    "# Create path to custom functions\n",
    "funcs_path = Path.cwd().parents[1]\n",
    "sys.path.insert(1, str(funcs_path))\n",
    "\n",
    "from funcs import paths"
   ]
  },
  {
   "cell_type": "code",
   "execution_count": 3,
   "metadata": {
    "ExecuteTime": {
     "end_time": "2020-02-04T15:38:14.048710Z",
     "start_time": "2020-02-04T15:38:14.015698Z"
    }
   },
   "outputs": [
    {
     "data": {
      "text/plain": [
       "'C:\\\\Users\\\\RowanM\\\\Documents\\\\dublin_energy_masterplan\\\\Residential\\\\data\\\\inputs\\\\processed\\\\Census_2011_Linked.pkl'"
      ]
     },
     "execution_count": 3,
     "metadata": {},
     "output_type": "execute_result"
    }
   ],
   "source": [
    "path_to_Census_2011_Linked = paths.get_path_to_data('Census_2011_Linked.pkl') \n",
    "\n",
    "path_to_Census_2011_Linked"
   ]
  },
  {
   "cell_type": "code",
   "execution_count": 4,
   "metadata": {
    "ExecuteTime": {
     "end_time": "2020-02-04T15:38:14.187697Z",
     "start_time": "2020-02-04T15:38:14.058699Z"
    }
   },
   "outputs": [
    {
     "data": {
      "text/html": [
       "<div>\n",
       "<style scoped>\n",
       "    .dataframe tbody tr th:only-of-type {\n",
       "        vertical-align: middle;\n",
       "    }\n",
       "\n",
       "    .dataframe tbody tr th {\n",
       "        vertical-align: top;\n",
       "    }\n",
       "\n",
       "    .dataframe thead th {\n",
       "        text-align: right;\n",
       "    }\n",
       "</style>\n",
       "<table border=\"1\" class=\"dataframe\">\n",
       "  <thead>\n",
       "    <tr style=\"text-align: right;\">\n",
       "      <th></th>\n",
       "      <th></th>\n",
       "      <th></th>\n",
       "      <th></th>\n",
       "      <th>Total Number of Households</th>\n",
       "    </tr>\n",
       "    <tr>\n",
       "      <th>Postcodes</th>\n",
       "      <th>Small Area</th>\n",
       "      <th>Dwelling Type</th>\n",
       "      <th>Period Built</th>\n",
       "      <th></th>\n",
       "    </tr>\n",
       "  </thead>\n",
       "  <tbody>\n",
       "    <tr>\n",
       "      <th rowspan=\"5\" valign=\"top\">Co. Dublin</th>\n",
       "      <th rowspan=\"5\" valign=\"top\">267001001</th>\n",
       "      <th rowspan=\"5\" valign=\"top\">Apartments*</th>\n",
       "      <th>1919 - 1945*</th>\n",
       "      <td>0.0</td>\n",
       "    </tr>\n",
       "    <tr>\n",
       "      <th>1946 - 1960*</th>\n",
       "      <td>0.0</td>\n",
       "    </tr>\n",
       "    <tr>\n",
       "      <th>1961 - 1970*</th>\n",
       "      <td>0.0</td>\n",
       "    </tr>\n",
       "    <tr>\n",
       "      <th>1971 - 1980*</th>\n",
       "      <td>0.0</td>\n",
       "    </tr>\n",
       "    <tr>\n",
       "      <th>1981 - 1990*</th>\n",
       "      <td>0.0</td>\n",
       "    </tr>\n",
       "    <tr>\n",
       "      <th>...</th>\n",
       "      <th>...</th>\n",
       "      <th>...</th>\n",
       "      <th>...</th>\n",
       "      <td>...</td>\n",
       "    </tr>\n",
       "    <tr>\n",
       "      <th rowspan=\"5\" valign=\"top\">Dublin 8</th>\n",
       "      <th rowspan=\"5\" valign=\"top\">268162018</th>\n",
       "      <th rowspan=\"5\" valign=\"top\">Terraced house*</th>\n",
       "      <th>1981 - 1990*</th>\n",
       "      <td>1.0</td>\n",
       "    </tr>\n",
       "    <tr>\n",
       "      <th>1991 - 2000*</th>\n",
       "      <td>0.0</td>\n",
       "    </tr>\n",
       "    <tr>\n",
       "      <th>2001 - 2005*</th>\n",
       "      <td>0.0</td>\n",
       "    </tr>\n",
       "    <tr>\n",
       "      <th>2006 or later*</th>\n",
       "      <td>3.0</td>\n",
       "    </tr>\n",
       "    <tr>\n",
       "      <th>before 1919*</th>\n",
       "      <td>30.0</td>\n",
       "    </tr>\n",
       "  </tbody>\n",
       "</table>\n",
       "<p>173016 rows × 1 columns</p>\n",
       "</div>"
      ],
      "text/plain": [
       "                                                      Total Number of Households\n",
       "Postcodes  Small Area Dwelling Type   Period Built                              \n",
       "Co. Dublin 267001001  Apartments*     1919 - 1945*                           0.0\n",
       "                                      1946 - 1960*                           0.0\n",
       "                                      1961 - 1970*                           0.0\n",
       "                                      1971 - 1980*                           0.0\n",
       "                                      1981 - 1990*                           0.0\n",
       "...                                                                          ...\n",
       "Dublin 8   268162018  Terraced house* 1981 - 1990*                           1.0\n",
       "                                      1991 - 2000*                           0.0\n",
       "                                      2001 - 2005*                           0.0\n",
       "                                      2006 or later*                         3.0\n",
       "                                      before 1919*                          30.0\n",
       "\n",
       "[173016 rows x 1 columns]"
      ]
     },
     "execution_count": 4,
     "metadata": {},
     "output_type": "execute_result"
    }
   ],
   "source": [
    "Census_2011_Linked = pd.read_pickle(path_to_Census_2011_Linked, compression='xz')\n",
    "\n",
    "Census_2011_Linked"
   ]
  },
  {
   "cell_type": "code",
   "execution_count": 5,
   "metadata": {
    "ExecuteTime": {
     "end_time": "2020-02-04T15:38:14.198699Z",
     "start_time": "2020-02-04T15:38:14.191700Z"
    }
   },
   "outputs": [
    {
     "data": {
      "text/plain": [
       "'C:\\\\Users\\\\RowanM\\\\Documents\\\\dublin_energy_masterplan\\\\Residential\\\\data\\\\models\\\\sample_allDublin.pkl'"
      ]
     },
     "execution_count": 5,
     "metadata": {},
     "output_type": "execute_result"
    }
   ],
   "source": [
    "path_to_sample_average_allDublin = paths.get_path_to_data(\n",
    "    \"sample_allDublin.pkl\"\n",
    ")\n",
    "\n",
    "path_to_sample_average_allDublin"
   ]
  },
  {
   "cell_type": "code",
   "execution_count": 6,
   "metadata": {
    "ExecuteTime": {
     "end_time": "2020-02-04T15:38:14.227697Z",
     "start_time": "2020-02-04T15:38:14.201697Z"
    }
   },
   "outputs": [
    {
     "data": {
      "text/plain": [
       "HW_mean    3031.859345\n",
       "HW_sem       31.264932\n",
       "SH_mean    7791.086647\n",
       "SH_sem      206.260510\n",
       "dtype: float64"
      ]
     },
     "execution_count": 6,
     "metadata": {},
     "output_type": "execute_result"
    }
   ],
   "source": [
    "sample_average_allDublin = pd.read_pickle(path_to_sample_average_allDublin,compression='xz')\n",
    "\n",
    "sample_average_allDublin"
   ]
  },
  {
   "cell_type": "code",
   "execution_count": 7,
   "metadata": {
    "ExecuteTime": {
     "end_time": "2020-02-04T15:38:14.261699Z",
     "start_time": "2020-02-04T15:38:14.229699Z"
    }
   },
   "outputs": [
    {
     "name": "stdout",
     "output_type": "stream",
     "text": [
      "Stored 'Census_2011_Linked' (DataFrame)\n",
      "Stored 'sample_average_allDublin' (Series)\n"
     ]
    }
   ],
   "source": [
    "%store Census_2011_Linked\n",
    "%store sample_average_allDublin"
   ]
  }
 ],
 "metadata": {
  "hide_input": false,
  "kernelspec": {
   "display_name": "Python 3",
   "language": "python",
   "name": "python3"
  },
  "language_info": {
   "codemirror_mode": {
    "name": "ipython",
    "version": 3
   },
   "file_extension": ".py",
   "mimetype": "text/x-python",
   "name": "python",
   "nbconvert_exporter": "python",
   "pygments_lexer": "ipython3",
   "version": "3.8.1"
  },
  "toc": {
   "base_numbering": 1,
   "nav_menu": {},
   "number_sections": true,
   "sideBar": true,
   "skip_h1_title": false,
   "title_cell": "Table of Contents",
   "title_sidebar": "Contents",
   "toc_cell": false,
   "toc_position": {},
   "toc_section_display": true,
   "toc_window_display": false
  },
  "varInspector": {
   "cols": {
    "lenName": 16,
    "lenType": 16,
    "lenVar": 40
   },
   "kernels_config": {
    "python": {
     "delete_cmd_postfix": "",
     "delete_cmd_prefix": "del ",
     "library": "var_list.py",
     "varRefreshCmd": "print(var_dic_list())"
    },
    "r": {
     "delete_cmd_postfix": ") ",
     "delete_cmd_prefix": "rm(",
     "library": "var_list.r",
     "varRefreshCmd": "cat(var_dic_list()) "
    }
   },
   "types_to_exclude": [
    "module",
    "function",
    "builtin_function_or_method",
    "instance",
    "_Feature"
   ],
   "window_display": false
  }
 },
 "nbformat": 4,
 "nbformat_minor": 4
}
