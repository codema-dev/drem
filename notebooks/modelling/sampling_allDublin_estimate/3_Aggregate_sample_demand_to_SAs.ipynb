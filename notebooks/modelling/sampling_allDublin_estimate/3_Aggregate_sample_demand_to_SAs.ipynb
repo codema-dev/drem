{
 "cells": [
  {
   "cell_type": "code",
   "execution_count": 1,
   "metadata": {
    "ExecuteTime": {
     "end_time": "2020-02-04T15:38:25.751150Z",
     "start_time": "2020-02-04T15:38:25.136689Z"
    }
   },
   "outputs": [],
   "source": [
    "%store -r Census_2011_with_allDublin_sample_estimate"
   ]
  },
  {
   "cell_type": "code",
   "execution_count": 2,
   "metadata": {
    "ExecuteTime": {
     "end_time": "2020-02-04T15:38:25.798118Z",
     "start_time": "2020-02-04T15:38:25.753117Z"
    }
   },
   "outputs": [
    {
     "data": {
      "text/html": [
       "<div>\n",
       "<style scoped>\n",
       "    .dataframe tbody tr th:only-of-type {\n",
       "        vertical-align: middle;\n",
       "    }\n",
       "\n",
       "    .dataframe tbody tr th {\n",
       "        vertical-align: top;\n",
       "    }\n",
       "\n",
       "    .dataframe thead th {\n",
       "        text-align: right;\n",
       "    }\n",
       "</style>\n",
       "<table border=\"1\" class=\"dataframe\">\n",
       "  <thead>\n",
       "    <tr style=\"text-align: right;\">\n",
       "      <th></th>\n",
       "      <th></th>\n",
       "      <th></th>\n",
       "      <th></th>\n",
       "      <th>Total Number of Households</th>\n",
       "      <th>Total BER HW Demand [MWh/year]</th>\n",
       "      <th>Total BER SH Demand [MWh/year]</th>\n",
       "    </tr>\n",
       "    <tr>\n",
       "      <th>Postcodes</th>\n",
       "      <th>Small Area</th>\n",
       "      <th>Dwelling Type</th>\n",
       "      <th>Period Built</th>\n",
       "      <th></th>\n",
       "      <th></th>\n",
       "      <th></th>\n",
       "    </tr>\n",
       "  </thead>\n",
       "  <tbody>\n",
       "    <tr>\n",
       "      <th rowspan=\"5\" valign=\"top\">Co. Dublin</th>\n",
       "      <th rowspan=\"5\" valign=\"top\">267001001</th>\n",
       "      <th rowspan=\"5\" valign=\"top\">Apartments*</th>\n",
       "      <th>1919 - 1945*</th>\n",
       "      <td>0.0</td>\n",
       "      <td>0.000000</td>\n",
       "      <td>0.000000</td>\n",
       "    </tr>\n",
       "    <tr>\n",
       "      <th>1946 - 1960*</th>\n",
       "      <td>0.0</td>\n",
       "      <td>0.000000</td>\n",
       "      <td>0.000000</td>\n",
       "    </tr>\n",
       "    <tr>\n",
       "      <th>1961 - 1970*</th>\n",
       "      <td>0.0</td>\n",
       "      <td>0.000000</td>\n",
       "      <td>0.000000</td>\n",
       "    </tr>\n",
       "    <tr>\n",
       "      <th>1971 - 1980*</th>\n",
       "      <td>0.0</td>\n",
       "      <td>0.000000</td>\n",
       "      <td>0.000000</td>\n",
       "    </tr>\n",
       "    <tr>\n",
       "      <th>1981 - 1990*</th>\n",
       "      <td>0.0</td>\n",
       "      <td>0.000000</td>\n",
       "      <td>0.000000</td>\n",
       "    </tr>\n",
       "    <tr>\n",
       "      <th>...</th>\n",
       "      <th>...</th>\n",
       "      <th>...</th>\n",
       "      <th>...</th>\n",
       "      <td>...</td>\n",
       "      <td>...</td>\n",
       "      <td>...</td>\n",
       "    </tr>\n",
       "    <tr>\n",
       "      <th rowspan=\"5\" valign=\"top\">Dublin 8</th>\n",
       "      <th rowspan=\"5\" valign=\"top\">268162018</th>\n",
       "      <th rowspan=\"5\" valign=\"top\">Terraced house*</th>\n",
       "      <th>1981 - 1990*</th>\n",
       "      <td>1.0</td>\n",
       "      <td>3031.859345</td>\n",
       "      <td>7791.086647</td>\n",
       "    </tr>\n",
       "    <tr>\n",
       "      <th>1991 - 2000*</th>\n",
       "      <td>0.0</td>\n",
       "      <td>0.000000</td>\n",
       "      <td>0.000000</td>\n",
       "    </tr>\n",
       "    <tr>\n",
       "      <th>2001 - 2005*</th>\n",
       "      <td>0.0</td>\n",
       "      <td>0.000000</td>\n",
       "      <td>0.000000</td>\n",
       "    </tr>\n",
       "    <tr>\n",
       "      <th>2006 or later*</th>\n",
       "      <td>3.0</td>\n",
       "      <td>9095.578034</td>\n",
       "      <td>23373.259940</td>\n",
       "    </tr>\n",
       "    <tr>\n",
       "      <th>before 1919*</th>\n",
       "      <td>30.0</td>\n",
       "      <td>90955.780339</td>\n",
       "      <td>233732.599398</td>\n",
       "    </tr>\n",
       "  </tbody>\n",
       "</table>\n",
       "<p>173016 rows × 3 columns</p>\n",
       "</div>"
      ],
      "text/plain": [
       "                                                      Total Number of Households  \\\n",
       "Postcodes  Small Area Dwelling Type   Period Built                                 \n",
       "Co. Dublin 267001001  Apartments*     1919 - 1945*                           0.0   \n",
       "                                      1946 - 1960*                           0.0   \n",
       "                                      1961 - 1970*                           0.0   \n",
       "                                      1971 - 1980*                           0.0   \n",
       "                                      1981 - 1990*                           0.0   \n",
       "...                                                                          ...   \n",
       "Dublin 8   268162018  Terraced house* 1981 - 1990*                           1.0   \n",
       "                                      1991 - 2000*                           0.0   \n",
       "                                      2001 - 2005*                           0.0   \n",
       "                                      2006 or later*                         3.0   \n",
       "                                      before 1919*                          30.0   \n",
       "\n",
       "                                                      Total BER HW Demand [MWh/year]  \\\n",
       "Postcodes  Small Area Dwelling Type   Period Built                                     \n",
       "Co. Dublin 267001001  Apartments*     1919 - 1945*                          0.000000   \n",
       "                                      1946 - 1960*                          0.000000   \n",
       "                                      1961 - 1970*                          0.000000   \n",
       "                                      1971 - 1980*                          0.000000   \n",
       "                                      1981 - 1990*                          0.000000   \n",
       "...                                                                              ...   \n",
       "Dublin 8   268162018  Terraced house* 1981 - 1990*                       3031.859345   \n",
       "                                      1991 - 2000*                          0.000000   \n",
       "                                      2001 - 2005*                          0.000000   \n",
       "                                      2006 or later*                     9095.578034   \n",
       "                                      before 1919*                      90955.780339   \n",
       "\n",
       "                                                      Total BER SH Demand [MWh/year]  \n",
       "Postcodes  Small Area Dwelling Type   Period Built                                    \n",
       "Co. Dublin 267001001  Apartments*     1919 - 1945*                          0.000000  \n",
       "                                      1946 - 1960*                          0.000000  \n",
       "                                      1961 - 1970*                          0.000000  \n",
       "                                      1971 - 1980*                          0.000000  \n",
       "                                      1981 - 1990*                          0.000000  \n",
       "...                                                                              ...  \n",
       "Dublin 8   268162018  Terraced house* 1981 - 1990*                       7791.086647  \n",
       "                                      1991 - 2000*                          0.000000  \n",
       "                                      2001 - 2005*                          0.000000  \n",
       "                                      2006 or later*                    23373.259940  \n",
       "                                      before 1919*                     233732.599398  \n",
       "\n",
       "[173016 rows x 3 columns]"
      ]
     },
     "execution_count": 2,
     "metadata": {},
     "output_type": "execute_result"
    }
   ],
   "source": [
    "Census_2011_with_allDublin_sample_estimate"
   ]
  },
  {
   "cell_type": "code",
   "execution_count": 3,
   "metadata": {
    "ExecuteTime": {
     "end_time": "2020-02-04T15:38:25.804117Z",
     "start_time": "2020-02-04T15:38:25.800119Z"
    }
   },
   "outputs": [],
   "source": [
    "import pandas as pd\n",
    "import numpy as np"
   ]
  },
  {
   "cell_type": "code",
   "execution_count": 4,
   "metadata": {
    "ExecuteTime": {
     "end_time": "2020-02-04T15:38:25.978567Z",
     "start_time": "2020-02-04T15:38:25.816116Z"
    }
   },
   "outputs": [
    {
     "data": {
      "text/html": [
       "<div>\n",
       "<style scoped>\n",
       "    .dataframe tbody tr th:only-of-type {\n",
       "        vertical-align: middle;\n",
       "    }\n",
       "\n",
       "    .dataframe tbody tr th {\n",
       "        vertical-align: top;\n",
       "    }\n",
       "\n",
       "    .dataframe thead th {\n",
       "        text-align: right;\n",
       "    }\n",
       "</style>\n",
       "<table border=\"1\" class=\"dataframe\">\n",
       "  <thead>\n",
       "    <tr style=\"text-align: right;\">\n",
       "      <th></th>\n",
       "      <th>Small Area</th>\n",
       "      <th>HW</th>\n",
       "      <th>SH</th>\n",
       "      <th>TotalHH</th>\n",
       "    </tr>\n",
       "  </thead>\n",
       "  <tbody>\n",
       "    <tr>\n",
       "      <th>0</th>\n",
       "      <td>267001001</td>\n",
       "      <td>197070.857401</td>\n",
       "      <td>506420.632028</td>\n",
       "      <td>65.0</td>\n",
       "    </tr>\n",
       "    <tr>\n",
       "      <th>1</th>\n",
       "      <td>267001002</td>\n",
       "      <td>269835.481672</td>\n",
       "      <td>693406.711547</td>\n",
       "      <td>89.0</td>\n",
       "    </tr>\n",
       "    <tr>\n",
       "      <th>2</th>\n",
       "      <td>267001003</td>\n",
       "      <td>294090.356429</td>\n",
       "      <td>755735.404719</td>\n",
       "      <td>97.0</td>\n",
       "    </tr>\n",
       "    <tr>\n",
       "      <th>3</th>\n",
       "      <td>267001004</td>\n",
       "      <td>315313.371842</td>\n",
       "      <td>810273.011245</td>\n",
       "      <td>104.0</td>\n",
       "    </tr>\n",
       "    <tr>\n",
       "      <th>4</th>\n",
       "      <td>267001005</td>\n",
       "      <td>339568.246599</td>\n",
       "      <td>872601.704418</td>\n",
       "      <td>112.0</td>\n",
       "    </tr>\n",
       "  </tbody>\n",
       "</table>\n",
       "</div>"
      ],
      "text/plain": [
       "  Small Area             HW             SH  TotalHH\n",
       "0  267001001  197070.857401  506420.632028     65.0\n",
       "1  267001002  269835.481672  693406.711547     89.0\n",
       "2  267001003  294090.356429  755735.404719     97.0\n",
       "3  267001004  315313.371842  810273.011245    104.0\n",
       "4  267001005  339568.246599  872601.704418    112.0"
      ]
     },
     "execution_count": 4,
     "metadata": {},
     "output_type": "execute_result"
    }
   ],
   "source": [
    "##  Aggregate data at SA level\n",
    "\n",
    "Dublin_SA_energy = pd.DataFrame()\n",
    "\n",
    "Dublin_SA_energy = Census_2011_with_allDublin_sample_estimate.reset_index().pivot_table(\n",
    "    index=[\"Postcodes\", \"Small Area\"],\n",
    "    aggfunc={\n",
    "        \"Total BER HW Demand [MWh/year]\": \"sum\",\n",
    "        \"Total BER SH Demand [MWh/year]\": \"sum\",\n",
    "        \"Total Number of Households\": \"sum\",\n",
    "    },\n",
    ")\n",
    "Dublin_SA_energy.rename(\n",
    "    columns={\n",
    "        \"Total BER HW Demand [MWh/year]\": \"HW\",\n",
    "        \"Total BER SH Demand [MWh/year]\": \"SH\",\n",
    "        \"Total Number of Households\": \"TotalHH\",\n",
    "    },\n",
    "    inplace=True,\n",
    ")\n",
    "Dublin_SA_energy.reset_index(inplace=True)\n",
    "Dublin_SA_energy.drop(columns=\"Postcodes\", inplace=True)\n",
    "\n",
    "Dublin_SA_energy.head()"
   ]
  },
  {
   "cell_type": "code",
   "execution_count": 5,
   "metadata": {
    "ExecuteTime": {
     "end_time": "2020-02-04T15:38:26.036569Z",
     "start_time": "2020-02-04T15:38:25.982564Z"
    }
   },
   "outputs": [
    {
     "name": "stdout",
     "output_type": "stream",
     "text": [
      "Stored 'Dublin_SA_energy' (DataFrame)\n",
      "Stored 'Census_2011_with_allDublin_sample_estimate' (DataFrame)\n"
     ]
    }
   ],
   "source": [
    "%store Dublin_SA_energy\n",
    "%store Census_2011_with_allDublin_sample_estimate "
   ]
  }
 ],
 "metadata": {
  "hide_input": false,
  "kernelspec": {
   "display_name": "Python 3",
   "language": "python",
   "name": "python3"
  },
  "language_info": {
   "codemirror_mode": {
    "name": "ipython",
    "version": 3
   },
   "file_extension": ".py",
   "mimetype": "text/x-python",
   "name": "python",
   "nbconvert_exporter": "python",
   "pygments_lexer": "ipython3",
   "version": "3.8.1"
  },
  "toc": {
   "base_numbering": 1,
   "nav_menu": {},
   "number_sections": true,
   "sideBar": true,
   "skip_h1_title": false,
   "title_cell": "Table of Contents",
   "title_sidebar": "Contents",
   "toc_cell": false,
   "toc_position": {},
   "toc_section_display": true,
   "toc_window_display": false
  },
  "varInspector": {
   "cols": {
    "lenName": 16,
    "lenType": 16,
    "lenVar": 40
   },
   "kernels_config": {
    "python": {
     "delete_cmd_postfix": "",
     "delete_cmd_prefix": "del ",
     "library": "var_list.py",
     "varRefreshCmd": "print(var_dic_list())"
    },
    "r": {
     "delete_cmd_postfix": ") ",
     "delete_cmd_prefix": "rm(",
     "library": "var_list.r",
     "varRefreshCmd": "cat(var_dic_list()) "
    }
   },
   "types_to_exclude": [
    "module",
    "function",
    "builtin_function_or_method",
    "instance",
    "_Feature"
   ],
   "window_display": false
  }
 },
 "nbformat": 4,
 "nbformat_minor": 4
}
