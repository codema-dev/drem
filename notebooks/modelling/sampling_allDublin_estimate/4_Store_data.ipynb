{
 "cells": [
  {
   "cell_type": "code",
   "execution_count": 1,
   "metadata": {
    "ExecuteTime": {
     "end_time": "2020-02-04T15:38:43.793019Z",
     "start_time": "2020-02-04T15:38:43.130918Z"
    }
   },
   "outputs": [],
   "source": [
    "%store -r Census_2011_with_allDublin_sample_estimate\n",
    "%store -r Dublin_SA_energy"
   ]
  },
  {
   "cell_type": "code",
   "execution_count": 2,
   "metadata": {
    "ExecuteTime": {
     "end_time": "2020-02-04T15:38:43.797918Z",
     "start_time": "2020-02-04T15:38:43.794920Z"
    }
   },
   "outputs": [],
   "source": [
    "import pandas as pd\n",
    "import numpy as np"
   ]
  },
  {
   "cell_type": "code",
   "execution_count": 3,
   "metadata": {
    "ExecuteTime": {
     "end_time": "2020-02-04T15:38:43.814920Z",
     "start_time": "2020-02-04T15:38:43.800919Z"
    }
   },
   "outputs": [],
   "source": [
    "## import custom functions\n",
    "\n",
    "from pathlib import Path\n",
    "import sys\n",
    "\n",
    "# Create path to custom functions\n",
    "funcs_path = Path.cwd().parents[1]\n",
    "sys.path.insert(1, str(funcs_path))\n",
    "\n",
    "from funcs import paths"
   ]
  },
  {
   "cell_type": "code",
   "execution_count": 4,
   "metadata": {
    "ExecuteTime": {
     "end_time": "2020-02-04T15:38:43.835919Z",
     "start_time": "2020-02-04T15:38:43.817916Z"
    }
   },
   "outputs": [
    {
     "data": {
      "text/plain": [
       "'C:\\\\Users\\\\RowanM\\\\Documents\\\\dublin_energy_masterplan\\\\Residential\\\\data\\\\models'"
      ]
     },
     "execution_count": 4,
     "metadata": {},
     "output_type": "execute_result"
    }
   ],
   "source": [
    "path_to_models_folder = paths.get_path_to_folder(\"models\")\n",
    "\n",
    "path_to_models_folder"
   ]
  },
  {
   "cell_type": "code",
   "execution_count": 5,
   "metadata": {
    "ExecuteTime": {
     "end_time": "2020-02-04T15:38:46.634317Z",
     "start_time": "2020-02-04T15:38:43.840968Z"
    }
   },
   "outputs": [],
   "source": [
    "Census_2011_with_allDublin_sample_estimate.to_pickle(\n",
    "    path_to_models_folder + \"/Census_2011_with_energy_using_sample_allDublin.pkl\", compression=\"xz\"\n",
    ")"
   ]
  },
  {
   "cell_type": "code",
   "execution_count": 6,
   "metadata": {
    "ExecuteTime": {
     "end_time": "2020-02-04T15:38:46.851312Z",
     "start_time": "2020-02-04T15:38:46.639315Z"
    }
   },
   "outputs": [],
   "source": [
    "Dublin_SA_energy.to_pickle(\n",
    "    path_to_models_folder + \"/Dublin_SA_energy_using_allDublin_sample.pkl\", compression=\"xz\"\n",
    ")\n"
   ]
  },
  {
   "cell_type": "code",
   "execution_count": 7,
   "metadata": {
    "ExecuteTime": {
     "end_time": "2020-02-04T15:38:56.206720Z",
     "start_time": "2020-02-04T15:38:56.199721Z"
    }
   },
   "outputs": [],
   "source": [
    "%store -d Census_2011_with_allDublin_sample_estimate\n",
    "%store -d Dublin_SA_energy"
   ]
  }
 ],
 "metadata": {
  "hide_input": false,
  "kernelspec": {
   "display_name": "Python 3",
   "language": "python",
   "name": "python3"
  },
  "language_info": {
   "codemirror_mode": {
    "name": "ipython",
    "version": 3
   },
   "file_extension": ".py",
   "mimetype": "text/x-python",
   "name": "python",
   "nbconvert_exporter": "python",
   "pygments_lexer": "ipython3",
   "version": "3.8.1"
  },
  "toc": {
   "base_numbering": 1,
   "nav_menu": {},
   "number_sections": true,
   "sideBar": true,
   "skip_h1_title": false,
   "title_cell": "Table of Contents",
   "title_sidebar": "Contents",
   "toc_cell": false,
   "toc_position": {},
   "toc_section_display": true,
   "toc_window_display": false
  },
  "varInspector": {
   "cols": {
    "lenName": 16,
    "lenType": 16,
    "lenVar": 40
   },
   "kernels_config": {
    "python": {
     "delete_cmd_postfix": "",
     "delete_cmd_prefix": "del ",
     "library": "var_list.py",
     "varRefreshCmd": "print(var_dic_list())"
    },
    "r": {
     "delete_cmd_postfix": ") ",
     "delete_cmd_prefix": "rm(",
     "library": "var_list.r",
     "varRefreshCmd": "cat(var_dic_list()) "
    }
   },
   "types_to_exclude": [
    "module",
    "function",
    "builtin_function_or_method",
    "instance",
    "_Feature"
   ],
   "window_display": false
  }
 },
 "nbformat": 4,
 "nbformat_minor": 4
}
