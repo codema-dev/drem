{
 "cells": [
  {
   "cell_type": "code",
   "execution_count": 1,
   "metadata": {
    "ExecuteTime": {
     "end_time": "2020-01-30T12:26:12.764680Z",
     "start_time": "2020-01-30T12:26:12.056099Z"
    }
   },
   "outputs": [],
   "source": [
    "%store -r Census_2011_with_energy"
   ]
  },
  {
   "cell_type": "code",
   "execution_count": 3,
   "metadata": {
    "ExecuteTime": {
     "end_time": "2020-01-30T12:26:36.720998Z",
     "start_time": "2020-01-30T12:26:36.688997Z"
    }
   },
   "outputs": [
    {
     "name": "stdout",
     "output_type": "stream",
     "text": [
      "DataFrame filled with Postcode archetypes\n"
     ]
    },
    {
     "data": {
      "text/html": [
       "<div>\n",
       "<style scoped>\n",
       "    .dataframe tbody tr th:only-of-type {\n",
       "        vertical-align: middle;\n",
       "    }\n",
       "\n",
       "    .dataframe tbody tr th {\n",
       "        vertical-align: top;\n",
       "    }\n",
       "\n",
       "    .dataframe thead th {\n",
       "        text-align: right;\n",
       "    }\n",
       "</style>\n",
       "<table border=\"1\" class=\"dataframe\">\n",
       "  <thead>\n",
       "    <tr style=\"text-align: right;\">\n",
       "      <th></th>\n",
       "      <th></th>\n",
       "      <th></th>\n",
       "      <th></th>\n",
       "      <th>Total Number of Households</th>\n",
       "      <th>Average BER HW Demand [MWh/year]</th>\n",
       "      <th>Average BER SH Demand [MWh/year]</th>\n",
       "      <th>Number of Samples</th>\n",
       "      <th>Postcode-specific data?</th>\n",
       "      <th>Total BER HW Demand [MWh/year]</th>\n",
       "      <th>Total BER SH Demand [MWh/year]</th>\n",
       "    </tr>\n",
       "    <tr>\n",
       "      <th>Postcodes</th>\n",
       "      <th>Small Area</th>\n",
       "      <th>Dwelling Type</th>\n",
       "      <th>Period Built</th>\n",
       "      <th></th>\n",
       "      <th></th>\n",
       "      <th></th>\n",
       "      <th></th>\n",
       "      <th></th>\n",
       "      <th></th>\n",
       "      <th></th>\n",
       "    </tr>\n",
       "  </thead>\n",
       "  <tbody>\n",
       "    <tr>\n",
       "      <th rowspan=\"5\" valign=\"top\">Co. Dublin</th>\n",
       "      <th rowspan=\"5\" valign=\"top\">267001001</th>\n",
       "      <th rowspan=\"5\" valign=\"top\">Apartments*</th>\n",
       "      <th>1919 - 1945*</th>\n",
       "      <td>0.0</td>\n",
       "      <td>2545.361134</td>\n",
       "      <td>8855.781099</td>\n",
       "      <td>121.0</td>\n",
       "      <td>True</td>\n",
       "      <td>0.0</td>\n",
       "      <td>0.0</td>\n",
       "    </tr>\n",
       "    <tr>\n",
       "      <th>1946 - 1960*</th>\n",
       "      <td>0.0</td>\n",
       "      <td>2708.292672</td>\n",
       "      <td>9099.201527</td>\n",
       "      <td>202.0</td>\n",
       "      <td>True</td>\n",
       "      <td>0.0</td>\n",
       "      <td>0.0</td>\n",
       "    </tr>\n",
       "    <tr>\n",
       "      <th>1961 - 1970*</th>\n",
       "      <td>0.0</td>\n",
       "      <td>2720.363263</td>\n",
       "      <td>7433.698571</td>\n",
       "      <td>172.0</td>\n",
       "      <td>True</td>\n",
       "      <td>0.0</td>\n",
       "      <td>0.0</td>\n",
       "    </tr>\n",
       "    <tr>\n",
       "      <th>1971 - 1980*</th>\n",
       "      <td>0.0</td>\n",
       "      <td>2843.005075</td>\n",
       "      <td>7083.608893</td>\n",
       "      <td>497.0</td>\n",
       "      <td>True</td>\n",
       "      <td>0.0</td>\n",
       "      <td>0.0</td>\n",
       "    </tr>\n",
       "    <tr>\n",
       "      <th>1981 - 1990*</th>\n",
       "      <td>0.0</td>\n",
       "      <td>2577.592310</td>\n",
       "      <td>4378.167261</td>\n",
       "      <td>707.0</td>\n",
       "      <td>True</td>\n",
       "      <td>0.0</td>\n",
       "      <td>0.0</td>\n",
       "    </tr>\n",
       "  </tbody>\n",
       "</table>\n",
       "</div>"
      ],
      "text/plain": [
       "                                                  Total Number of Households  \\\n",
       "Postcodes  Small Area Dwelling Type Period Built                               \n",
       "Co. Dublin 267001001  Apartments*   1919 - 1945*                         0.0   \n",
       "                                    1946 - 1960*                         0.0   \n",
       "                                    1961 - 1970*                         0.0   \n",
       "                                    1971 - 1980*                         0.0   \n",
       "                                    1981 - 1990*                         0.0   \n",
       "\n",
       "                                                  Average BER HW Demand [MWh/year]  \\\n",
       "Postcodes  Small Area Dwelling Type Period Built                                     \n",
       "Co. Dublin 267001001  Apartments*   1919 - 1945*                       2545.361134   \n",
       "                                    1946 - 1960*                       2708.292672   \n",
       "                                    1961 - 1970*                       2720.363263   \n",
       "                                    1971 - 1980*                       2843.005075   \n",
       "                                    1981 - 1990*                       2577.592310   \n",
       "\n",
       "                                                  Average BER SH Demand [MWh/year]  \\\n",
       "Postcodes  Small Area Dwelling Type Period Built                                     \n",
       "Co. Dublin 267001001  Apartments*   1919 - 1945*                       8855.781099   \n",
       "                                    1946 - 1960*                       9099.201527   \n",
       "                                    1961 - 1970*                       7433.698571   \n",
       "                                    1971 - 1980*                       7083.608893   \n",
       "                                    1981 - 1990*                       4378.167261   \n",
       "\n",
       "                                                  Number of Samples  \\\n",
       "Postcodes  Small Area Dwelling Type Period Built                      \n",
       "Co. Dublin 267001001  Apartments*   1919 - 1945*              121.0   \n",
       "                                    1946 - 1960*              202.0   \n",
       "                                    1961 - 1970*              172.0   \n",
       "                                    1971 - 1980*              497.0   \n",
       "                                    1981 - 1990*              707.0   \n",
       "\n",
       "                                                  Postcode-specific data?  \\\n",
       "Postcodes  Small Area Dwelling Type Period Built                            \n",
       "Co. Dublin 267001001  Apartments*   1919 - 1945*                     True   \n",
       "                                    1946 - 1960*                     True   \n",
       "                                    1961 - 1970*                     True   \n",
       "                                    1971 - 1980*                     True   \n",
       "                                    1981 - 1990*                     True   \n",
       "\n",
       "                                                  Total BER HW Demand [MWh/year]  \\\n",
       "Postcodes  Small Area Dwelling Type Period Built                                   \n",
       "Co. Dublin 267001001  Apartments*   1919 - 1945*                             0.0   \n",
       "                                    1946 - 1960*                             0.0   \n",
       "                                    1961 - 1970*                             0.0   \n",
       "                                    1971 - 1980*                             0.0   \n",
       "                                    1981 - 1990*                             0.0   \n",
       "\n",
       "                                                  Total BER SH Demand [MWh/year]  \n",
       "Postcodes  Small Area Dwelling Type Period Built                                  \n",
       "Co. Dublin 267001001  Apartments*   1919 - 1945*                             0.0  \n",
       "                                    1946 - 1960*                             0.0  \n",
       "                                    1961 - 1970*                             0.0  \n",
       "                                    1971 - 1980*                             0.0  \n",
       "                                    1981 - 1990*                             0.0  "
      ]
     },
     "execution_count": 3,
     "metadata": {},
     "output_type": "execute_result"
    }
   ],
   "source": [
    "## Calculate Total HW, SH, SM Gas, SM Elec for each archetype\n",
    "\n",
    "Census_2011_with_energy[\"Total BER HW Demand [MWh/year]\"] = (\n",
    "    Census_2011_with_energy[\"Average BER HW Demand [MWh/year]\"]\n",
    "    * Census_2011_with_energy[\"Total Number of Households\"]\n",
    ")\n",
    "Census_2011_with_energy[\"Total BER SH Demand [MWh/year]\"] = (\n",
    "    Census_2011_with_energy[\"Average BER SH Demand [MWh/year]\"]\n",
    "    * Census_2011_with_energy[\"Total Number of Households\"]\n",
    ")\n",
    "\n",
    "\n",
    "print(\"DataFrame filled with Postcode archetypes\")\n",
    "Census_2011_with_energy.head()"
   ]
  },
  {
   "cell_type": "code",
   "execution_count": 4,
   "metadata": {
    "ExecuteTime": {
     "end_time": "2020-01-30T12:26:48.372452Z",
     "start_time": "2020-01-30T12:26:48.297455Z"
    }
   },
   "outputs": [
    {
     "name": "stdout",
     "output_type": "stream",
     "text": [
      "Stored 'Census_2011_with_energy' (DataFrame)\n"
     ]
    }
   ],
   "source": [
    "%store Census_2011_with_energy"
   ]
  }
 ],
 "metadata": {
  "hide_input": false,
  "kernelspec": {
   "display_name": "Python 3",
   "language": "python",
   "name": "python3"
  },
  "language_info": {
   "codemirror_mode": {
    "name": "ipython",
    "version": 3
   },
   "file_extension": ".py",
   "mimetype": "text/x-python",
   "name": "python",
   "nbconvert_exporter": "python",
   "pygments_lexer": "ipython3",
   "version": "3.8.1"
  },
  "toc": {
   "base_numbering": 1,
   "nav_menu": {},
   "number_sections": true,
   "sideBar": true,
   "skip_h1_title": false,
   "title_cell": "Table of Contents",
   "title_sidebar": "Contents",
   "toc_cell": false,
   "toc_position": {},
   "toc_section_display": true,
   "toc_window_display": false
  },
  "varInspector": {
   "cols": {
    "lenName": 16,
    "lenType": 16,
    "lenVar": 40
   },
   "kernels_config": {
    "python": {
     "delete_cmd_postfix": "",
     "delete_cmd_prefix": "del ",
     "library": "var_list.py",
     "varRefreshCmd": "print(var_dic_list())"
    },
    "r": {
     "delete_cmd_postfix": ") ",
     "delete_cmd_prefix": "rm(",
     "library": "var_list.r",
     "varRefreshCmd": "cat(var_dic_list()) "
    }
   },
   "types_to_exclude": [
    "module",
    "function",
    "builtin_function_or_method",
    "instance",
    "_Feature"
   ],
   "window_display": false
  }
 },
 "nbformat": 4,
 "nbformat_minor": 2
}
