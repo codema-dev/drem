{
 "cells": [
  {
   "cell_type": "code",
   "execution_count": 1,
   "metadata": {
    "ExecuteTime": {
     "end_time": "2020-01-30T12:21:01.641202Z",
     "start_time": "2020-01-30T12:21:00.833921Z"
    }
   },
   "outputs": [],
   "source": [
    "import pandas as pd\n",
    "import numpy as np"
   ]
  },
  {
   "cell_type": "code",
   "execution_count": 2,
   "metadata": {
    "ExecuteTime": {
     "end_time": "2020-01-30T12:21:01.653198Z",
     "start_time": "2020-01-30T12:21:01.644201Z"
    }
   },
   "outputs": [],
   "source": [
    "## import custom functions\n",
    "\n",
    "from pathlib import Path\n",
    "import sys\n",
    "\n",
    "# Create path to custom functions\n",
    "funcs_path = Path.cwd().parents[1]\n",
    "sys.path.insert(1, str(funcs_path))\n",
    "\n",
    "from funcs import paths"
   ]
  },
  {
   "cell_type": "code",
   "execution_count": 3,
   "metadata": {
    "ExecuteTime": {
     "end_time": "2020-01-30T12:21:01.676227Z",
     "start_time": "2020-01-30T12:21:01.655199Z"
    }
   },
   "outputs": [
    {
     "data": {
      "text/plain": [
       "'C:\\\\Users\\\\RowanM\\\\Documents\\\\dublin_energy_masterplan\\\\Residential\\\\data\\\\inputs\\\\processed\\\\Census_2011_Linked.pkl'"
      ]
     },
     "execution_count": 3,
     "metadata": {},
     "output_type": "execute_result"
    }
   ],
   "source": [
    "path_to_Census_2011_Linked = paths.get_path_to_data('Census_2011_Linked.pkl') \n",
    "\n",
    "path_to_Census_2011_Linked"
   ]
  },
  {
   "cell_type": "code",
   "execution_count": 4,
   "metadata": {
    "ExecuteTime": {
     "end_time": "2020-01-30T12:21:01.771214Z",
     "start_time": "2020-01-30T12:21:01.684199Z"
    }
   },
   "outputs": [
    {
     "data": {
      "text/html": [
       "<div>\n",
       "<style scoped>\n",
       "    .dataframe tbody tr th:only-of-type {\n",
       "        vertical-align: middle;\n",
       "    }\n",
       "\n",
       "    .dataframe tbody tr th {\n",
       "        vertical-align: top;\n",
       "    }\n",
       "\n",
       "    .dataframe thead th {\n",
       "        text-align: right;\n",
       "    }\n",
       "</style>\n",
       "<table border=\"1\" class=\"dataframe\">\n",
       "  <thead>\n",
       "    <tr style=\"text-align: right;\">\n",
       "      <th></th>\n",
       "      <th></th>\n",
       "      <th></th>\n",
       "      <th></th>\n",
       "      <th>Total Number of Households</th>\n",
       "    </tr>\n",
       "    <tr>\n",
       "      <th>Postcodes</th>\n",
       "      <th>Small Area</th>\n",
       "      <th>Dwelling Type</th>\n",
       "      <th>Period Built</th>\n",
       "      <th></th>\n",
       "    </tr>\n",
       "  </thead>\n",
       "  <tbody>\n",
       "    <tr>\n",
       "      <th rowspan=\"5\" valign=\"top\">Co. Dublin</th>\n",
       "      <th rowspan=\"5\" valign=\"top\">267001001</th>\n",
       "      <th rowspan=\"5\" valign=\"top\">Apartments*</th>\n",
       "      <th>1919 - 1945*</th>\n",
       "      <td>0.0</td>\n",
       "    </tr>\n",
       "    <tr>\n",
       "      <th>1946 - 1960*</th>\n",
       "      <td>0.0</td>\n",
       "    </tr>\n",
       "    <tr>\n",
       "      <th>1961 - 1970*</th>\n",
       "      <td>0.0</td>\n",
       "    </tr>\n",
       "    <tr>\n",
       "      <th>1971 - 1980*</th>\n",
       "      <td>0.0</td>\n",
       "    </tr>\n",
       "    <tr>\n",
       "      <th>1981 - 1990*</th>\n",
       "      <td>0.0</td>\n",
       "    </tr>\n",
       "    <tr>\n",
       "      <th>...</th>\n",
       "      <th>...</th>\n",
       "      <th>...</th>\n",
       "      <th>...</th>\n",
       "      <td>...</td>\n",
       "    </tr>\n",
       "    <tr>\n",
       "      <th rowspan=\"5\" valign=\"top\">Dublin 8</th>\n",
       "      <th rowspan=\"5\" valign=\"top\">268162018</th>\n",
       "      <th rowspan=\"5\" valign=\"top\">Terraced house*</th>\n",
       "      <th>1981 - 1990*</th>\n",
       "      <td>1.0</td>\n",
       "    </tr>\n",
       "    <tr>\n",
       "      <th>1991 - 2000*</th>\n",
       "      <td>0.0</td>\n",
       "    </tr>\n",
       "    <tr>\n",
       "      <th>2001 - 2005*</th>\n",
       "      <td>0.0</td>\n",
       "    </tr>\n",
       "    <tr>\n",
       "      <th>2006 or later*</th>\n",
       "      <td>3.0</td>\n",
       "    </tr>\n",
       "    <tr>\n",
       "      <th>before 1919*</th>\n",
       "      <td>30.0</td>\n",
       "    </tr>\n",
       "  </tbody>\n",
       "</table>\n",
       "<p>173016 rows × 1 columns</p>\n",
       "</div>"
      ],
      "text/plain": [
       "                                                      Total Number of Households\n",
       "Postcodes  Small Area Dwelling Type   Period Built                              \n",
       "Co. Dublin 267001001  Apartments*     1919 - 1945*                           0.0\n",
       "                                      1946 - 1960*                           0.0\n",
       "                                      1961 - 1970*                           0.0\n",
       "                                      1971 - 1980*                           0.0\n",
       "                                      1981 - 1990*                           0.0\n",
       "...                                                                          ...\n",
       "Dublin 8   268162018  Terraced house* 1981 - 1990*                           1.0\n",
       "                                      1991 - 2000*                           0.0\n",
       "                                      2001 - 2005*                           0.0\n",
       "                                      2006 or later*                         3.0\n",
       "                                      before 1919*                          30.0\n",
       "\n",
       "[173016 rows x 1 columns]"
      ]
     },
     "execution_count": 4,
     "metadata": {},
     "output_type": "execute_result"
    }
   ],
   "source": [
    "Census_2011_Linked = pd.read_pickle(path_to_Census_2011_Linked, compression='xz')\n",
    "\n",
    "Census_2011_Linked"
   ]
  },
  {
   "cell_type": "code",
   "execution_count": 5,
   "metadata": {
    "ExecuteTime": {
     "end_time": "2020-01-30T12:21:01.788205Z",
     "start_time": "2020-01-30T12:21:01.780200Z"
    }
   },
   "outputs": [
    {
     "data": {
      "text/plain": [
       "'C:\\\\Users\\\\RowanM\\\\Documents\\\\dublin_energy_masterplan\\\\Residential\\\\data\\\\models\\\\Dublin_BER_archetypes.pkl'"
      ]
     },
     "execution_count": 5,
     "metadata": {},
     "output_type": "execute_result"
    }
   ],
   "source": [
    "path_to_Dublin_BER_archetypes = paths.get_path_to_data('Dublin_BER_archetypes.pkl') \n",
    "\n",
    "path_to_Dublin_BER_archetypes"
   ]
  },
  {
   "cell_type": "code",
   "execution_count": 6,
   "metadata": {
    "ExecuteTime": {
     "end_time": "2020-01-30T12:21:01.828201Z",
     "start_time": "2020-01-30T12:21:01.792199Z"
    },
    "scrolled": true
   },
   "outputs": [
    {
     "data": {
      "text/html": [
       "<div>\n",
       "<style scoped>\n",
       "    .dataframe tbody tr th:only-of-type {\n",
       "        vertical-align: middle;\n",
       "    }\n",
       "\n",
       "    .dataframe tbody tr th {\n",
       "        vertical-align: top;\n",
       "    }\n",
       "\n",
       "    .dataframe thead th {\n",
       "        text-align: right;\n",
       "    }\n",
       "</style>\n",
       "<table border=\"1\" class=\"dataframe\">\n",
       "  <thead>\n",
       "    <tr style=\"text-align: right;\">\n",
       "      <th></th>\n",
       "      <th></th>\n",
       "      <th></th>\n",
       "      <th>Average BER HW Demand [MWh/year]</th>\n",
       "      <th>Average BER SH Demand [MWh/year]</th>\n",
       "      <th>Number of Samples</th>\n",
       "      <th>Postcode-specific data?</th>\n",
       "    </tr>\n",
       "    <tr>\n",
       "      <th>Postcodes</th>\n",
       "      <th>Dwelling Type</th>\n",
       "      <th>Period Built</th>\n",
       "      <th></th>\n",
       "      <th></th>\n",
       "      <th></th>\n",
       "      <th></th>\n",
       "    </tr>\n",
       "  </thead>\n",
       "  <tbody>\n",
       "    <tr>\n",
       "      <th rowspan=\"5\" valign=\"top\">Co. Dublin</th>\n",
       "      <th rowspan=\"5\" valign=\"top\">Apartments*</th>\n",
       "      <th>1919 - 1945*</th>\n",
       "      <td>2545.361134</td>\n",
       "      <td>8855.781099</td>\n",
       "      <td>121.0</td>\n",
       "      <td>True</td>\n",
       "    </tr>\n",
       "    <tr>\n",
       "      <th>1946 - 1960*</th>\n",
       "      <td>2708.292672</td>\n",
       "      <td>9099.201527</td>\n",
       "      <td>202.0</td>\n",
       "      <td>True</td>\n",
       "    </tr>\n",
       "    <tr>\n",
       "      <th>1961 - 1970*</th>\n",
       "      <td>2720.363263</td>\n",
       "      <td>7433.698571</td>\n",
       "      <td>172.0</td>\n",
       "      <td>True</td>\n",
       "    </tr>\n",
       "    <tr>\n",
       "      <th>1971 - 1980*</th>\n",
       "      <td>2843.005075</td>\n",
       "      <td>7083.608893</td>\n",
       "      <td>497.0</td>\n",
       "      <td>True</td>\n",
       "    </tr>\n",
       "    <tr>\n",
       "      <th>1981 - 1990*</th>\n",
       "      <td>2577.592310</td>\n",
       "      <td>4378.167261</td>\n",
       "      <td>707.0</td>\n",
       "      <td>True</td>\n",
       "    </tr>\n",
       "    <tr>\n",
       "      <th>...</th>\n",
       "      <th>...</th>\n",
       "      <th>...</th>\n",
       "      <td>...</td>\n",
       "      <td>...</td>\n",
       "      <td>...</td>\n",
       "      <td>...</td>\n",
       "    </tr>\n",
       "    <tr>\n",
       "      <th rowspan=\"5\" valign=\"top\">Dublin 24</th>\n",
       "      <th rowspan=\"5\" valign=\"top\">Terraced House*</th>\n",
       "      <th>1981 - 1990*</th>\n",
       "      <td>3217.159169</td>\n",
       "      <td>4681.964014</td>\n",
       "      <td>654.0</td>\n",
       "      <td>True</td>\n",
       "    </tr>\n",
       "    <tr>\n",
       "      <th>1991 - 2000*</th>\n",
       "      <td>3157.331477</td>\n",
       "      <td>5093.482842</td>\n",
       "      <td>284.0</td>\n",
       "      <td>True</td>\n",
       "    </tr>\n",
       "    <tr>\n",
       "      <th>2001 - 2005*</th>\n",
       "      <td>3218.502754</td>\n",
       "      <td>4848.264573</td>\n",
       "      <td>365.0</td>\n",
       "      <td>True</td>\n",
       "    </tr>\n",
       "    <tr>\n",
       "      <th>2006 or later*</th>\n",
       "      <td>2961.955760</td>\n",
       "      <td>3301.098618</td>\n",
       "      <td>228.0</td>\n",
       "      <td>True</td>\n",
       "    </tr>\n",
       "    <tr>\n",
       "      <th>before 1919*</th>\n",
       "      <td>3458.415555</td>\n",
       "      <td>14265.357073</td>\n",
       "      <td>3.0</td>\n",
       "      <td>False</td>\n",
       "    </tr>\n",
       "  </tbody>\n",
       "</table>\n",
       "<p>936 rows × 4 columns</p>\n",
       "</div>"
      ],
      "text/plain": [
       "                                           Average BER HW Demand [MWh/year]  \\\n",
       "Postcodes  Dwelling Type   Period Built                                       \n",
       "Co. Dublin Apartments*     1919 - 1945*                         2545.361134   \n",
       "                           1946 - 1960*                         2708.292672   \n",
       "                           1961 - 1970*                         2720.363263   \n",
       "                           1971 - 1980*                         2843.005075   \n",
       "                           1981 - 1990*                         2577.592310   \n",
       "...                                                                     ...   \n",
       "Dublin 24  Terraced House* 1981 - 1990*                         3217.159169   \n",
       "                           1991 - 2000*                         3157.331477   \n",
       "                           2001 - 2005*                         3218.502754   \n",
       "                           2006 or later*                       2961.955760   \n",
       "                           before 1919*                         3458.415555   \n",
       "\n",
       "                                           Average BER SH Demand [MWh/year]  \\\n",
       "Postcodes  Dwelling Type   Period Built                                       \n",
       "Co. Dublin Apartments*     1919 - 1945*                         8855.781099   \n",
       "                           1946 - 1960*                         9099.201527   \n",
       "                           1961 - 1970*                         7433.698571   \n",
       "                           1971 - 1980*                         7083.608893   \n",
       "                           1981 - 1990*                         4378.167261   \n",
       "...                                                                     ...   \n",
       "Dublin 24  Terraced House* 1981 - 1990*                         4681.964014   \n",
       "                           1991 - 2000*                         5093.482842   \n",
       "                           2001 - 2005*                         4848.264573   \n",
       "                           2006 or later*                       3301.098618   \n",
       "                           before 1919*                        14265.357073   \n",
       "\n",
       "                                           Number of Samples  \\\n",
       "Postcodes  Dwelling Type   Period Built                        \n",
       "Co. Dublin Apartments*     1919 - 1945*                121.0   \n",
       "                           1946 - 1960*                202.0   \n",
       "                           1961 - 1970*                172.0   \n",
       "                           1971 - 1980*                497.0   \n",
       "                           1981 - 1990*                707.0   \n",
       "...                                                      ...   \n",
       "Dublin 24  Terraced House* 1981 - 1990*                654.0   \n",
       "                           1991 - 2000*                284.0   \n",
       "                           2001 - 2005*                365.0   \n",
       "                           2006 or later*              228.0   \n",
       "                           before 1919*                  3.0   \n",
       "\n",
       "                                           Postcode-specific data?  \n",
       "Postcodes  Dwelling Type   Period Built                             \n",
       "Co. Dublin Apartments*     1919 - 1945*                       True  \n",
       "                           1946 - 1960*                       True  \n",
       "                           1961 - 1970*                       True  \n",
       "                           1971 - 1980*                       True  \n",
       "                           1981 - 1990*                       True  \n",
       "...                                                            ...  \n",
       "Dublin 24  Terraced House* 1981 - 1990*                       True  \n",
       "                           1991 - 2000*                       True  \n",
       "                           2001 - 2005*                       True  \n",
       "                           2006 or later*                     True  \n",
       "                           before 1919*                      False  \n",
       "\n",
       "[936 rows x 4 columns]"
      ]
     },
     "execution_count": 6,
     "metadata": {},
     "output_type": "execute_result"
    }
   ],
   "source": [
    "Dublin_BER_archetypes = pd.read_pickle(path_to_Dublin_BER_archetypes,compression='xz')\n",
    "\n",
    "Dublin_BER_archetypes"
   ]
  },
  {
   "cell_type": "markdown",
   "metadata": {},
   "source": [
    "# Merge"
   ]
  },
  {
   "cell_type": "markdown",
   "metadata": {},
   "source": [
    "BUG: indexes must equal one another in order to match between DataFrames - they don't ..."
   ]
  },
  {
   "cell_type": "markdown",
   "metadata": {
    "heading_collapsed": true
   },
   "source": [
    "## Check index values for differences ..."
   ]
  },
  {
   "cell_type": "code",
   "execution_count": 7,
   "metadata": {
    "ExecuteTime": {
     "end_time": "2020-01-30T12:21:01.836200Z",
     "start_time": "2020-01-30T12:21:01.830199Z"
    },
    "hidden": true
   },
   "outputs": [],
   "source": [
    "d_idx0 = Dublin_BER_archetypes.index.levels[0]\n",
    "d_idx1 = Dublin_BER_archetypes.index.levels[1]\n",
    "d_idx2 = Dublin_BER_archetypes.index.levels[2]\n",
    "c_idx0 = Census_2011_Linked.index.levels[0]\n",
    "c_idx2 = Census_2011_Linked.index.levels[2]\n",
    "c_idx3 = Census_2011_Linked.index.levels[3]"
   ]
  },
  {
   "cell_type": "code",
   "execution_count": 8,
   "metadata": {
    "ExecuteTime": {
     "end_time": "2020-01-30T12:21:01.850200Z",
     "start_time": "2020-01-30T12:21:01.840199Z"
    },
    "hidden": true
   },
   "outputs": [
    {
     "data": {
      "text/plain": [
       "Index(['Co. Dublin', 'Dublin 1', 'Dublin 10', 'Dublin 11', 'Dublin 12',\n",
       "       'Dublin 13', 'Dublin 14', 'Dublin 15', 'Dublin 16', 'Dublin 17',\n",
       "       'Dublin 18', 'Dublin 19', 'Dublin 2', 'Dublin 20', 'Dublin 21',\n",
       "       'Dublin 22', 'Dublin 23', 'Dublin 24', 'Dublin 3', 'Dublin 4',\n",
       "       'Dublin 5', 'Dublin 6', 'Dublin 6W', 'Dublin 7', 'Dublin 8',\n",
       "       'Dublin 9'],\n",
       "      dtype='object', name='Postcodes')"
      ]
     },
     "execution_count": 8,
     "metadata": {},
     "output_type": "execute_result"
    }
   ],
   "source": [
    "d_idx0"
   ]
  },
  {
   "cell_type": "code",
   "execution_count": 9,
   "metadata": {
    "ExecuteTime": {
     "end_time": "2020-01-30T12:21:01.861199Z",
     "start_time": "2020-01-30T12:21:01.853197Z"
    },
    "hidden": true
   },
   "outputs": [
    {
     "data": {
      "text/plain": [
       "Index(['Co. Dublin', 'Dublin 1', 'Dublin 10', 'Dublin 11', 'Dublin 12',\n",
       "       'Dublin 13', 'Dublin 14', 'Dublin 15', 'Dublin 16', 'Dublin 17',\n",
       "       'Dublin 18', 'Dublin 2', 'Dublin 20', 'Dublin 22', 'Dublin 24',\n",
       "       'Dublin 3', 'Dublin 4', 'Dublin 5', 'Dublin 6', 'Dublin 6W', 'Dublin 7',\n",
       "       'Dublin 8', 'Dublin 9', 'Unmatched'],\n",
       "      dtype='object', name='Postcodes')"
      ]
     },
     "execution_count": 9,
     "metadata": {},
     "output_type": "execute_result"
    }
   ],
   "source": [
    "c_idx0"
   ]
  },
  {
   "cell_type": "code",
   "execution_count": 10,
   "metadata": {
    "ExecuteTime": {
     "end_time": "2020-01-30T12:21:01.872200Z",
     "start_time": "2020-01-30T12:21:01.863198Z"
    },
    "hidden": true
   },
   "outputs": [
    {
     "data": {
      "text/plain": [
       "Index(['Dublin 19', 'Dublin 21', 'Dublin 23'], dtype='object', name='Postcodes')"
      ]
     },
     "execution_count": 10,
     "metadata": {},
     "output_type": "execute_result"
    }
   ],
   "source": [
    "d_idx0.difference(c_idx0)"
   ]
  },
  {
   "cell_type": "code",
   "execution_count": 11,
   "metadata": {
    "ExecuteTime": {
     "end_time": "2020-01-30T12:21:01.882202Z",
     "start_time": "2020-01-30T12:21:01.875200Z"
    },
    "hidden": true
   },
   "outputs": [
    {
     "data": {
      "text/plain": [
       "Index(['Unmatched'], dtype='object', name='Postcodes')"
      ]
     },
     "execution_count": 11,
     "metadata": {},
     "output_type": "execute_result"
    }
   ],
   "source": [
    "c_idx0.difference(d_idx0)"
   ]
  },
  {
   "cell_type": "code",
   "execution_count": 12,
   "metadata": {
    "ExecuteTime": {
     "end_time": "2020-01-30T12:21:01.911201Z",
     "start_time": "2020-01-30T12:21:01.885198Z"
    },
    "hidden": true
   },
   "outputs": [
    {
     "data": {
      "text/plain": [
       "Index(['Detached House*', 'Semi-detached House*', 'Terraced House*'], dtype='object', name='Dwelling Type')"
      ]
     },
     "execution_count": 12,
     "metadata": {},
     "output_type": "execute_result"
    }
   ],
   "source": [
    "d_idx1.difference(c_idx2)"
   ]
  },
  {
   "cell_type": "code",
   "execution_count": 13,
   "metadata": {
    "ExecuteTime": {
     "end_time": "2020-01-30T12:21:01.938198Z",
     "start_time": "2020-01-30T12:21:01.914203Z"
    },
    "hidden": true
   },
   "outputs": [
    {
     "data": {
      "text/plain": [
       "Index([], dtype='object', name='Period Built')"
      ]
     },
     "execution_count": 13,
     "metadata": {},
     "output_type": "execute_result"
    }
   ],
   "source": [
    "d_idx2.difference(c_idx3)"
   ]
  },
  {
   "cell_type": "markdown",
   "metadata": {},
   "source": [
    "## Equate indexes and Merge"
   ]
  },
  {
   "cell_type": "code",
   "execution_count": 14,
   "metadata": {
    "ExecuteTime": {
     "end_time": "2020-01-30T12:21:01.952219Z",
     "start_time": "2020-01-30T12:21:01.942197Z"
    }
   },
   "outputs": [],
   "source": [
    "## Set indexes equal to one another\n",
    "\n",
    "# Dwelling Type\n",
    "Census_2011_Linked.index.set_levels(levels=[d_idx0, d_idx1], level=[0,2], inplace=True)"
   ]
  },
  {
   "cell_type": "code",
   "execution_count": 15,
   "metadata": {
    "ExecuteTime": {
     "end_time": "2020-01-30T12:21:02.624064Z",
     "start_time": "2020-01-30T12:21:01.955199Z"
    },
    "scrolled": true
   },
   "outputs": [
    {
     "data": {
      "text/html": [
       "<div>\n",
       "<style scoped>\n",
       "    .dataframe tbody tr th:only-of-type {\n",
       "        vertical-align: middle;\n",
       "    }\n",
       "\n",
       "    .dataframe tbody tr th {\n",
       "        vertical-align: top;\n",
       "    }\n",
       "\n",
       "    .dataframe thead th {\n",
       "        text-align: right;\n",
       "    }\n",
       "</style>\n",
       "<table border=\"1\" class=\"dataframe\">\n",
       "  <thead>\n",
       "    <tr style=\"text-align: right;\">\n",
       "      <th></th>\n",
       "      <th></th>\n",
       "      <th></th>\n",
       "      <th></th>\n",
       "      <th>Total Number of Households</th>\n",
       "      <th>Average BER HW Demand [MWh/year]</th>\n",
       "      <th>Average BER SH Demand [MWh/year]</th>\n",
       "      <th>Number of Samples</th>\n",
       "      <th>Postcode-specific data?</th>\n",
       "    </tr>\n",
       "    <tr>\n",
       "      <th>Postcodes</th>\n",
       "      <th>Small Area</th>\n",
       "      <th>Dwelling Type</th>\n",
       "      <th>Period Built</th>\n",
       "      <th></th>\n",
       "      <th></th>\n",
       "      <th></th>\n",
       "      <th></th>\n",
       "      <th></th>\n",
       "    </tr>\n",
       "  </thead>\n",
       "  <tbody>\n",
       "    <tr>\n",
       "      <th rowspan=\"5\" valign=\"top\">Co. Dublin</th>\n",
       "      <th rowspan=\"5\" valign=\"top\">267001001</th>\n",
       "      <th rowspan=\"5\" valign=\"top\">Apartments*</th>\n",
       "      <th>1919 - 1945*</th>\n",
       "      <td>0.0</td>\n",
       "      <td>2545.361134</td>\n",
       "      <td>8855.781099</td>\n",
       "      <td>121.0</td>\n",
       "      <td>True</td>\n",
       "    </tr>\n",
       "    <tr>\n",
       "      <th>1946 - 1960*</th>\n",
       "      <td>0.0</td>\n",
       "      <td>2708.292672</td>\n",
       "      <td>9099.201527</td>\n",
       "      <td>202.0</td>\n",
       "      <td>True</td>\n",
       "    </tr>\n",
       "    <tr>\n",
       "      <th>1961 - 1970*</th>\n",
       "      <td>0.0</td>\n",
       "      <td>2720.363263</td>\n",
       "      <td>7433.698571</td>\n",
       "      <td>172.0</td>\n",
       "      <td>True</td>\n",
       "    </tr>\n",
       "    <tr>\n",
       "      <th>1971 - 1980*</th>\n",
       "      <td>0.0</td>\n",
       "      <td>2843.005075</td>\n",
       "      <td>7083.608893</td>\n",
       "      <td>497.0</td>\n",
       "      <td>True</td>\n",
       "    </tr>\n",
       "    <tr>\n",
       "      <th>1981 - 1990*</th>\n",
       "      <td>0.0</td>\n",
       "      <td>2577.592310</td>\n",
       "      <td>4378.167261</td>\n",
       "      <td>707.0</td>\n",
       "      <td>True</td>\n",
       "    </tr>\n",
       "    <tr>\n",
       "      <th>...</th>\n",
       "      <th>...</th>\n",
       "      <th>...</th>\n",
       "      <th>...</th>\n",
       "      <td>...</td>\n",
       "      <td>...</td>\n",
       "      <td>...</td>\n",
       "      <td>...</td>\n",
       "      <td>...</td>\n",
       "    </tr>\n",
       "    <tr>\n",
       "      <th rowspan=\"5\" valign=\"top\">Dublin 7</th>\n",
       "      <th rowspan=\"5\" valign=\"top\">267124010</th>\n",
       "      <th rowspan=\"5\" valign=\"top\">Terraced House*</th>\n",
       "      <th>1981 - 1990*</th>\n",
       "      <td>0.0</td>\n",
       "      <td>2886.644800</td>\n",
       "      <td>4848.662210</td>\n",
       "      <td>312.0</td>\n",
       "      <td>True</td>\n",
       "    </tr>\n",
       "    <tr>\n",
       "      <th>1991 - 2000*</th>\n",
       "      <td>0.0</td>\n",
       "      <td>2967.237510</td>\n",
       "      <td>5142.857465</td>\n",
       "      <td>198.0</td>\n",
       "      <td>True</td>\n",
       "    </tr>\n",
       "    <tr>\n",
       "      <th>2001 - 2005*</th>\n",
       "      <td>0.0</td>\n",
       "      <td>2793.871721</td>\n",
       "      <td>4873.548906</td>\n",
       "      <td>35.0</td>\n",
       "      <td>False</td>\n",
       "    </tr>\n",
       "    <tr>\n",
       "      <th>2006 or later*</th>\n",
       "      <td>0.0</td>\n",
       "      <td>2627.525499</td>\n",
       "      <td>2097.831880</td>\n",
       "      <td>29.0</td>\n",
       "      <td>False</td>\n",
       "    </tr>\n",
       "    <tr>\n",
       "      <th>before 1919*</th>\n",
       "      <td>0.0</td>\n",
       "      <td>2841.106659</td>\n",
       "      <td>11709.006731</td>\n",
       "      <td>1322.0</td>\n",
       "      <td>True</td>\n",
       "    </tr>\n",
       "  </tbody>\n",
       "</table>\n",
       "<p>173016 rows × 5 columns</p>\n",
       "</div>"
      ],
      "text/plain": [
       "                                                      Total Number of Households  \\\n",
       "Postcodes  Small Area Dwelling Type   Period Built                                 \n",
       "Co. Dublin 267001001  Apartments*     1919 - 1945*                           0.0   \n",
       "                                      1946 - 1960*                           0.0   \n",
       "                                      1961 - 1970*                           0.0   \n",
       "                                      1971 - 1980*                           0.0   \n",
       "                                      1981 - 1990*                           0.0   \n",
       "...                                                                          ...   \n",
       "Dublin 7   267124010  Terraced House* 1981 - 1990*                           0.0   \n",
       "                                      1991 - 2000*                           0.0   \n",
       "                                      2001 - 2005*                           0.0   \n",
       "                                      2006 or later*                         0.0   \n",
       "                                      before 1919*                           0.0   \n",
       "\n",
       "                                                      Average BER HW Demand [MWh/year]  \\\n",
       "Postcodes  Small Area Dwelling Type   Period Built                                       \n",
       "Co. Dublin 267001001  Apartments*     1919 - 1945*                         2545.361134   \n",
       "                                      1946 - 1960*                         2708.292672   \n",
       "                                      1961 - 1970*                         2720.363263   \n",
       "                                      1971 - 1980*                         2843.005075   \n",
       "                                      1981 - 1990*                         2577.592310   \n",
       "...                                                                                ...   \n",
       "Dublin 7   267124010  Terraced House* 1981 - 1990*                         2886.644800   \n",
       "                                      1991 - 2000*                         2967.237510   \n",
       "                                      2001 - 2005*                         2793.871721   \n",
       "                                      2006 or later*                       2627.525499   \n",
       "                                      before 1919*                         2841.106659   \n",
       "\n",
       "                                                      Average BER SH Demand [MWh/year]  \\\n",
       "Postcodes  Small Area Dwelling Type   Period Built                                       \n",
       "Co. Dublin 267001001  Apartments*     1919 - 1945*                         8855.781099   \n",
       "                                      1946 - 1960*                         9099.201527   \n",
       "                                      1961 - 1970*                         7433.698571   \n",
       "                                      1971 - 1980*                         7083.608893   \n",
       "                                      1981 - 1990*                         4378.167261   \n",
       "...                                                                                ...   \n",
       "Dublin 7   267124010  Terraced House* 1981 - 1990*                         4848.662210   \n",
       "                                      1991 - 2000*                         5142.857465   \n",
       "                                      2001 - 2005*                         4873.548906   \n",
       "                                      2006 or later*                       2097.831880   \n",
       "                                      before 1919*                        11709.006731   \n",
       "\n",
       "                                                      Number of Samples  \\\n",
       "Postcodes  Small Area Dwelling Type   Period Built                        \n",
       "Co. Dublin 267001001  Apartments*     1919 - 1945*                121.0   \n",
       "                                      1946 - 1960*                202.0   \n",
       "                                      1961 - 1970*                172.0   \n",
       "                                      1971 - 1980*                497.0   \n",
       "                                      1981 - 1990*                707.0   \n",
       "...                                                                 ...   \n",
       "Dublin 7   267124010  Terraced House* 1981 - 1990*                312.0   \n",
       "                                      1991 - 2000*                198.0   \n",
       "                                      2001 - 2005*                 35.0   \n",
       "                                      2006 or later*               29.0   \n",
       "                                      before 1919*               1322.0   \n",
       "\n",
       "                                                      Postcode-specific data?  \n",
       "Postcodes  Small Area Dwelling Type   Period Built                             \n",
       "Co. Dublin 267001001  Apartments*     1919 - 1945*                       True  \n",
       "                                      1946 - 1960*                       True  \n",
       "                                      1961 - 1970*                       True  \n",
       "                                      1971 - 1980*                       True  \n",
       "                                      1981 - 1990*                       True  \n",
       "...                                                                       ...  \n",
       "Dublin 7   267124010  Terraced House* 1981 - 1990*                       True  \n",
       "                                      1991 - 2000*                       True  \n",
       "                                      2001 - 2005*                      False  \n",
       "                                      2006 or later*                    False  \n",
       "                                      before 1919*                       True  \n",
       "\n",
       "[173016 rows x 5 columns]"
      ]
     },
     "execution_count": 15,
     "metadata": {},
     "output_type": "execute_result"
    }
   ],
   "source": [
    "Census_2011_with_energy_inner = (\n",
    "    Census_2011_Linked.reset_index()\n",
    "    .merge(\n",
    "        Dublin_BER_archetypes.reset_index(),\n",
    "        on=[\"Postcodes\", \"Dwelling Type\", \"Period Built\"],\n",
    "    )\n",
    "    .set_index(Census_2011_Linked.index.names)\n",
    ")\n",
    "\n",
    "Census_2011_with_energy_inner.sort_index(inplace=True)\n",
    "\n",
    "Census_2011_with_energy_inner"
   ]
  },
  {
   "cell_type": "markdown",
   "metadata": {},
   "source": [
    "<span style=\"color:red\"> __NOTE__ </span>\n",
    "\n",
    "I'm very confused as to where the Small Areas are coming from for 'Dublin 19', 'Dublin 21', 'Dublin 23' as they are not in the index of Small-Area to Postcode match ...\n",
    "\n",
    "It appears that they may be coming from 'Dublin 8' and 'Dublin 9' somehow ..."
   ]
  },
  {
   "cell_type": "markdown",
   "metadata": {
    "heading_collapsed": true
   },
   "source": [
    "# Debugging"
   ]
  },
  {
   "cell_type": "markdown",
   "metadata": {
    "hidden": true
   },
   "source": [
    "## Check for Null values after merge"
   ]
  },
  {
   "cell_type": "code",
   "execution_count": 16,
   "metadata": {
    "ExecuteTime": {
     "end_time": "2020-01-30T12:21:02.638033Z",
     "start_time": "2020-01-30T12:21:02.627032Z"
    },
    "hidden": true
   },
   "outputs": [
    {
     "data": {
      "text/html": [
       "<div>\n",
       "<style scoped>\n",
       "    .dataframe tbody tr th:only-of-type {\n",
       "        vertical-align: middle;\n",
       "    }\n",
       "\n",
       "    .dataframe tbody tr th {\n",
       "        vertical-align: top;\n",
       "    }\n",
       "\n",
       "    .dataframe thead th {\n",
       "        text-align: right;\n",
       "    }\n",
       "</style>\n",
       "<table border=\"1\" class=\"dataframe\">\n",
       "  <thead>\n",
       "    <tr style=\"text-align: right;\">\n",
       "      <th></th>\n",
       "      <th></th>\n",
       "      <th></th>\n",
       "      <th></th>\n",
       "      <th>Total Number of Households</th>\n",
       "      <th>Average BER HW Demand [MWh/year]</th>\n",
       "      <th>Average BER SH Demand [MWh/year]</th>\n",
       "      <th>Number of Samples</th>\n",
       "      <th>Postcode-specific data?</th>\n",
       "    </tr>\n",
       "    <tr>\n",
       "      <th>Postcodes</th>\n",
       "      <th>Small Area</th>\n",
       "      <th>Dwelling Type</th>\n",
       "      <th>Period Built</th>\n",
       "      <th></th>\n",
       "      <th></th>\n",
       "      <th></th>\n",
       "      <th></th>\n",
       "      <th></th>\n",
       "    </tr>\n",
       "  </thead>\n",
       "  <tbody>\n",
       "  </tbody>\n",
       "</table>\n",
       "</div>"
      ],
      "text/plain": [
       "Empty DataFrame\n",
       "Columns: [Total Number of Households, Average BER HW Demand [MWh/year], Average BER SH Demand [MWh/year], Number of Samples, Postcode-specific data?]\n",
       "Index: []"
      ]
     },
     "execution_count": 16,
     "metadata": {},
     "output_type": "execute_result"
    }
   ],
   "source": [
    "mask = Census_2011_with_energy_inner[\"Total Number of Households\"].isna()\n",
    "Census_2011_with_energy_inner[mask]"
   ]
  },
  {
   "cell_type": "code",
   "execution_count": 17,
   "metadata": {
    "ExecuteTime": {
     "end_time": "2020-01-30T12:21:02.658032Z",
     "start_time": "2020-01-30T12:21:02.644032Z"
    },
    "hidden": true,
    "scrolled": true
   },
   "outputs": [
    {
     "data": {
      "text/html": [
       "<div>\n",
       "<style scoped>\n",
       "    .dataframe tbody tr th:only-of-type {\n",
       "        vertical-align: middle;\n",
       "    }\n",
       "\n",
       "    .dataframe tbody tr th {\n",
       "        vertical-align: top;\n",
       "    }\n",
       "\n",
       "    .dataframe thead th {\n",
       "        text-align: right;\n",
       "    }\n",
       "</style>\n",
       "<table border=\"1\" class=\"dataframe\">\n",
       "  <thead>\n",
       "    <tr style=\"text-align: right;\">\n",
       "      <th></th>\n",
       "      <th></th>\n",
       "      <th></th>\n",
       "      <th></th>\n",
       "      <th>Total Number of Households</th>\n",
       "      <th>Average BER HW Demand [MWh/year]</th>\n",
       "      <th>Average BER SH Demand [MWh/year]</th>\n",
       "      <th>Number of Samples</th>\n",
       "      <th>Postcode-specific data?</th>\n",
       "    </tr>\n",
       "    <tr>\n",
       "      <th>Postcodes</th>\n",
       "      <th>Small Area</th>\n",
       "      <th>Dwelling Type</th>\n",
       "      <th>Period Built</th>\n",
       "      <th></th>\n",
       "      <th></th>\n",
       "      <th></th>\n",
       "      <th></th>\n",
       "      <th></th>\n",
       "    </tr>\n",
       "  </thead>\n",
       "  <tbody>\n",
       "  </tbody>\n",
       "</table>\n",
       "</div>"
      ],
      "text/plain": [
       "Empty DataFrame\n",
       "Columns: [Total Number of Households, Average BER HW Demand [MWh/year], Average BER SH Demand [MWh/year], Number of Samples, Postcode-specific data?]\n",
       "Index: []"
      ]
     },
     "execution_count": 17,
     "metadata": {},
     "output_type": "execute_result"
    }
   ],
   "source": [
    "mask = Census_2011_with_energy_inner[\"Average BER HW Demand [MWh/year]\"].isna()\n",
    "Census_2011_with_energy_inner[mask]"
   ]
  },
  {
   "cell_type": "code",
   "execution_count": 18,
   "metadata": {
    "ExecuteTime": {
     "end_time": "2020-01-30T12:21:02.686034Z",
     "start_time": "2020-01-30T12:21:02.667032Z"
    },
    "hidden": true,
    "scrolled": true
   },
   "outputs": [
    {
     "data": {
      "text/plain": [
       "Index(['Co. Dublin', 'Dublin 1', 'Dublin 10', 'Dublin 11', 'Dublin 12',\n",
       "       'Dublin 13', 'Dublin 14', 'Dublin 15', 'Dublin 16', 'Dublin 17',\n",
       "       'Dublin 18', 'Dublin 19', 'Dublin 2', 'Dublin 20', 'Dublin 21',\n",
       "       'Dublin 22', 'Dublin 23', 'Dublin 24', 'Dublin 3', 'Dublin 4',\n",
       "       'Dublin 5', 'Dublin 6', 'Dublin 6W', 'Dublin 7'],\n",
       "      dtype='object', name='Postcodes')"
      ]
     },
     "execution_count": 18,
     "metadata": {},
     "output_type": "execute_result"
    }
   ],
   "source": [
    "Census_2011_with_energy_inner.index.levels[0].unique()"
   ]
  },
  {
   "cell_type": "code",
   "execution_count": 19,
   "metadata": {
    "ExecuteTime": {
     "end_time": "2020-01-30T12:21:02.706034Z",
     "start_time": "2020-01-30T12:21:02.689031Z"
    },
    "hidden": true
   },
   "outputs": [],
   "source": [
    "# Census_2011_with_energy_inner.to_excel('inner.xlsx')"
   ]
  },
  {
   "cell_type": "markdown",
   "metadata": {
    "hidden": true
   },
   "source": [
    "## Compare results to an outer merge"
   ]
  },
  {
   "cell_type": "code",
   "execution_count": 20,
   "metadata": {
    "ExecuteTime": {
     "end_time": "2020-01-30T12:21:03.466032Z",
     "start_time": "2020-01-30T12:21:02.714031Z"
    },
    "hidden": true,
    "scrolled": true
   },
   "outputs": [
    {
     "data": {
      "text/html": [
       "<div>\n",
       "<style scoped>\n",
       "    .dataframe tbody tr th:only-of-type {\n",
       "        vertical-align: middle;\n",
       "    }\n",
       "\n",
       "    .dataframe tbody tr th {\n",
       "        vertical-align: top;\n",
       "    }\n",
       "\n",
       "    .dataframe thead th {\n",
       "        text-align: right;\n",
       "    }\n",
       "</style>\n",
       "<table border=\"1\" class=\"dataframe\">\n",
       "  <thead>\n",
       "    <tr style=\"text-align: right;\">\n",
       "      <th></th>\n",
       "      <th></th>\n",
       "      <th></th>\n",
       "      <th></th>\n",
       "      <th>Total Number of Households</th>\n",
       "      <th>Average BER HW Demand [MWh/year]</th>\n",
       "      <th>Average BER SH Demand [MWh/year]</th>\n",
       "      <th>Number of Samples</th>\n",
       "      <th>Postcode-specific data?</th>\n",
       "    </tr>\n",
       "    <tr>\n",
       "      <th>Postcodes</th>\n",
       "      <th>Small Area</th>\n",
       "      <th>Dwelling Type</th>\n",
       "      <th>Period Built</th>\n",
       "      <th></th>\n",
       "      <th></th>\n",
       "      <th></th>\n",
       "      <th></th>\n",
       "      <th></th>\n",
       "    </tr>\n",
       "  </thead>\n",
       "  <tbody>\n",
       "    <tr>\n",
       "      <th rowspan=\"5\" valign=\"top\">Co. Dublin</th>\n",
       "      <th rowspan=\"5\" valign=\"top\">267001001</th>\n",
       "      <th rowspan=\"5\" valign=\"top\">Apartments*</th>\n",
       "      <th>1919 - 1945*</th>\n",
       "      <td>0.0</td>\n",
       "      <td>2545.361134</td>\n",
       "      <td>8855.781099</td>\n",
       "      <td>121.0</td>\n",
       "      <td>True</td>\n",
       "    </tr>\n",
       "    <tr>\n",
       "      <th>1946 - 1960*</th>\n",
       "      <td>0.0</td>\n",
       "      <td>2708.292672</td>\n",
       "      <td>9099.201527</td>\n",
       "      <td>202.0</td>\n",
       "      <td>True</td>\n",
       "    </tr>\n",
       "    <tr>\n",
       "      <th>1961 - 1970*</th>\n",
       "      <td>0.0</td>\n",
       "      <td>2720.363263</td>\n",
       "      <td>7433.698571</td>\n",
       "      <td>172.0</td>\n",
       "      <td>True</td>\n",
       "    </tr>\n",
       "    <tr>\n",
       "      <th>1971 - 1980*</th>\n",
       "      <td>0.0</td>\n",
       "      <td>2843.005075</td>\n",
       "      <td>7083.608893</td>\n",
       "      <td>497.0</td>\n",
       "      <td>True</td>\n",
       "    </tr>\n",
       "    <tr>\n",
       "      <th>1981 - 1990*</th>\n",
       "      <td>0.0</td>\n",
       "      <td>2577.592310</td>\n",
       "      <td>4378.167261</td>\n",
       "      <td>707.0</td>\n",
       "      <td>True</td>\n",
       "    </tr>\n",
       "    <tr>\n",
       "      <th>...</th>\n",
       "      <th>...</th>\n",
       "      <th>...</th>\n",
       "      <th>...</th>\n",
       "      <td>...</td>\n",
       "      <td>...</td>\n",
       "      <td>...</td>\n",
       "      <td>...</td>\n",
       "      <td>...</td>\n",
       "    </tr>\n",
       "    <tr>\n",
       "      <th rowspan=\"5\" valign=\"top\">Dublin 9</th>\n",
       "      <th rowspan=\"5\" valign=\"top\">NaN</th>\n",
       "      <th rowspan=\"5\" valign=\"top\">Terraced House*</th>\n",
       "      <th>1981 - 1990*</th>\n",
       "      <td>NaN</td>\n",
       "      <td>2926.774157</td>\n",
       "      <td>5280.489537</td>\n",
       "      <td>157.0</td>\n",
       "      <td>True</td>\n",
       "    </tr>\n",
       "    <tr>\n",
       "      <th>1991 - 2000*</th>\n",
       "      <td>NaN</td>\n",
       "      <td>3248.309318</td>\n",
       "      <td>5473.667892</td>\n",
       "      <td>77.0</td>\n",
       "      <td>False</td>\n",
       "    </tr>\n",
       "    <tr>\n",
       "      <th>2001 - 2005*</th>\n",
       "      <td>NaN</td>\n",
       "      <td>3106.685998</td>\n",
       "      <td>4829.004278</td>\n",
       "      <td>61.0</td>\n",
       "      <td>False</td>\n",
       "    </tr>\n",
       "    <tr>\n",
       "      <th>2006 or later*</th>\n",
       "      <td>NaN</td>\n",
       "      <td>1830.105770</td>\n",
       "      <td>1694.629957</td>\n",
       "      <td>158.0</td>\n",
       "      <td>True</td>\n",
       "    </tr>\n",
       "    <tr>\n",
       "      <th>before 1919*</th>\n",
       "      <td>NaN</td>\n",
       "      <td>3232.334417</td>\n",
       "      <td>14836.029318</td>\n",
       "      <td>433.0</td>\n",
       "      <td>True</td>\n",
       "    </tr>\n",
       "  </tbody>\n",
       "</table>\n",
       "<p>173088 rows × 5 columns</p>\n",
       "</div>"
      ],
      "text/plain": [
       "                                                      Total Number of Households  \\\n",
       "Postcodes  Small Area Dwelling Type   Period Built                                 \n",
       "Co. Dublin 267001001  Apartments*     1919 - 1945*                           0.0   \n",
       "                                      1946 - 1960*                           0.0   \n",
       "                                      1961 - 1970*                           0.0   \n",
       "                                      1971 - 1980*                           0.0   \n",
       "                                      1981 - 1990*                           0.0   \n",
       "...                                                                          ...   \n",
       "Dublin 9   NaN        Terraced House* 1981 - 1990*                           NaN   \n",
       "                                      1991 - 2000*                           NaN   \n",
       "                                      2001 - 2005*                           NaN   \n",
       "                                      2006 or later*                         NaN   \n",
       "                                      before 1919*                           NaN   \n",
       "\n",
       "                                                      Average BER HW Demand [MWh/year]  \\\n",
       "Postcodes  Small Area Dwelling Type   Period Built                                       \n",
       "Co. Dublin 267001001  Apartments*     1919 - 1945*                         2545.361134   \n",
       "                                      1946 - 1960*                         2708.292672   \n",
       "                                      1961 - 1970*                         2720.363263   \n",
       "                                      1971 - 1980*                         2843.005075   \n",
       "                                      1981 - 1990*                         2577.592310   \n",
       "...                                                                                ...   \n",
       "Dublin 9   NaN        Terraced House* 1981 - 1990*                         2926.774157   \n",
       "                                      1991 - 2000*                         3248.309318   \n",
       "                                      2001 - 2005*                         3106.685998   \n",
       "                                      2006 or later*                       1830.105770   \n",
       "                                      before 1919*                         3232.334417   \n",
       "\n",
       "                                                      Average BER SH Demand [MWh/year]  \\\n",
       "Postcodes  Small Area Dwelling Type   Period Built                                       \n",
       "Co. Dublin 267001001  Apartments*     1919 - 1945*                         8855.781099   \n",
       "                                      1946 - 1960*                         9099.201527   \n",
       "                                      1961 - 1970*                         7433.698571   \n",
       "                                      1971 - 1980*                         7083.608893   \n",
       "                                      1981 - 1990*                         4378.167261   \n",
       "...                                                                                ...   \n",
       "Dublin 9   NaN        Terraced House* 1981 - 1990*                         5280.489537   \n",
       "                                      1991 - 2000*                         5473.667892   \n",
       "                                      2001 - 2005*                         4829.004278   \n",
       "                                      2006 or later*                       1694.629957   \n",
       "                                      before 1919*                        14836.029318   \n",
       "\n",
       "                                                      Number of Samples  \\\n",
       "Postcodes  Small Area Dwelling Type   Period Built                        \n",
       "Co. Dublin 267001001  Apartments*     1919 - 1945*                121.0   \n",
       "                                      1946 - 1960*                202.0   \n",
       "                                      1961 - 1970*                172.0   \n",
       "                                      1971 - 1980*                497.0   \n",
       "                                      1981 - 1990*                707.0   \n",
       "...                                                                 ...   \n",
       "Dublin 9   NaN        Terraced House* 1981 - 1990*                157.0   \n",
       "                                      1991 - 2000*                 77.0   \n",
       "                                      2001 - 2005*                 61.0   \n",
       "                                      2006 or later*              158.0   \n",
       "                                      before 1919*                433.0   \n",
       "\n",
       "                                                      Postcode-specific data?  \n",
       "Postcodes  Small Area Dwelling Type   Period Built                             \n",
       "Co. Dublin 267001001  Apartments*     1919 - 1945*                       True  \n",
       "                                      1946 - 1960*                       True  \n",
       "                                      1961 - 1970*                       True  \n",
       "                                      1971 - 1980*                       True  \n",
       "                                      1981 - 1990*                       True  \n",
       "...                                                                       ...  \n",
       "Dublin 9   NaN        Terraced House* 1981 - 1990*                       True  \n",
       "                                      1991 - 2000*                      False  \n",
       "                                      2001 - 2005*                      False  \n",
       "                                      2006 or later*                     True  \n",
       "                                      before 1919*                       True  \n",
       "\n",
       "[173088 rows x 5 columns]"
      ]
     },
     "execution_count": 20,
     "metadata": {},
     "output_type": "execute_result"
    }
   ],
   "source": [
    "Census_2011_with_energy_outer = (\n",
    "    Census_2011_Linked.reset_index()\n",
    "    .merge(\n",
    "        Dublin_BER_archetypes.reset_index(),\n",
    "        on=[\"Postcodes\", \"Dwelling Type\", \"Period Built\"],\n",
    "#         how=\"left\"\n",
    "        how = \"outer\"\n",
    "#         how=\"right\"\n",
    "    )\n",
    "    .set_index(Census_2011_Linked.index.names)\n",
    "    .sort_index()\n",
    ")\n",
    "\n",
    "Census_2011_with_energy_outer"
   ]
  },
  {
   "cell_type": "code",
   "execution_count": 21,
   "metadata": {
    "ExecuteTime": {
     "end_time": "2020-01-30T12:21:03.497034Z",
     "start_time": "2020-01-30T12:21:03.468032Z"
    },
    "hidden": true
   },
   "outputs": [
    {
     "data": {
      "text/html": [
       "<div>\n",
       "<style scoped>\n",
       "    .dataframe tbody tr th:only-of-type {\n",
       "        vertical-align: middle;\n",
       "    }\n",
       "\n",
       "    .dataframe tbody tr th {\n",
       "        vertical-align: top;\n",
       "    }\n",
       "\n",
       "    .dataframe thead th {\n",
       "        text-align: right;\n",
       "    }\n",
       "</style>\n",
       "<table border=\"1\" class=\"dataframe\">\n",
       "  <thead>\n",
       "    <tr style=\"text-align: right;\">\n",
       "      <th></th>\n",
       "      <th></th>\n",
       "      <th></th>\n",
       "      <th></th>\n",
       "      <th>Total Number of Households</th>\n",
       "      <th>Average BER HW Demand [MWh/year]</th>\n",
       "      <th>Average BER SH Demand [MWh/year]</th>\n",
       "      <th>Number of Samples</th>\n",
       "      <th>Postcode-specific data?</th>\n",
       "    </tr>\n",
       "    <tr>\n",
       "      <th>Postcodes</th>\n",
       "      <th>Small Area</th>\n",
       "      <th>Dwelling Type</th>\n",
       "      <th>Period Built</th>\n",
       "      <th></th>\n",
       "      <th></th>\n",
       "      <th></th>\n",
       "      <th></th>\n",
       "      <th></th>\n",
       "    </tr>\n",
       "  </thead>\n",
       "  <tbody>\n",
       "    <tr>\n",
       "      <th rowspan=\"5\" valign=\"top\">Dublin 8</th>\n",
       "      <th rowspan=\"5\" valign=\"top\">NaN</th>\n",
       "      <th rowspan=\"5\" valign=\"top\">Apartments*</th>\n",
       "      <th>1919 - 1945*</th>\n",
       "      <td>NaN</td>\n",
       "      <td>2204.901371</td>\n",
       "      <td>4323.623052</td>\n",
       "      <td>609.0</td>\n",
       "      <td>True</td>\n",
       "    </tr>\n",
       "    <tr>\n",
       "      <th>1946 - 1960*</th>\n",
       "      <td>NaN</td>\n",
       "      <td>2066.939079</td>\n",
       "      <td>4681.863451</td>\n",
       "      <td>202.0</td>\n",
       "      <td>True</td>\n",
       "    </tr>\n",
       "    <tr>\n",
       "      <th>1961 - 1970*</th>\n",
       "      <td>NaN</td>\n",
       "      <td>2455.138977</td>\n",
       "      <td>5193.707519</td>\n",
       "      <td>254.0</td>\n",
       "      <td>True</td>\n",
       "    </tr>\n",
       "    <tr>\n",
       "      <th>1971 - 1980*</th>\n",
       "      <td>NaN</td>\n",
       "      <td>2470.375986</td>\n",
       "      <td>4679.986693</td>\n",
       "      <td>70.0</td>\n",
       "      <td>False</td>\n",
       "    </tr>\n",
       "    <tr>\n",
       "      <th>1981 - 1990*</th>\n",
       "      <td>NaN</td>\n",
       "      <td>2126.673598</td>\n",
       "      <td>3041.415895</td>\n",
       "      <td>261.0</td>\n",
       "      <td>True</td>\n",
       "    </tr>\n",
       "    <tr>\n",
       "      <th>...</th>\n",
       "      <th>...</th>\n",
       "      <th>...</th>\n",
       "      <th>...</th>\n",
       "      <td>...</td>\n",
       "      <td>...</td>\n",
       "      <td>...</td>\n",
       "      <td>...</td>\n",
       "      <td>...</td>\n",
       "    </tr>\n",
       "    <tr>\n",
       "      <th rowspan=\"5\" valign=\"top\">Dublin 9</th>\n",
       "      <th rowspan=\"5\" valign=\"top\">NaN</th>\n",
       "      <th rowspan=\"5\" valign=\"top\">Terraced House*</th>\n",
       "      <th>1981 - 1990*</th>\n",
       "      <td>NaN</td>\n",
       "      <td>2926.774157</td>\n",
       "      <td>5280.489537</td>\n",
       "      <td>157.0</td>\n",
       "      <td>True</td>\n",
       "    </tr>\n",
       "    <tr>\n",
       "      <th>1991 - 2000*</th>\n",
       "      <td>NaN</td>\n",
       "      <td>3248.309318</td>\n",
       "      <td>5473.667892</td>\n",
       "      <td>77.0</td>\n",
       "      <td>False</td>\n",
       "    </tr>\n",
       "    <tr>\n",
       "      <th>2001 - 2005*</th>\n",
       "      <td>NaN</td>\n",
       "      <td>3106.685998</td>\n",
       "      <td>4829.004278</td>\n",
       "      <td>61.0</td>\n",
       "      <td>False</td>\n",
       "    </tr>\n",
       "    <tr>\n",
       "      <th>2006 or later*</th>\n",
       "      <td>NaN</td>\n",
       "      <td>1830.105770</td>\n",
       "      <td>1694.629957</td>\n",
       "      <td>158.0</td>\n",
       "      <td>True</td>\n",
       "    </tr>\n",
       "    <tr>\n",
       "      <th>before 1919*</th>\n",
       "      <td>NaN</td>\n",
       "      <td>3232.334417</td>\n",
       "      <td>14836.029318</td>\n",
       "      <td>433.0</td>\n",
       "      <td>True</td>\n",
       "    </tr>\n",
       "  </tbody>\n",
       "</table>\n",
       "<p>72 rows × 5 columns</p>\n",
       "</div>"
      ],
      "text/plain": [
       "                                                     Total Number of Households  \\\n",
       "Postcodes Small Area Dwelling Type   Period Built                                 \n",
       "Dublin 8  NaN        Apartments*     1919 - 1945*                           NaN   \n",
       "                                     1946 - 1960*                           NaN   \n",
       "                                     1961 - 1970*                           NaN   \n",
       "                                     1971 - 1980*                           NaN   \n",
       "                                     1981 - 1990*                           NaN   \n",
       "...                                                                         ...   \n",
       "Dublin 9  NaN        Terraced House* 1981 - 1990*                           NaN   \n",
       "                                     1991 - 2000*                           NaN   \n",
       "                                     2001 - 2005*                           NaN   \n",
       "                                     2006 or later*                         NaN   \n",
       "                                     before 1919*                           NaN   \n",
       "\n",
       "                                                     Average BER HW Demand [MWh/year]  \\\n",
       "Postcodes Small Area Dwelling Type   Period Built                                       \n",
       "Dublin 8  NaN        Apartments*     1919 - 1945*                         2204.901371   \n",
       "                                     1946 - 1960*                         2066.939079   \n",
       "                                     1961 - 1970*                         2455.138977   \n",
       "                                     1971 - 1980*                         2470.375986   \n",
       "                                     1981 - 1990*                         2126.673598   \n",
       "...                                                                               ...   \n",
       "Dublin 9  NaN        Terraced House* 1981 - 1990*                         2926.774157   \n",
       "                                     1991 - 2000*                         3248.309318   \n",
       "                                     2001 - 2005*                         3106.685998   \n",
       "                                     2006 or later*                       1830.105770   \n",
       "                                     before 1919*                         3232.334417   \n",
       "\n",
       "                                                     Average BER SH Demand [MWh/year]  \\\n",
       "Postcodes Small Area Dwelling Type   Period Built                                       \n",
       "Dublin 8  NaN        Apartments*     1919 - 1945*                         4323.623052   \n",
       "                                     1946 - 1960*                         4681.863451   \n",
       "                                     1961 - 1970*                         5193.707519   \n",
       "                                     1971 - 1980*                         4679.986693   \n",
       "                                     1981 - 1990*                         3041.415895   \n",
       "...                                                                               ...   \n",
       "Dublin 9  NaN        Terraced House* 1981 - 1990*                         5280.489537   \n",
       "                                     1991 - 2000*                         5473.667892   \n",
       "                                     2001 - 2005*                         4829.004278   \n",
       "                                     2006 or later*                       1694.629957   \n",
       "                                     before 1919*                        14836.029318   \n",
       "\n",
       "                                                     Number of Samples  \\\n",
       "Postcodes Small Area Dwelling Type   Period Built                        \n",
       "Dublin 8  NaN        Apartments*     1919 - 1945*                609.0   \n",
       "                                     1946 - 1960*                202.0   \n",
       "                                     1961 - 1970*                254.0   \n",
       "                                     1971 - 1980*                 70.0   \n",
       "                                     1981 - 1990*                261.0   \n",
       "...                                                                ...   \n",
       "Dublin 9  NaN        Terraced House* 1981 - 1990*                157.0   \n",
       "                                     1991 - 2000*                 77.0   \n",
       "                                     2001 - 2005*                 61.0   \n",
       "                                     2006 or later*              158.0   \n",
       "                                     before 1919*                433.0   \n",
       "\n",
       "                                                     Postcode-specific data?  \n",
       "Postcodes Small Area Dwelling Type   Period Built                             \n",
       "Dublin 8  NaN        Apartments*     1919 - 1945*                       True  \n",
       "                                     1946 - 1960*                       True  \n",
       "                                     1961 - 1970*                       True  \n",
       "                                     1971 - 1980*                      False  \n",
       "                                     1981 - 1990*                       True  \n",
       "...                                                                      ...  \n",
       "Dublin 9  NaN        Terraced House* 1981 - 1990*                       True  \n",
       "                                     1991 - 2000*                      False  \n",
       "                                     2001 - 2005*                      False  \n",
       "                                     2006 or later*                     True  \n",
       "                                     before 1919*                       True  \n",
       "\n",
       "[72 rows x 5 columns]"
      ]
     },
     "execution_count": 21,
     "metadata": {},
     "output_type": "execute_result"
    }
   ],
   "source": [
    "mask = Census_2011_with_energy_outer[\"Total Number of Households\"].isna()\n",
    "Census_2011_with_energy_outer[mask]"
   ]
  },
  {
   "cell_type": "code",
   "execution_count": 22,
   "metadata": {
    "ExecuteTime": {
     "end_time": "2020-01-30T12:21:03.529064Z",
     "start_time": "2020-01-30T12:21:03.500032Z"
    },
    "hidden": true,
    "scrolled": true
   },
   "outputs": [
    {
     "data": {
      "text/plain": [
       "MultiIndex([('Dublin 8', nan,          'Apartments*',   '1919 - 1945*'),\n",
       "            ('Dublin 8', nan,          'Apartments*',   '1946 - 1960*'),\n",
       "            ('Dublin 8', nan,          'Apartments*',   '1961 - 1970*'),\n",
       "            ('Dublin 8', nan,          'Apartments*',   '1971 - 1980*'),\n",
       "            ('Dublin 8', nan,          'Apartments*',   '1981 - 1990*'),\n",
       "            ('Dublin 8', nan,          'Apartments*',   '1991 - 2000*'),\n",
       "            ('Dublin 8', nan,          'Apartments*',   '2001 - 2005*'),\n",
       "            ('Dublin 8', nan,          'Apartments*', '2006 or later*'),\n",
       "            ('Dublin 8', nan,          'Apartments*',   'before 1919*'),\n",
       "            ('Dublin 8', nan,      'Detached House*',   '1919 - 1945*'),\n",
       "            ('Dublin 8', nan,      'Detached House*',   '1946 - 1960*'),\n",
       "            ('Dublin 8', nan,      'Detached House*',   '1961 - 1970*'),\n",
       "            ('Dublin 8', nan,      'Detached House*',   '1971 - 1980*'),\n",
       "            ('Dublin 8', nan,      'Detached House*',   '1981 - 1990*'),\n",
       "            ('Dublin 8', nan,      'Detached House*',   '1991 - 2000*'),\n",
       "            ('Dublin 8', nan,      'Detached House*',   '2001 - 2005*'),\n",
       "            ('Dublin 8', nan,      'Detached House*', '2006 or later*'),\n",
       "            ('Dublin 8', nan,      'Detached House*',   'before 1919*'),\n",
       "            ('Dublin 8', nan, 'Semi-detached House*',   '1919 - 1945*'),\n",
       "            ('Dublin 8', nan, 'Semi-detached House*',   '1946 - 1960*'),\n",
       "            ('Dublin 8', nan, 'Semi-detached House*',   '1961 - 1970*'),\n",
       "            ('Dublin 8', nan, 'Semi-detached House*',   '1971 - 1980*'),\n",
       "            ('Dublin 8', nan, 'Semi-detached House*',   '1981 - 1990*'),\n",
       "            ('Dublin 8', nan, 'Semi-detached House*',   '1991 - 2000*'),\n",
       "            ('Dublin 8', nan, 'Semi-detached House*',   '2001 - 2005*'),\n",
       "            ('Dublin 8', nan, 'Semi-detached House*', '2006 or later*'),\n",
       "            ('Dublin 8', nan, 'Semi-detached House*',   'before 1919*'),\n",
       "            ('Dublin 8', nan,      'Terraced House*',   '1919 - 1945*'),\n",
       "            ('Dublin 8', nan,      'Terraced House*',   '1946 - 1960*'),\n",
       "            ('Dublin 8', nan,      'Terraced House*',   '1961 - 1970*'),\n",
       "            ('Dublin 8', nan,      'Terraced House*',   '1971 - 1980*'),\n",
       "            ('Dublin 8', nan,      'Terraced House*',   '1981 - 1990*'),\n",
       "            ('Dublin 8', nan,      'Terraced House*',   '1991 - 2000*'),\n",
       "            ('Dublin 8', nan,      'Terraced House*',   '2001 - 2005*'),\n",
       "            ('Dublin 8', nan,      'Terraced House*', '2006 or later*'),\n",
       "            ('Dublin 8', nan,      'Terraced House*',   'before 1919*'),\n",
       "            ('Dublin 9', nan,          'Apartments*',   '1919 - 1945*'),\n",
       "            ('Dublin 9', nan,          'Apartments*',   '1946 - 1960*'),\n",
       "            ('Dublin 9', nan,          'Apartments*',   '1961 - 1970*'),\n",
       "            ('Dublin 9', nan,          'Apartments*',   '1971 - 1980*'),\n",
       "            ('Dublin 9', nan,          'Apartments*',   '1981 - 1990*'),\n",
       "            ('Dublin 9', nan,          'Apartments*',   '1991 - 2000*'),\n",
       "            ('Dublin 9', nan,          'Apartments*',   '2001 - 2005*'),\n",
       "            ('Dublin 9', nan,          'Apartments*', '2006 or later*'),\n",
       "            ('Dublin 9', nan,          'Apartments*',   'before 1919*'),\n",
       "            ('Dublin 9', nan,      'Detached House*',   '1919 - 1945*'),\n",
       "            ('Dublin 9', nan,      'Detached House*',   '1946 - 1960*'),\n",
       "            ('Dublin 9', nan,      'Detached House*',   '1961 - 1970*'),\n",
       "            ('Dublin 9', nan,      'Detached House*',   '1971 - 1980*'),\n",
       "            ('Dublin 9', nan,      'Detached House*',   '1981 - 1990*'),\n",
       "            ('Dublin 9', nan,      'Detached House*',   '1991 - 2000*'),\n",
       "            ('Dublin 9', nan,      'Detached House*',   '2001 - 2005*'),\n",
       "            ('Dublin 9', nan,      'Detached House*', '2006 or later*'),\n",
       "            ('Dublin 9', nan,      'Detached House*',   'before 1919*'),\n",
       "            ('Dublin 9', nan, 'Semi-detached House*',   '1919 - 1945*'),\n",
       "            ('Dublin 9', nan, 'Semi-detached House*',   '1946 - 1960*'),\n",
       "            ('Dublin 9', nan, 'Semi-detached House*',   '1961 - 1970*'),\n",
       "            ('Dublin 9', nan, 'Semi-detached House*',   '1971 - 1980*'),\n",
       "            ('Dublin 9', nan, 'Semi-detached House*',   '1981 - 1990*'),\n",
       "            ('Dublin 9', nan, 'Semi-detached House*',   '1991 - 2000*'),\n",
       "            ('Dublin 9', nan, 'Semi-detached House*',   '2001 - 2005*'),\n",
       "            ('Dublin 9', nan, 'Semi-detached House*', '2006 or later*'),\n",
       "            ('Dublin 9', nan, 'Semi-detached House*',   'before 1919*'),\n",
       "            ('Dublin 9', nan,      'Terraced House*',   '1919 - 1945*'),\n",
       "            ('Dublin 9', nan,      'Terraced House*',   '1946 - 1960*'),\n",
       "            ('Dublin 9', nan,      'Terraced House*',   '1961 - 1970*'),\n",
       "            ('Dublin 9', nan,      'Terraced House*',   '1971 - 1980*'),\n",
       "            ('Dublin 9', nan,      'Terraced House*',   '1981 - 1990*'),\n",
       "            ('Dublin 9', nan,      'Terraced House*',   '1991 - 2000*'),\n",
       "            ('Dublin 9', nan,      'Terraced House*',   '2001 - 2005*'),\n",
       "            ('Dublin 9', nan,      'Terraced House*', '2006 or later*'),\n",
       "            ('Dublin 9', nan,      'Terraced House*',   'before 1919*')],\n",
       "           names=['Postcodes', 'Small Area', 'Dwelling Type', 'Period Built'])"
      ]
     },
     "execution_count": 22,
     "metadata": {},
     "output_type": "execute_result"
    }
   ],
   "source": [
    "Census_2011_with_energy_outer.index[mask].unique()"
   ]
  },
  {
   "cell_type": "code",
   "execution_count": 23,
   "metadata": {
    "ExecuteTime": {
     "end_time": "2020-01-30T12:21:03.553031Z",
     "start_time": "2020-01-30T12:21:03.536035Z"
    },
    "hidden": true
   },
   "outputs": [
    {
     "data": {
      "text/html": [
       "<div>\n",
       "<style scoped>\n",
       "    .dataframe tbody tr th:only-of-type {\n",
       "        vertical-align: middle;\n",
       "    }\n",
       "\n",
       "    .dataframe tbody tr th {\n",
       "        vertical-align: top;\n",
       "    }\n",
       "\n",
       "    .dataframe thead th {\n",
       "        text-align: right;\n",
       "    }\n",
       "</style>\n",
       "<table border=\"1\" class=\"dataframe\">\n",
       "  <thead>\n",
       "    <tr style=\"text-align: right;\">\n",
       "      <th></th>\n",
       "      <th></th>\n",
       "      <th></th>\n",
       "      <th></th>\n",
       "      <th>Total Number of Households</th>\n",
       "      <th>Average BER HW Demand [MWh/year]</th>\n",
       "      <th>Average BER SH Demand [MWh/year]</th>\n",
       "      <th>Number of Samples</th>\n",
       "      <th>Postcode-specific data?</th>\n",
       "    </tr>\n",
       "    <tr>\n",
       "      <th>Postcodes</th>\n",
       "      <th>Small Area</th>\n",
       "      <th>Dwelling Type</th>\n",
       "      <th>Period Built</th>\n",
       "      <th></th>\n",
       "      <th></th>\n",
       "      <th></th>\n",
       "      <th></th>\n",
       "      <th></th>\n",
       "    </tr>\n",
       "  </thead>\n",
       "  <tbody>\n",
       "  </tbody>\n",
       "</table>\n",
       "</div>"
      ],
      "text/plain": [
       "Empty DataFrame\n",
       "Columns: [Total Number of Households, Average BER HW Demand [MWh/year], Average BER SH Demand [MWh/year], Number of Samples, Postcode-specific data?]\n",
       "Index: []"
      ]
     },
     "execution_count": 23,
     "metadata": {},
     "output_type": "execute_result"
    }
   ],
   "source": [
    "mask = Census_2011_with_energy_outer[\"Average BER HW Demand [MWh/year]\"].isna()\n",
    "Census_2011_with_energy_outer[mask]"
   ]
  },
  {
   "cell_type": "markdown",
   "metadata": {},
   "source": [
    "# %Store"
   ]
  },
  {
   "cell_type": "code",
   "execution_count": 24,
   "metadata": {
    "ExecuteTime": {
     "end_time": "2020-01-30T12:21:03.622032Z",
     "start_time": "2020-01-30T12:21:03.561035Z"
    }
   },
   "outputs": [
    {
     "name": "stdout",
     "output_type": "stream",
     "text": [
      "Stored 'Census_2011_with_energy' (DataFrame)\n"
     ]
    }
   ],
   "source": [
    "Census_2011_with_energy = Census_2011_with_energy_inner\n",
    "\n",
    "%store Census_2011_with_energy"
   ]
  }
 ],
 "metadata": {
  "hide_input": false,
  "kernelspec": {
   "display_name": "Python 3",
   "language": "python",
   "name": "python3"
  },
  "language_info": {
   "codemirror_mode": {
    "name": "ipython",
    "version": 3
   },
   "file_extension": ".py",
   "mimetype": "text/x-python",
   "name": "python",
   "nbconvert_exporter": "python",
   "pygments_lexer": "ipython3",
   "version": "3.8.1"
  },
  "toc": {
   "base_numbering": 1,
   "nav_menu": {},
   "number_sections": true,
   "sideBar": true,
   "skip_h1_title": false,
   "title_cell": "Table of Contents",
   "title_sidebar": "Contents",
   "toc_cell": false,
   "toc_position": {},
   "toc_section_display": true,
   "toc_window_display": false
  },
  "varInspector": {
   "cols": {
    "lenName": 16,
    "lenType": 16,
    "lenVar": 40
   },
   "kernels_config": {
    "python": {
     "delete_cmd_postfix": "",
     "delete_cmd_prefix": "del ",
     "library": "var_list.py",
     "varRefreshCmd": "print(var_dic_list())"
    },
    "r": {
     "delete_cmd_postfix": ") ",
     "delete_cmd_prefix": "rm(",
     "library": "var_list.r",
     "varRefreshCmd": "cat(var_dic_list()) "
    }
   },
   "types_to_exclude": [
    "module",
    "function",
    "builtin_function_or_method",
    "instance",
    "_Feature"
   ],
   "window_display": false
  }
 },
 "nbformat": 4,
 "nbformat_minor": 2
}
