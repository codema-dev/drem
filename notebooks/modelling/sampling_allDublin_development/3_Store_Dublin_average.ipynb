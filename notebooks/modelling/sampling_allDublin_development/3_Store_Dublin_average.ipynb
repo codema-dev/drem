{
 "cells": [
  {
   "cell_type": "code",
   "execution_count": 1,
   "metadata": {
    "ExecuteTime": {
     "end_time": "2020-02-03T15:24:41.024306Z",
     "start_time": "2020-02-03T15:24:40.415519Z"
    }
   },
   "outputs": [],
   "source": [
    "%store -r BER_Dublin_average"
   ]
  },
  {
   "cell_type": "code",
   "execution_count": 2,
   "metadata": {
    "ExecuteTime": {
     "end_time": "2020-02-03T15:24:41.035287Z",
     "start_time": "2020-02-03T15:24:41.025286Z"
    }
   },
   "outputs": [],
   "source": [
    "## import custom functions\n",
    "\n",
    "from pathlib import Path\n",
    "import sys\n",
    "\n",
    "# Create path to custom functions\n",
    "funcs_path = Path.cwd().parents[1]\n",
    "sys.path.insert(1, str(funcs_path))\n",
    "\n",
    "from funcs import paths"
   ]
  },
  {
   "cell_type": "code",
   "execution_count": 3,
   "metadata": {
    "ExecuteTime": {
     "end_time": "2020-02-03T15:24:41.058290Z",
     "start_time": "2020-02-03T15:24:41.037289Z"
    }
   },
   "outputs": [
    {
     "data": {
      "text/plain": [
       "'C:\\\\Users\\\\RowanM\\\\Documents\\\\dublin_energy_masterplan\\\\Residential\\\\data\\\\models'"
      ]
     },
     "execution_count": 3,
     "metadata": {},
     "output_type": "execute_result"
    }
   ],
   "source": [
    "path_to_models_folder = paths.get_path_to_folder(\"models\")\n",
    "\n",
    "path_to_models_folder"
   ]
  },
  {
   "cell_type": "code",
   "execution_count": 4,
   "metadata": {
    "ExecuteTime": {
     "end_time": "2020-02-03T15:24:41.091287Z",
     "start_time": "2020-02-03T15:24:41.061291Z"
    }
   },
   "outputs": [],
   "source": [
    "BER_Dublin_average.to_pickle(\n",
    "    path_to_models_folder + \"/sample_allDublin.pkl\", compression=\"xz\"\n",
    ")"
   ]
  },
  {
   "cell_type": "code",
   "execution_count": 5,
   "metadata": {
    "ExecuteTime": {
     "end_time": "2020-02-03T15:24:41.107289Z",
     "start_time": "2020-02-03T15:24:41.095321Z"
    }
   },
   "outputs": [],
   "source": [
    "%store -d BER_Dublin_average"
   ]
  }
 ],
 "metadata": {
  "hide_input": false,
  "kernelspec": {
   "display_name": "Python 3",
   "language": "python",
   "name": "python3"
  },
  "language_info": {
   "codemirror_mode": {
    "name": "ipython",
    "version": 3
   },
   "file_extension": ".py",
   "mimetype": "text/x-python",
   "name": "python",
   "nbconvert_exporter": "python",
   "pygments_lexer": "ipython3",
   "version": "3.8.1"
  },
  "toc": {
   "base_numbering": 1,
   "nav_menu": {},
   "number_sections": true,
   "sideBar": true,
   "skip_h1_title": false,
   "title_cell": "Table of Contents",
   "title_sidebar": "Contents",
   "toc_cell": false,
   "toc_position": {},
   "toc_section_display": true,
   "toc_window_display": false
  },
  "varInspector": {
   "cols": {
    "lenName": 16,
    "lenType": 16,
    "lenVar": 40
   },
   "kernels_config": {
    "python": {
     "delete_cmd_postfix": "",
     "delete_cmd_prefix": "del ",
     "library": "var_list.py",
     "varRefreshCmd": "print(var_dic_list())"
    },
    "r": {
     "delete_cmd_postfix": ") ",
     "delete_cmd_prefix": "rm(",
     "library": "var_list.r",
     "varRefreshCmd": "cat(var_dic_list()) "
    }
   },
   "types_to_exclude": [
    "module",
    "function",
    "builtin_function_or_method",
    "instance",
    "_Feature"
   ],
   "window_display": false
  }
 },
 "nbformat": 4,
 "nbformat_minor": 4
}
