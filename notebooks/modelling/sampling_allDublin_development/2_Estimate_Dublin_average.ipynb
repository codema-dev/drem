{
 "cells": [
  {
   "cell_type": "code",
   "execution_count": 1,
   "metadata": {
    "ExecuteTime": {
     "end_time": "2020-02-03T15:24:29.701404Z",
     "start_time": "2020-02-03T15:24:29.088869Z"
    }
   },
   "outputs": [],
   "source": [
    "import pandas as pd\n",
    "import numpy as np"
   ]
  },
  {
   "cell_type": "code",
   "execution_count": 2,
   "metadata": {
    "ExecuteTime": {
     "end_time": "2020-02-03T15:24:29.831322Z",
     "start_time": "2020-02-03T15:24:29.703290Z"
    }
   },
   "outputs": [],
   "source": [
    "%store -r Dublin_BER_data"
   ]
  },
  {
   "cell_type": "markdown",
   "metadata": {},
   "source": [
    "Take a random sample of size 1000 from Dublin database and use sample statistics to estimate population parameters"
   ]
  },
  {
   "cell_type": "code",
   "execution_count": 3,
   "metadata": {
    "ExecuteTime": {
     "end_time": "2020-02-03T15:24:29.867287Z",
     "start_time": "2020-02-03T15:24:29.833286Z"
    }
   },
   "outputs": [
    {
     "data": {
      "text/plain": [
       "HW_mean    3031.859345\n",
       "HW_sem       31.264932\n",
       "SH_mean    7791.086647\n",
       "SH_sem      206.260510\n",
       "dtype: float64"
      ]
     },
     "execution_count": 3,
     "metadata": {},
     "output_type": "execute_result"
    }
   ],
   "source": [
    "BER_Dublin_sample = Dublin_BER_data.sample(n=1000, random_state=1)\n",
    "\n",
    "sample_statistics = pd.Series(dtype=np.float32)\n",
    "\n",
    "sample_statistics[\"HW_mean\"] = BER_Dublin_sample[\"DeliveredEnergyMainWater (ind)\"].mean()\n",
    "sample_statistics[\"HW_sem\"] = BER_Dublin_sample[\"DeliveredEnergyMainWater (ind)\"].sem() # = Standard Error of Mean\n",
    "sample_statistics[\"SH_mean\"] = BER_Dublin_sample[\"DeliveredEnergyMainSpace (ind)\"].mean()\n",
    "sample_statistics[\"SH_sem\"] = BER_Dublin_sample[\"DeliveredEnergyMainSpace (ind)\"].sem() # = Standard Error of Mean\n",
    "\n",
    "sample_statistics"
   ]
  },
  {
   "cell_type": "code",
   "execution_count": 4,
   "metadata": {
    "ExecuteTime": {
     "end_time": "2020-02-03T15:24:29.875292Z",
     "start_time": "2020-02-03T15:24:29.869289Z"
    }
   },
   "outputs": [],
   "source": [
    "BER_Dublin_average = sample_statistics"
   ]
  },
  {
   "cell_type": "code",
   "execution_count": 5,
   "metadata": {
    "ExecuteTime": {
     "end_time": "2020-02-03T15:24:29.903288Z",
     "start_time": "2020-02-03T15:24:29.886288Z"
    }
   },
   "outputs": [
    {
     "name": "stdout",
     "output_type": "stream",
     "text": [
      "Stored 'BER_Dublin_average' (Series)\n"
     ]
    }
   ],
   "source": [
    "%store BER_Dublin_average"
   ]
  },
  {
   "cell_type": "code",
   "execution_count": 6,
   "metadata": {
    "ExecuteTime": {
     "end_time": "2020-02-03T15:24:29.921286Z",
     "start_time": "2020-02-03T15:24:29.909289Z"
    }
   },
   "outputs": [],
   "source": [
    "%store -d Dublin_BER_data"
   ]
  }
 ],
 "metadata": {
  "hide_input": false,
  "kernelspec": {
   "display_name": "Python 3",
   "language": "python",
   "name": "python3"
  },
  "language_info": {
   "codemirror_mode": {
    "name": "ipython",
    "version": 3
   },
   "file_extension": ".py",
   "mimetype": "text/x-python",
   "name": "python",
   "nbconvert_exporter": "python",
   "pygments_lexer": "ipython3",
   "version": "3.8.1"
  },
  "toc": {
   "base_numbering": 1,
   "nav_menu": {},
   "number_sections": true,
   "sideBar": true,
   "skip_h1_title": false,
   "title_cell": "Table of Contents",
   "title_sidebar": "Contents",
   "toc_cell": false,
   "toc_position": {},
   "toc_section_display": true,
   "toc_window_display": false
  },
  "varInspector": {
   "cols": {
    "lenName": 16,
    "lenType": 16,
    "lenVar": 40
   },
   "kernels_config": {
    "python": {
     "delete_cmd_postfix": "",
     "delete_cmd_prefix": "del ",
     "library": "var_list.py",
     "varRefreshCmd": "print(var_dic_list())"
    },
    "r": {
     "delete_cmd_postfix": ") ",
     "delete_cmd_prefix": "rm(",
     "library": "var_list.r",
     "varRefreshCmd": "cat(var_dic_list()) "
    }
   },
   "types_to_exclude": [
    "module",
    "function",
    "builtin_function_or_method",
    "instance",
    "_Feature"
   ],
   "window_display": false
  }
 },
 "nbformat": 4,
 "nbformat_minor": 2
}
