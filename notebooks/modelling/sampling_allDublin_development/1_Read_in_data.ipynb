{
 "cells": [
  {
   "cell_type": "code",
   "execution_count": 1,
   "metadata": {
    "ExecuteTime": {
     "end_time": "2020-02-03T15:24:18.798918Z",
     "start_time": "2020-02-03T15:24:18.022877Z"
    }
   },
   "outputs": [],
   "source": [
    "import pandas as pd\n",
    "import numpy as np"
   ]
  },
  {
   "cell_type": "code",
   "execution_count": 2,
   "metadata": {
    "ExecuteTime": {
     "end_time": "2020-02-03T15:24:18.820878Z",
     "start_time": "2020-02-03T15:24:18.801887Z"
    }
   },
   "outputs": [],
   "source": [
    "## import custom functions\n",
    "\n",
    "from pathlib import Path\n",
    "import sys\n",
    "\n",
    "# Create path to custom functions\n",
    "funcs_path = Path.cwd().parents[1]\n",
    "sys.path.insert(1, str(funcs_path))\n",
    "\n",
    "from funcs import paths"
   ]
  },
  {
   "cell_type": "code",
   "execution_count": 3,
   "metadata": {
    "ExecuteTime": {
     "end_time": "2020-02-03T15:24:18.853968Z",
     "start_time": "2020-02-03T15:24:18.823878Z"
    }
   },
   "outputs": [
    {
     "data": {
      "text/plain": [
       "'C:\\\\Users\\\\RowanM\\\\Documents\\\\dublin_energy_masterplan\\\\Residential\\\\data\\\\inputs\\\\processed\\\\Dublin_BER_data.pkl'"
      ]
     },
     "execution_count": 3,
     "metadata": {},
     "output_type": "execute_result"
    }
   ],
   "source": [
    "data_source_name = paths.get_path_to_data('Dublin_BER_data.pkl') \n",
    "\n",
    "data_source_name"
   ]
  },
  {
   "cell_type": "code",
   "execution_count": 4,
   "metadata": {
    "ExecuteTime": {
     "end_time": "2020-02-03T15:24:20.216877Z",
     "start_time": "2020-02-03T15:24:18.861879Z"
    }
   },
   "outputs": [
    {
     "data": {
      "text/html": [
       "<div>\n",
       "<style scoped>\n",
       "    .dataframe tbody tr th:only-of-type {\n",
       "        vertical-align: middle;\n",
       "    }\n",
       "\n",
       "    .dataframe tbody tr th {\n",
       "        vertical-align: top;\n",
       "    }\n",
       "\n",
       "    .dataframe thead th {\n",
       "        text-align: right;\n",
       "    }\n",
       "</style>\n",
       "<table border=\"1\" class=\"dataframe\">\n",
       "  <thead>\n",
       "    <tr style=\"text-align: right;\">\n",
       "      <th></th>\n",
       "      <th>Postcodes</th>\n",
       "      <th>DwellingTypeDescr</th>\n",
       "      <th>Year_of_Construction</th>\n",
       "      <th>DeliveredEnergyMainWater</th>\n",
       "      <th>MainWaterHeatingFuel</th>\n",
       "      <th>WHMainSystemEff</th>\n",
       "      <th>WHEffAdjFactor</th>\n",
       "      <th>DeliveredEnergySupplementaryWater</th>\n",
       "      <th>SupplWHFuel</th>\n",
       "      <th>DeliveredEnergyMainSpace</th>\n",
       "      <th>...</th>\n",
       "      <th>gsdHSSupplHeatFraction</th>\n",
       "      <th>TotalFloorArea</th>\n",
       "      <th>gsdHSSupplHeatFraction_edited</th>\n",
       "      <th>HSSupplSystemEff_edited</th>\n",
       "      <th>Period Built</th>\n",
       "      <th>Dwelling Type</th>\n",
       "      <th>DeliveredEnergyMainSpace (ind)</th>\n",
       "      <th>DeliveredEnergyMainWater (ind)</th>\n",
       "      <th>DeliveredEnergySecondarySpace (ind)</th>\n",
       "      <th>DeliveredEnergySupplementaryWater (ind)</th>\n",
       "    </tr>\n",
       "  </thead>\n",
       "  <tbody>\n",
       "    <tr>\n",
       "      <th>2</th>\n",
       "      <td>Co. Dublin</td>\n",
       "      <td>Mid-terrace house</td>\n",
       "      <td>2003</td>\n",
       "      <td>5744.088867</td>\n",
       "      <td>Mains Gas</td>\n",
       "      <td>90.3125</td>\n",
       "      <td>0.950195</td>\n",
       "      <td>0.0</td>\n",
       "      <td>None</td>\n",
       "      <td>10826.731445</td>\n",
       "      <td>...</td>\n",
       "      <td>NaN</td>\n",
       "      <td>131.5000</td>\n",
       "      <td>NaN</td>\n",
       "      <td>0.30</td>\n",
       "      <td>2001 - 2005*</td>\n",
       "      <td>Terraced House*</td>\n",
       "      <td>9290.906989</td>\n",
       "      <td>4929.261954</td>\n",
       "      <td>3096.212900</td>\n",
       "      <td>0.0</td>\n",
       "    </tr>\n",
       "    <tr>\n",
       "      <th>6</th>\n",
       "      <td>Dublin 14</td>\n",
       "      <td>Semi-detached house</td>\n",
       "      <td>1962</td>\n",
       "      <td>4287.962891</td>\n",
       "      <td>Mains Gas</td>\n",
       "      <td>72.0000</td>\n",
       "      <td>0.950195</td>\n",
       "      <td>1042.0</td>\n",
       "      <td>Electricity</td>\n",
       "      <td>20046.919922</td>\n",
       "      <td>...</td>\n",
       "      <td>NaN</td>\n",
       "      <td>95.3750</td>\n",
       "      <td>NaN</td>\n",
       "      <td>0.72</td>\n",
       "      <td>1961 - 1970*</td>\n",
       "      <td>Semi-detached House*</td>\n",
       "      <td>13714.912325</td>\n",
       "      <td>2933.569612</td>\n",
       "      <td>1904.383883</td>\n",
       "      <td>1042.0</td>\n",
       "    </tr>\n",
       "    <tr>\n",
       "      <th>15</th>\n",
       "      <td>Dublin 11</td>\n",
       "      <td>End of terrace house</td>\n",
       "      <td>1972</td>\n",
       "      <td>4087.055908</td>\n",
       "      <td>Mains Gas</td>\n",
       "      <td>65.0000</td>\n",
       "      <td>0.950195</td>\n",
       "      <td>840.5</td>\n",
       "      <td>Electricity</td>\n",
       "      <td>14756.550781</td>\n",
       "      <td>...</td>\n",
       "      <td>NaN</td>\n",
       "      <td>87.7500</td>\n",
       "      <td>NaN</td>\n",
       "      <td>0.63</td>\n",
       "      <td>1971 - 1980*</td>\n",
       "      <td>Semi-detached House*</td>\n",
       "      <td>9114.043498</td>\n",
       "      <td>2524.275888</td>\n",
       "      <td>1446.320379</td>\n",
       "      <td>840.5</td>\n",
       "    </tr>\n",
       "    <tr>\n",
       "      <th>18</th>\n",
       "      <td>Dublin 12</td>\n",
       "      <td>Mid-terrace house</td>\n",
       "      <td>1939</td>\n",
       "      <td>5879.203125</td>\n",
       "      <td>Mains Gas</td>\n",
       "      <td>65.0000</td>\n",
       "      <td>0.950195</td>\n",
       "      <td>0.0</td>\n",
       "      <td>None</td>\n",
       "      <td>11019.515625</td>\n",
       "      <td>...</td>\n",
       "      <td>NaN</td>\n",
       "      <td>59.3125</td>\n",
       "      <td>NaN</td>\n",
       "      <td>0.40</td>\n",
       "      <td>1919 - 1945*</td>\n",
       "      <td>Terraced House*</td>\n",
       "      <td>6805.949860</td>\n",
       "      <td>3631.154313</td>\n",
       "      <td>1701.072063</td>\n",
       "      <td>0.0</td>\n",
       "    </tr>\n",
       "    <tr>\n",
       "      <th>22</th>\n",
       "      <td>Dublin 18</td>\n",
       "      <td>Top-floor apartment</td>\n",
       "      <td>2004</td>\n",
       "      <td>3348.863037</td>\n",
       "      <td>Mains Gas</td>\n",
       "      <td>78.3125</td>\n",
       "      <td>0.950195</td>\n",
       "      <td>824.5</td>\n",
       "      <td>Electricity</td>\n",
       "      <td>8743.725586</td>\n",
       "      <td>...</td>\n",
       "      <td>NaN</td>\n",
       "      <td>74.5625</td>\n",
       "      <td>NaN</td>\n",
       "      <td>0.00</td>\n",
       "      <td>2001 - 2005*</td>\n",
       "      <td>Apartments*</td>\n",
       "      <td>6506.395983</td>\n",
       "      <td>2491.961670</td>\n",
       "      <td>0.000000</td>\n",
       "      <td>824.5</td>\n",
       "    </tr>\n",
       "  </tbody>\n",
       "</table>\n",
       "<p>5 rows × 31 columns</p>\n",
       "</div>"
      ],
      "text/plain": [
       "     Postcodes     DwellingTypeDescr  Year_of_Construction  \\\n",
       "2   Co. Dublin     Mid-terrace house                  2003   \n",
       "6    Dublin 14   Semi-detached house                  1962   \n",
       "15   Dublin 11  End of terrace house                  1972   \n",
       "18   Dublin 12     Mid-terrace house                  1939   \n",
       "22   Dublin 18   Top-floor apartment                  2004   \n",
       "\n",
       "    DeliveredEnergyMainWater            MainWaterHeatingFuel  WHMainSystemEff  \\\n",
       "2                5744.088867  Mains Gas                               90.3125   \n",
       "6                4287.962891  Mains Gas                               72.0000   \n",
       "15               4087.055908  Mains Gas                               65.0000   \n",
       "18               5879.203125  Mains Gas                               65.0000   \n",
       "22               3348.863037  Mains Gas                               78.3125   \n",
       "\n",
       "    WHEffAdjFactor  DeliveredEnergySupplementaryWater  SupplWHFuel  \\\n",
       "2         0.950195                                0.0         None   \n",
       "6         0.950195                             1042.0  Electricity   \n",
       "15        0.950195                              840.5  Electricity   \n",
       "18        0.950195                                0.0         None   \n",
       "22        0.950195                              824.5  Electricity   \n",
       "\n",
       "    DeliveredEnergyMainSpace  ... gsdHSSupplHeatFraction  TotalFloorArea  \\\n",
       "2               10826.731445  ...                    NaN        131.5000   \n",
       "6               20046.919922  ...                    NaN         95.3750   \n",
       "15              14756.550781  ...                    NaN         87.7500   \n",
       "18              11019.515625  ...                    NaN         59.3125   \n",
       "22               8743.725586  ...                    NaN         74.5625   \n",
       "\n",
       "    gsdHSSupplHeatFraction_edited  HSSupplSystemEff_edited  Period Built  \\\n",
       "2                             NaN                     0.30  2001 - 2005*   \n",
       "6                             NaN                     0.72  1961 - 1970*   \n",
       "15                            NaN                     0.63  1971 - 1980*   \n",
       "18                            NaN                     0.40  1919 - 1945*   \n",
       "22                            NaN                     0.00  2001 - 2005*   \n",
       "\n",
       "           Dwelling Type DeliveredEnergyMainSpace (ind)  \\\n",
       "2        Terraced House*                    9290.906989   \n",
       "6   Semi-detached House*                   13714.912325   \n",
       "15  Semi-detached House*                    9114.043498   \n",
       "18       Terraced House*                    6805.949860   \n",
       "22           Apartments*                    6506.395983   \n",
       "\n",
       "    DeliveredEnergyMainWater (ind)  DeliveredEnergySecondarySpace (ind)  \\\n",
       "2                      4929.261954                          3096.212900   \n",
       "6                      2933.569612                          1904.383883   \n",
       "15                     2524.275888                          1446.320379   \n",
       "18                     3631.154313                          1701.072063   \n",
       "22                     2491.961670                             0.000000   \n",
       "\n",
       "    DeliveredEnergySupplementaryWater (ind)  \n",
       "2                                       0.0  \n",
       "6                                    1042.0  \n",
       "15                                    840.5  \n",
       "18                                      0.0  \n",
       "22                                    824.5  \n",
       "\n",
       "[5 rows x 31 columns]"
      ]
     },
     "execution_count": 4,
     "metadata": {},
     "output_type": "execute_result"
    }
   ],
   "source": [
    "Dublin_BER_data = pd.read_pickle(data_source_name,compression='xz')\n",
    "\n",
    "Dublin_BER_data.head()"
   ]
  },
  {
   "cell_type": "code",
   "execution_count": 5,
   "metadata": {
    "ExecuteTime": {
     "end_time": "2020-02-03T15:24:20.443878Z",
     "start_time": "2020-02-03T15:24:20.220880Z"
    }
   },
   "outputs": [
    {
     "name": "stdout",
     "output_type": "stream",
     "text": [
      "Stored 'Dublin_BER_data' (DataFrame)\n"
     ]
    }
   ],
   "source": [
    "%store Dublin_BER_data"
   ]
  }
 ],
 "metadata": {
  "hide_input": false,
  "kernelspec": {
   "display_name": "Python 3",
   "language": "python",
   "name": "python3"
  },
  "language_info": {
   "codemirror_mode": {
    "name": "ipython",
    "version": 3
   },
   "file_extension": ".py",
   "mimetype": "text/x-python",
   "name": "python",
   "nbconvert_exporter": "python",
   "pygments_lexer": "ipython3",
   "version": "3.8.1"
  },
  "toc": {
   "base_numbering": 1,
   "nav_menu": {},
   "number_sections": true,
   "sideBar": true,
   "skip_h1_title": false,
   "title_cell": "Table of Contents",
   "title_sidebar": "Contents",
   "toc_cell": false,
   "toc_position": {},
   "toc_section_display": true,
   "toc_window_display": false
  },
  "varInspector": {
   "cols": {
    "lenName": 16,
    "lenType": 16,
    "lenVar": 40
   },
   "kernels_config": {
    "python": {
     "delete_cmd_postfix": "",
     "delete_cmd_prefix": "del ",
     "library": "var_list.py",
     "varRefreshCmd": "print(var_dic_list())"
    },
    "r": {
     "delete_cmd_postfix": ") ",
     "delete_cmd_prefix": "rm(",
     "library": "var_list.r",
     "varRefreshCmd": "cat(var_dic_list()) "
    }
   },
   "types_to_exclude": [
    "module",
    "function",
    "builtin_function_or_method",
    "instance",
    "_Feature"
   ],
   "window_display": false
  }
 },
 "nbformat": 4,
 "nbformat_minor": 2
}
