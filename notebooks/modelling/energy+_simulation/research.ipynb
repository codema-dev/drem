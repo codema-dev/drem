{
 "cells": [
  {
   "cell_type": "markdown",
   "metadata": {},
   "source": [
    "# ResearchGate Q&A"
   ]
  },
  {
   "cell_type": "markdown",
   "metadata": {},
   "source": [
    "__ EXPAND BELOW RESOURCES WITH EXPLANATIONS __"
   ]
  },
  {
   "cell_type": "markdown",
   "metadata": {},
   "source": [
    "Are there additional Python libraries, tools, or methods related to building performance simulation or analysis?\n",
    "\n",
    "https://www.researchgate.net/post/Are_there_additional_Python_libraries_tools_or_methods_related_to_building_performance_simulation_or_analysis\n",
    "\n",
    "- https://github.com/santoshphilip/eppy\n",
    "- https://testpypi.python.org/pypi/parseidf/1.0.0\n",
    "- https://pypi.python.org/pypi/esoreader"
   ]
  },
  {
   "cell_type": "markdown",
   "metadata": {},
   "source": [
    "Additional 1:\n",
    "\n",
    "- https://pypi.org/project/pybps/0.1.3/"
   ]
  },
  {
   "cell_type": "markdown",
   "metadata": {},
   "source": [
    "Additional 2:\n",
    "\n",
    "TEASER - Tool for Energy Analysis and Simulation for Efficient Retrofit:\n",
    "https://github.com/RWTH-EBC/TEASER\n",
    "It can generate Modelica models for simulation of city districts (thermal building performance, ). The respective Modelica library with basic simulation models we develop is called AixLib (like the french \"Aix la Chapelle\" for the city we are located). It is based on the Annex 60 Modelica library (a world wide collaboration for building simulation models for building and HVAC simulations.)\n",
    "A bit off topic maybe: Pymola is a python library that can parse part of the Modelica language and transfer it into python. There you can make use of Sympy, for example, to analyse/optimize the model. Very cool stuff, but at the moment probably not able to handle complex models with media and discontinuities that we use for building simulation.\n",
    "https://www.modelica.org/\n",
    "https://github.com/RWTH-EBC/AixLib\n",
    "https://github.com/ibpsa/modelica-ibpsa\n",
    "http://www.ebc.eonerc.rwth-aachen.de/cms/E-ON-ERC-EBC/Das-Institut/Aktuelle-Meldungen-Center/~gips/Modelica-Bibliothek-AixLib-veroeffentlic/?lidx=1\n",
    "https://github.com/jgoppert/pymola\n",
    "https://github.com/jgoppert/pymola/blob/master/test/Spring.ipynb"
   ]
  },
  {
   "cell_type": "markdown",
   "metadata": {},
   "source": [
    "# Python UBEM"
   ]
  },
  {
   "cell_type": "markdown",
   "metadata": {},
   "source": [
    "https://pypi.org/project/archetypal/"
   ]
  },
  {
   "cell_type": "markdown",
   "metadata": {},
   "source": [
    "https://www.researchgate.net/publication/237048897_Automation_of_common_building_energy_simulation_workflows_using_Python"
   ]
  }
 ],
 "metadata": {
  "hide_input": false,
  "kernelspec": {
   "display_name": "Python 3",
   "language": "python",
   "name": "python3"
  },
  "language_info": {
   "codemirror_mode": {
    "name": "ipython",
    "version": 3
   },
   "file_extension": ".py",
   "mimetype": "text/x-python",
   "name": "python",
   "nbconvert_exporter": "python",
   "pygments_lexer": "ipython3",
   "version": "3.8.1"
  },
  "toc": {
   "base_numbering": 1,
   "nav_menu": {},
   "number_sections": true,
   "sideBar": true,
   "skip_h1_title": false,
   "title_cell": "Table of Contents",
   "title_sidebar": "Contents",
   "toc_cell": false,
   "toc_position": {},
   "toc_section_display": true,
   "toc_window_display": false
  },
  "varInspector": {
   "cols": {
    "lenName": 16,
    "lenType": 16,
    "lenVar": 40
   },
   "kernels_config": {
    "python": {
     "delete_cmd_postfix": "",
     "delete_cmd_prefix": "del ",
     "library": "var_list.py",
     "varRefreshCmd": "print(var_dic_list())"
    },
    "r": {
     "delete_cmd_postfix": ") ",
     "delete_cmd_prefix": "rm(",
     "library": "var_list.r",
     "varRefreshCmd": "cat(var_dic_list()) "
    }
   },
   "types_to_exclude": [
    "module",
    "function",
    "builtin_function_or_method",
    "instance",
    "_Feature"
   ],
   "window_display": false
  }
 },
 "nbformat": 4,
 "nbformat_minor": 4
}
