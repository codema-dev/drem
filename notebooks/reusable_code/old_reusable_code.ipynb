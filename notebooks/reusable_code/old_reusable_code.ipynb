{
 "cells": [
  {
   "cell_type": "markdown",
   "metadata": {
    "heading_collapsed": true
   },
   "source": [
    "# Find correlations between columns of data "
   ]
  },
  {
   "cell_type": "code",
   "execution_count": null,
   "metadata": {
    "hidden": true
   },
   "outputs": [],
   "source": [
    "# correlation_df = survey_with_annual_gas.corr(method='pearson')\n",
    "# correlation_df = survey_with_annual_gas.corr(method='kendall')\n",
    "correlation_df = survey_with_annual_gas.corr(method='spearman')\n",
    "\n",
    "mask = correlation_df[\"XXXXXX\"] > 0.2\n",
    "\n",
    "print(\">0.2 correlation with XXXXXX:\")\n",
    "correlation_df[mask][\"XXXXXX\"]\n",
    "\n",
    "# View(correlation_df[mask])\n",
    "\n",
    "mask = correlation_df[\"XXXXXX\"] < -0.2\n",
    "\n",
    "print(\"<-0.2 correlation with XXXXXX:\")\n",
    "correlation_df[mask][\"XXXXXX\"]\n",
    "\n",
    "# View(correlation_df[mask])"
   ]
  },
  {
   "cell_type": "markdown",
   "metadata": {},
   "source": [
    "# Show more rows and columns"
   ]
  },
  {
   "cell_type": "code",
   "execution_count": 3,
   "metadata": {},
   "outputs": [
    {
     "ename": "NameError",
     "evalue": "name 'pd' is not defined",
     "output_type": "error",
     "traceback": [
      "\u001b[1;31m---------------------------------------------------------------------------\u001b[0m",
      "\u001b[1;31mNameError\u001b[0m                                 Traceback (most recent call last)",
      "\u001b[1;32m<ipython-input-3-7a60bae80860>\u001b[0m in \u001b[0;36m<module>\u001b[1;34m\u001b[0m\n\u001b[1;32m----> 1\u001b[1;33m \u001b[0mpd\u001b[0m\u001b[1;33m.\u001b[0m\u001b[0mset_option\u001b[0m\u001b[1;33m(\u001b[0m\u001b[1;34m'display.max_rows'\u001b[0m\u001b[1;33m,\u001b[0m \u001b[1;36m500\u001b[0m\u001b[1;33m)\u001b[0m\u001b[1;33m\u001b[0m\u001b[1;33m\u001b[0m\u001b[0m\n\u001b[0m\u001b[0;32m      2\u001b[0m \u001b[0mpd\u001b[0m\u001b[1;33m.\u001b[0m\u001b[0mset_option\u001b[0m\u001b[1;33m(\u001b[0m\u001b[1;34m'display.max_columns'\u001b[0m\u001b[1;33m,\u001b[0m \u001b[1;36m500\u001b[0m\u001b[1;33m)\u001b[0m\u001b[1;33m\u001b[0m\u001b[1;33m\u001b[0m\u001b[0m\n",
      "\u001b[1;31mNameError\u001b[0m: name 'pd' is not defined"
     ]
    }
   ],
   "source": [
    "pd.set_option('display.max_rows', 500)\n",
    "pd.set_option('display.max_columns', 500)"
   ]
  },
  {
   "cell_type": "markdown",
   "metadata": {},
   "source": [
    "# Get grandparent directory"
   ]
  },
  {
   "cell_type": "markdown",
   "metadata": {},
   "source": [
    "Get grandparent directory path so can access 'Data' folder\n",
    "--"
   ]
  },
  {
   "cell_type": "code",
   "execution_count": 2,
   "metadata": {},
   "outputs": [
    {
     "name": "stdout",
     "output_type": "stream",
     "text": [
      "C:\\Users\\RowanM\\Documents\\Data\\ ...\n"
     ]
    }
   ],
   "source": [
    "from os.path import dirname\n",
    "from os import getcwd\n",
    "\n",
    "filepath = getcwd()\n",
    "\n",
    "dir_of_file = dirname(filepath)\n",
    "parent_dir_of_file = dirname(dir_of_file)\n",
    "parent_of_parent_dir_of_file = dirname(parent_dir_of_file)\n",
    "\n",
    "path_to_data_folder = str(parent_of_parent_dir_of_file) + r'\\Data\\ ...'\n",
    "print(path_to_data_folder)"
   ]
  },
  {
   "cell_type": "markdown",
   "metadata": {
    "heading_collapsed": true
   },
   "source": [
    "# Reduce Memory Usage"
   ]
  },
  {
   "cell_type": "markdown",
   "metadata": {
    "hidden": true
   },
   "source": [
    "Original function"
   ]
  },
  {
   "cell_type": "code",
   "execution_count": 3,
   "metadata": {
    "code_folding": [
     10
    ],
    "hidden": true
   },
   "outputs": [],
   "source": [
    "# Source: https://towardsdatascience.com/how-to-learn-from-bigdata-files-on-low-memory-incremental-learning-d377282d38ff\n",
    "\n",
    "def reduce_mem_usage(df):\n",
    "    \"\"\" Docstring:\n",
    "        iterate through all the columns of a dataframe and \n",
    "        modify the data type to reduce memory usage.        \n",
    "        \"\"\"\n",
    "    start_mem = df.memory_usage().sum() / 1024 ** 2\n",
    "    print((\"Memory usage of dataframe is {:.2f} MB\").format(start_mem))\n",
    "\n",
    "    for col in df.columns:\n",
    "        col_type = df[col].dtype\n",
    "\n",
    "        if col_type != object:\n",
    "            c_min = df[col].min()\n",
    "            c_max = df[col].max()\n",
    "            if str(col_type)[:3] == \"int\":\n",
    "                if c_min > np.iinfo(np.int8).min and c_max < np.iinfo(np.int8).max:\n",
    "                    df[col] = df[col].astype(np.int8)\n",
    "                elif c_min > np.iinfo(np.int16).min and c_max < np.iinfo(np.int16).max:\n",
    "                    df[col] = df[col].astype(np.int16)\n",
    "                elif c_min > np.iinfo(np.int32).min and c_max < np.iinfo(np.int32).max:\n",
    "                    df[col] = df[col].astype(np.int32)\n",
    "                elif c_min > np.iinfo(np.int64).min and c_max < np.iinfo(np.int64).max:\n",
    "                    df[col] = df[col].astype(np.int64)\n",
    "            else:\n",
    "                if (\n",
    "                    c_min > np.finfo(np.float16).min\n",
    "                    and c_max < np.finfo(np.float16).max\n",
    "                ):\n",
    "                    df[col] = df[col].astype(np.float16)\n",
    "                elif (\n",
    "                    c_min > np.finfo(np.float32).min\n",
    "                    and c_max < np.finfo(np.float32).max\n",
    "                ):\n",
    "                    df[col] = df[col].astype(np.float32)\n",
    "                else:\n",
    "                    df[col] = df[col].astype(np.float64)\n",
    "        else:\n",
    "            df[col] = df[col].astype(\"category\")\n",
    "        \n",
    "        end_mem = df.memory_usage().sum() / 1024 ** 2\n",
    "\n",
    "    print((\"Memory usage after optimization is: {:.2f}\" \"MB\").format(end_mem))\n",
    "    print(\"Decreased by {:.1f}%\".format(100 * (start_mem - end_mem) / start_mem))\n",
    "\n",
    "    return df"
   ]
  },
  {
   "cell_type": "markdown",
   "metadata": {
    "hidden": true
   },
   "source": [
    "Function with edits"
   ]
  },
  {
   "cell_type": "code",
   "execution_count": 4,
   "metadata": {
    "code_folding": [
     12,
     45
    ],
    "hidden": true
   },
   "outputs": [],
   "source": [
    "\"\"\" Edited by me - to include indexes\n",
    "\n",
    "    Warning: Doesn't work yet - work in progress\n",
    "\n",
    "    \"\"\"\n",
    "\n",
    "def reduce_mem_usage(df):\n",
    "    \"\"\" Docstring:\n",
    "        iterate through all the idxumns of a dataframe and \n",
    "        modify the data type to reduce memory usage.        \n",
    "        \"\"\"\n",
    "    start_mem = df.memory_usage().sum() / 1024 ** 2\n",
    "    print((\"Memory usage of dataframe is {:.2f} MB\").format(start_mem))\n",
    "\n",
    "    for idx in df.index:\n",
    "        idx_type = df[idx].dtype\n",
    "\n",
    "        if idx_type != object:\n",
    "            c_min = df[idx].min()\n",
    "            c_max = df[idx].max()\n",
    "            if str(idx_type)[:3] == \"int\":\n",
    "                if c_min > np.iinfo(np.int8).min and c_max < np.iinfo(np.int8).max:\n",
    "                    df[idx] = df[idx].astype(np.int8)\n",
    "                elif c_min > np.iinfo(np.int16).min and c_max < np.iinfo(np.int16).max:\n",
    "                    df[idx] = df[idx].astype(np.int16)\n",
    "                elif c_min > np.iinfo(np.int32).min and c_max < np.iinfo(np.int32).max:\n",
    "                    df[idx] = df[idx].astype(np.int32)\n",
    "                elif c_min > np.iinfo(np.int64).min and c_max < np.iinfo(np.int64).max:\n",
    "                    df[idx] = df[idx].astype(np.int64)\n",
    "            else:\n",
    "                if (\n",
    "                    c_min > np.finfo(np.float16).min\n",
    "                    and c_max < np.finfo(np.float16).max\n",
    "                ):\n",
    "                    df[idx] = df[idx].astype(np.float16)\n",
    "                elif (\n",
    "                    c_min > np.finfo(np.float32).min\n",
    "                    and c_max < np.finfo(np.float32).max\n",
    "                ):\n",
    "                    df[idx] = df[idx].astype(np.float32)\n",
    "                else:\n",
    "                    df[idx] = df[idx].astype(np.float64)\n",
    "        else:\n",
    "            df[idx] = df[idx].astype(\"category\")\n",
    "            \n",
    "        end_mem_idx = df.memory_usage().sum() / 1024 ** 2\n",
    "    \n",
    "    for col in df.columns:\n",
    "        col_type = df[col].dtype\n",
    "\n",
    "        if col_type != object:\n",
    "            c_min = df[col].min()\n",
    "            c_max = df[col].max()\n",
    "            if str(col_type)[:3] == \"int\":\n",
    "                if c_min > np.iinfo(np.int8).min and c_max < np.iinfo(np.int8).max:\n",
    "                    df[col] = df[col].astype(np.int8)\n",
    "                elif c_min > np.iinfo(np.int16).min and c_max < np.iinfo(np.int16).max:\n",
    "                    df[col] = df[col].astype(np.int16)\n",
    "                elif c_min > np.iinfo(np.int32).min and c_max < np.iinfo(np.int32).max:\n",
    "                    df[col] = df[col].astype(np.int32)\n",
    "                elif c_min > np.iinfo(np.int64).min and c_max < np.iinfo(np.int64).max:\n",
    "                    df[col] = df[col].astype(np.int64)\n",
    "            else:\n",
    "                if (\n",
    "                    c_min > np.finfo(np.float16).min\n",
    "                    and c_max < np.finfo(np.float16).max\n",
    "                ):\n",
    "                    df[col] = df[col].astype(np.float16)\n",
    "                elif (\n",
    "                    c_min > np.finfo(np.float32).min\n",
    "                    and c_max < np.finfo(np.float32).max\n",
    "                ):\n",
    "                    df[col] = df[col].astype(np.float32)\n",
    "                else:\n",
    "                    df[col] = df[col].astype(np.float64)\n",
    "        else:\n",
    "            df[col] = df[col].astype(\"category\")\n",
    "        \n",
    "        end_mem_cols = df.memory_usage().sum() / 1024 ** 2\n",
    "\n",
    "    print((\"Memory usage after optimization is: {:.2f}\" \"MB\").format(end_mem_idx + end_mem_idxs))\n",
    "    print(\"Decreased by {:.1f}%\".format(100 * (start_mem - end_mem) / start_mem))\n",
    "\n",
    "    return df"
   ]
  },
  {
   "cell_type": "code",
   "execution_count": null,
   "metadata": {
    "code_folding": [],
    "hidden": true
   },
   "outputs": [],
   "source": [
    "\"\"\" Edited by me - for Series objects\n",
    "    \n",
    "    Warning: Works for series with 1 index only\n",
    "    \n",
    "    \"\"\"\n",
    "\n",
    "\n",
    "def reduce_mem_usage(series):\n",
    "    \"\"\" Docstring:\n",
    "        iterate through all the idxumns of a dataframe and \n",
    "        modify the data type to reduce memory usage.        \n",
    "        \"\"\"\n",
    "    start_mem = series.memory_usage().sum() / 1024 ** 2\n",
    "    print((\"Memory usage of dataframe is {:.2f} MB\").format(start_mem))\n",
    "\n",
    "    # Set index dtype:\n",
    "\n",
    "    idx_type = series.index.dtype\n",
    "\n",
    "    if idx_type != object:\n",
    "        c_min = series.index.min()\n",
    "        c_max = series.index.max()\n",
    "        if str(idx_type)[:3] == \"int\":\n",
    "            if c_min > np.iinfo(np.int8).min and c_max < np.iinfo(np.int8).max:\n",
    "                series.index = series.index.astype(np.int8)\n",
    "            elif c_min > np.iinfo(np.int16).min and c_max < np.iinfo(np.int16).max:\n",
    "                series.index = series.index.astype(np.int16)\n",
    "            elif c_min > np.iinfo(np.int32).min and c_max < np.iinfo(np.int32).max:\n",
    "                series.index = series.index.astype(np.int32)\n",
    "            elif c_min > np.iinfo(np.int64).min and c_max < np.iinfo(np.int64).max:\n",
    "                series.index = series.index.astype(np.int64)\n",
    "        else:\n",
    "            if c_min > np.finfo(np.float16).min and c_max < np.finfo(np.float16).max:\n",
    "                series.index = series.index.astype(np.float16)\n",
    "            elif c_min > np.finfo(np.float32).min and c_max < np.finfo(np.float32).max:\n",
    "                series.index = series.index.astype(np.float32)\n",
    "            else:\n",
    "                series.index = series.index.astype(np.float64)\n",
    "    else:\n",
    "        series.index = series.index.astype(\"category\")\n",
    "\n",
    "    end_mem_idx = series.memory_usage().sum() / 1024 ** 2\n",
    "\n",
    "    # Set values dtype:\n",
    "\n",
    "    values_type = series.values.dtype\n",
    "\n",
    "    if values_type != object:\n",
    "        c_min = series.values.min()\n",
    "        c_max = series.values.max()\n",
    "        if str(values_type)[:3] == \"int\":\n",
    "            if c_min > np.iinfo(np.int8).min and c_max < np.iinfo(np.int8).max:\n",
    "                series.values = series.values.astype(np.int8)\n",
    "            elif c_min > np.iinfo(np.int16).min and c_max < np.iinfo(np.int16).max:\n",
    "                series.values = series.values.astype(np.int16)\n",
    "            elif c_min > np.iinfo(np.int32).min and c_max < np.iinfo(np.int32).max:\n",
    "                series.values = series.values.astype(np.int32)\n",
    "            elif c_min > np.iinfo(np.int64).min and c_max < np.iinfo(np.int64).max:\n",
    "                series.values = series.values.astype(np.int64)\n",
    "        else:\n",
    "            if c_min > np.finfo(np.float16).min and c_max < np.finfo(np.float16).max:\n",
    "                series.values = series.values.astype(np.float16)\n",
    "            elif c_min > np.finfo(np.float32).min and c_max < np.finfo(np.float32).max:\n",
    "                series.values = series.values.astype(np.float32)\n",
    "            else:\n",
    "                series.values = series.values.astype(np.float64)\n",
    "    else:\n",
    "        series.values = series.values.astype(\"category\")\n",
    "\n",
    "    end_mem_values = series.memory_usage().sum() / 1024 ** 2\n",
    "\n",
    "    print(\n",
    "        (\"Memory usage after optimization is: {:.2f}\" \"MB\").format(\n",
    "            end_mem_idx + end_mem_idxs\n",
    "        )\n",
    "    )\n",
    "    print(\"Decreased by {:.1f}%\".format(100 * (start_mem - end_mem) / start_mem))\n",
    "\n",
    "    return series"
   ]
  },
  {
   "cell_type": "code",
   "execution_count": null,
   "metadata": {
    "hidden": true
   },
   "outputs": [],
   "source": [
    "\n"
   ]
  },
  {
   "cell_type": "markdown",
   "metadata": {
    "heading_collapsed": true
   },
   "source": [
    "# Display DataFrame in external window"
   ]
  },
  {
   "cell_type": "code",
   "execution_count": 2,
   "metadata": {
    "hidden": true
   },
   "outputs": [],
   "source": [
    "# Display full DataFrame internally via HTML: \n",
    "from IPython.display import display, HTML\n",
    "\n",
    "def View(df,window_number=0):\n",
    "    \"\"\" Docstring:\n",
    "            \n",
    "            df = dataframe to display externally\n",
    "\n",
    "            window_number = 0 by default. If a non-zero number is entered, \n",
    "            View will create a window corresponding to this window number.\n",
    "\n",
    "        --------\n",
    "        Sources:\n",
    "\n",
    "            Single window:\n",
    "            https://stackoverflow.com/questions/40554839/pop-out-expand-jupyter-cell-to-new-browser-window\n",
    "\n",
    "            Multiple windows:\n",
    "            https://stackoverflow.com/questions/18732775/multiple-windows-using-window-open\n",
    "            https://developer.mozilla.org/en-US/docs/Web/API/Window/open\n",
    "            https://www.w3schools.com/jsref/prop_win_name.asp\n",
    "        \"\"\"\n",
    "    \n",
    "    css = \"\"\"<style>\n",
    "    table { border-collapse: collapse; border: 3px solid #eee; }\n",
    "    table tr th:first-child { background-color: #eeeeee; color: #333; font-weight: bold }\n",
    "    table thead th { background-color: #eee; color: #000; }\n",
    "    tr, th, td { border: 1px solid #ccc; border-width: 1px 0 0 1px; border-collapse: collapse;\n",
    "    padding: 3px; font-family: monospace; font-size: 10px }</style>\n",
    "    \"\"\"\n",
    "    \n",
    "    # Screen width and location set to appear on left screen of a dual screen setup\n",
    "    \n",
    "    s  = '<script type=\"text/Javascript\">'\n",
    "    s += 'var win = window.open(\"\", \"Title\",\"toolbar=no, location=no, directories=no, status=no, menubar=no, scrollbars=yes, resizable=yes, width=1900, height=2000, top=\"+(screen.height+300)+\", left=\"+(screen.width-6000));'\n",
    "    s += 'win.document.body.innerHTML = \\'' + (df.to_html() + css).replace(\"\\n\",'\\\\') + '\\';'\n",
    "    s += 'win.name = '+ str(window_number)\n",
    "    s += '</script>'\n",
    "    \n",
    "\n",
    "    \n",
    "    return(HTML(s+css))"
   ]
  },
  {
   "cell_type": "markdown",
   "metadata": {
    "heading_collapsed": true
   },
   "source": [
    "# Get grandparent directory path so can access 'Data' folder"
   ]
  },
  {
   "cell_type": "code",
   "execution_count": 1,
   "metadata": {
    "hidden": true
   },
   "outputs": [
    {
     "name": "stdout",
     "output_type": "stream",
     "text": [
      "C:\\Users\\RowanM\\Documents\n"
     ]
    }
   ],
   "source": [
    "from os.path import dirname\n",
    "from os import getcwd\n",
    "\n",
    "filepath = getcwd()\n",
    "\n",
    "dir_of_file = dirname(filepath)\n",
    "parent_dir_of_file = dirname(dir_of_file)\n",
    "parent_of_parent_dir_of_file = dirname(parent_dir_of_file)\n",
    "\n",
    "path_to_data_folder = str(parent_of_parent_dir_of_file) # + r'\\Data\\Data Processing\\Data - Process Smart Meter Gas Data'\n",
    "\n",
    "print(path_to_data_folder)"
   ]
  }
 ],
 "metadata": {
  "hide_input": false,
  "kernelspec": {
   "display_name": "Python 3",
   "language": "python",
   "name": "python3"
  },
  "language_info": {
   "codemirror_mode": {
    "name": "ipython",
    "version": 3
   },
   "file_extension": ".py",
   "mimetype": "text/x-python",
   "name": "python",
   "nbconvert_exporter": "python",
   "pygments_lexer": "ipython3",
   "version": "3.7.3"
  },
  "toc": {
   "base_numbering": 1,
   "nav_menu": {},
   "number_sections": true,
   "sideBar": true,
   "skip_h1_title": false,
   "title_cell": "Table of Contents",
   "title_sidebar": "Contents",
   "toc_cell": false,
   "toc_position": {},
   "toc_section_display": true,
   "toc_window_display": false
  },
  "varInspector": {
   "cols": {
    "lenName": 16,
    "lenType": 16,
    "lenVar": 40
   },
   "kernels_config": {
    "python": {
     "delete_cmd_postfix": "",
     "delete_cmd_prefix": "del ",
     "library": "var_list.py",
     "varRefreshCmd": "print(var_dic_list())"
    },
    "r": {
     "delete_cmd_postfix": ") ",
     "delete_cmd_prefix": "rm(",
     "library": "var_list.r",
     "varRefreshCmd": "cat(var_dic_list()) "
    }
   },
   "types_to_exclude": [
    "module",
    "function",
    "builtin_function_or_method",
    "instance",
    "_Feature"
   ],
   "window_display": false
  }
 },
 "nbformat": 4,
 "nbformat_minor": 2
}
