{
 "cells": [
  {
   "cell_type": "code",
   "execution_count": 1,
   "metadata": {
    "ExecuteTime": {
     "end_time": "2020-01-30T11:09:11.660511Z",
     "start_time": "2020-01-30T11:09:10.858472Z"
    }
   },
   "outputs": [],
   "source": [
    "%store -r postcodes_to_SAs_2011"
   ]
  },
  {
   "cell_type": "code",
   "execution_count": 2,
   "metadata": {
    "ExecuteTime": {
     "end_time": "2020-01-30T11:09:11.672475Z",
     "start_time": "2020-01-30T11:09:11.662473Z"
    }
   },
   "outputs": [],
   "source": [
    "## import custom functions\n",
    "\n",
    "from pathlib import Path\n",
    "import sys\n",
    "\n",
    "# Create path to custom functions\n",
    "funcs_path = Path.cwd().parents[1]\n",
    "sys.path.insert(1, str(funcs_path))\n",
    "\n",
    "from funcs import sort_df"
   ]
  },
  {
   "cell_type": "code",
   "execution_count": 6,
   "metadata": {
    "ExecuteTime": {
     "end_time": "2020-01-30T11:09:33.667187Z",
     "start_time": "2020-01-30T11:09:33.646190Z"
    },
    "code_folding": []
   },
   "outputs": [
    {
     "name": "stdout",
     "output_type": "stream",
     "text": [
      "DataFrame sorted by Postcode\n"
     ]
    },
    {
     "data": {
      "text/plain": [
       "Index(['Co. Dublin', 'Dublin 1', 'Dublin 2', 'Dublin 3', 'Dublin 4',\n",
       "       'Dublin 5', 'Dublin 6W', 'Dublin 6', 'Dublin 7', 'Dublin 8', 'Dublin 9',\n",
       "       'Dublin 10', 'Dublin 11', 'Dublin 12', 'Dublin 13', 'Dublin 14',\n",
       "       'Dublin 15', 'Dublin 16', 'Dublin 17', 'Dublin 18', 'Dublin 20',\n",
       "       'Dublin 22', 'Dublin 24'],\n",
       "      dtype='object', name='Postcodes')"
      ]
     },
     "execution_count": 6,
     "metadata": {},
     "output_type": "execute_result"
    }
   ],
   "source": [
    "postcodes_to_SAs_2011 = sort_df.by_postcode(postcodes_to_SAs_2011)\n",
    "\n",
    "print(\"DataFrame sorted by Postcode\")\n",
    "postcodes_to_SAs_2011.index.unique()"
   ]
  },
  {
   "cell_type": "code",
   "execution_count": 5,
   "metadata": {
    "ExecuteTime": {
     "end_time": "2020-01-30T11:09:11.764475Z",
     "start_time": "2020-01-30T11:09:11.739489Z"
    }
   },
   "outputs": [
    {
     "name": "stdout",
     "output_type": "stream",
     "text": [
      "Stored 'postcodes_to_SAs_2011' (DataFrame)\n"
     ]
    }
   ],
   "source": [
    "%store postcodes_to_SAs_2011"
   ]
  }
 ],
 "metadata": {
  "hide_input": false,
  "kernelspec": {
   "display_name": "Python 3",
   "language": "python",
   "name": "python3"
  },
  "language_info": {
   "codemirror_mode": {
    "name": "ipython",
    "version": 3
   },
   "file_extension": ".py",
   "mimetype": "text/x-python",
   "name": "python",
   "nbconvert_exporter": "python",
   "pygments_lexer": "ipython3",
   "version": "3.7.3"
  },
  "toc": {
   "base_numbering": 1,
   "nav_menu": {},
   "number_sections": true,
   "sideBar": true,
   "skip_h1_title": false,
   "title_cell": "Table of Contents",
   "title_sidebar": "Contents",
   "toc_cell": false,
   "toc_position": {},
   "toc_section_display": true,
   "toc_window_display": false
  },
  "varInspector": {
   "cols": {
    "lenName": 16,
    "lenType": 16,
    "lenVar": 40
   },
   "kernels_config": {
    "python": {
     "delete_cmd_postfix": "",
     "delete_cmd_prefix": "del ",
     "library": "var_list.py",
     "varRefreshCmd": "print(var_dic_list())"
    },
    "r": {
     "delete_cmd_postfix": ") ",
     "delete_cmd_prefix": "rm(",
     "library": "var_list.r",
     "varRefreshCmd": "cat(var_dic_list()) "
    }
   },
   "types_to_exclude": [
    "module",
    "function",
    "builtin_function_or_method",
    "instance",
    "_Feature"
   ],
   "window_display": false
  }
 },
 "nbformat": 4,
 "nbformat_minor": 2
}
