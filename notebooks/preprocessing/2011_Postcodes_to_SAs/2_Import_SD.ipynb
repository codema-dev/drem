{
 "cells": [
  {
   "cell_type": "code",
   "execution_count": 1,
   "metadata": {
    "ExecuteTime": {
     "end_time": "2020-01-30T11:06:44.396723Z",
     "start_time": "2020-01-30T11:06:43.578692Z"
    }
   },
   "outputs": [],
   "source": [
    "%store -r postcodes_to_SAs_2011\n",
    "%store -r path_to_data"
   ]
  },
  {
   "cell_type": "code",
   "execution_count": 2,
   "metadata": {
    "ExecuteTime": {
     "end_time": "2020-01-30T11:06:44.401622Z",
     "start_time": "2020-01-30T11:06:44.398623Z"
    }
   },
   "outputs": [],
   "source": [
    "import pandas as pd"
   ]
  },
  {
   "cell_type": "code",
   "execution_count": 3,
   "metadata": {
    "ExecuteTime": {
     "end_time": "2020-01-30T11:06:44.422624Z",
     "start_time": "2020-01-30T11:06:44.404621Z"
    }
   },
   "outputs": [],
   "source": [
    "## import custom functions\n",
    "\n",
    "from pathlib import Path\n",
    "import sys\n",
    "\n",
    "# Create path to custom functions\n",
    "funcs_path = Path.cwd().parents[1]\n",
    "sys.path.insert(1, str(funcs_path))\n",
    "\n",
    "from funcs import preprocessing"
   ]
  },
  {
   "cell_type": "code",
   "execution_count": 4,
   "metadata": {
    "ExecuteTime": {
     "end_time": "2020-01-30T11:06:44.659622Z",
     "start_time": "2020-01-30T11:06:44.429625Z"
    }
   },
   "outputs": [
    {
     "data": {
      "text/html": [
       "<div>\n",
       "<style scoped>\n",
       "    .dataframe tbody tr th:only-of-type {\n",
       "        vertical-align: middle;\n",
       "    }\n",
       "\n",
       "    .dataframe tbody tr th {\n",
       "        vertical-align: top;\n",
       "    }\n",
       "\n",
       "    .dataframe thead th {\n",
       "        text-align: right;\n",
       "    }\n",
       "</style>\n",
       "<table border=\"1\" class=\"dataframe\">\n",
       "  <thead>\n",
       "    <tr style=\"text-align: right;\">\n",
       "      <th></th>\n",
       "      <th>SMALL_AREA</th>\n",
       "      <th>Post Code</th>\n",
       "    </tr>\n",
       "  </thead>\n",
       "  <tbody>\n",
       "    <tr>\n",
       "      <th>0</th>\n",
       "      <td>267006001</td>\n",
       "      <td>16</td>\n",
       "    </tr>\n",
       "    <tr>\n",
       "      <th>1</th>\n",
       "      <td>267006003</td>\n",
       "      <td>16</td>\n",
       "    </tr>\n",
       "    <tr>\n",
       "      <th>2</th>\n",
       "      <td>267006002</td>\n",
       "      <td>16</td>\n",
       "    </tr>\n",
       "    <tr>\n",
       "      <th>3</th>\n",
       "      <td>267013012</td>\n",
       "      <td>16</td>\n",
       "    </tr>\n",
       "    <tr>\n",
       "      <th>4</th>\n",
       "      <td>267013013</td>\n",
       "      <td>16</td>\n",
       "    </tr>\n",
       "  </tbody>\n",
       "</table>\n",
       "</div>"
      ],
      "text/plain": [
       "  SMALL_AREA Post Code\n",
       "0  267006001        16\n",
       "1  267006003        16\n",
       "2  267006002        16\n",
       "3  267013012        16\n",
       "4  267013013        16"
      ]
     },
     "execution_count": 4,
     "metadata": {},
     "output_type": "execute_result"
    }
   ],
   "source": [
    "SDCC = pd.read_excel(\n",
    "    path_to_data,\n",
    "    sheet_name=\"SDCC\",\n",
    ")\n",
    "\n",
    "SDCC.head()"
   ]
  },
  {
   "cell_type": "code",
   "execution_count": 5,
   "metadata": {
    "ExecuteTime": {
     "end_time": "2020-01-30T11:06:44.670625Z",
     "start_time": "2020-01-30T11:06:44.664626Z"
    }
   },
   "outputs": [
    {
     "data": {
      "text/plain": [
       "array([16, 'Co.Dublin', 22, 24, 20, 14, '6W', 12], dtype=object)"
      ]
     },
     "execution_count": 5,
     "metadata": {},
     "output_type": "execute_result"
    }
   ],
   "source": [
    "SDCC[\"Post Code\"].unique()"
   ]
  },
  {
   "cell_type": "markdown",
   "metadata": {},
   "source": [
    "Convert to correct format by:\n",
    "1. Convert name \"SMALL_AREA\" to \"Small Area\" & \"Post Code\" to \"Postcodes\"\n",
    "2. Convert Postcodes column to correct format by applying match_to_full_Postcode_name_vectorized\n",
    "3. Index by Postcodes"
   ]
  },
  {
   "cell_type": "code",
   "execution_count": 6,
   "metadata": {
    "ExecuteTime": {
     "end_time": "2020-01-30T11:06:44.716630Z",
     "start_time": "2020-01-30T11:06:44.673622Z"
    },
    "scrolled": true
   },
   "outputs": [
    {
     "name": "stdout",
     "output_type": "stream",
     "text": [
      "Tail of SDCC\n"
     ]
    },
    {
     "data": {
      "text/html": [
       "<div>\n",
       "<style scoped>\n",
       "    .dataframe tbody tr th:only-of-type {\n",
       "        vertical-align: middle;\n",
       "    }\n",
       "\n",
       "    .dataframe tbody tr th {\n",
       "        vertical-align: top;\n",
       "    }\n",
       "\n",
       "    .dataframe thead th {\n",
       "        text-align: right;\n",
       "    }\n",
       "</style>\n",
       "<table border=\"1\" class=\"dataframe\">\n",
       "  <thead>\n",
       "    <tr style=\"text-align: right;\">\n",
       "      <th></th>\n",
       "      <th>Small Area</th>\n",
       "    </tr>\n",
       "    <tr>\n",
       "      <th>Postcodes</th>\n",
       "      <th></th>\n",
       "    </tr>\n",
       "  </thead>\n",
       "  <tbody>\n",
       "    <tr>\n",
       "      <th>Dublin 12</th>\n",
       "      <td>267157002</td>\n",
       "    </tr>\n",
       "    <tr>\n",
       "      <th>Dublin 12</th>\n",
       "      <td>267157004</td>\n",
       "    </tr>\n",
       "    <tr>\n",
       "      <th>Dublin 12</th>\n",
       "      <td>267157007</td>\n",
       "    </tr>\n",
       "    <tr>\n",
       "      <th>Dublin 12</th>\n",
       "      <td>267157008</td>\n",
       "    </tr>\n",
       "    <tr>\n",
       "      <th>Dublin 12</th>\n",
       "      <td>267157003</td>\n",
       "    </tr>\n",
       "  </tbody>\n",
       "</table>\n",
       "</div>"
      ],
      "text/plain": [
       "          Small Area\n",
       "Postcodes           \n",
       "Dublin 12  267157002\n",
       "Dublin 12  267157004\n",
       "Dublin 12  267157007\n",
       "Dublin 12  267157008\n",
       "Dublin 12  267157003"
      ]
     },
     "metadata": {},
     "output_type": "display_data"
    },
    {
     "name": "stdout",
     "output_type": "stream",
     "text": [
      "Tail of postcodes_to_SAs_2011 with SDCC\n"
     ]
    },
    {
     "data": {
      "text/html": [
       "<div>\n",
       "<style scoped>\n",
       "    .dataframe tbody tr th:only-of-type {\n",
       "        vertical-align: middle;\n",
       "    }\n",
       "\n",
       "    .dataframe tbody tr th {\n",
       "        vertical-align: top;\n",
       "    }\n",
       "\n",
       "    .dataframe thead th {\n",
       "        text-align: right;\n",
       "    }\n",
       "</style>\n",
       "<table border=\"1\" class=\"dataframe\">\n",
       "  <thead>\n",
       "    <tr style=\"text-align: right;\">\n",
       "      <th></th>\n",
       "      <th>Small Area</th>\n",
       "    </tr>\n",
       "    <tr>\n",
       "      <th>Postcodes</th>\n",
       "      <th></th>\n",
       "    </tr>\n",
       "  </thead>\n",
       "  <tbody>\n",
       "    <tr>\n",
       "      <th>Dublin 12</th>\n",
       "      <td>267157002</td>\n",
       "    </tr>\n",
       "    <tr>\n",
       "      <th>Dublin 12</th>\n",
       "      <td>267157004</td>\n",
       "    </tr>\n",
       "    <tr>\n",
       "      <th>Dublin 12</th>\n",
       "      <td>267157007</td>\n",
       "    </tr>\n",
       "    <tr>\n",
       "      <th>Dublin 12</th>\n",
       "      <td>267157008</td>\n",
       "    </tr>\n",
       "    <tr>\n",
       "      <th>Dublin 12</th>\n",
       "      <td>267157003</td>\n",
       "    </tr>\n",
       "  </tbody>\n",
       "</table>\n",
       "</div>"
      ],
      "text/plain": [
       "          Small Area\n",
       "Postcodes           \n",
       "Dublin 12  267157002\n",
       "Dublin 12  267157004\n",
       "Dublin 12  267157007\n",
       "Dublin 12  267157008\n",
       "Dublin 12  267157003"
      ]
     },
     "metadata": {},
     "output_type": "display_data"
    }
   ],
   "source": [
    "## Use function preprocessing.match_to_full_Postcode_name \n",
    "# to convert integer Postcodes etc. into correct format\n",
    "\n",
    "SDCC.columns = [\"Small Area\", \"Postcodes\"]\n",
    "SDCC[\"Postcodes\"] = preprocessing.match_to_full_Postcode_name(SDCC[\"Postcodes\"].values)\n",
    "SDCC.set_index(\"Postcodes\",inplace=True)\n",
    "\n",
    "postcodes_to_SAs_2011 = postcodes_to_SAs_2011.append(SDCC)\n",
    "\n",
    "print(\"Tail of SDCC\")\n",
    "display(SDCC.tail())\n",
    "\n",
    "print(\"Tail of postcodes_to_SAs_2011 with SDCC\")\n",
    "display(postcodes_to_SAs_2011.tail())"
   ]
  },
  {
   "cell_type": "code",
   "execution_count": 7,
   "metadata": {
    "ExecuteTime": {
     "end_time": "2020-01-30T11:06:44.737971Z",
     "start_time": "2020-01-30T11:06:44.723625Z"
    }
   },
   "outputs": [
    {
     "data": {
      "text/plain": [
       "Index(['Dublin 16', 'Co. Dublin', 'Dublin 22', 'Dublin 24', 'Dublin 20',\n",
       "       'Dublin 14', 'Dublin 6W', 'Dublin 12'],\n",
       "      dtype='object', name='Postcodes')"
      ]
     },
     "execution_count": 7,
     "metadata": {},
     "output_type": "execute_result"
    }
   ],
   "source": [
    "SDCC.index.unique()"
   ]
  },
  {
   "cell_type": "code",
   "execution_count": 8,
   "metadata": {
    "ExecuteTime": {
     "end_time": "2020-01-30T11:06:44.755968Z",
     "start_time": "2020-01-30T11:06:44.740966Z"
    }
   },
   "outputs": [
    {
     "data": {
      "text/plain": [
       "Index(['Dublin 14', 'Dublin 16', 'Dublin 18', 'Dublin 13', 'Dublin 15',\n",
       "       'Co. Dublin', 'Dublin 22', 'Dublin 24', 'Dublin 20', 'Dublin 6W',\n",
       "       'Dublin 12'],\n",
       "      dtype='object', name='Postcodes')"
      ]
     },
     "execution_count": 8,
     "metadata": {},
     "output_type": "execute_result"
    }
   ],
   "source": [
    "postcodes_to_SAs_2011.index.unique()"
   ]
  },
  {
   "cell_type": "markdown",
   "metadata": {},
   "source": [
    "16, 'Co.Dublin', 22, 24, 20, 14, '6W', 12"
   ]
  },
  {
   "cell_type": "code",
   "execution_count": 9,
   "metadata": {
    "ExecuteTime": {
     "end_time": "2020-01-30T11:06:44.785966Z",
     "start_time": "2020-01-30T11:06:44.766001Z"
    }
   },
   "outputs": [
    {
     "name": "stdout",
     "output_type": "stream",
     "text": [
      "Stored 'postcodes_to_SAs_2011' (DataFrame)\n",
      "Stored 'path_to_data' (str)\n"
     ]
    }
   ],
   "source": [
    "%store postcodes_to_SAs_2011\n",
    "%store path_to_data"
   ]
  }
 ],
 "metadata": {
  "hide_input": false,
  "kernelspec": {
   "display_name": "Python 3",
   "language": "python",
   "name": "python3"
  },
  "language_info": {
   "codemirror_mode": {
    "name": "ipython",
    "version": 3
   },
   "file_extension": ".py",
   "mimetype": "text/x-python",
   "name": "python",
   "nbconvert_exporter": "python",
   "pygments_lexer": "ipython3",
   "version": "3.7.3"
  },
  "toc": {
   "base_numbering": 1,
   "nav_menu": {},
   "number_sections": true,
   "sideBar": true,
   "skip_h1_title": false,
   "title_cell": "Table of Contents",
   "title_sidebar": "Contents",
   "toc_cell": false,
   "toc_position": {},
   "toc_section_display": true,
   "toc_window_display": false
  },
  "varInspector": {
   "cols": {
    "lenName": 16,
    "lenType": 16,
    "lenVar": 40
   },
   "kernels_config": {
    "python": {
     "delete_cmd_postfix": "",
     "delete_cmd_prefix": "del ",
     "library": "var_list.py",
     "varRefreshCmd": "print(var_dic_list())"
    },
    "r": {
     "delete_cmd_postfix": ") ",
     "delete_cmd_prefix": "rm(",
     "library": "var_list.r",
     "varRefreshCmd": "cat(var_dic_list()) "
    }
   },
   "types_to_exclude": [
    "module",
    "function",
    "builtin_function_or_method",
    "instance",
    "_Feature"
   ],
   "window_display": false
  }
 },
 "nbformat": 4,
 "nbformat_minor": 2
}
