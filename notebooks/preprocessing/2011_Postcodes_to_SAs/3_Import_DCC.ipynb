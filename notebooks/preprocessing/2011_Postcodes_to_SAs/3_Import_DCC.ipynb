{
 "cells": [
  {
   "cell_type": "code",
   "execution_count": 1,
   "metadata": {
    "ExecuteTime": {
     "end_time": "2020-01-30T11:08:39.797373Z",
     "start_time": "2020-01-30T11:08:38.902341Z"
    }
   },
   "outputs": [],
   "source": [
    "%store -r postcodes_to_SAs_2011\n",
    "%store -r path_to_data"
   ]
  },
  {
   "cell_type": "code",
   "execution_count": 2,
   "metadata": {
    "ExecuteTime": {
     "end_time": "2020-01-30T11:08:39.803343Z",
     "start_time": "2020-01-30T11:08:39.799341Z"
    }
   },
   "outputs": [],
   "source": [
    "import pandas as pd"
   ]
  },
  {
   "cell_type": "code",
   "execution_count": 3,
   "metadata": {
    "ExecuteTime": {
     "end_time": "2020-01-30T11:08:39.829402Z",
     "start_time": "2020-01-30T11:08:39.806342Z"
    }
   },
   "outputs": [],
   "source": [
    "## import custom functions\n",
    "\n",
    "from pathlib import Path\n",
    "import sys\n",
    "\n",
    "# Create path to custom functions\n",
    "funcs_path = Path.cwd().parents[1]\n",
    "sys.path.insert(1, str(funcs_path))\n",
    "\n",
    "from funcs import preprocessing"
   ]
  },
  {
   "cell_type": "code",
   "execution_count": 4,
   "metadata": {
    "ExecuteTime": {
     "end_time": "2020-01-30T11:08:40.329154Z",
     "start_time": "2020-01-30T11:08:39.836345Z"
    },
    "scrolled": true
   },
   "outputs": [
    {
     "data": {
      "text/html": [
       "<div>\n",
       "<style scoped>\n",
       "    .dataframe tbody tr th:only-of-type {\n",
       "        vertical-align: middle;\n",
       "    }\n",
       "\n",
       "    .dataframe tbody tr th {\n",
       "        vertical-align: top;\n",
       "    }\n",
       "\n",
       "    .dataframe thead th {\n",
       "        text-align: right;\n",
       "    }\n",
       "</style>\n",
       "<table border=\"1\" class=\"dataframe\">\n",
       "  <thead>\n",
       "    <tr style=\"text-align: right;\">\n",
       "      <th></th>\n",
       "      <th>Post Code</th>\n",
       "      <th>Small Area Code</th>\n",
       "    </tr>\n",
       "  </thead>\n",
       "  <tbody>\n",
       "    <tr>\n",
       "      <th>0</th>\n",
       "      <td>1</td>\n",
       "      <td>268139005</td>\n",
       "    </tr>\n",
       "    <tr>\n",
       "      <th>1</th>\n",
       "      <td>1</td>\n",
       "      <td>268139006</td>\n",
       "    </tr>\n",
       "    <tr>\n",
       "      <th>2</th>\n",
       "      <td>1</td>\n",
       "      <td>268139007_268139008</td>\n",
       "    </tr>\n",
       "    <tr>\n",
       "      <th>3</th>\n",
       "      <td>1</td>\n",
       "      <td>268139004</td>\n",
       "    </tr>\n",
       "    <tr>\n",
       "      <th>4</th>\n",
       "      <td>1</td>\n",
       "      <td>268106003</td>\n",
       "    </tr>\n",
       "  </tbody>\n",
       "</table>\n",
       "</div>"
      ],
      "text/plain": [
       "  Post Code      Small Area Code\n",
       "0         1            268139005\n",
       "1         1            268139006\n",
       "2         1  268139007_268139008\n",
       "3         1            268139004\n",
       "4         1            268106003"
      ]
     },
     "execution_count": 4,
     "metadata": {},
     "output_type": "execute_result"
    }
   ],
   "source": [
    "DCC = pd.read_excel(\n",
    "    path_to_data,\n",
    "    usecols = [\"Post Code\",\"Small Area Code\"],\n",
    "    sheet_name=\"DCC\"\n",
    ")\n",
    "\n",
    "DCC.head()"
   ]
  },
  {
   "cell_type": "code",
   "execution_count": 5,
   "metadata": {
    "ExecuteTime": {
     "end_time": "2020-01-30T11:08:40.341156Z",
     "start_time": "2020-01-30T11:08:40.333160Z"
    }
   },
   "outputs": [
    {
     "data": {
      "text/plain": [
       "array([1, 2, 3, 4, 5, 6, '6W', 7, 8, 9, 10, 11, 12, 13, 17, 20],\n",
       "      dtype=object)"
      ]
     },
     "execution_count": 5,
     "metadata": {},
     "output_type": "execute_result"
    }
   ],
   "source": [
    "DCC[\"Post Code\"].unique()"
   ]
  },
  {
   "cell_type": "code",
   "execution_count": 6,
   "metadata": {
    "ExecuteTime": {
     "end_time": "2020-01-30T11:08:40.387159Z",
     "start_time": "2020-01-30T11:08:40.345157Z"
    },
    "scrolled": true
   },
   "outputs": [
    {
     "name": "stdout",
     "output_type": "stream",
     "text": [
      "Tail of DCC\n"
     ]
    },
    {
     "data": {
      "text/html": [
       "<div>\n",
       "<style scoped>\n",
       "    .dataframe tbody tr th:only-of-type {\n",
       "        vertical-align: middle;\n",
       "    }\n",
       "\n",
       "    .dataframe tbody tr th {\n",
       "        vertical-align: top;\n",
       "    }\n",
       "\n",
       "    .dataframe thead th {\n",
       "        text-align: right;\n",
       "    }\n",
       "</style>\n",
       "<table border=\"1\" class=\"dataframe\">\n",
       "  <thead>\n",
       "    <tr style=\"text-align: right;\">\n",
       "      <th></th>\n",
       "      <th>Small Area</th>\n",
       "    </tr>\n",
       "    <tr>\n",
       "      <th>Postcodes</th>\n",
       "      <th></th>\n",
       "    </tr>\n",
       "  </thead>\n",
       "  <tbody>\n",
       "    <tr>\n",
       "      <th>Dublin 20</th>\n",
       "      <td>268037009</td>\n",
       "    </tr>\n",
       "    <tr>\n",
       "      <th>Dublin 20</th>\n",
       "      <td>268037005</td>\n",
       "    </tr>\n",
       "    <tr>\n",
       "      <th>Dublin 20</th>\n",
       "      <td>268037004</td>\n",
       "    </tr>\n",
       "    <tr>\n",
       "      <th>Dublin 20</th>\n",
       "      <td>268037013</td>\n",
       "    </tr>\n",
       "    <tr>\n",
       "      <th>Dublin 20</th>\n",
       "      <td>268037003</td>\n",
       "    </tr>\n",
       "  </tbody>\n",
       "</table>\n",
       "</div>"
      ],
      "text/plain": [
       "          Small Area\n",
       "Postcodes           \n",
       "Dublin 20  268037009\n",
       "Dublin 20  268037005\n",
       "Dublin 20  268037004\n",
       "Dublin 20  268037013\n",
       "Dublin 20  268037003"
      ]
     },
     "metadata": {},
     "output_type": "display_data"
    },
    {
     "name": "stdout",
     "output_type": "stream",
     "text": [
      "Tail of postcodes_to_SAs_2011 with DCC\n"
     ]
    },
    {
     "data": {
      "text/html": [
       "<div>\n",
       "<style scoped>\n",
       "    .dataframe tbody tr th:only-of-type {\n",
       "        vertical-align: middle;\n",
       "    }\n",
       "\n",
       "    .dataframe tbody tr th {\n",
       "        vertical-align: top;\n",
       "    }\n",
       "\n",
       "    .dataframe thead th {\n",
       "        text-align: right;\n",
       "    }\n",
       "</style>\n",
       "<table border=\"1\" class=\"dataframe\">\n",
       "  <thead>\n",
       "    <tr style=\"text-align: right;\">\n",
       "      <th></th>\n",
       "      <th>Small Area</th>\n",
       "    </tr>\n",
       "    <tr>\n",
       "      <th>Postcodes</th>\n",
       "      <th></th>\n",
       "    </tr>\n",
       "  </thead>\n",
       "  <tbody>\n",
       "    <tr>\n",
       "      <th>Dublin 20</th>\n",
       "      <td>268037009</td>\n",
       "    </tr>\n",
       "    <tr>\n",
       "      <th>Dublin 20</th>\n",
       "      <td>268037005</td>\n",
       "    </tr>\n",
       "    <tr>\n",
       "      <th>Dublin 20</th>\n",
       "      <td>268037004</td>\n",
       "    </tr>\n",
       "    <tr>\n",
       "      <th>Dublin 20</th>\n",
       "      <td>268037013</td>\n",
       "    </tr>\n",
       "    <tr>\n",
       "      <th>Dublin 20</th>\n",
       "      <td>268037003</td>\n",
       "    </tr>\n",
       "  </tbody>\n",
       "</table>\n",
       "</div>"
      ],
      "text/plain": [
       "          Small Area\n",
       "Postcodes           \n",
       "Dublin 20  268037009\n",
       "Dublin 20  268037005\n",
       "Dublin 20  268037004\n",
       "Dublin 20  268037013\n",
       "Dublin 20  268037003"
      ]
     },
     "metadata": {},
     "output_type": "display_data"
    }
   ],
   "source": [
    "## Use function preprocessing.match_to_full_Postcode_name \n",
    "# to convert integer Postcodes etc. into correct format\n",
    "\n",
    "DCC.columns = [\"Postcodes\",\"Small Area\"]\n",
    "DCC[\"Postcodes\"] = preprocessing.match_to_full_Postcode_name(DCC[\"Postcodes\"].values)\n",
    "DCC.set_index(\"Postcodes\",inplace=True)\n",
    "\n",
    "postcodes_to_SAs_2011 = postcodes_to_SAs_2011.append(DCC)\n",
    "\n",
    "print(\"Tail of DCC\")\n",
    "display(DCC.tail())\n",
    "\n",
    "print(\"Tail of postcodes_to_SAs_2011 with DCC\")\n",
    "display(postcodes_to_SAs_2011.tail())"
   ]
  },
  {
   "cell_type": "code",
   "execution_count": 7,
   "metadata": {
    "ExecuteTime": {
     "end_time": "2020-01-30T11:08:40.403437Z",
     "start_time": "2020-01-30T11:08:40.390156Z"
    }
   },
   "outputs": [
    {
     "data": {
      "text/plain": [
       "Index(['Dublin 1', 'Dublin 2', 'Dublin 3', 'Dublin 4', 'Dublin 5', 'Dublin 6',\n",
       "       'Dublin 6W', 'Dublin 7', 'Dublin 8', 'Dublin 9', 'Dublin 10',\n",
       "       'Dublin 11', 'Dublin 12', 'Dublin 13', 'Dublin 17', 'Dublin 20'],\n",
       "      dtype='object', name='Postcodes')"
      ]
     },
     "execution_count": 7,
     "metadata": {},
     "output_type": "execute_result"
    }
   ],
   "source": [
    "DCC.index.unique()"
   ]
  },
  {
   "cell_type": "code",
   "execution_count": 8,
   "metadata": {
    "ExecuteTime": {
     "end_time": "2020-01-30T11:08:40.419436Z",
     "start_time": "2020-01-30T11:08:40.406437Z"
    }
   },
   "outputs": [
    {
     "data": {
      "text/plain": [
       "Index(['Dublin 14', 'Dublin 16', 'Dublin 18', 'Dublin 13', 'Dublin 15',\n",
       "       'Co. Dublin', 'Dublin 22', 'Dublin 24', 'Dublin 20', 'Dublin 6W',\n",
       "       'Dublin 12', 'Dublin 1', 'Dublin 2', 'Dublin 3', 'Dublin 4', 'Dublin 5',\n",
       "       'Dublin 6', 'Dublin 7', 'Dublin 8', 'Dublin 9', 'Dublin 10',\n",
       "       'Dublin 11', 'Dublin 17'],\n",
       "      dtype='object', name='Postcodes')"
      ]
     },
     "execution_count": 8,
     "metadata": {},
     "output_type": "execute_result"
    }
   ],
   "source": [
    "postcodes_to_SAs_2011.index.unique()"
   ]
  },
  {
   "cell_type": "markdown",
   "metadata": {},
   "source": [
    "1, 2, 3, 4, 5, 6, '6W', 7, 8, 9, 10, 11, 12, 13, 17, 20"
   ]
  },
  {
   "cell_type": "code",
   "execution_count": 9,
   "metadata": {
    "ExecuteTime": {
     "end_time": "2020-01-30T11:08:40.437461Z",
     "start_time": "2020-01-30T11:08:40.422438Z"
    }
   },
   "outputs": [
    {
     "name": "stdout",
     "output_type": "stream",
     "text": [
      "Stored 'postcodes_to_SAs_2011' (DataFrame)\n"
     ]
    }
   ],
   "source": [
    "%store postcodes_to_SAs_2011"
   ]
  }
 ],
 "metadata": {
  "hide_input": false,
  "kernelspec": {
   "display_name": "Python 3",
   "language": "python",
   "name": "python3"
  },
  "language_info": {
   "codemirror_mode": {
    "name": "ipython",
    "version": 3
   },
   "file_extension": ".py",
   "mimetype": "text/x-python",
   "name": "python",
   "nbconvert_exporter": "python",
   "pygments_lexer": "ipython3",
   "version": "3.7.3"
  },
  "toc": {
   "base_numbering": 1,
   "nav_menu": {},
   "number_sections": true,
   "sideBar": true,
   "skip_h1_title": false,
   "title_cell": "Table of Contents",
   "title_sidebar": "Contents",
   "toc_cell": false,
   "toc_position": {},
   "toc_section_display": true,
   "toc_window_display": false
  },
  "varInspector": {
   "cols": {
    "lenName": 16,
    "lenType": 16,
    "lenVar": 40
   },
   "kernels_config": {
    "python": {
     "delete_cmd_postfix": "",
     "delete_cmd_prefix": "del ",
     "library": "var_list.py",
     "varRefreshCmd": "print(var_dic_list())"
    },
    "r": {
     "delete_cmd_postfix": ") ",
     "delete_cmd_prefix": "rm(",
     "library": "var_list.r",
     "varRefreshCmd": "cat(var_dic_list()) "
    }
   },
   "types_to_exclude": [
    "module",
    "function",
    "builtin_function_or_method",
    "instance",
    "_Feature"
   ],
   "window_display": false
  }
 },
 "nbformat": 4,
 "nbformat_minor": 2
}
