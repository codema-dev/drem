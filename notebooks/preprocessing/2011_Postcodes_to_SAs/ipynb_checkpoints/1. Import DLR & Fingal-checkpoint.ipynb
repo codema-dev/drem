{
 "cells": [
  {
   "cell_type": "code",
   "execution_count": 5,
   "metadata": {},
   "outputs": [],
   "source": [
    "import pandas as pd\n",
    "import numpy as np"
   ]
  },
  {
   "cell_type": "code",
   "execution_count": 6,
   "metadata": {},
   "outputs": [
    {
     "name": "stdout",
     "output_type": "stream",
     "text": [
      "C:\\Users\\RowanM\\Documents\\Masterplan_Code\\Residential_Code\n"
     ]
    }
   ],
   "source": [
    "## Get grandparent directory path so can access 'Data' folder\n",
    "\n",
    "from os.path import dirname\n",
    "from os import getcwd\n",
    "\n",
    "filepath = getcwd()\n",
    "dir_of_file = dirname(dirname(filepath))\n",
    "path_to_data_folder = str(dir_of_file) \n",
    "print(path_to_data_folder)"
   ]
  },
  {
   "cell_type": "code",
   "execution_count": 18,
   "metadata": {},
   "outputs": [
    {
     "data": {
      "text/html": [
       "<div>\n",
       "<style scoped>\n",
       "    .dataframe tbody tr th:only-of-type {\n",
       "        vertical-align: middle;\n",
       "    }\n",
       "\n",
       "    .dataframe tbody tr th {\n",
       "        vertical-align: top;\n",
       "    }\n",
       "\n",
       "    .dataframe thead th {\n",
       "        text-align: right;\n",
       "    }\n",
       "</style>\n",
       "<table border=\"1\" class=\"dataframe\">\n",
       "  <thead>\n",
       "    <tr style=\"text-align: right;\">\n",
       "      <th></th>\n",
       "      <th>D14</th>\n",
       "      <th>D16</th>\n",
       "      <th>D18</th>\n",
       "      <th>D13</th>\n",
       "      <th>D15</th>\n",
       "      <th>Co.Dublin</th>\n",
       "      <th>Co.Dublin.1</th>\n",
       "    </tr>\n",
       "  </thead>\n",
       "  <tbody>\n",
       "    <tr>\n",
       "      <th>0</th>\n",
       "      <td>267044003.0</td>\n",
       "      <td>267010004</td>\n",
       "      <td>267126003</td>\n",
       "      <td>267130001</td>\n",
       "      <td>267028004/02</td>\n",
       "      <td>267081008</td>\n",
       "      <td>267102003</td>\n",
       "    </tr>\n",
       "    <tr>\n",
       "      <th>1</th>\n",
       "      <td>267042001.0</td>\n",
       "      <td>267010005</td>\n",
       "      <td>267126002</td>\n",
       "      <td>267130003</td>\n",
       "      <td>267028004/01</td>\n",
       "      <td>267159002</td>\n",
       "      <td>267102004</td>\n",
       "    </tr>\n",
       "    <tr>\n",
       "      <th>2</th>\n",
       "      <td>267044001.0</td>\n",
       "      <td>267010007</td>\n",
       "      <td>267126004</td>\n",
       "      <td>267130002</td>\n",
       "      <td>267028094</td>\n",
       "      <td>267081007</td>\n",
       "      <td>267102002</td>\n",
       "    </tr>\n",
       "    <tr>\n",
       "      <th>3</th>\n",
       "      <td>267044004.0</td>\n",
       "      <td>267010002</td>\n",
       "      <td>267038001</td>\n",
       "      <td>267130004</td>\n",
       "      <td>267028079</td>\n",
       "      <td>267159001</td>\n",
       "      <td>267102001</td>\n",
       "    </tr>\n",
       "    <tr>\n",
       "      <th>4</th>\n",
       "      <td>267044002.0</td>\n",
       "      <td>267010001</td>\n",
       "      <td>267126005/267126010</td>\n",
       "      <td>267004014</td>\n",
       "      <td>267028117</td>\n",
       "      <td>267092003</td>\n",
       "      <td>267158001</td>\n",
       "    </tr>\n",
       "  </tbody>\n",
       "</table>\n",
       "</div>"
      ],
      "text/plain": [
       "           D14        D16                  D18        D13           D15  \\\n",
       "0  267044003.0  267010004            267126003  267130001  267028004/02   \n",
       "1  267042001.0  267010005            267126002  267130003  267028004/01   \n",
       "2  267044001.0  267010007            267126004  267130002     267028094   \n",
       "3  267044004.0  267010002            267038001  267130004     267028079   \n",
       "4  267044002.0  267010001  267126005/267126010  267004014     267028117   \n",
       "\n",
       "   Co.Dublin Co.Dublin.1  \n",
       "0  267081008   267102003  \n",
       "1  267159002   267102004  \n",
       "2  267081007   267102002  \n",
       "3  267159001   267102001  \n",
       "4  267092003   267158001  "
      ]
     },
     "execution_count": 18,
     "metadata": {},
     "output_type": "execute_result"
    }
   ],
   "source": [
    "FCC_and_DLR = pd.read_excel(\n",
    "    path_to_data_folder + r'\\raw_inputs\\Census 2011 postcode-small area.xlsx',\n",
    "    sheet_name=\"FCC DLRCC\",\n",
    "    skiprows=1\n",
    ")\n",
    "\n",
    "FCC_and_DLR.head()"
   ]
  },
  {
   "cell_type": "markdown",
   "metadata": {},
   "source": [
    "Convert to correct format by:\n",
    "1. Pull out each column into a temporary df\n",
    "2. create a postcode column of equal length, index SAs by Postcode \n",
    "3. append to global df\n"
   ]
  },
  {
   "cell_type": "code",
   "execution_count": 23,
   "metadata": {},
   "outputs": [],
   "source": [
    "## Call a function to convert integer Postcodes etc. into correct format\n",
    "\n",
    "from local_functions import match_to_full_Postcode_name"
   ]
  },
  {
   "cell_type": "code",
   "execution_count": 24,
   "metadata": {},
   "outputs": [
    {
     "name": "stdout",
     "output_type": "stream",
     "text": [
      "Head of postcodes_to_SAs_2011 with FCC_and_DLR\n"
     ]
    },
    {
     "data": {
      "text/html": [
       "<div>\n",
       "<style scoped>\n",
       "    .dataframe tbody tr th:only-of-type {\n",
       "        vertical-align: middle;\n",
       "    }\n",
       "\n",
       "    .dataframe tbody tr th {\n",
       "        vertical-align: top;\n",
       "    }\n",
       "\n",
       "    .dataframe thead th {\n",
       "        text-align: right;\n",
       "    }\n",
       "</style>\n",
       "<table border=\"1\" class=\"dataframe\">\n",
       "  <thead>\n",
       "    <tr style=\"text-align: right;\">\n",
       "      <th></th>\n",
       "      <th>Small Area</th>\n",
       "    </tr>\n",
       "    <tr>\n",
       "      <th>Postcodes</th>\n",
       "      <th></th>\n",
       "    </tr>\n",
       "  </thead>\n",
       "  <tbody>\n",
       "    <tr>\n",
       "      <th>Dublin 14</th>\n",
       "      <td>2.67044e+08</td>\n",
       "    </tr>\n",
       "    <tr>\n",
       "      <th>Dublin 14</th>\n",
       "      <td>2.67042e+08</td>\n",
       "    </tr>\n",
       "    <tr>\n",
       "      <th>Dublin 14</th>\n",
       "      <td>2.67044e+08</td>\n",
       "    </tr>\n",
       "    <tr>\n",
       "      <th>Dublin 14</th>\n",
       "      <td>2.67044e+08</td>\n",
       "    </tr>\n",
       "    <tr>\n",
       "      <th>Dublin 14</th>\n",
       "      <td>2.67044e+08</td>\n",
       "    </tr>\n",
       "  </tbody>\n",
       "</table>\n",
       "</div>"
      ],
      "text/plain": [
       "            Small Area\n",
       "Postcodes             \n",
       "Dublin 14  2.67044e+08\n",
       "Dublin 14  2.67042e+08\n",
       "Dublin 14  2.67044e+08\n",
       "Dublin 14  2.67044e+08\n",
       "Dublin 14  2.67044e+08"
      ]
     },
     "metadata": {},
     "output_type": "display_data"
    },
    {
     "name": "stdout",
     "output_type": "stream",
     "text": [
      "Tail of postcodes_to_SAs_2011 with FCC_and_DLR\n"
     ]
    },
    {
     "data": {
      "text/html": [
       "<div>\n",
       "<style scoped>\n",
       "    .dataframe tbody tr th:only-of-type {\n",
       "        vertical-align: middle;\n",
       "    }\n",
       "\n",
       "    .dataframe tbody tr th {\n",
       "        vertical-align: top;\n",
       "    }\n",
       "\n",
       "    .dataframe thead th {\n",
       "        text-align: right;\n",
       "    }\n",
       "</style>\n",
       "<table border=\"1\" class=\"dataframe\">\n",
       "  <thead>\n",
       "    <tr style=\"text-align: right;\">\n",
       "      <th></th>\n",
       "      <th>Small Area</th>\n",
       "    </tr>\n",
       "    <tr>\n",
       "      <th>Postcodes</th>\n",
       "      <th></th>\n",
       "    </tr>\n",
       "  </thead>\n",
       "  <tbody>\n",
       "    <tr>\n",
       "      <th>Co. Dublin</th>\n",
       "      <td>267118010</td>\n",
       "    </tr>\n",
       "    <tr>\n",
       "      <th>Co. Dublin</th>\n",
       "      <td>267065028</td>\n",
       "    </tr>\n",
       "    <tr>\n",
       "      <th>Co. Dublin</th>\n",
       "      <td>267065029</td>\n",
       "    </tr>\n",
       "    <tr>\n",
       "      <th>Co. Dublin</th>\n",
       "      <td>267065030</td>\n",
       "    </tr>\n",
       "    <tr>\n",
       "      <th>Co. Dublin</th>\n",
       "      <td>267065027/267065031</td>\n",
       "    </tr>\n",
       "  </tbody>\n",
       "</table>\n",
       "</div>"
      ],
      "text/plain": [
       "                     Small Area\n",
       "Postcodes                      \n",
       "Co. Dublin            267118010\n",
       "Co. Dublin            267065028\n",
       "Co. Dublin            267065029\n",
       "Co. Dublin            267065030\n",
       "Co. Dublin  267065027/267065031"
      ]
     },
     "metadata": {},
     "output_type": "display_data"
    }
   ],
   "source": [
    "postcodes_to_SAs_2011 = pd.DataFrame()\n",
    "\n",
    "for col in FCC_and_DLR.columns:\n",
    "    \n",
    "    temp_df = pd.DataFrame(FCC_and_DLR[col].dropna())\n",
    "\n",
    "    temp_df.rename(columns={col:\"Small Area\"},inplace=True)\n",
    "    temp_df[\"Postcodes\"] = match_to_full_Postcode_name(col)\n",
    "    temp_df.set_index(\"Postcodes\",inplace=True)\n",
    "    \n",
    "    postcodes_to_SAs_2011 = postcodes_to_SAs_2011.append(temp_df)\n",
    "\n",
    "print(\"Head of postcodes_to_SAs_2011 with FCC_and_DLR\")\n",
    "display(postcodes_to_SAs_2011.head())\n",
    "\n",
    "print(\"Tail of postcodes_to_SAs_2011 with FCC_and_DLR\")\n",
    "display(postcodes_to_SAs_2011.tail())"
   ]
  },
  {
   "cell_type": "code",
   "execution_count": 25,
   "metadata": {
    "scrolled": true
   },
   "outputs": [
    {
     "name": "stdout",
     "output_type": "stream",
     "text": [
      "Stored 'postcodes_to_SAs_2011' (DataFrame)\n",
      "Stored 'path_to_data_folder' (str)\n"
     ]
    }
   ],
   "source": [
    "%store postcodes_to_SAs_2011\n",
    "%store path_to_data_folder"
   ]
  }
 ],
 "metadata": {
  "hide_input": false,
  "kernelspec": {
   "display_name": "Python 3",
   "language": "python",
   "name": "python3"
  },
  "language_info": {
   "codemirror_mode": {
    "name": "ipython",
    "version": 3
   },
   "file_extension": ".py",
   "mimetype": "text/x-python",
   "name": "python",
   "nbconvert_exporter": "python",
   "pygments_lexer": "ipython3",
   "version": "3.7.3"
  },
  "toc": {
   "base_numbering": 1,
   "nav_menu": {},
   "number_sections": true,
   "sideBar": true,
   "skip_h1_title": false,
   "title_cell": "Table of Contents",
   "title_sidebar": "Contents",
   "toc_cell": false,
   "toc_position": {},
   "toc_section_display": true,
   "toc_window_display": false
  },
  "varInspector": {
   "cols": {
    "lenName": 16,
    "lenType": 16,
    "lenVar": 40
   },
   "kernels_config": {
    "python": {
     "delete_cmd_postfix": "",
     "delete_cmd_prefix": "del ",
     "library": "var_list.py",
     "varRefreshCmd": "print(var_dic_list())"
    },
    "r": {
     "delete_cmd_postfix": ") ",
     "delete_cmd_prefix": "rm(",
     "library": "var_list.r",
     "varRefreshCmd": "cat(var_dic_list()) "
    }
   },
   "types_to_exclude": [
    "module",
    "function",
    "builtin_function_or_method",
    "instance",
    "_Feature"
   ],
   "window_display": false
  }
 },
 "nbformat": 4,
 "nbformat_minor": 2
}
