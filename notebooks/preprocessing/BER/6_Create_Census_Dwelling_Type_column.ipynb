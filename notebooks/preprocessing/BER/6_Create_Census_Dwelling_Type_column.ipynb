{
 "cells": [
  {
   "cell_type": "code",
   "execution_count": 1,
   "metadata": {
    "ExecuteTime": {
     "end_time": "2020-01-30T15:37:40.535137Z",
     "start_time": "2020-01-30T15:37:39.944114Z"
    }
   },
   "outputs": [],
   "source": [
    "import pandas as pd\n",
    "import numpy as np"
   ]
  },
  {
   "cell_type": "code",
   "execution_count": 2,
   "metadata": {
    "ExecuteTime": {
     "end_time": "2020-01-30T15:37:40.821113Z",
     "start_time": "2020-01-30T15:37:40.537112Z"
    }
   },
   "outputs": [],
   "source": [
    "%store -r BER_Dublin_specific"
   ]
  },
  {
   "cell_type": "code",
   "execution_count": 3,
   "metadata": {
    "ExecuteTime": {
     "end_time": "2020-01-30T15:37:41.124113Z",
     "start_time": "2020-01-30T15:37:40.824116Z"
    }
   },
   "outputs": [
    {
     "data": {
      "text/html": [
       "<div>\n",
       "<style scoped>\n",
       "    .dataframe tbody tr th:only-of-type {\n",
       "        vertical-align: middle;\n",
       "    }\n",
       "\n",
       "    .dataframe tbody tr th {\n",
       "        vertical-align: top;\n",
       "    }\n",
       "\n",
       "    .dataframe thead th {\n",
       "        text-align: right;\n",
       "    }\n",
       "</style>\n",
       "<table border=\"1\" class=\"dataframe\">\n",
       "  <thead>\n",
       "    <tr style=\"text-align: right;\">\n",
       "      <th></th>\n",
       "      <th>Postcodes</th>\n",
       "      <th>Dwelling Type</th>\n",
       "    </tr>\n",
       "  </thead>\n",
       "  <tbody>\n",
       "    <tr>\n",
       "      <th>2</th>\n",
       "      <td>Co. Dublin</td>\n",
       "      <td>Terraced House*</td>\n",
       "    </tr>\n",
       "    <tr>\n",
       "      <th>6</th>\n",
       "      <td>Dublin 14</td>\n",
       "      <td>Semi-detached House*</td>\n",
       "    </tr>\n",
       "    <tr>\n",
       "      <th>15</th>\n",
       "      <td>Dublin 11</td>\n",
       "      <td>Semi-detached House*</td>\n",
       "    </tr>\n",
       "    <tr>\n",
       "      <th>18</th>\n",
       "      <td>Dublin 12</td>\n",
       "      <td>Terraced House*</td>\n",
       "    </tr>\n",
       "    <tr>\n",
       "      <th>22</th>\n",
       "      <td>Dublin 18</td>\n",
       "      <td>Apartments*</td>\n",
       "    </tr>\n",
       "  </tbody>\n",
       "</table>\n",
       "</div>"
      ],
      "text/plain": [
       "     Postcodes         Dwelling Type\n",
       "2   Co. Dublin       Terraced House*\n",
       "6    Dublin 14  Semi-detached House*\n",
       "15   Dublin 11  Semi-detached House*\n",
       "18   Dublin 12       Terraced House*\n",
       "22   Dublin 18           Apartments*"
      ]
     },
     "execution_count": 3,
     "metadata": {},
     "output_type": "execute_result"
    }
   ],
   "source": [
    "def convert_dwelling_type_to_CSO_dwelling_type(dwelling_type):\n",
    "    \"\"\" Docstring:\n",
    "\n",
    "        Sources:\n",
    "            http://maps.seai.ie/giswiki/maps/heat-map/domestic-sector-datasets/\n",
    "            Apartment = Apartment, Basement Dwelling, Ground-floor apartment, Maisonette, Mid-floor apartment, Top-floor apartment\n",
    "            Detached House = Detached house\n",
    "            Semi-Detached House = End of terrace house, House, Semi-detached house\n",
    "            Terraced House = Mid-terrace house\n",
    "        \"\"\"\n",
    "\n",
    "    if (\n",
    "        (\"apartment\" in dwelling_type.lower())\n",
    "        or (dwelling_type == \"Maisonette\")\n",
    "        or (dwelling_type == \"Basement Dwelling\")\n",
    "    ):\n",
    "        return \"Apartments*\"\n",
    "\n",
    "    if (\n",
    "        (dwelling_type == \"End of terrace house\")\n",
    "        or (dwelling_type == \"House\")\n",
    "        or (dwelling_type == \"Semi-detached house\")\n",
    "    ):\n",
    "        return \"Semi-detached House*\"\n",
    "\n",
    "    if dwelling_type == \"Detached house\":\n",
    "        return \"Detached House*\"\n",
    "\n",
    "    if dwelling_type == \"Mid-terrace house\":\n",
    "        return \"Terraced House*\"\n",
    "\n",
    "    else:\n",
    "        print(\n",
    "            \"convert_dwelling_type_to_census_type does not recognise this name: \"\n",
    "            + dwelling_type\n",
    "        )\n",
    "\n",
    "\n",
    "convert_dwelling_type_to_CSO_dwelling_type = np.vectorize(\n",
    "    convert_dwelling_type_to_CSO_dwelling_type\n",
    ")\n",
    "\n",
    "BER_Dublin_specific[\n",
    "    \"Dwelling Type\"\n",
    "] = convert_dwelling_type_to_CSO_dwelling_type(\n",
    "    BER_Dublin_specific[\"DwellingTypeDescr\"].values\n",
    ")\n",
    "\n",
    "BER_Dublin_specific[\"Dwelling Type\"] = BER_Dublin_specific[\"Dwelling Type\"].astype('category')\n",
    "\n",
    "BER_Dublin_specific[[\"Postcodes\", \"Dwelling Type\"]].head()"
   ]
  },
  {
   "cell_type": "code",
   "execution_count": 4,
   "metadata": {
    "ExecuteTime": {
     "end_time": "2020-01-30T15:37:41.733239Z",
     "start_time": "2020-01-30T15:37:41.128114Z"
    }
   },
   "outputs": [
    {
     "name": "stdout",
     "output_type": "stream",
     "text": [
      "Stored 'BER_Dublin_specific' (DataFrame)\n"
     ]
    }
   ],
   "source": [
    "%store BER_Dublin_specific"
   ]
  }
 ],
 "metadata": {
  "hide_input": false,
  "kernelspec": {
   "display_name": "Python 3",
   "language": "python",
   "name": "python3"
  },
  "language_info": {
   "codemirror_mode": {
    "name": "ipython",
    "version": 3
   },
   "file_extension": ".py",
   "mimetype": "text/x-python",
   "name": "python",
   "nbconvert_exporter": "python",
   "pygments_lexer": "ipython3",
   "version": "3.7.3"
  },
  "toc": {
   "base_numbering": 1,
   "nav_menu": {},
   "number_sections": true,
   "sideBar": true,
   "skip_h1_title": false,
   "title_cell": "Table of Contents",
   "title_sidebar": "Contents",
   "toc_cell": false,
   "toc_position": {},
   "toc_section_display": true,
   "toc_window_display": false
  },
  "varInspector": {
   "cols": {
    "lenName": 16,
    "lenType": 16,
    "lenVar": 40
   },
   "kernels_config": {
    "python": {
     "delete_cmd_postfix": "",
     "delete_cmd_prefix": "del ",
     "library": "var_list.py",
     "varRefreshCmd": "print(var_dic_list())"
    },
    "r": {
     "delete_cmd_postfix": ") ",
     "delete_cmd_prefix": "rm(",
     "library": "var_list.r",
     "varRefreshCmd": "cat(var_dic_list()) "
    }
   },
   "types_to_exclude": [
    "module",
    "function",
    "builtin_function_or_method",
    "instance",
    "_Feature"
   ],
   "window_display": false
  }
 },
 "nbformat": 4,
 "nbformat_minor": 2
}
