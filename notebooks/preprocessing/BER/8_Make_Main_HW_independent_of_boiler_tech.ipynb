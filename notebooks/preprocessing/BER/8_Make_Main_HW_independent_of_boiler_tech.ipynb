{
 "cells": [
  {
   "cell_type": "code",
   "execution_count": 1,
   "metadata": {
    "ExecuteTime": {
     "end_time": "2020-01-30T15:37:56.826943Z",
     "start_time": "2020-01-30T15:37:55.956948Z"
    }
   },
   "outputs": [],
   "source": [
    "%store -r BER_Dublin_specific"
   ]
  },
  {
   "cell_type": "code",
   "execution_count": 2,
   "metadata": {
    "ExecuteTime": {
     "end_time": "2020-01-30T15:37:56.833948Z",
     "start_time": "2020-01-30T15:37:56.829945Z"
    }
   },
   "outputs": [],
   "source": [
    "import pandas as pd\n",
    "import numpy as np"
   ]
  },
  {
   "cell_type": "code",
   "execution_count": 3,
   "metadata": {
    "ExecuteTime": {
     "end_time": "2020-01-30T15:37:56.853947Z",
     "start_time": "2020-01-30T15:37:56.836948Z"
    }
   },
   "outputs": [],
   "source": [
    "def calc_main_HW_Demand(\n",
    "    CHPSystemType,\n",
    "    gsdHSSupplHeatFraction,\n",
    "    delivered_energy_main,\n",
    "    effficiency,\n",
    "    efficiency_adjustment_factor,\n",
    "    CHPUnitHeatFraction,\n",
    "):\n",
    "    eff_adj = effficiency * efficiency_adjustment_factor\n",
    "\n",
    "    # Group Heating (i.e. HH uses CHP or waste energy for HW & SH)\n",
    "    \"\"\" EXCEL FORMULA: WhReqt/H12\n",
    "        WhReqt = Output from main water heater [kWh/y]\n",
    "        H12 = Efficiency factor for charging method [-] = 0.9\n",
    "        \"\"\"\n",
    "    if pd.notnull(CHPSystemType) :\n",
    "        \n",
    "        return delivered_energy_main*0.9\n",
    "  \n",
    "       \n",
    "    # Individual Heating\n",
    "    \"\"\" EXCEL FORMULA: IF(J16=0,0,(1-M21)*WhReqt/(J16/100))  \n",
    "        J16 = Adjusted efficiency of main water heater [%]\n",
    "        WhReqt = Output from main water heater [kWh/y]\n",
    "        M21 = Fraction of main space and water heat from CHP\n",
    "        \"\"\"\n",
    "    if CHPUnitHeatFraction < 1:\n",
    "        return (1 / 1 - CHPUnitHeatFraction) * delivered_energy_main * (eff_adj / 100) \n",
    "    else:\n",
    "        return 0\n",
    "\n",
    "calc_main_HW_Demand = np.vectorize(calc_main_HW_Demand)"
   ]
  },
  {
   "cell_type": "code",
   "execution_count": 4,
   "metadata": {
    "ExecuteTime": {
     "end_time": "2020-01-30T15:37:57.342010Z",
     "start_time": "2020-01-30T15:37:56.857955Z"
    }
   },
   "outputs": [],
   "source": [
    "BER_Dublin_specific[r\"DeliveredEnergyMainWater (ind)\"] = calc_main_HW_Demand(\n",
    "    BER_Dublin_specific[\"CHPSystemType\"].values,\n",
    "    BER_Dublin_specific[\"gsdHSSupplHeatFraction_edited\"].values,\n",
    "    BER_Dublin_specific[\"DeliveredEnergyMainWater\"].values,\n",
    "    BER_Dublin_specific[\"WHMainSystemEff\"].values,\n",
    "    BER_Dublin_specific[\"WHEffAdjFactor\"].values,\n",
    "    BER_Dublin_specific[\"CHPUnitHeatFraction\"].values,\n",
    "    \n",
    ")"
   ]
  },
  {
   "cell_type": "code",
   "execution_count": 5,
   "metadata": {
    "ExecuteTime": {
     "end_time": "2020-01-30T15:37:57.493994Z",
     "start_time": "2020-01-30T15:37:57.343987Z"
    }
   },
   "outputs": [
    {
     "data": {
      "text/html": [
       "<div>\n",
       "<style scoped>\n",
       "    .dataframe tbody tr th:only-of-type {\n",
       "        vertical-align: middle;\n",
       "    }\n",
       "\n",
       "    .dataframe tbody tr th {\n",
       "        vertical-align: top;\n",
       "    }\n",
       "\n",
       "    .dataframe thead th {\n",
       "        text-align: right;\n",
       "    }\n",
       "</style>\n",
       "<table border=\"1\" class=\"dataframe\">\n",
       "  <thead>\n",
       "    <tr style=\"text-align: right;\">\n",
       "      <th></th>\n",
       "      <th>DeliveredEnergyMainWater</th>\n",
       "      <th>DeliveredEnergyMainWater (ind)</th>\n",
       "      <th>WHMainSystemEff</th>\n",
       "    </tr>\n",
       "  </thead>\n",
       "  <tbody>\n",
       "    <tr>\n",
       "      <th>2</th>\n",
       "      <td>5744.089</td>\n",
       "      <td>4927.566749</td>\n",
       "      <td>90.3</td>\n",
       "    </tr>\n",
       "    <tr>\n",
       "      <th>6</th>\n",
       "      <td>4287.963</td>\n",
       "      <td>2932.966692</td>\n",
       "      <td>72.0</td>\n",
       "    </tr>\n",
       "    <tr>\n",
       "      <th>15</th>\n",
       "      <td>4087.056</td>\n",
       "      <td>2523.757080</td>\n",
       "      <td>65.0</td>\n",
       "    </tr>\n",
       "    <tr>\n",
       "      <th>18</th>\n",
       "      <td>5879.203</td>\n",
       "      <td>3630.407853</td>\n",
       "      <td>65.0</td>\n",
       "    </tr>\n",
       "    <tr>\n",
       "      <th>22</th>\n",
       "      <td>3348.863</td>\n",
       "      <td>2491.051743</td>\n",
       "      <td>78.3</td>\n",
       "    </tr>\n",
       "  </tbody>\n",
       "</table>\n",
       "</div>"
      ],
      "text/plain": [
       "    DeliveredEnergyMainWater  DeliveredEnergyMainWater (ind)  WHMainSystemEff\n",
       "2                   5744.089                     4927.566749             90.3\n",
       "6                   4287.963                     2932.966692             72.0\n",
       "15                  4087.056                     2523.757080             65.0\n",
       "18                  5879.203                     3630.407853             65.0\n",
       "22                  3348.863                     2491.051743             78.3"
      ]
     },
     "execution_count": 5,
     "metadata": {},
     "output_type": "execute_result"
    }
   ],
   "source": [
    "BER_Dublin_specific[\n",
    "    [\"DeliveredEnergyMainWater\", \"DeliveredEnergyMainWater (ind)\", \"WHMainSystemEff\"]\n",
    "].head()"
   ]
  },
  {
   "cell_type": "code",
   "execution_count": 6,
   "metadata": {
    "ExecuteTime": {
     "end_time": "2020-01-30T15:37:58.185596Z",
     "start_time": "2020-01-30T15:37:57.498990Z"
    }
   },
   "outputs": [
    {
     "name": "stdout",
     "output_type": "stream",
     "text": [
      "Stored 'BER_Dublin_specific' (DataFrame)\n"
     ]
    }
   ],
   "source": [
    "%store BER_Dublin_specific"
   ]
  }
 ],
 "metadata": {
  "hide_input": false,
  "kernelspec": {
   "display_name": "Python 3",
   "language": "python",
   "name": "python3"
  },
  "language_info": {
   "codemirror_mode": {
    "name": "ipython",
    "version": 3
   },
   "file_extension": ".py",
   "mimetype": "text/x-python",
   "name": "python",
   "nbconvert_exporter": "python",
   "pygments_lexer": "ipython3",
   "version": "3.7.3"
  },
  "toc": {
   "base_numbering": 1,
   "nav_menu": {},
   "number_sections": true,
   "sideBar": true,
   "skip_h1_title": false,
   "title_cell": "Table of Contents",
   "title_sidebar": "Contents",
   "toc_cell": false,
   "toc_position": {},
   "toc_section_display": true,
   "toc_window_display": false
  },
  "varInspector": {
   "cols": {
    "lenName": 16,
    "lenType": 16,
    "lenVar": 40
   },
   "kernels_config": {
    "python": {
     "delete_cmd_postfix": "",
     "delete_cmd_prefix": "del ",
     "library": "var_list.py",
     "varRefreshCmd": "print(var_dic_list())"
    },
    "r": {
     "delete_cmd_postfix": ") ",
     "delete_cmd_prefix": "rm(",
     "library": "var_list.r",
     "varRefreshCmd": "cat(var_dic_list()) "
    }
   },
   "types_to_exclude": [
    "module",
    "function",
    "builtin_function_or_method",
    "instance",
    "_Feature"
   ],
   "window_display": false
  }
 },
 "nbformat": 4,
 "nbformat_minor": 2
}
