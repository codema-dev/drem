{
 "cells": [
  {
   "cell_type": "code",
   "execution_count": 1,
   "metadata": {
    "ExecuteTime": {
     "end_time": "2020-01-30T15:37:17.784891Z",
     "start_time": "2020-01-30T15:37:17.209893Z"
    }
   },
   "outputs": [],
   "source": [
    "import pandas as pd\n",
    "import numpy as np"
   ]
  },
  {
   "cell_type": "code",
   "execution_count": 2,
   "metadata": {
    "ExecuteTime": {
     "end_time": "2020-01-30T15:37:18.074893Z",
     "start_time": "2020-01-30T15:37:17.786893Z"
    },
    "scrolled": true
   },
   "outputs": [
    {
     "data": {
      "text/html": [
       "<div>\n",
       "<style scoped>\n",
       "    .dataframe tbody tr th:only-of-type {\n",
       "        vertical-align: middle;\n",
       "    }\n",
       "\n",
       "    .dataframe tbody tr th {\n",
       "        vertical-align: top;\n",
       "    }\n",
       "\n",
       "    .dataframe thead th {\n",
       "        text-align: right;\n",
       "    }\n",
       "</style>\n",
       "<table border=\"1\" class=\"dataframe\">\n",
       "  <thead>\n",
       "    <tr style=\"text-align: right;\">\n",
       "      <th></th>\n",
       "      <th>Postcodes</th>\n",
       "      <th>DwellingTypeDescr</th>\n",
       "      <th>Year_of_Construction</th>\n",
       "      <th>DeliveredEnergyMainWater</th>\n",
       "      <th>MainWaterHeatingFuel</th>\n",
       "      <th>WHMainSystemEff</th>\n",
       "      <th>WHEffAdjFactor</th>\n",
       "      <th>DeliveredEnergySupplementaryWater</th>\n",
       "      <th>SupplWHFuel</th>\n",
       "      <th>DeliveredEnergyMainSpace</th>\n",
       "      <th>...</th>\n",
       "      <th>DeliveredEnergySecondarySpace</th>\n",
       "      <th>HSSupplSystemEff</th>\n",
       "      <th>SupplSHFuel</th>\n",
       "      <th>ElecImmersionInSummer</th>\n",
       "      <th>SolarHeatFraction</th>\n",
       "      <th>HSSupplHeatFraction</th>\n",
       "      <th>CHPSystemType</th>\n",
       "      <th>CHPUnitHeatFraction</th>\n",
       "      <th>gsdHSSupplHeatFraction</th>\n",
       "      <th>TotalFloorArea</th>\n",
       "    </tr>\n",
       "  </thead>\n",
       "  <tbody>\n",
       "    <tr>\n",
       "      <th>2</th>\n",
       "      <td>Co. Dublin</td>\n",
       "      <td>Mid-terrace house</td>\n",
       "      <td>2003</td>\n",
       "      <td>5744.089</td>\n",
       "      <td>Mains Gas</td>\n",
       "      <td>90.3</td>\n",
       "      <td>0.95</td>\n",
       "      <td>0.000</td>\n",
       "      <td>28.0</td>\n",
       "      <td>10826.731</td>\n",
       "      <td>...</td>\n",
       "      <td>3440.495</td>\n",
       "      <td>30.0</td>\n",
       "      <td>8.0</td>\n",
       "      <td>NO</td>\n",
       "      <td>NaN</td>\n",
       "      <td>0.1</td>\n",
       "      <td>NaN</td>\n",
       "      <td>NaN</td>\n",
       "      <td>NaN</td>\n",
       "      <td>131.48</td>\n",
       "    </tr>\n",
       "    <tr>\n",
       "      <th>6</th>\n",
       "      <td>Dublin 14</td>\n",
       "      <td>Semi-detached house</td>\n",
       "      <td>1962</td>\n",
       "      <td>4287.963</td>\n",
       "      <td>Mains Gas</td>\n",
       "      <td>72.0</td>\n",
       "      <td>0.95</td>\n",
       "      <td>1041.995</td>\n",
       "      <td>28.0</td>\n",
       "      <td>20046.920</td>\n",
       "      <td>...</td>\n",
       "      <td>2116.064</td>\n",
       "      <td>72.0</td>\n",
       "      <td>2.0</td>\n",
       "      <td>YES</td>\n",
       "      <td>NaN</td>\n",
       "      <td>0.1</td>\n",
       "      <td>NaN</td>\n",
       "      <td>NaN</td>\n",
       "      <td>NaN</td>\n",
       "      <td>95.34</td>\n",
       "    </tr>\n",
       "    <tr>\n",
       "      <th>15</th>\n",
       "      <td>Dublin 11</td>\n",
       "      <td>End of terrace house</td>\n",
       "      <td>1972</td>\n",
       "      <td>4087.056</td>\n",
       "      <td>Mains Gas</td>\n",
       "      <td>65.0</td>\n",
       "      <td>0.95</td>\n",
       "      <td>840.445</td>\n",
       "      <td>28.0</td>\n",
       "      <td>14756.551</td>\n",
       "      <td>...</td>\n",
       "      <td>1608.386</td>\n",
       "      <td>63.0</td>\n",
       "      <td>2.0</td>\n",
       "      <td>YES</td>\n",
       "      <td>NaN</td>\n",
       "      <td>0.1</td>\n",
       "      <td>NaN</td>\n",
       "      <td>NaN</td>\n",
       "      <td>NaN</td>\n",
       "      <td>87.76</td>\n",
       "    </tr>\n",
       "    <tr>\n",
       "      <th>18</th>\n",
       "      <td>Dublin 12</td>\n",
       "      <td>Mid-terrace house</td>\n",
       "      <td>1939</td>\n",
       "      <td>5879.203</td>\n",
       "      <td>Mains Gas</td>\n",
       "      <td>65.0</td>\n",
       "      <td>0.95</td>\n",
       "      <td>0.000</td>\n",
       "      <td>28.0</td>\n",
       "      <td>11019.516</td>\n",
       "      <td>...</td>\n",
       "      <td>1891.684</td>\n",
       "      <td>40.0</td>\n",
       "      <td>2.0</td>\n",
       "      <td>NO</td>\n",
       "      <td>NaN</td>\n",
       "      <td>0.1</td>\n",
       "      <td>NaN</td>\n",
       "      <td>NaN</td>\n",
       "      <td>NaN</td>\n",
       "      <td>59.31</td>\n",
       "    </tr>\n",
       "    <tr>\n",
       "      <th>22</th>\n",
       "      <td>Dublin 18</td>\n",
       "      <td>Top-floor apartment</td>\n",
       "      <td>2004</td>\n",
       "      <td>3348.863</td>\n",
       "      <td>Mains Gas</td>\n",
       "      <td>78.3</td>\n",
       "      <td>0.95</td>\n",
       "      <td>824.336</td>\n",
       "      <td>28.0</td>\n",
       "      <td>8743.726</td>\n",
       "      <td>...</td>\n",
       "      <td>0.000</td>\n",
       "      <td>0.0</td>\n",
       "      <td>1.0</td>\n",
       "      <td>YES</td>\n",
       "      <td>NaN</td>\n",
       "      <td>0.0</td>\n",
       "      <td>NaN</td>\n",
       "      <td>NaN</td>\n",
       "      <td>NaN</td>\n",
       "      <td>74.56</td>\n",
       "    </tr>\n",
       "  </tbody>\n",
       "</table>\n",
       "<p>5 rows × 23 columns</p>\n",
       "</div>"
      ],
      "text/plain": [
       "     Postcodes     DwellingTypeDescr  Year_of_Construction  \\\n",
       "2   Co. Dublin     Mid-terrace house                  2003   \n",
       "6    Dublin 14   Semi-detached house                  1962   \n",
       "15   Dublin 11  End of terrace house                  1972   \n",
       "18   Dublin 12     Mid-terrace house                  1939   \n",
       "22   Dublin 18   Top-floor apartment                  2004   \n",
       "\n",
       "    DeliveredEnergyMainWater            MainWaterHeatingFuel  WHMainSystemEff  \\\n",
       "2                   5744.089  Mains Gas                                  90.3   \n",
       "6                   4287.963  Mains Gas                                  72.0   \n",
       "15                  4087.056  Mains Gas                                  65.0   \n",
       "18                  5879.203  Mains Gas                                  65.0   \n",
       "22                  3348.863  Mains Gas                                  78.3   \n",
       "\n",
       "    WHEffAdjFactor  DeliveredEnergySupplementaryWater  SupplWHFuel  \\\n",
       "2             0.95                              0.000         28.0   \n",
       "6             0.95                           1041.995         28.0   \n",
       "15            0.95                            840.445         28.0   \n",
       "18            0.95                              0.000         28.0   \n",
       "22            0.95                            824.336         28.0   \n",
       "\n",
       "    DeliveredEnergyMainSpace  ... DeliveredEnergySecondarySpace  \\\n",
       "2                  10826.731  ...                      3440.495   \n",
       "6                  20046.920  ...                      2116.064   \n",
       "15                 14756.551  ...                      1608.386   \n",
       "18                 11019.516  ...                      1891.684   \n",
       "22                  8743.726  ...                         0.000   \n",
       "\n",
       "    HSSupplSystemEff  SupplSHFuel  ElecImmersionInSummer  SolarHeatFraction  \\\n",
       "2               30.0          8.0                    NO                 NaN   \n",
       "6               72.0          2.0                    YES                NaN   \n",
       "15              63.0          2.0                    YES                NaN   \n",
       "18              40.0          2.0                    NO                 NaN   \n",
       "22               0.0          1.0                    YES                NaN   \n",
       "\n",
       "    HSSupplHeatFraction CHPSystemType  CHPUnitHeatFraction  \\\n",
       "2                   0.1           NaN                  NaN   \n",
       "6                   0.1           NaN                  NaN   \n",
       "15                  0.1           NaN                  NaN   \n",
       "18                  0.1           NaN                  NaN   \n",
       "22                  0.0           NaN                  NaN   \n",
       "\n",
       "    gsdHSSupplHeatFraction  TotalFloorArea  \n",
       "2                      NaN          131.48  \n",
       "6                      NaN           95.34  \n",
       "15                     NaN           87.76  \n",
       "18                     NaN           59.31  \n",
       "22                     NaN           74.56  \n",
       "\n",
       "[5 rows x 23 columns]"
      ]
     },
     "execution_count": 2,
     "metadata": {},
     "output_type": "execute_result"
    }
   ],
   "source": [
    "%store -r BER_Dublin_specific\n",
    "\n",
    "BER_Dublin_specific.head()"
   ]
  },
  {
   "cell_type": "markdown",
   "metadata": {},
   "source": [
    "Convert Secondary SH & HW encodings to fuel types\n",
    "--"
   ]
  },
  {
   "cell_type": "code",
   "execution_count": 3,
   "metadata": {
    "ExecuteTime": {
     "end_time": "2020-01-30T15:37:18.179890Z",
     "start_time": "2020-01-30T15:37:18.076893Z"
    },
    "code_folding": [
     2
    ]
   },
   "outputs": [],
   "source": [
    "## Secondary HW\n",
    "\n",
    "\"\"\" Only one type of supplementary HW system recognised in the BER,\n",
    "    namely immersion heater located in the HW cylinder, so fuel if specified is always Electricity\n",
    "    \n",
    "    Because encoding makes no sense it will be assumed that any non-zero DeliveredEnergySupplementaryWater is electricity\n",
    "    \n",
    "    \"\"\"\n",
    "\n",
    "def convert_SecHWDemand_to_Fuel (s):\n",
    "    if s > 0:\n",
    "        return \"Electricity\"\n",
    "    return None\n",
    "\n",
    "convert_SecHWDemand_to_Fuel = np.vectorize(convert_SecHWDemand_to_Fuel)\n",
    "\n",
    "# OVERWRITE BER \"SupplWHFuel\"\n",
    "BER_Dublin_specific[\"SupplWHFuel\"] = convert_SecHWDemand_to_Fuel(BER_Dublin_specific[\"DeliveredEnergySupplementaryWater\"])"
   ]
  },
  {
   "cell_type": "markdown",
   "metadata": {},
   "source": [
    "Convert all gsdHSSupplHeatFraction, HSSupplSystemEff into fraction format\n",
    "--"
   ]
  },
  {
   "cell_type": "code",
   "execution_count": 4,
   "metadata": {
    "ExecuteTime": {
     "end_time": "2020-01-30T15:37:18.712892Z",
     "start_time": "2020-01-30T15:37:18.182895Z"
    }
   },
   "outputs": [],
   "source": [
    "def convert_to_Fraction(s):\n",
    "    \n",
    "    if pd.notnull(s):\n",
    "        if s > 1:\n",
    "            return s / 100\n",
    "    return s\n",
    "\n",
    "\n",
    "convert_to_Fraction = np.vectorize(convert_to_Fraction)\n",
    "\n",
    "BER_Dublin_specific[\"gsdHSSupplHeatFraction_edited\"] = convert_to_Fraction(\n",
    "    BER_Dublin_specific[\"gsdHSSupplHeatFraction\"]\n",
    ")\n",
    "BER_Dublin_specific[\"HSSupplSystemEff_edited\"] = convert_to_Fraction(\n",
    "    BER_Dublin_specific[\"HSSupplSystemEff\"]\n",
    ")"
   ]
  },
  {
   "cell_type": "markdown",
   "metadata": {},
   "source": [
    "Set null values to 0\n",
    "---"
   ]
  },
  {
   "cell_type": "code",
   "execution_count": 5,
   "metadata": {
    "ExecuteTime": {
     "end_time": "2020-01-30T15:37:18.967913Z",
     "start_time": "2020-01-30T15:37:18.715894Z"
    },
    "scrolled": true
   },
   "outputs": [
    {
     "data": {
      "text/html": [
       "<div>\n",
       "<style scoped>\n",
       "    .dataframe tbody tr th:only-of-type {\n",
       "        vertical-align: middle;\n",
       "    }\n",
       "\n",
       "    .dataframe tbody tr th {\n",
       "        vertical-align: top;\n",
       "    }\n",
       "\n",
       "    .dataframe thead th {\n",
       "        text-align: right;\n",
       "    }\n",
       "</style>\n",
       "<table border=\"1\" class=\"dataframe\">\n",
       "  <thead>\n",
       "    <tr style=\"text-align: right;\">\n",
       "      <th></th>\n",
       "      <th>CHPUnitHeatFraction</th>\n",
       "      <th>SolarHeatFraction</th>\n",
       "    </tr>\n",
       "  </thead>\n",
       "  <tbody>\n",
       "    <tr>\n",
       "      <th>2</th>\n",
       "      <td>0.0</td>\n",
       "      <td>0.0</td>\n",
       "    </tr>\n",
       "    <tr>\n",
       "      <th>6</th>\n",
       "      <td>0.0</td>\n",
       "      <td>0.0</td>\n",
       "    </tr>\n",
       "    <tr>\n",
       "      <th>15</th>\n",
       "      <td>0.0</td>\n",
       "      <td>0.0</td>\n",
       "    </tr>\n",
       "    <tr>\n",
       "      <th>18</th>\n",
       "      <td>0.0</td>\n",
       "      <td>0.0</td>\n",
       "    </tr>\n",
       "    <tr>\n",
       "      <th>22</th>\n",
       "      <td>0.0</td>\n",
       "      <td>0.0</td>\n",
       "    </tr>\n",
       "  </tbody>\n",
       "</table>\n",
       "</div>"
      ],
      "text/plain": [
       "    CHPUnitHeatFraction  SolarHeatFraction\n",
       "2                   0.0                0.0\n",
       "6                   0.0                0.0\n",
       "15                  0.0                0.0\n",
       "18                  0.0                0.0\n",
       "22                  0.0                0.0"
      ]
     },
     "execution_count": 5,
     "metadata": {},
     "output_type": "execute_result"
    }
   ],
   "source": [
    "BER_Dublin_specific.update(\n",
    "    BER_Dublin_specific[[\"CHPUnitHeatFraction\", \"SolarHeatFraction\"]].fillna(0)\n",
    ")\n",
    "\n",
    "BER_Dublin_specific[[\"CHPUnitHeatFraction\", \"SolarHeatFraction\"]].head()"
   ]
  },
  {
   "cell_type": "markdown",
   "metadata": {},
   "source": [
    "Store\n",
    "---"
   ]
  },
  {
   "cell_type": "code",
   "execution_count": 6,
   "metadata": {
    "ExecuteTime": {
     "end_time": "2020-01-30T15:37:19.604527Z",
     "start_time": "2020-01-30T15:37:18.973899Z"
    }
   },
   "outputs": [
    {
     "name": "stdout",
     "output_type": "stream",
     "text": [
      "Stored 'BER_Dublin_specific' (DataFrame)\n"
     ]
    }
   ],
   "source": [
    "%store BER_Dublin_specific"
   ]
  }
 ],
 "metadata": {
  "hide_input": false,
  "kernelspec": {
   "display_name": "Python 3",
   "language": "python",
   "name": "python3"
  },
  "language_info": {
   "codemirror_mode": {
    "name": "ipython",
    "version": 3
   },
   "file_extension": ".py",
   "mimetype": "text/x-python",
   "name": "python",
   "nbconvert_exporter": "python",
   "pygments_lexer": "ipython3",
   "version": "3.7.3"
  },
  "toc": {
   "base_numbering": 1,
   "nav_menu": {},
   "number_sections": true,
   "sideBar": true,
   "skip_h1_title": false,
   "title_cell": "Table of Contents",
   "title_sidebar": "Contents",
   "toc_cell": false,
   "toc_position": {},
   "toc_section_display": true,
   "toc_window_display": false
  },
  "varInspector": {
   "cols": {
    "lenName": 16,
    "lenType": 16,
    "lenVar": 40
   },
   "kernels_config": {
    "python": {
     "delete_cmd_postfix": "",
     "delete_cmd_prefix": "del ",
     "library": "var_list.py",
     "varRefreshCmd": "print(var_dic_list())"
    },
    "r": {
     "delete_cmd_postfix": ") ",
     "delete_cmd_prefix": "rm(",
     "library": "var_list.r",
     "varRefreshCmd": "cat(var_dic_list()) "
    }
   },
   "types_to_exclude": [
    "module",
    "function",
    "builtin_function_or_method",
    "instance",
    "_Feature"
   ],
   "window_display": false
  }
 },
 "nbformat": 4,
 "nbformat_minor": 2
}
