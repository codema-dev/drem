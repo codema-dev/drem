{
 "cells": [
  {
   "cell_type": "code",
   "execution_count": 1,
   "metadata": {
    "ExecuteTime": {
     "end_time": "2020-01-27T11:59:46.706793Z",
     "start_time": "2020-01-27T11:59:46.012086Z"
    }
   },
   "outputs": [],
   "source": [
    "%store -r BER_Dublin_specific"
   ]
  },
  {
   "cell_type": "code",
   "execution_count": 2,
   "metadata": {
    "ExecuteTime": {
     "end_time": "2020-01-27T11:59:46.712792Z",
     "start_time": "2020-01-27T11:59:46.708795Z"
    }
   },
   "outputs": [],
   "source": [
    "import pandas as pd"
   ]
  },
  {
   "cell_type": "code",
   "execution_count": 3,
   "metadata": {
    "ExecuteTime": {
     "end_time": "2020-01-27T11:59:47.665801Z",
     "start_time": "2020-01-27T11:59:46.715791Z"
    }
   },
   "outputs": [
    {
     "data": {
      "text/plain": [
       "<matplotlib.axes._subplots.AxesSubplot at 0x1f5dae1efd0>"
      ]
     },
     "execution_count": 3,
     "metadata": {},
     "output_type": "execute_result"
    },
    {
     "data": {
      "image/png": "[encoded data removed]",
      "text/plain": [
       "<Figure size 432x288 with 1 Axes>"
      ]
     },
     "metadata": {
      "needs_background": "light"
     },
     "output_type": "display_data"
    }
   ],
   "source": [
    "BER_Dublin_specific[\"DeliveredEnergyMainSpace\"].plot.box()"
   ]
  },
  {
   "cell_type": "markdown",
   "metadata": {},
   "source": [
    "Eliminate very large outliers\n",
    "---"
   ]
  },
  {
   "cell_type": "code",
   "execution_count": null,
   "metadata": {},
   "outputs": [],
   "source": [
    "# Find the 4 data points > 1*10^5 in value\n",
    "\n",
    "BER_Dublin_specific[BER_Dublin_specific[\"DeliveredEnergyMainSpace\"] > 4*10**5 ]"
   ]
  },
  {
   "cell_type": "code",
   "execution_count": null,
   "metadata": {},
   "outputs": [],
   "source": [
    "# Store and then eliminate these data points\n",
    "eliminated_data = BER_Dublin_specific[ BER_Dublin_specific[\"DeliveredEnergyMainSpace\"] > 4*10**5 ].copy()\n",
    "\n",
    "mask = BER_Dublin_specific[\"DeliveredEnergyMainSpace\"] > 4*10**5 \n",
    "BER_Dublin_specific.drop(BER_Dublin_specific[mask].index, inplace=True)\n",
    "\n",
    "BER_Dublin_specific[mask]"
   ]
  },
  {
   "cell_type": "code",
   "execution_count": null,
   "metadata": {},
   "outputs": [],
   "source": [
    "BER_Dublin_specific[\"DeliveredEnergyMainSpace\"].plot.box()"
   ]
  },
  {
   "cell_type": "markdown",
   "metadata": {},
   "source": [
    "Eliminate large outliers\n",
    "---"
   ]
  },
  {
   "cell_type": "code",
   "execution_count": null,
   "metadata": {},
   "outputs": [],
   "source": [
    "# Find the 4 data points > 30,000\n",
    "\n",
    "BER_Dublin_specific[BER_Dublin_specific[\"DeliveredEnergyMainSpace\"] > 225000 ]"
   ]
  },
  {
   "cell_type": "code",
   "execution_count": null,
   "metadata": {},
   "outputs": [],
   "source": [
    "# Store and then eliminate these data points\n",
    "eliminated_data = eliminated_data.append(BER_Dublin_specific[ BER_Dublin_specific[\"DeliveredEnergyMainSpace\"] > 225000 ].copy())\n",
    "\n",
    "mask = BER_Dublin_specific[\"DeliveredEnergyMainSpace\"] > 225000 \n",
    "BER_Dublin_specific.drop(BER_Dublin_specific[mask].index, inplace=True)\n",
    "\n",
    "BER_Dublin_specific[mask]"
   ]
  },
  {
   "cell_type": "code",
   "execution_count": null,
   "metadata": {},
   "outputs": [],
   "source": [
    "BER_Dublin_specific[\"DeliveredEnergyMainSpace\"].plot.box()"
   ]
  },
  {
   "cell_type": "markdown",
   "metadata": {},
   "source": [
    "Eliminate -ve value outliers\n",
    "---"
   ]
  },
  {
   "cell_type": "code",
   "execution_count": null,
   "metadata": {},
   "outputs": [],
   "source": [
    "# Find the 4 data points > 30,000\n",
    "\n",
    "BER_Dublin_specific[BER_Dublin_specific[\"DeliveredEnergyMainSpace\"] <= 100 ]"
   ]
  },
  {
   "cell_type": "code",
   "execution_count": null,
   "metadata": {},
   "outputs": [],
   "source": [
    "# Store and then eliminate these data points\n",
    "eliminated_data = eliminated_data.append(BER_Dublin_specific[ BER_Dublin_specific[\"DeliveredEnergyMainSpace\"] <= 100 ].copy())\n",
    "\n",
    "mask = BER_Dublin_specific[\"DeliveredEnergyMainSpace\"] <= 100  \n",
    "BER_Dublin_specific.drop(BER_Dublin_specific[mask].index, inplace=True)\n",
    "\n",
    "BER_Dublin_specific[mask]"
   ]
  },
  {
   "cell_type": "code",
   "execution_count": null,
   "metadata": {},
   "outputs": [],
   "source": [
    "BER_Dublin_specific[\"DeliveredEnergyMainSpace\"].plot.box()"
   ]
  },
  {
   "cell_type": "markdown",
   "metadata": {},
   "source": [
    "Store\n",
    "---"
   ]
  },
  {
   "cell_type": "code",
   "execution_count": 1,
   "metadata": {},
   "outputs": [],
   "source": [
    "%store BER_Dublin_specific"
   ]
  }
 ],
 "metadata": {
  "hide_input": false,
  "kernelspec": {
   "display_name": "Python 3",
   "language": "python",
   "name": "python3"
  },
  "language_info": {
   "codemirror_mode": {
    "name": "ipython",
    "version": 3
   },
   "file_extension": ".py",
   "mimetype": "text/x-python",
   "name": "python",
   "nbconvert_exporter": "python",
   "pygments_lexer": "ipython3",
   "version": "3.8.1"
  },
  "toc": {
   "base_numbering": 1,
   "nav_menu": {},
   "number_sections": true,
   "sideBar": true,
   "skip_h1_title": false,
   "title_cell": "Table of Contents",
   "title_sidebar": "Contents",
   "toc_cell": false,
   "toc_position": {},
   "toc_section_display": true,
   "toc_window_display": false
  },
  "varInspector": {
   "cols": {
    "lenName": 16,
    "lenType": 16,
    "lenVar": 40
   },
   "kernels_config": {
    "python": {
     "delete_cmd_postfix": "",
     "delete_cmd_prefix": "del ",
     "library": "var_list.py",
     "varRefreshCmd": "print(var_dic_list())"
    },
    "r": {
     "delete_cmd_postfix": ") ",
     "delete_cmd_prefix": "rm(",
     "library": "var_list.r",
     "varRefreshCmd": "cat(var_dic_list()) "
    }
   },
   "types_to_exclude": [
    "module",
    "function",
    "builtin_function_or_method",
    "instance",
    "_Feature"
   ],
   "window_display": false
  }
 },
 "nbformat": 4,
 "nbformat_minor": 2
}
