{
 "cells": [
  {
   "cell_type": "code",
   "execution_count": 1,
   "metadata": {},
   "outputs": [],
   "source": [
    "%store -r BER_Dublin_specific"
   ]
  },
  {
   "cell_type": "code",
   "execution_count": 3,
   "metadata": {},
   "outputs": [
    {
     "ename": "ModuleNotFoundError",
     "evalue": "No module named 'rpy2'",
     "output_type": "error",
     "traceback": [
      "\u001b[1;31m---------------------------------------------------------------------------\u001b[0m",
      "\u001b[1;31mModuleNotFoundError\u001b[0m                       Traceback (most recent call last)",
      "\u001b[1;32m<ipython-input-3-7e93cc45cbf3>\u001b[0m in \u001b[0;36m<module>\u001b[1;34m\u001b[0m\n\u001b[0;32m      1\u001b[0m \u001b[1;32mimport\u001b[0m \u001b[0mpandas\u001b[0m \u001b[1;32mas\u001b[0m \u001b[0mpd\u001b[0m\u001b[1;33m\u001b[0m\u001b[1;33m\u001b[0m\u001b[0m\n\u001b[0;32m      2\u001b[0m \u001b[1;33m\u001b[0m\u001b[0m\n\u001b[1;32m----> 3\u001b[1;33m \u001b[1;32mfrom\u001b[0m \u001b[0mrpy2\u001b[0m\u001b[1;33m.\u001b[0m\u001b[0mrobjects\u001b[0m \u001b[1;32mimport\u001b[0m \u001b[0mr\u001b[0m\u001b[1;33m,\u001b[0m \u001b[0mpandas2ri\u001b[0m\u001b[1;33m\u001b[0m\u001b[1;33m\u001b[0m\u001b[0m\n\u001b[0m\u001b[0;32m      4\u001b[0m \u001b[0mpandas2ri\u001b[0m\u001b[1;33m.\u001b[0m\u001b[0mactivate\u001b[0m\u001b[1;33m(\u001b[0m\u001b[1;33m)\u001b[0m\u001b[1;33m\u001b[0m\u001b[1;33m\u001b[0m\u001b[0m\n",
      "\u001b[1;31mModuleNotFoundError\u001b[0m: No module named 'rpy2'"
     ]
    }
   ],
   "source": [
    "import pandas as pd\n",
    "\n",
    "from rpy2.robjects import r, pandas2ri\n",
    "pandas2ri.activate()"
   ]
  },
  {
   "cell_type": "code",
   "execution_count": null,
   "metadata": {},
   "outputs": [],
   "source": [
    "from rpy2.robjects import r, pandas2ri\n",
    "pandas2ri.activate()"
   ]
  },
  {
   "cell_type": "code",
   "execution_count": null,
   "metadata": {},
   "outputs": [],
   "source": [
    "# R magic enabled:\n",
    "%load_ext rpy2.ipython\n",
    "\n",
    "# - %R - line magic\n",
    "# - %%R - cell magic\n",
    "\n",
    "# Arguments:\n",
    "# - i - input variables\n",
    "# - o - output variables\n",
    "# - h - height of plot\n",
    "# - w - width of plot"
   ]
  },
  {
   "cell_type": "code",
   "execution_count": null,
   "metadata": {},
   "outputs": [],
   "source": [
    "py_SH_Demand = BER_Dublin[\"DeliveredEnergyMainSpace\"]\n",
    "r_SH_Demand = pandas2ri.py2ri(BER_Dublin[\"DeliveredEnergyMainSpace\"])"
   ]
  },
  {
   "cell_type": "code",
   "execution_count": null,
   "metadata": {},
   "outputs": [],
   "source": [
    "%%R -i r_SH_Demand \n",
    "\n",
    "library(robustbase)\n",
    "\n",
    "adjbox(r_SH_Demand)"
   ]
  },
  {
   "cell_type": "markdown",
   "metadata": {},
   "source": [
    "Eliminate very large outliers\n",
    "---"
   ]
  },
  {
   "cell_type": "code",
   "execution_count": null,
   "metadata": {},
   "outputs": [],
   "source": [
    "# Find the 4 data points > 1*10^5 in value\n",
    "\n",
    "BER_Dublin[BER_Dublin[\"DeliveredEnergyMainSpace\"] > 4*10**5 ]"
   ]
  },
  {
   "cell_type": "code",
   "execution_count": null,
   "metadata": {},
   "outputs": [],
   "source": [
    "# Store and then eliminate these data points\n",
    "eliminated_data = BER_Dublin[ BER_Dublin[\"DeliveredEnergyMainSpace\"] > 4*10**5 ].copy()\n",
    "\n",
    "mask = BER_Dublin[\"DeliveredEnergyMainSpace\"] > 4*10**5 \n",
    "BER_Dublin.drop(BER_Dublin[mask].index, inplace=True)\n",
    "\n",
    "BER_Dublin[ BER_Dublin[\"DeliveredEnergyMainSpace\"] > 4*10**5 ]"
   ]
  },
  {
   "cell_type": "code",
   "execution_count": null,
   "metadata": {},
   "outputs": [],
   "source": [
    "py_SH_Demand = BER_Dublin[\"DeliveredEnergyMainSpace\"]\n",
    "r_SH_Demand = pandas2ri.py2ri(BER_Dublin[\"DeliveredEnergyMainSpace\"])"
   ]
  },
  {
   "cell_type": "code",
   "execution_count": null,
   "metadata": {},
   "outputs": [],
   "source": [
    "%%R -i r_SH_Demand \n",
    "\n",
    "library(robustbase)\n",
    "\n",
    "adjbox(r_SH_Demand)"
   ]
  },
  {
   "cell_type": "markdown",
   "metadata": {},
   "source": [
    "Eliminate large outliers\n",
    "---"
   ]
  },
  {
   "cell_type": "code",
   "execution_count": null,
   "metadata": {},
   "outputs": [],
   "source": [
    "# Find the 4 data points > 30,000\n",
    "\n",
    "BER_Dublin[BER_Dublin[\"DeliveredEnergyMainSpace\"] > 225000 ]"
   ]
  },
  {
   "cell_type": "code",
   "execution_count": null,
   "metadata": {},
   "outputs": [],
   "source": [
    "# Store and then eliminate these data points\n",
    "eliminated_data = eliminated_data.append(BER_Dublin[ BER_Dublin[\"DeliveredEnergyMainSpace\"] > 225000 ].copy())\n",
    "\n",
    "mask = BER_Dublin[\"DeliveredEnergyMainSpace\"] > 225000 \n",
    "BER_Dublin.drop(BER_Dublin[mask].index, inplace=True)\n",
    "\n",
    "BER_Dublin[ BER_Dublin[\"DeliveredEnergyMainSpace\"] > 225000  ]"
   ]
  },
  {
   "cell_type": "code",
   "execution_count": null,
   "metadata": {},
   "outputs": [],
   "source": [
    "py_SH_Demand = BER_Dublin[\"DeliveredEnergyMainSpace\"]\n",
    "r_SH_Demand = pandas2ri.py2ri(BER_Dublin[\"DeliveredEnergyMainSpace\"])"
   ]
  },
  {
   "cell_type": "code",
   "execution_count": null,
   "metadata": {},
   "outputs": [],
   "source": [
    "%%R -i r_SH_Demand \n",
    "\n",
    "library(robustbase)\n",
    "\n",
    "adjbox(r_SH_Demand)"
   ]
  },
  {
   "cell_type": "markdown",
   "metadata": {},
   "source": [
    "Eliminate -ve value outliers\n",
    "---"
   ]
  },
  {
   "cell_type": "code",
   "execution_count": null,
   "metadata": {},
   "outputs": [],
   "source": [
    "# Find the 4 data points > 30,000\n",
    "\n",
    "BER_Dublin[BER_Dublin[\"DeliveredEnergyMainSpace\"] <= 100 ]"
   ]
  },
  {
   "cell_type": "code",
   "execution_count": null,
   "metadata": {},
   "outputs": [],
   "source": [
    "# Store and then eliminate these data points\n",
    "eliminated_data = eliminated_data.append(BER_Dublin[ BER_Dublin[\"DeliveredEnergyMainSpace\"] <= 100 ].copy())\n",
    "\n",
    "mask = BER_Dublin[\"DeliveredEnergyMainSpace\"] <= 100  \n",
    "BER_Dublin.drop(BER_Dublin[mask].index, inplace=True)\n",
    "\n",
    "BER_Dublin[ BER_Dublin[\"DeliveredEnergyMainSpace\"] <= 100  ]"
   ]
  },
  {
   "cell_type": "code",
   "execution_count": null,
   "metadata": {},
   "outputs": [],
   "source": [
    "py_SH_Demand = BER_Dublin[\"DeliveredEnergyMainSpace\"]\n",
    "r_SH_Demand = pandas2ri.py2ri(BER_Dublin[\"DeliveredEnergyMainSpace\"])"
   ]
  },
  {
   "cell_type": "code",
   "execution_count": null,
   "metadata": {},
   "outputs": [],
   "source": [
    "%%R -i r_SH_Demand \n",
    "\n",
    "library(robustbase)\n",
    "\n",
    "adjbox(r_SH_Demand)"
   ]
  }
 ],
 "metadata": {
  "hide_input": false,
  "kernelspec": {
   "display_name": "Python 3",
   "language": "python",
   "name": "python3"
  },
  "language_info": {
   "codemirror_mode": {
    "name": "ipython",
    "version": 3
   },
   "file_extension": ".py",
   "mimetype": "text/x-python",
   "name": "python",
   "nbconvert_exporter": "python",
   "pygments_lexer": "ipython3",
   "version": "3.7.3"
  },
  "toc": {
   "base_numbering": 1,
   "nav_menu": {},
   "number_sections": true,
   "sideBar": true,
   "skip_h1_title": false,
   "title_cell": "Table of Contents",
   "title_sidebar": "Contents",
   "toc_cell": false,
   "toc_position": {},
   "toc_section_display": true,
   "toc_window_display": false
  },
  "varInspector": {
   "cols": {
    "lenName": 16,
    "lenType": 16,
    "lenVar": 40
   },
   "kernels_config": {
    "python": {
     "delete_cmd_postfix": "",
     "delete_cmd_prefix": "del ",
     "library": "var_list.py",
     "varRefreshCmd": "print(var_dic_list())"
    },
    "r": {
     "delete_cmd_postfix": ") ",
     "delete_cmd_prefix": "rm(",
     "library": "var_list.r",
     "varRefreshCmd": "cat(var_dic_list()) "
    }
   },
   "types_to_exclude": [
    "module",
    "function",
    "builtin_function_or_method",
    "instance",
    "_Feature"
   ],
   "window_display": false
  }
 },
 "nbformat": 4,
 "nbformat_minor": 2
}
