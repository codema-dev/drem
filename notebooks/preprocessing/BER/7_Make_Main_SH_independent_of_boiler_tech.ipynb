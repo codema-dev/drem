{
 "cells": [
  {
   "cell_type": "code",
   "execution_count": 1,
   "metadata": {
    "ExecuteTime": {
     "end_time": "2020-01-30T15:37:49.212406Z",
     "start_time": "2020-01-30T15:37:48.221409Z"
    }
   },
   "outputs": [],
   "source": [
    "%store -r BER_Dublin_specific"
   ]
  },
  {
   "cell_type": "code",
   "execution_count": 2,
   "metadata": {
    "ExecuteTime": {
     "end_time": "2020-01-30T15:37:49.218413Z",
     "start_time": "2020-01-30T15:37:49.215409Z"
    }
   },
   "outputs": [],
   "source": [
    "import pandas as pd\n",
    "import numpy as np"
   ]
  },
  {
   "cell_type": "code",
   "execution_count": 3,
   "metadata": {
    "ExecuteTime": {
     "end_time": "2020-01-30T15:37:49.237410Z",
     "start_time": "2020-01-30T15:37:49.221410Z"
    }
   },
   "outputs": [],
   "source": [
    "# SH Demand = Main SH + Sec SH\n",
    "\n",
    "def calc_main_SH_Demand(\n",
    "    CHPSystemType,\n",
    "    gsdHSSupplHeatFraction,\n",
    "    delivered_energy_main,\n",
    "    effficiency,\n",
    "    efficiency_adjustment_factor,\n",
    "    CHPUnitHeatFraction,\n",
    "):\n",
    "    eff_adj = effficiency * efficiency_adjustment_factor\n",
    "    \n",
    "    # Group Heating (i.e. HH uses CHP or waste energy for HW & SH)\n",
    "    \"\"\" EXCEL FORMULA: (1-K6)*ShReqt/H12\n",
    "        K6 = Fraction of heat use from secondary / supplementary system (from Table 7, Table 10 or Appendix F)\n",
    "        ShReqt = Annual space heating requirement [kWh/y] \n",
    "               = Net heat emission to heated space [kWh/y] + Additional heat loss [kWh/y]\n",
    "        H12 = Efficiency factor for charging method [-] = 0.9\n",
    "        \"\"\"\n",
    "    if pd.notnull(CHPSystemType) :\n",
    "        \n",
    "        return delivered_energy_main * 0.9\n",
    "            \n",
    "    # Individual Heating \n",
    "    \"\"\" EXCEL FORMULA: IF(J7=0,0,(1-M21)*F125/(J7/100))\n",
    "        J7 = Adjusted efficiency of main heating system [%]\n",
    "        M21 = Fraction of main space and water heat from CHP\n",
    "        F125 = Total heat demand main space heating [kWh/y]\n",
    "        \"\"\"\n",
    "    if CHPUnitHeatFraction < 1:\n",
    "        return (1 / 1 - CHPUnitHeatFraction) * delivered_energy_main * (eff_adj / 100) \n",
    "    else:\n",
    "        return 0\n",
    "\n",
    "calc_main_SH_Demand = np.vectorize(calc_main_SH_Demand)"
   ]
  },
  {
   "cell_type": "code",
   "execution_count": 4,
   "metadata": {
    "ExecuteTime": {
     "end_time": "2020-01-30T15:37:49.833405Z",
     "start_time": "2020-01-30T15:37:49.242414Z"
    }
   },
   "outputs": [],
   "source": [
    "BER_Dublin_specific[r\"DeliveredEnergyMainSpace (ind)\"] = calc_main_SH_Demand(\n",
    "    BER_Dublin_specific[\"CHPSystemType\"].values,\n",
    "    BER_Dublin_specific[\"gsdHSSupplHeatFraction_edited\"].values,\n",
    "    BER_Dublin_specific[\"DeliveredEnergyMainSpace\"].values,\n",
    "    BER_Dublin_specific[\"HSMainSystemEfficiency\"].values,\n",
    "    BER_Dublin_specific[\"HSEffAdjFactor\"].values,\n",
    "    BER_Dublin_specific[\"CHPUnitHeatFraction\"].values,\n",
    "    \n",
    ")"
   ]
  },
  {
   "cell_type": "code",
   "execution_count": 5,
   "metadata": {
    "ExecuteTime": {
     "end_time": "2020-01-30T15:37:49.957417Z",
     "start_time": "2020-01-30T15:37:49.837411Z"
    }
   },
   "outputs": [
    {
     "data": {
      "text/html": [
       "<div>\n",
       "<style scoped>\n",
       "    .dataframe tbody tr th:only-of-type {\n",
       "        vertical-align: middle;\n",
       "    }\n",
       "\n",
       "    .dataframe tbody tr th {\n",
       "        vertical-align: top;\n",
       "    }\n",
       "\n",
       "    .dataframe thead th {\n",
       "        text-align: right;\n",
       "    }\n",
       "</style>\n",
       "<table border=\"1\" class=\"dataframe\">\n",
       "  <thead>\n",
       "    <tr style=\"text-align: right;\">\n",
       "      <th></th>\n",
       "      <th>DeliveredEnergyMainSpace</th>\n",
       "      <th>DeliveredEnergyMainSpace (ind)</th>\n",
       "      <th>HSMainSystemEfficiency</th>\n",
       "    </tr>\n",
       "  </thead>\n",
       "  <tbody>\n",
       "    <tr>\n",
       "      <th>2</th>\n",
       "      <td>10826.731</td>\n",
       "      <td>9287.711188</td>\n",
       "      <td>90.3</td>\n",
       "    </tr>\n",
       "    <tr>\n",
       "      <th>6</th>\n",
       "      <td>20046.920</td>\n",
       "      <td>13712.093280</td>\n",
       "      <td>72.0</td>\n",
       "    </tr>\n",
       "    <tr>\n",
       "      <th>15</th>\n",
       "      <td>14756.551</td>\n",
       "      <td>9112.170243</td>\n",
       "      <td>65.0</td>\n",
       "    </tr>\n",
       "    <tr>\n",
       "      <th>18</th>\n",
       "      <td>11019.516</td>\n",
       "      <td>6804.551130</td>\n",
       "      <td>65.0</td>\n",
       "    </tr>\n",
       "    <tr>\n",
       "      <th>22</th>\n",
       "      <td>8743.726</td>\n",
       "      <td>6504.020585</td>\n",
       "      <td>78.3</td>\n",
       "    </tr>\n",
       "  </tbody>\n",
       "</table>\n",
       "</div>"
      ],
      "text/plain": [
       "    DeliveredEnergyMainSpace  DeliveredEnergyMainSpace (ind)  \\\n",
       "2                  10826.731                     9287.711188   \n",
       "6                  20046.920                    13712.093280   \n",
       "15                 14756.551                     9112.170243   \n",
       "18                 11019.516                     6804.551130   \n",
       "22                  8743.726                     6504.020585   \n",
       "\n",
       "    HSMainSystemEfficiency  \n",
       "2                     90.3  \n",
       "6                     72.0  \n",
       "15                    65.0  \n",
       "18                    65.0  \n",
       "22                    78.3  "
      ]
     },
     "execution_count": 5,
     "metadata": {},
     "output_type": "execute_result"
    }
   ],
   "source": [
    "BER_Dublin_specific[\n",
    "    [\n",
    "        \"DeliveredEnergyMainSpace\",\n",
    "        \"DeliveredEnergyMainSpace (ind)\",\n",
    "        \"HSMainSystemEfficiency\",\n",
    "    ]\n",
    "].head()"
   ]
  },
  {
   "cell_type": "code",
   "execution_count": 6,
   "metadata": {
    "ExecuteTime": {
     "end_time": "2020-01-30T15:37:50.691446Z",
     "start_time": "2020-01-30T15:37:49.965410Z"
    }
   },
   "outputs": [
    {
     "name": "stdout",
     "output_type": "stream",
     "text": [
      "Stored 'BER_Dublin_specific' (DataFrame)\n"
     ]
    }
   ],
   "source": [
    "%store BER_Dublin_specific"
   ]
  }
 ],
 "metadata": {
  "hide_input": false,
  "kernelspec": {
   "display_name": "Python 3",
   "language": "python",
   "name": "python3"
  },
  "language_info": {
   "codemirror_mode": {
    "name": "ipython",
    "version": 3
   },
   "file_extension": ".py",
   "mimetype": "text/x-python",
   "name": "python",
   "nbconvert_exporter": "python",
   "pygments_lexer": "ipython3",
   "version": "3.7.3"
  },
  "toc": {
   "base_numbering": 1,
   "nav_menu": {},
   "number_sections": true,
   "sideBar": true,
   "skip_h1_title": false,
   "title_cell": "Table of Contents",
   "title_sidebar": "Contents",
   "toc_cell": false,
   "toc_position": {},
   "toc_section_display": true,
   "toc_window_display": false
  },
  "varInspector": {
   "cols": {
    "lenName": 16,
    "lenType": 16,
    "lenVar": 40
   },
   "kernels_config": {
    "python": {
     "delete_cmd_postfix": "",
     "delete_cmd_prefix": "del ",
     "library": "var_list.py",
     "varRefreshCmd": "print(var_dic_list())"
    },
    "r": {
     "delete_cmd_postfix": ") ",
     "delete_cmd_prefix": "rm(",
     "library": "var_list.r",
     "varRefreshCmd": "cat(var_dic_list()) "
    }
   },
   "types_to_exclude": [
    "module",
    "function",
    "builtin_function_or_method",
    "instance",
    "_Feature"
   ],
   "window_display": false
  }
 },
 "nbformat": 4,
 "nbformat_minor": 2
}
