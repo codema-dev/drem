{
 "cells": [
  {
   "cell_type": "code",
   "execution_count": 1,
   "metadata": {
    "ExecuteTime": {
     "end_time": "2020-01-30T15:38:16.671714Z",
     "start_time": "2020-01-30T15:38:15.657716Z"
    }
   },
   "outputs": [],
   "source": [
    "%store -r BER_Dublin_specific"
   ]
  },
  {
   "cell_type": "code",
   "execution_count": 2,
   "metadata": {
    "ExecuteTime": {
     "end_time": "2020-01-30T15:38:16.681711Z",
     "start_time": "2020-01-30T15:38:16.675712Z"
    }
   },
   "outputs": [],
   "source": [
    "import pandas as pd\n",
    "import numpy as np"
   ]
  },
  {
   "cell_type": "code",
   "execution_count": 3,
   "metadata": {
    "ExecuteTime": {
     "end_time": "2020-01-30T15:38:16.697712Z",
     "start_time": "2020-01-30T15:38:16.684714Z"
    }
   },
   "outputs": [],
   "source": [
    "def calc_sec_HW_Demand(\n",
    "    CHPSystemType,\n",
    "    delivered_energy_sec,\n",
    "):\n",
    "\n",
    "    # Group Heating (i.e. HH uses CHP or waste energy for HW & SH)\n",
    "    \"\"\" EXCEL FORMULA: IF(WhReqtSup=0,0,NA())\n",
    "        NA() = Output from supplementary heater [kWh/y]\n",
    "        \"\"\"\n",
    "    if pd.notnull(CHPSystemType) :\n",
    "        \n",
    "        return delivered_energy_sec\n",
    "  \n",
    "       \n",
    "    # Individual Heating\n",
    "    \"\"\" EXCEL FORMULA: WhReqtSup \n",
    "        WhReqtSup = Energy required for supplementary electric water heating [kWh/y]\n",
    "                  = Output from supplementary heater [kWh/y]\n",
    "        \"\"\"\n",
    "    return delivered_energy_sec\n",
    "\n",
    "calc_sec_HW_Demand = np.vectorize(calc_sec_HW_Demand)"
   ]
  },
  {
   "cell_type": "code",
   "execution_count": 4,
   "metadata": {
    "ExecuteTime": {
     "end_time": "2020-01-30T15:38:17.145821Z",
     "start_time": "2020-01-30T15:38:16.700711Z"
    }
   },
   "outputs": [],
   "source": [
    "BER_Dublin_specific[r\"DeliveredEnergySupplementaryWater (ind)\"] = calc_sec_HW_Demand(\n",
    "    BER_Dublin_specific[\"CHPSystemType\"].values,\n",
    "    BER_Dublin_specific[\"DeliveredEnergySupplementaryWater\"].values,  \n",
    ")"
   ]
  },
  {
   "cell_type": "code",
   "execution_count": 5,
   "metadata": {
    "ExecuteTime": {
     "end_time": "2020-01-30T15:38:17.287148Z",
     "start_time": "2020-01-30T15:38:17.154351Z"
    }
   },
   "outputs": [
    {
     "data": {
      "text/html": [
       "<div>\n",
       "<style scoped>\n",
       "    .dataframe tbody tr th:only-of-type {\n",
       "        vertical-align: middle;\n",
       "    }\n",
       "\n",
       "    .dataframe tbody tr th {\n",
       "        vertical-align: top;\n",
       "    }\n",
       "\n",
       "    .dataframe thead th {\n",
       "        text-align: right;\n",
       "    }\n",
       "</style>\n",
       "<table border=\"1\" class=\"dataframe\">\n",
       "  <thead>\n",
       "    <tr style=\"text-align: right;\">\n",
       "      <th></th>\n",
       "      <th>DeliveredEnergySupplementaryWater</th>\n",
       "      <th>DeliveredEnergySupplementaryWater (ind)</th>\n",
       "    </tr>\n",
       "  </thead>\n",
       "  <tbody>\n",
       "    <tr>\n",
       "      <th>2</th>\n",
       "      <td>0.000</td>\n",
       "      <td>0.000</td>\n",
       "    </tr>\n",
       "    <tr>\n",
       "      <th>6</th>\n",
       "      <td>1041.995</td>\n",
       "      <td>1041.995</td>\n",
       "    </tr>\n",
       "    <tr>\n",
       "      <th>15</th>\n",
       "      <td>840.445</td>\n",
       "      <td>840.445</td>\n",
       "    </tr>\n",
       "    <tr>\n",
       "      <th>18</th>\n",
       "      <td>0.000</td>\n",
       "      <td>0.000</td>\n",
       "    </tr>\n",
       "    <tr>\n",
       "      <th>22</th>\n",
       "      <td>824.336</td>\n",
       "      <td>824.336</td>\n",
       "    </tr>\n",
       "  </tbody>\n",
       "</table>\n",
       "</div>"
      ],
      "text/plain": [
       "    DeliveredEnergySupplementaryWater  DeliveredEnergySupplementaryWater (ind)\n",
       "2                               0.000                                    0.000\n",
       "6                            1041.995                                 1041.995\n",
       "15                            840.445                                  840.445\n",
       "18                              0.000                                    0.000\n",
       "22                            824.336                                  824.336"
      ]
     },
     "execution_count": 5,
     "metadata": {},
     "output_type": "execute_result"
    }
   ],
   "source": [
    "BER_Dublin_specific[\n",
    "    [\"DeliveredEnergySupplementaryWater\", \"DeliveredEnergySupplementaryWater (ind)\"]\n",
    "].head()"
   ]
  },
  {
   "cell_type": "code",
   "execution_count": 6,
   "metadata": {
    "ExecuteTime": {
     "end_time": "2020-01-30T15:38:18.208175Z",
     "start_time": "2020-01-30T15:38:17.298141Z"
    }
   },
   "outputs": [
    {
     "name": "stdout",
     "output_type": "stream",
     "text": [
      "Stored 'BER_Dublin_specific' (DataFrame)\n"
     ]
    }
   ],
   "source": [
    "%store BER_Dublin_specific"
   ]
  }
 ],
 "metadata": {
  "hide_input": false,
  "kernelspec": {
   "display_name": "Python 3",
   "language": "python",
   "name": "python3"
  },
  "language_info": {
   "codemirror_mode": {
    "name": "ipython",
    "version": 3
   },
   "file_extension": ".py",
   "mimetype": "text/x-python",
   "name": "python",
   "nbconvert_exporter": "python",
   "pygments_lexer": "ipython3",
   "version": "3.7.4"
  },
  "toc": {
   "base_numbering": 1,
   "nav_menu": {},
   "number_sections": true,
   "sideBar": true,
   "skip_h1_title": false,
   "title_cell": "Table of Contents",
   "title_sidebar": "Contents",
   "toc_cell": false,
   "toc_position": {},
   "toc_section_display": true,
   "toc_window_display": false
  },
  "varInspector": {
   "cols": {
    "lenName": 16,
    "lenType": 16,
    "lenVar": 40
   },
   "kernels_config": {
    "python": {
     "delete_cmd_postfix": "",
     "delete_cmd_prefix": "del ",
     "library": "var_list.py",
     "varRefreshCmd": "print(var_dic_list())"
    },
    "r": {
     "delete_cmd_postfix": ") ",
     "delete_cmd_prefix": "rm(",
     "library": "var_list.r",
     "varRefreshCmd": "cat(var_dic_list()) "
    }
   },
   "types_to_exclude": [
    "module",
    "function",
    "builtin_function_or_method",
    "instance",
    "_Feature"
   ],
   "window_display": false
  }
 },
 "nbformat": 4,
 "nbformat_minor": 2
}
