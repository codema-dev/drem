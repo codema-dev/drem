{
 "cells": [
  {
   "cell_type": "code",
   "execution_count": 1,
   "metadata": {
    "ExecuteTime": {
     "end_time": "2020-01-30T15:37:04.614555Z",
     "start_time": "2020-01-30T15:37:03.779973Z"
    }
   },
   "outputs": [],
   "source": [
    "import pandas as pd"
   ]
  },
  {
   "cell_type": "code",
   "execution_count": 2,
   "metadata": {
    "ExecuteTime": {
     "end_time": "2020-01-30T15:37:05.005557Z",
     "start_time": "2020-01-30T15:37:04.616555Z"
    }
   },
   "outputs": [
    {
     "data": {
      "text/html": [
       "<div>\n",
       "<style scoped>\n",
       "    .dataframe tbody tr th:only-of-type {\n",
       "        vertical-align: middle;\n",
       "    }\n",
       "\n",
       "    .dataframe tbody tr th {\n",
       "        vertical-align: top;\n",
       "    }\n",
       "\n",
       "    .dataframe thead th {\n",
       "        text-align: right;\n",
       "    }\n",
       "</style>\n",
       "<table border=\"1\" class=\"dataframe\">\n",
       "  <thead>\n",
       "    <tr style=\"text-align: right;\">\n",
       "      <th></th>\n",
       "      <th>Postcodes</th>\n",
       "      <th>DwellingTypeDescr</th>\n",
       "      <th>Year_of_Construction</th>\n",
       "      <th>GroundFloorArea</th>\n",
       "      <th>FirstFloorArea</th>\n",
       "      <th>SecondFloorArea</th>\n",
       "      <th>ThirdFloorArea</th>\n",
       "      <th>DeliveredEnergyMainWater</th>\n",
       "      <th>MainWaterHeatingFuel</th>\n",
       "      <th>WHMainSystemEff</th>\n",
       "      <th>...</th>\n",
       "      <th>HSEffAdjFactor</th>\n",
       "      <th>DeliveredEnergySecondarySpace</th>\n",
       "      <th>HSSupplSystemEff</th>\n",
       "      <th>SupplSHFuel</th>\n",
       "      <th>ElecImmersionInSummer</th>\n",
       "      <th>SolarHeatFraction</th>\n",
       "      <th>HSSupplHeatFraction</th>\n",
       "      <th>CHPSystemType</th>\n",
       "      <th>CHPUnitHeatFraction</th>\n",
       "      <th>gsdHSSupplHeatFraction</th>\n",
       "    </tr>\n",
       "  </thead>\n",
       "  <tbody>\n",
       "    <tr>\n",
       "      <th>2</th>\n",
       "      <td>Co. Dublin</td>\n",
       "      <td>Mid-terrace house</td>\n",
       "      <td>2003</td>\n",
       "      <td>62.49</td>\n",
       "      <td>68.99</td>\n",
       "      <td>0.0</td>\n",
       "      <td>0.0</td>\n",
       "      <td>5744.089</td>\n",
       "      <td>Mains Gas</td>\n",
       "      <td>90.3</td>\n",
       "      <td>...</td>\n",
       "      <td>0.95</td>\n",
       "      <td>3440.495</td>\n",
       "      <td>30.0</td>\n",
       "      <td>8.0</td>\n",
       "      <td>NO</td>\n",
       "      <td>NaN</td>\n",
       "      <td>0.1</td>\n",
       "      <td>NaN</td>\n",
       "      <td>NaN</td>\n",
       "      <td>NaN</td>\n",
       "    </tr>\n",
       "    <tr>\n",
       "      <th>6</th>\n",
       "      <td>Dublin 14</td>\n",
       "      <td>Semi-detached house</td>\n",
       "      <td>1962</td>\n",
       "      <td>47.01</td>\n",
       "      <td>48.33</td>\n",
       "      <td>0.0</td>\n",
       "      <td>0.0</td>\n",
       "      <td>4287.963</td>\n",
       "      <td>Mains Gas</td>\n",
       "      <td>72.0</td>\n",
       "      <td>...</td>\n",
       "      <td>0.95</td>\n",
       "      <td>2116.064</td>\n",
       "      <td>72.0</td>\n",
       "      <td>2.0</td>\n",
       "      <td>YES</td>\n",
       "      <td>NaN</td>\n",
       "      <td>0.1</td>\n",
       "      <td>NaN</td>\n",
       "      <td>NaN</td>\n",
       "      <td>NaN</td>\n",
       "    </tr>\n",
       "    <tr>\n",
       "      <th>15</th>\n",
       "      <td>Dublin 11</td>\n",
       "      <td>End of terrace house</td>\n",
       "      <td>1972</td>\n",
       "      <td>47.87</td>\n",
       "      <td>39.89</td>\n",
       "      <td>0.0</td>\n",
       "      <td>0.0</td>\n",
       "      <td>4087.056</td>\n",
       "      <td>Mains Gas</td>\n",
       "      <td>65.0</td>\n",
       "      <td>...</td>\n",
       "      <td>0.95</td>\n",
       "      <td>1608.386</td>\n",
       "      <td>63.0</td>\n",
       "      <td>2.0</td>\n",
       "      <td>YES</td>\n",
       "      <td>NaN</td>\n",
       "      <td>0.1</td>\n",
       "      <td>NaN</td>\n",
       "      <td>NaN</td>\n",
       "      <td>NaN</td>\n",
       "    </tr>\n",
       "    <tr>\n",
       "      <th>18</th>\n",
       "      <td>Dublin 12</td>\n",
       "      <td>Mid-terrace house</td>\n",
       "      <td>1939</td>\n",
       "      <td>29.85</td>\n",
       "      <td>29.46</td>\n",
       "      <td>0.0</td>\n",
       "      <td>0.0</td>\n",
       "      <td>5879.203</td>\n",
       "      <td>Mains Gas</td>\n",
       "      <td>65.0</td>\n",
       "      <td>...</td>\n",
       "      <td>0.95</td>\n",
       "      <td>1891.684</td>\n",
       "      <td>40.0</td>\n",
       "      <td>2.0</td>\n",
       "      <td>NO</td>\n",
       "      <td>NaN</td>\n",
       "      <td>0.1</td>\n",
       "      <td>NaN</td>\n",
       "      <td>NaN</td>\n",
       "      <td>NaN</td>\n",
       "    </tr>\n",
       "    <tr>\n",
       "      <th>22</th>\n",
       "      <td>Dublin 18</td>\n",
       "      <td>Top-floor apartment</td>\n",
       "      <td>2004</td>\n",
       "      <td>74.56</td>\n",
       "      <td>0.00</td>\n",
       "      <td>0.0</td>\n",
       "      <td>0.0</td>\n",
       "      <td>3348.863</td>\n",
       "      <td>Mains Gas</td>\n",
       "      <td>78.3</td>\n",
       "      <td>...</td>\n",
       "      <td>0.95</td>\n",
       "      <td>0.000</td>\n",
       "      <td>0.0</td>\n",
       "      <td>1.0</td>\n",
       "      <td>YES</td>\n",
       "      <td>NaN</td>\n",
       "      <td>0.0</td>\n",
       "      <td>NaN</td>\n",
       "      <td>NaN</td>\n",
       "      <td>NaN</td>\n",
       "    </tr>\n",
       "  </tbody>\n",
       "</table>\n",
       "<p>5 rows × 26 columns</p>\n",
       "</div>"
      ],
      "text/plain": [
       "     Postcodes     DwellingTypeDescr  Year_of_Construction  GroundFloorArea  \\\n",
       "2   Co. Dublin     Mid-terrace house                  2003            62.49   \n",
       "6    Dublin 14   Semi-detached house                  1962            47.01   \n",
       "15   Dublin 11  End of terrace house                  1972            47.87   \n",
       "18   Dublin 12     Mid-terrace house                  1939            29.85   \n",
       "22   Dublin 18   Top-floor apartment                  2004            74.56   \n",
       "\n",
       "    FirstFloorArea  SecondFloorArea  ThirdFloorArea  DeliveredEnergyMainWater  \\\n",
       "2            68.99              0.0             0.0                  5744.089   \n",
       "6            48.33              0.0             0.0                  4287.963   \n",
       "15           39.89              0.0             0.0                  4087.056   \n",
       "18           29.46              0.0             0.0                  5879.203   \n",
       "22            0.00              0.0             0.0                  3348.863   \n",
       "\n",
       "              MainWaterHeatingFuel  WHMainSystemEff  ...  HSEffAdjFactor  \\\n",
       "2   Mains Gas                                  90.3  ...            0.95   \n",
       "6   Mains Gas                                  72.0  ...            0.95   \n",
       "15  Mains Gas                                  65.0  ...            0.95   \n",
       "18  Mains Gas                                  65.0  ...            0.95   \n",
       "22  Mains Gas                                  78.3  ...            0.95   \n",
       "\n",
       "    DeliveredEnergySecondarySpace  HSSupplSystemEff  SupplSHFuel  \\\n",
       "2                        3440.495              30.0          8.0   \n",
       "6                        2116.064              72.0          2.0   \n",
       "15                       1608.386              63.0          2.0   \n",
       "18                       1891.684              40.0          2.0   \n",
       "22                          0.000               0.0          1.0   \n",
       "\n",
       "   ElecImmersionInSummer  SolarHeatFraction  HSSupplHeatFraction  \\\n",
       "2                    NO                 NaN                  0.1   \n",
       "6                    YES                NaN                  0.1   \n",
       "15                   YES                NaN                  0.1   \n",
       "18                   NO                 NaN                  0.1   \n",
       "22                   YES                NaN                  0.0   \n",
       "\n",
       "    CHPSystemType  CHPUnitHeatFraction  gsdHSSupplHeatFraction  \n",
       "2             NaN                  NaN                     NaN  \n",
       "6             NaN                  NaN                     NaN  \n",
       "15            NaN                  NaN                     NaN  \n",
       "18            NaN                  NaN                     NaN  \n",
       "22            NaN                  NaN                     NaN  \n",
       "\n",
       "[5 rows x 26 columns]"
      ]
     },
     "execution_count": 2,
     "metadata": {},
     "output_type": "execute_result"
    }
   ],
   "source": [
    "%store -r BER_Dublin_specific\n",
    "\n",
    "BER_Dublin_specific.head()"
   ]
  },
  {
   "cell_type": "code",
   "execution_count": 3,
   "metadata": {
    "ExecuteTime": {
     "end_time": "2020-01-30T15:37:05.233132Z",
     "start_time": "2020-01-30T15:37:05.009561Z"
    }
   },
   "outputs": [
    {
     "name": "stdout",
     "output_type": "stream",
     "text": [
      "Total Floor Area calculation sample:\n"
     ]
    },
    {
     "data": {
      "text/plain": [
       "2     131.48\n",
       "6      95.34\n",
       "15     87.76\n",
       "18     59.31\n",
       "22     74.56\n",
       "Name: TotalFloorArea, dtype: float64"
      ]
     },
     "execution_count": 3,
     "metadata": {},
     "output_type": "execute_result"
    }
   ],
   "source": [
    "BER_Dublin_specific[\"TotalFloorArea\"] = (\n",
    "    BER_Dublin_specific[\"GroundFloorArea\"]\n",
    "    + BER_Dublin_specific[\"FirstFloorArea\"]\n",
    "    + BER_Dublin_specific[\"SecondFloorArea\"]\n",
    "    + BER_Dublin_specific[\"ThirdFloorArea\"]\n",
    ")\n",
    "\n",
    "del (\n",
    "    BER_Dublin_specific[\"GroundFloorArea\"],\n",
    "    BER_Dublin_specific[\"FirstFloorArea\"],\n",
    "    BER_Dublin_specific[\"SecondFloorArea\"],\n",
    "    BER_Dublin_specific[\"ThirdFloorArea\"],\n",
    ")\n",
    "\n",
    "print(\"Total Floor Area calculation sample:\")\n",
    "BER_Dublin_specific[\"TotalFloorArea\"].head()"
   ]
  },
  {
   "cell_type": "code",
   "execution_count": 4,
   "metadata": {
    "ExecuteTime": {
     "end_time": "2020-01-30T15:37:05.781462Z",
     "start_time": "2020-01-30T15:37:05.239132Z"
    },
    "scrolled": true
   },
   "outputs": [
    {
     "name": "stdout",
     "output_type": "stream",
     "text": [
      "Stored 'BER_Dublin_specific' (DataFrame)\n"
     ]
    }
   ],
   "source": [
    "%store BER_Dublin_specific"
   ]
  }
 ],
 "metadata": {
  "hide_input": false,
  "kernelspec": {
   "display_name": "Python 3",
   "language": "python",
   "name": "python3"
  },
  "language_info": {
   "codemirror_mode": {
    "name": "ipython",
    "version": 3
   },
   "file_extension": ".py",
   "mimetype": "text/x-python",
   "name": "python",
   "nbconvert_exporter": "python",
   "pygments_lexer": "ipython3",
   "version": "3.7.3"
  },
  "toc": {
   "base_numbering": 1,
   "nav_menu": {},
   "number_sections": true,
   "sideBar": true,
   "skip_h1_title": false,
   "title_cell": "Table of Contents",
   "title_sidebar": "Contents",
   "toc_cell": false,
   "toc_position": {},
   "toc_section_display": true,
   "toc_window_display": false
  },
  "varInspector": {
   "cols": {
    "lenName": 16,
    "lenType": 16,
    "lenVar": 40
   },
   "kernels_config": {
    "python": {
     "delete_cmd_postfix": "",
     "delete_cmd_prefix": "del ",
     "library": "var_list.py",
     "varRefreshCmd": "print(var_dic_list())"
    },
    "r": {
     "delete_cmd_postfix": ") ",
     "delete_cmd_prefix": "rm(",
     "library": "var_list.r",
     "varRefreshCmd": "cat(var_dic_list()) "
    }
   },
   "types_to_exclude": [
    "module",
    "function",
    "builtin_function_or_method",
    "instance",
    "_Feature"
   ],
   "window_display": false
  }
 },
 "nbformat": 4,
 "nbformat_minor": 2
}
