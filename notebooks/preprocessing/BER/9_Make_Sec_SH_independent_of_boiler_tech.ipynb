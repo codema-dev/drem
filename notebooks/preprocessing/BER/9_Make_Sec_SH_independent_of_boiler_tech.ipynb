{
 "cells": [
  {
   "cell_type": "code",
   "execution_count": 1,
   "metadata": {
    "ExecuteTime": {
     "end_time": "2020-01-30T15:38:08.363183Z",
     "start_time": "2020-01-30T15:38:07.498944Z"
    }
   },
   "outputs": [],
   "source": [
    "%store -r BER_Dublin_specific"
   ]
  },
  {
   "cell_type": "code",
   "execution_count": 2,
   "metadata": {
    "ExecuteTime": {
     "end_time": "2020-01-30T15:38:08.369189Z",
     "start_time": "2020-01-30T15:38:08.365185Z"
    }
   },
   "outputs": [],
   "source": [
    "import pandas as pd\n",
    "import numpy as np"
   ]
  },
  {
   "cell_type": "code",
   "execution_count": 3,
   "metadata": {
    "ExecuteTime": {
     "end_time": "2020-01-30T15:38:08.393232Z",
     "start_time": "2020-01-30T15:38:08.373185Z"
    }
   },
   "outputs": [],
   "source": [
    "def calc_sec_SH_Demand(\n",
    "    CHPSystemType,\n",
    "    gsdHSSupplHeatFraction,\n",
    "    HSSupplHeatFraction,\n",
    "    delivered_energy_sec,\n",
    "    delivered_energy_main,\n",
    "    efficiency,\n",
    "    CHPUnitHeatFraction,\n",
    "):\n",
    "\n",
    "    # Group Heating (i.e. HH uses CHP or waste energy for HW & SH)\n",
    "    \"\"\" EXCEL FORMULA: IF(J8=0,0,J8*SH!H14/(J9/100))\n",
    "        J8 = Fraction of heat from secondary / supplementary system (from Table 7, Table 10 or Appendix F)\n",
    "        SH!H14 = Gross heat emission to heated space [kWh/y]\n",
    "        J9 = Efficiency of secondary / supplementary system [%] (from Table 4a or Appendix E)\n",
    "        \"\"\"\n",
    "    if pd.notnull(CHPSystemType) :\n",
    "        \n",
    "        \"\"\" delivered_energy_main = total_SH * (1 - frac_used_by_secondary)\n",
    "            delivered_energy_sec = frac_used_by_secondary * total_SH\n",
    "                                 = frac_used_by_secondary * delivered_energy_main/(1 - frac_used_by_secondary)\n",
    "            \"\"\"\n",
    "        return (gsdHSSupplHeatFraction/1-gsdHSSupplHeatFraction) * delivered_energy_main * efficiency\n",
    "   \n",
    "            \n",
    "    # Individual Heating \n",
    "    \"\"\" EXCEL FORMULA: IF(J8=0,0,J8*SH!H14/(J9/100))\n",
    "        J8 = Fraction of heat from secondary / supplementary system (from Table 7, Table 10 or Appendix F)\n",
    "        SH!H14 = Gross heat emission to heated space [kWh/y]\n",
    "        J9 = Efficiency of secondary / supplementary system [%] (from Table 4a or Appendix E)\n",
    "        \"\"\"\n",
    "    if efficiency > 0:\n",
    "        return HSSupplHeatFraction * delivered_energy_main / efficiency\n",
    "    else:\n",
    "        return 0\n",
    "\n",
    "calc_sec_SH_Demand = np.vectorize(calc_sec_SH_Demand)"
   ]
  },
  {
   "cell_type": "code",
   "execution_count": 4,
   "metadata": {
    "ExecuteTime": {
     "end_time": "2020-01-30T15:38:08.859202Z",
     "start_time": "2020-01-30T15:38:08.400184Z"
    }
   },
   "outputs": [],
   "source": [
    "BER_Dublin_specific[r\"DeliveredEnergySecondarySpace (ind)\"] = calc_sec_SH_Demand(\n",
    "    BER_Dublin_specific[\"CHPSystemType\"].values,\n",
    "    BER_Dublin_specific[\"gsdHSSupplHeatFraction_edited\"].values,\n",
    "    BER_Dublin_specific[\"HSSupplHeatFraction\"].values,\n",
    "    BER_Dublin_specific[\"DeliveredEnergySecondarySpace\"].values,\n",
    "    BER_Dublin_specific[r\"DeliveredEnergyMainSpace (ind)\"].values,\n",
    "    BER_Dublin_specific[\"HSSupplSystemEff_edited\"].values,\n",
    "    BER_Dublin_specific[\"CHPUnitHeatFraction\"].values,\n",
    "    \n",
    ")"
   ]
  },
  {
   "cell_type": "code",
   "execution_count": 5,
   "metadata": {
    "ExecuteTime": {
     "end_time": "2020-01-30T15:38:09.021194Z",
     "start_time": "2020-01-30T15:38:08.860182Z"
    }
   },
   "outputs": [
    {
     "data": {
      "text/html": [
       "<div>\n",
       "<style scoped>\n",
       "    .dataframe tbody tr th:only-of-type {\n",
       "        vertical-align: middle;\n",
       "    }\n",
       "\n",
       "    .dataframe tbody tr th {\n",
       "        vertical-align: top;\n",
       "    }\n",
       "\n",
       "    .dataframe thead th {\n",
       "        text-align: right;\n",
       "    }\n",
       "</style>\n",
       "<table border=\"1\" class=\"dataframe\">\n",
       "  <thead>\n",
       "    <tr style=\"text-align: right;\">\n",
       "      <th></th>\n",
       "      <th>DeliveredEnergySecondarySpace</th>\n",
       "      <th>DeliveredEnergySecondarySpace (ind)</th>\n",
       "      <th>HSSupplSystemEff_edited</th>\n",
       "      <th>HSSupplHeatFraction</th>\n",
       "    </tr>\n",
       "  </thead>\n",
       "  <tbody>\n",
       "    <tr>\n",
       "      <th>2</th>\n",
       "      <td>3440.495</td>\n",
       "      <td>3095.903729</td>\n",
       "      <td>0.30</td>\n",
       "      <td>0.1</td>\n",
       "    </tr>\n",
       "    <tr>\n",
       "      <th>6</th>\n",
       "      <td>2116.064</td>\n",
       "      <td>1904.457400</td>\n",
       "      <td>0.72</td>\n",
       "      <td>0.1</td>\n",
       "    </tr>\n",
       "    <tr>\n",
       "      <th>15</th>\n",
       "      <td>1608.386</td>\n",
       "      <td>1446.376229</td>\n",
       "      <td>0.63</td>\n",
       "      <td>0.1</td>\n",
       "    </tr>\n",
       "    <tr>\n",
       "      <th>18</th>\n",
       "      <td>1891.684</td>\n",
       "      <td>1701.137783</td>\n",
       "      <td>0.40</td>\n",
       "      <td>0.1</td>\n",
       "    </tr>\n",
       "    <tr>\n",
       "      <th>22</th>\n",
       "      <td>0.000</td>\n",
       "      <td>0.000000</td>\n",
       "      <td>0.00</td>\n",
       "      <td>0.0</td>\n",
       "    </tr>\n",
       "  </tbody>\n",
       "</table>\n",
       "</div>"
      ],
      "text/plain": [
       "    DeliveredEnergySecondarySpace  DeliveredEnergySecondarySpace (ind)  \\\n",
       "2                        3440.495                          3095.903729   \n",
       "6                        2116.064                          1904.457400   \n",
       "15                       1608.386                          1446.376229   \n",
       "18                       1891.684                          1701.137783   \n",
       "22                          0.000                             0.000000   \n",
       "\n",
       "    HSSupplSystemEff_edited  HSSupplHeatFraction  \n",
       "2                      0.30                  0.1  \n",
       "6                      0.72                  0.1  \n",
       "15                     0.63                  0.1  \n",
       "18                     0.40                  0.1  \n",
       "22                     0.00                  0.0  "
      ]
     },
     "execution_count": 5,
     "metadata": {},
     "output_type": "execute_result"
    }
   ],
   "source": [
    "BER_Dublin_specific[\n",
    "    [\n",
    "        \"DeliveredEnergySecondarySpace\",\n",
    "        \"DeliveredEnergySecondarySpace (ind)\",\n",
    "        \"HSSupplSystemEff_edited\",\n",
    "        \"HSSupplHeatFraction\",\n",
    "    ]\n",
    "].head()"
   ]
  },
  {
   "cell_type": "code",
   "execution_count": 6,
   "metadata": {
    "ExecuteTime": {
     "end_time": "2020-01-30T15:38:09.796185Z",
     "start_time": "2020-01-30T15:38:09.033185Z"
    }
   },
   "outputs": [
    {
     "name": "stdout",
     "output_type": "stream",
     "text": [
      "Stored 'BER_Dublin_specific' (DataFrame)\n"
     ]
    }
   ],
   "source": [
    "%store BER_Dublin_specific"
   ]
  }
 ],
 "metadata": {
  "hide_input": false,
  "kernelspec": {
   "display_name": "Python 3",
   "language": "python",
   "name": "python3"
  },
  "language_info": {
   "codemirror_mode": {
    "name": "ipython",
    "version": 3
   },
   "file_extension": ".py",
   "mimetype": "text/x-python",
   "name": "python",
   "nbconvert_exporter": "python",
   "pygments_lexer": "ipython3",
   "version": "3.7.3"
  },
  "toc": {
   "base_numbering": 1,
   "nav_menu": {},
   "number_sections": true,
   "sideBar": true,
   "skip_h1_title": false,
   "title_cell": "Table of Contents",
   "title_sidebar": "Contents",
   "toc_cell": false,
   "toc_position": {},
   "toc_section_display": true,
   "toc_window_display": false
  },
  "varInspector": {
   "cols": {
    "lenName": 16,
    "lenType": 16,
    "lenVar": 40
   },
   "kernels_config": {
    "python": {
     "delete_cmd_postfix": "",
     "delete_cmd_prefix": "del ",
     "library": "var_list.py",
     "varRefreshCmd": "print(var_dic_list())"
    },
    "r": {
     "delete_cmd_postfix": ") ",
     "delete_cmd_prefix": "rm(",
     "library": "var_list.r",
     "varRefreshCmd": "cat(var_dic_list()) "
    }
   },
   "types_to_exclude": [
    "module",
    "function",
    "builtin_function_or_method",
    "instance",
    "_Feature"
   ],
   "window_display": false
  }
 },
 "nbformat": 4,
 "nbformat_minor": 2
}
