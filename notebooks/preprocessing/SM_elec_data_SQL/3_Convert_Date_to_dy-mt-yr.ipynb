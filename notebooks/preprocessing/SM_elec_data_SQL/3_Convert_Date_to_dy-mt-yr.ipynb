{
 "cells": [
  {
   "cell_type": "code",
   "execution_count": 1,
   "metadata": {},
   "outputs": [],
   "source": [
    "## import libraries\n",
    "\n",
    "import pandas as pd\n",
    "import glob\n",
    "# from tqdm import tqdm_notebook\n",
    "\n",
    "from pathlib import Path\n",
    "import sys"
   ]
  },
  {
   "cell_type": "code",
   "execution_count": 2,
   "metadata": {},
   "outputs": [],
   "source": [
    "import sqlite3"
   ]
  },
  {
   "cell_type": "code",
   "execution_count": 3,
   "metadata": {},
   "outputs": [],
   "source": [
    "%load_ext sql"
   ]
  },
  {
   "cell_type": "code",
   "execution_count": 4,
   "metadata": {},
   "outputs": [],
   "source": [
    "%load_ext lab_black"
   ]
  },
  {
   "cell_type": "markdown",
   "metadata": {},
   "source": [
    "# Link to Database"
   ]
  },
  {
   "cell_type": "code",
   "execution_count": 5,
   "metadata": {},
   "outputs": [],
   "source": [
    "## import custom functions\n",
    "\n",
    "# Create path to custom functions\n",
    "funcs_path = Path.cwd().parents[1]\n",
    "sys.path.insert(1, str(funcs_path))\n",
    "\n",
    "from funcs import paths"
   ]
  },
  {
   "cell_type": "code",
   "execution_count": 6,
   "metadata": {},
   "outputs": [
    {
     "data": {
      "text/plain": [
       "'C:\\\\Users\\\\RowanM\\\\Documents\\\\dublin_energy_masterplan\\\\Residential\\\\data\\\\inputs\\\\processed'"
      ]
     },
     "execution_count": 6,
     "metadata": {},
     "output_type": "execute_result"
    }
   ],
   "source": [
    "## Get path to processed data folder\n",
    "\n",
    "path_to_processed_data_folder = paths.get_path_to_folder(\"processed\")\n",
    "\n",
    "path_to_processed_data_folder"
   ]
  },
  {
   "cell_type": "code",
   "execution_count": 7,
   "metadata": {},
   "outputs": [
    {
     "data": {
      "text/plain": [
       "'C:\\\\Users\\\\RowanM\\\\Documents\\\\dublin_energy_masterplan\\\\Residential\\\\data\\\\inputs\\\\processed\\\\data.db'"
      ]
     },
     "execution_count": 7,
     "metadata": {},
     "output_type": "execute_result"
    }
   ],
   "source": [
    "path_to_data_database = path_to_processed_data_folder + r\"\\data.db\"\n",
    "\n",
    "path_to_data_database"
   ]
  },
  {
   "cell_type": "code",
   "execution_count": 8,
   "metadata": {},
   "outputs": [],
   "source": [
    "db_filename = path_to_data_database\n",
    "\n",
    "conn = sqlite3.connect(db_filename)  # or use :memory: to put it in RAM\n",
    "cursor = conn.cursor()"
   ]
  },
  {
   "cell_type": "code",
   "execution_count": 9,
   "metadata": {},
   "outputs": [
    {
     "data": {
      "text/plain": [
       "'Connected: @C:\\\\Users\\\\RowanM\\\\Documents\\\\dublin_energy_masterplan\\\\Residential\\\\data\\\\inputs\\\\processed\\\\data.db'"
      ]
     },
     "execution_count": 9,
     "metadata": {},
     "output_type": "execute_result"
    }
   ],
   "source": [
    "%sql sqlite:///$path_to_data_database"
   ]
  },
  {
   "cell_type": "code",
   "execution_count": 10,
   "metadata": {},
   "outputs": [
    {
     "name": "stdout",
     "output_type": "stream",
     "text": [
      " * sqlite:///C:\\Users\\RowanM\\Documents\\dublin_energy_masterplan\\Residential\\data\\inputs\\processed\\data.db\n",
      "Done.\n"
     ]
    },
    {
     "data": {
      "text/html": [
       "<table>\n",
       "    <tr>\n",
       "        <th>ID</th>\n",
       "        <th>Date_ID</th>\n",
       "        <th>Consumption</th>\n",
       "        <th>Day</th>\n",
       "        <th>Time_ID</th>\n",
       "    </tr>\n",
       "    <tr>\n",
       "        <td>1392</td>\n",
       "        <td>19503</td>\n",
       "        <td>0.14</td>\n",
       "        <td>195</td>\n",
       "        <td>3</td>\n",
       "    </tr>\n",
       "    <tr>\n",
       "        <td>1392</td>\n",
       "        <td>19504</td>\n",
       "        <td>0.138</td>\n",
       "        <td>195</td>\n",
       "        <td>4</td>\n",
       "    </tr>\n",
       "    <tr>\n",
       "        <td>1392</td>\n",
       "        <td>19505</td>\n",
       "        <td>0.14</td>\n",
       "        <td>195</td>\n",
       "        <td>5</td>\n",
       "    </tr>\n",
       "    <tr>\n",
       "        <td>1392</td>\n",
       "        <td>19506</td>\n",
       "        <td>0.145</td>\n",
       "        <td>195</td>\n",
       "        <td>6</td>\n",
       "    </tr>\n",
       "    <tr>\n",
       "        <td>1392</td>\n",
       "        <td>19507</td>\n",
       "        <td>0.145</td>\n",
       "        <td>195</td>\n",
       "        <td>7</td>\n",
       "    </tr>\n",
       "</table>"
      ],
      "text/plain": [
       "[('1392', 19503, 0.14, 195, 3),\n",
       " ('1392', 19504, 0.138, 195, 4),\n",
       " ('1392', 19505, 0.14, 195, 5),\n",
       " ('1392', 19506, 0.145, 195, 6),\n",
       " ('1392', 19507, 0.145, 195, 7)]"
      ]
     },
     "execution_count": 10,
     "metadata": {},
     "output_type": "execute_result"
    }
   ],
   "source": [
    "%%sql \n",
    "SELECT * FROM electricity_data_raw\n",
    "LIMIT 5"
   ]
  },
  {
   "cell_type": "markdown",
   "metadata": {},
   "source": [
    "# Find min and max Day to verify start/end date of trial vs pdf report of trial results"
   ]
  },
  {
   "cell_type": "code",
   "execution_count": 24,
   "metadata": {},
   "outputs": [
    {
     "name": "stdout",
     "output_type": "stream",
     "text": [
      " * sqlite:///C:\\Users\\RowanM\\Documents\\dublin_energy_masterplan\\Residential\\data\\inputs\\processed\\data.db\n",
      "Done.\n",
      "Wall time: 3min 14s\n"
     ]
    },
    {
     "data": {
      "text/html": [
       "<table>\n",
       "    <tr>\n",
       "        <th>MIN(Day)</th>\n",
       "    </tr>\n",
       "    <tr>\n",
       "        <td>195</td>\n",
       "    </tr>\n",
       "</table>"
      ],
      "text/plain": [
       "[(195,)]"
      ]
     },
     "execution_count": 24,
     "metadata": {},
     "output_type": "execute_result"
    }
   ],
   "source": [
    "%%time\n",
    "%%sql\n",
    "\n",
    "SELECT MIN(Day) \n",
    "FROM electricity_data_raw"
   ]
  },
  {
   "cell_type": "code",
   "execution_count": 25,
   "metadata": {},
   "outputs": [
    {
     "name": "stdout",
     "output_type": "stream",
     "text": [
      " * sqlite:///C:\\Users\\RowanM\\Documents\\dublin_energy_masterplan\\Residential\\data\\inputs\\processed\\data.db\n",
      "Done.\n",
      "Wall time: 55.5 s\n"
     ]
    },
    {
     "data": {
      "text/html": [
       "<table>\n",
       "    <tr>\n",
       "        <th>MAX(Day)</th>\n",
       "    </tr>\n",
       "    <tr>\n",
       "        <td>730</td>\n",
       "    </tr>\n",
       "</table>"
      ],
      "text/plain": [
       "[(730,)]"
      ]
     },
     "execution_count": 25,
     "metadata": {},
     "output_type": "execute_result"
    }
   ],
   "source": [
    "%%time\n",
    "%%sql\n",
    "\n",
    "SELECT MAX(Day) \n",
    "FROM electricity_data_raw"
   ]
  },
  {
   "cell_type": "code",
   "execution_count": null,
   "metadata": {},
   "outputs": [],
   "source": [
    "%%time\n",
    "%%sql\n",
    "\n",
    "SELECT MIN(Time_ID) \n",
    "FROM electricity_data_raw"
   ]
  },
  {
   "cell_type": "markdown",
   "metadata": {},
   "source": [
    "# Add column with dates"
   ]
  },
  {
   "cell_type": "code",
   "execution_count": 27,
   "metadata": {},
   "outputs": [
    {
     "name": "stdout",
     "output_type": "stream",
     "text": [
      " * sqlite:///C:\\Users\\RowanM\\Documents\\dublin_energy_masterplan\\Residential\\data\\inputs\\processed\\data.db\n",
      "Done.\n"
     ]
    },
    {
     "data": {
      "text/plain": [
       "[]"
      ]
     },
     "execution_count": 27,
     "metadata": {},
     "output_type": "execute_result"
    }
   ],
   "source": [
    "%%sql\n",
    "\n",
    "ALTER TABLE electricity_data_raw\n",
    "  ADD Date TEXT;"
   ]
  },
  {
   "cell_type": "code",
   "execution_count": 28,
   "metadata": {},
   "outputs": [
    {
     "name": "stdout",
     "output_type": "stream",
     "text": [
      " * sqlite:///C:\\Users\\RowanM\\Documents\\dublin_energy_masterplan\\Residential\\data\\inputs\\processed\\data.db\n",
      "157992996 rows affected.\n",
      "Wall time: 11min 43s\n"
     ]
    },
    {
     "data": {
      "text/plain": [
       "[]"
      ]
     },
     "execution_count": 28,
     "metadata": {},
     "output_type": "execute_result"
    }
   ],
   "source": [
    "%%time\n",
    "%%sql\n",
    "\n",
    "UPDATE electricity_data_raw\n",
    "  SET Date = DATE('2009-01-01','+' || CAST(Day AS TEXT) || ' day')"
   ]
  },
  {
   "cell_type": "code",
   "execution_count": 66,
   "metadata": {},
   "outputs": [
    {
     "name": "stdout",
     "output_type": "stream",
     "text": [
      " * sqlite:///C:\\Users\\RowanM\\Documents\\dublin_energy_masterplan\\Residential\\data\\inputs\\processed\\data.db\n",
      "Done.\n"
     ]
    },
    {
     "data": {
      "text/html": [
       "<table>\n",
       "    <tr>\n",
       "        <th>ID</th>\n",
       "        <th>Date_ID</th>\n",
       "        <th>Consumption</th>\n",
       "        <th>Day</th>\n",
       "        <th>Time_ID</th>\n",
       "        <th>Year</th>\n",
       "        <th>Date</th>\n",
       "    </tr>\n",
       "    <tr>\n",
       "        <td>1392</td>\n",
       "        <td>19503</td>\n",
       "        <td>0.14</td>\n",
       "        <td>195</td>\n",
       "        <td>3</td>\n",
       "        <td>2009</td>\n",
       "        <td>2009-07-15</td>\n",
       "    </tr>\n",
       "    <tr>\n",
       "        <td>1392</td>\n",
       "        <td>19504</td>\n",
       "        <td>0.138</td>\n",
       "        <td>195</td>\n",
       "        <td>4</td>\n",
       "        <td>2009</td>\n",
       "        <td>2009-07-15</td>\n",
       "    </tr>\n",
       "    <tr>\n",
       "        <td>1392</td>\n",
       "        <td>19505</td>\n",
       "        <td>0.14</td>\n",
       "        <td>195</td>\n",
       "        <td>5</td>\n",
       "        <td>2009</td>\n",
       "        <td>2009-07-15</td>\n",
       "    </tr>\n",
       "    <tr>\n",
       "        <td>1392</td>\n",
       "        <td>19506</td>\n",
       "        <td>0.145</td>\n",
       "        <td>195</td>\n",
       "        <td>6</td>\n",
       "        <td>2009</td>\n",
       "        <td>2009-07-15</td>\n",
       "    </tr>\n",
       "    <tr>\n",
       "        <td>1392</td>\n",
       "        <td>19507</td>\n",
       "        <td>0.145</td>\n",
       "        <td>195</td>\n",
       "        <td>7</td>\n",
       "        <td>2009</td>\n",
       "        <td>2009-07-15</td>\n",
       "    </tr>\n",
       "</table>"
      ],
      "text/plain": [
       "[('1392', 19503, 0.14, 195, 3, 2009, '2009-07-15'),\n",
       " ('1392', 19504, 0.138, 195, 4, 2009, '2009-07-15'),\n",
       " ('1392', 19505, 0.14, 195, 5, 2009, '2009-07-15'),\n",
       " ('1392', 19506, 0.145, 195, 6, 2009, '2009-07-15'),\n",
       " ('1392', 19507, 0.145, 195, 7, 2009, '2009-07-15')]"
      ]
     },
     "execution_count": 66,
     "metadata": {},
     "output_type": "execute_result"
    }
   ],
   "source": [
    "%%sql \n",
    "SELECT * FROM electricity_data_raw\n",
    "LIMIT 5"
   ]
  },
  {
   "cell_type": "markdown",
   "metadata": {},
   "source": [
    "SOURCES: \n",
    "- Date SQLite function https://www.sqlitetutorial.net/sqlite-date-functions/sqlite-date-function/\n",
    "- String concatanation https://www.sqlitetutorial.net/sqlite-string-functions/sqlite-concat/\n",
    "- Integer to string https://stackoverflow.com/questions/12419693/convert-integer-to-text-in-sqlites-select-query\n",
    "- Datetime type in sqlite https://stackoverflow.com/questions/17227110/how-do-datetime-values-work-in-sqlite"
   ]
  },
  {
   "cell_type": "markdown",
   "metadata": {},
   "source": [
    "# Convert Time_ID to '00:00:00' format"
   ]
  },
  {
   "cell_type": "code",
   "execution_count": 68,
   "metadata": {},
   "outputs": [
    {
     "name": "stdout",
     "output_type": "stream",
     "text": [
      " * sqlite:///C:\\Users\\RowanM\\Documents\\dublin_energy_masterplan\\Residential\\data\\inputs\\processed\\data.db\n",
      "Done.\n"
     ]
    },
    {
     "data": {
      "text/plain": [
       "[]"
      ]
     },
     "execution_count": 68,
     "metadata": {},
     "output_type": "execute_result"
    }
   ],
   "source": [
    "%%sql\n",
    "\n",
    "ALTER TABLE electricity_data_raw\n",
    "  ADD Time TEXT;"
   ]
  },
  {
   "cell_type": "code",
   "execution_count": 69,
   "metadata": {},
   "outputs": [
    {
     "name": "stdout",
     "output_type": "stream",
     "text": [
      " * sqlite:///C:\\Users\\RowanM\\Documents\\dublin_energy_masterplan\\Residential\\data\\inputs\\processed\\data.db\n",
      "157992996 rows affected.\n",
      "Wall time: 14min 46s\n"
     ]
    },
    {
     "data": {
      "text/plain": [
       "[]"
      ]
     },
     "execution_count": 69,
     "metadata": {},
     "output_type": "execute_result"
    }
   ],
   "source": [
    "%%time\n",
    "%%sql\n",
    "\n",
    "UPDATE electricity_data_raw\n",
    "    SET Time = TIME('00:00:00','+' || CAST( (Time_ID*24*60/48) AS text) || ' minutes')"
   ]
  },
  {
   "cell_type": "code",
   "execution_count": 70,
   "metadata": {},
   "outputs": [
    {
     "name": "stdout",
     "output_type": "stream",
     "text": [
      " * sqlite:///C:\\Users\\RowanM\\Documents\\dublin_energy_masterplan\\Residential\\data\\inputs\\processed\\data.db\n",
      "Done.\n"
     ]
    },
    {
     "data": {
      "text/html": [
       "<table>\n",
       "    <tr>\n",
       "        <th>ID</th>\n",
       "        <th>Date_ID</th>\n",
       "        <th>Consumption</th>\n",
       "        <th>Day</th>\n",
       "        <th>Time_ID</th>\n",
       "        <th>Year</th>\n",
       "        <th>Date</th>\n",
       "        <th>Time</th>\n",
       "    </tr>\n",
       "    <tr>\n",
       "        <td>1392</td>\n",
       "        <td>19503</td>\n",
       "        <td>0.14</td>\n",
       "        <td>195</td>\n",
       "        <td>3</td>\n",
       "        <td>2009</td>\n",
       "        <td>2009-07-15</td>\n",
       "        <td>01:30:00</td>\n",
       "    </tr>\n",
       "    <tr>\n",
       "        <td>1392</td>\n",
       "        <td>19504</td>\n",
       "        <td>0.138</td>\n",
       "        <td>195</td>\n",
       "        <td>4</td>\n",
       "        <td>2009</td>\n",
       "        <td>2009-07-15</td>\n",
       "        <td>02:00:00</td>\n",
       "    </tr>\n",
       "    <tr>\n",
       "        <td>1392</td>\n",
       "        <td>19505</td>\n",
       "        <td>0.14</td>\n",
       "        <td>195</td>\n",
       "        <td>5</td>\n",
       "        <td>2009</td>\n",
       "        <td>2009-07-15</td>\n",
       "        <td>02:30:00</td>\n",
       "    </tr>\n",
       "    <tr>\n",
       "        <td>1392</td>\n",
       "        <td>19506</td>\n",
       "        <td>0.145</td>\n",
       "        <td>195</td>\n",
       "        <td>6</td>\n",
       "        <td>2009</td>\n",
       "        <td>2009-07-15</td>\n",
       "        <td>03:00:00</td>\n",
       "    </tr>\n",
       "    <tr>\n",
       "        <td>1392</td>\n",
       "        <td>19507</td>\n",
       "        <td>0.145</td>\n",
       "        <td>195</td>\n",
       "        <td>7</td>\n",
       "        <td>2009</td>\n",
       "        <td>2009-07-15</td>\n",
       "        <td>03:30:00</td>\n",
       "    </tr>\n",
       "</table>"
      ],
      "text/plain": [
       "[('1392', 19503, 0.14, 195, 3, 2009, '2009-07-15', '01:30:00'),\n",
       " ('1392', 19504, 0.138, 195, 4, 2009, '2009-07-15', '02:00:00'),\n",
       " ('1392', 19505, 0.14, 195, 5, 2009, '2009-07-15', '02:30:00'),\n",
       " ('1392', 19506, 0.145, 195, 6, 2009, '2009-07-15', '03:00:00'),\n",
       " ('1392', 19507, 0.145, 195, 7, 2009, '2009-07-15', '03:30:00')]"
      ]
     },
     "execution_count": 70,
     "metadata": {},
     "output_type": "execute_result"
    }
   ],
   "source": [
    "%%sql \n",
    "SELECT * FROM electricity_data_raw\n",
    "LIMIT 5;"
   ]
  },
  {
   "cell_type": "markdown",
   "metadata": {},
   "source": [
    "SOURCES: \n",
    "- Time SQLite function https://www.sqlitetutorial.net/sqlite-date-functions/sqlite-time-function/"
   ]
  },
  {
   "cell_type": "markdown",
   "metadata": {},
   "source": [
    "# Roughwork"
   ]
  },
  {
   "cell_type": "markdown",
   "metadata": {},
   "source": [
    "Add column for Year"
   ]
  },
  {
   "cell_type": "raw",
   "metadata": {},
   "source": [
    "%%time\n",
    "%%sql\n",
    "\n",
    "SELECT \n",
    "    CASE \n",
    "      WHEN Day <=365 THEN \n",
    "          2009\n",
    "      ELSE\n",
    "          2010 \n",
    "      END Year\n",
    "FROM electricity_data_raw\n",
    "\n",
    "LIMIT 5"
   ]
  },
  {
   "cell_type": "raw",
   "metadata": {},
   "source": [
    "%%sql\n",
    "\n",
    "ALTER TABLE electricity_data_raw\n",
    "  ADD Year INTEGER;"
   ]
  },
  {
   "cell_type": "raw",
   "metadata": {},
   "source": [
    "%%time\n",
    "%%sql\n",
    "\n",
    "UPDATE electricity_data_raw\n",
    "  SET Year = CASE\n",
    "              WHEN Day <=365 THEN \n",
    "                  2009\n",
    "              ELSE\n",
    "                  2010 \n",
    "              END;"
   ]
  },
  {
   "cell_type": "raw",
   "metadata": {},
   "source": [
    "%%sql \n",
    "SELECT * FROM electricity_data_raw\n",
    "LIMIT 5"
   ]
  },
  {
   "cell_type": "markdown",
   "metadata": {},
   "source": [
    "Convert Day number to d-m-y"
   ]
  },
  {
   "cell_type": "raw",
   "metadata": {},
   "source": [
    "%%time\n",
    "%%sql\n",
    "\n",
    "SELECT \n",
    "    DATE('2009-01-01','+' || CAST(Day AS TEXT) || ' day') AS Date\n",
    "    FROM electricity_data_raw\n",
    "    LIMIT 5;"
   ]
  },
  {
   "cell_type": "markdown",
   "metadata": {},
   "source": [
    "Convert Time_ID to 00:00:00 Format"
   ]
  },
  {
   "cell_type": "raw",
   "metadata": {},
   "source": [
    "%%time\n",
    "%%sql\n",
    "\n",
    "SELECT \n",
    "    TIME('00:00:00','+' || CAST( (Time_ID*24*60/48) AS text) || ' minutes') AS Time\n",
    "    FROM electricity_data_raw\n",
    "    LIMIT 5;"
   ]
  },
  {
   "cell_type": "raw",
   "metadata": {},
   "source": [
    "%%time\n",
    "%%sql\n",
    "\n",
    "SELECT \n",
    "    TIME('00:00:00','+' || CAST( (2*24*60/48) AS text) || ' minutes');"
   ]
  }
 ],
 "metadata": {
  "kernelspec": {
   "display_name": "Python 3",
   "language": "python",
   "name": "python3"
  },
  "language_info": {
   "codemirror_mode": {
    "name": "ipython",
    "version": 3
   },
   "file_extension": ".py",
   "mimetype": "text/x-python",
   "name": "python",
   "nbconvert_exporter": "python",
   "pygments_lexer": "ipython3",
   "version": "3.8.1"
  }
 },
 "nbformat": 4,
 "nbformat_minor": 4
}
