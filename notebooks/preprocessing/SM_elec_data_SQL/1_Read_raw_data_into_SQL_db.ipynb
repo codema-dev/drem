{
 "cells": [
  {
   "cell_type": "code",
   "execution_count": 1,
   "metadata": {
    "ExecuteTime": {
     "end_time": "2020-02-05T13:22:45.230185Z",
     "start_time": "2020-02-05T13:22:44.836182Z"
    }
   },
   "outputs": [],
   "source": [
    "import pandas as pd"
   ]
  },
  {
   "cell_type": "code",
   "execution_count": 2,
   "metadata": {},
   "outputs": [],
   "source": [
    "# sqlite3_load_csv.py\n",
    "\n",
    "import csv\n",
    "import sqlite3\n",
    "import sys\n",
    "import glob"
   ]
  },
  {
   "cell_type": "code",
   "execution_count": 3,
   "metadata": {
    "ExecuteTime": {
     "end_time": "2020-02-05T13:56:48.706540Z",
     "start_time": "2020-02-05T13:56:48.629449Z"
    }
   },
   "outputs": [],
   "source": [
    "%load_ext sql\n",
    "%load_ext lab_black"
   ]
  },
  {
   "cell_type": "markdown",
   "metadata": {},
   "source": [
    "# Get data"
   ]
  },
  {
   "cell_type": "code",
   "execution_count": 4,
   "metadata": {
    "ExecuteTime": {
     "end_time": "2020-02-05T14:01:50.700477Z",
     "start_time": "2020-02-05T14:01:50.691472Z"
    }
   },
   "outputs": [],
   "source": [
    "from pathlib import Path\n",
    "import sys\n",
    "\n",
    "## import custom functions\n",
    "\n",
    "# Create path to custom functions\n",
    "funcs_path = Path.cwd().parents[1]\n",
    "sys.path.insert(1, str(funcs_path))\n",
    "\n",
    "from funcs import paths"
   ]
  },
  {
   "cell_type": "code",
   "execution_count": 5,
   "metadata": {
    "ExecuteTime": {
     "end_time": "2020-02-05T14:01:53.953922Z",
     "start_time": "2020-02-05T14:01:53.941902Z"
    }
   },
   "outputs": [
    {
     "data": {
      "text/plain": [
       "'C:\\\\Users\\\\RowanM\\\\Documents\\\\dublin_energy_masterplan\\\\Residential\\\\data\\\\inputs\\\\raw\\\\SM_electricity'"
      ]
     },
     "execution_count": 5,
     "metadata": {},
     "output_type": "execute_result"
    }
   ],
   "source": [
    "## Get path to raw data\n",
    "\n",
    "path_to_SM_electricity_raw_data_folder = paths.get_path_to_folder(\"SM_electricity\")\n",
    "\n",
    "path_to_SM_electricity_raw_data_folder"
   ]
  },
  {
   "cell_type": "code",
   "execution_count": 6,
   "metadata": {
    "ExecuteTime": {
     "end_time": "2020-02-05T14:01:54.538566Z",
     "start_time": "2020-02-05T14:01:54.532570Z"
    },
    "scrolled": true
   },
   "outputs": [
    {
     "data": {
      "text/plain": [
       "'C:\\\\Users\\\\RowanM\\\\Documents\\\\dublin_energy_masterplan\\\\Residential\\\\data\\\\inputs\\\\processed'"
      ]
     },
     "execution_count": 6,
     "metadata": {},
     "output_type": "execute_result"
    }
   ],
   "source": [
    "## Get path to processed data folder\n",
    "\n",
    "path_to_processed_data_folder = paths.get_path_to_folder(\"processed\")\n",
    "\n",
    "path_to_processed_data_folder"
   ]
  },
  {
   "cell_type": "code",
   "execution_count": 7,
   "metadata": {},
   "outputs": [
    {
     "data": {
      "text/plain": [
       "'C:\\\\Users\\\\RowanM\\\\Documents\\\\dublin_energy_masterplan\\\\Residential\\\\data\\\\inputs\\\\raw\\\\SM_electricity\\\\File'"
      ]
     },
     "metadata": {},
     "output_type": "display_data"
    },
    {
     "data": {
      "text/plain": [
       "['C:\\\\Users\\\\RowanM\\\\Documents\\\\dublin_energy_masterplan\\\\Residential\\\\data\\\\inputs\\\\raw\\\\SM_electricity\\\\File1.txt',\n",
       " 'C:\\\\Users\\\\RowanM\\\\Documents\\\\dublin_energy_masterplan\\\\Residential\\\\data\\\\inputs\\\\raw\\\\SM_electricity\\\\File2.txt',\n",
       " 'C:\\\\Users\\\\RowanM\\\\Documents\\\\dublin_energy_masterplan\\\\Residential\\\\data\\\\inputs\\\\raw\\\\SM_electricity\\\\File3.txt',\n",
       " 'C:\\\\Users\\\\RowanM\\\\Documents\\\\dublin_energy_masterplan\\\\Residential\\\\data\\\\inputs\\\\raw\\\\SM_electricity\\\\File4.txt',\n",
       " 'C:\\\\Users\\\\RowanM\\\\Documents\\\\dublin_energy_masterplan\\\\Residential\\\\data\\\\inputs\\\\raw\\\\SM_electricity\\\\File5.txt',\n",
       " 'C:\\\\Users\\\\RowanM\\\\Documents\\\\dublin_energy_masterplan\\\\Residential\\\\data\\\\inputs\\\\raw\\\\SM_electricity\\\\File6.txt']"
      ]
     },
     "metadata": {},
     "output_type": "display_data"
    }
   ],
   "source": [
    "path_to_data = path_to_SM_electricity_raw_data_folder + r\"\\File\"\n",
    "all_files = glob.glob(path_to_data + \"*.txt\")\n",
    "\n",
    "display(path_to_data, all_files)"
   ]
  },
  {
   "cell_type": "code",
   "execution_count": 8,
   "metadata": {},
   "outputs": [
    {
     "data": {
      "text/plain": [
       "'C:\\\\Users\\\\RowanM\\\\Documents\\\\dublin_energy_masterplan\\\\Residential\\\\data\\\\inputs\\\\processed\\\\data.db'"
      ]
     },
     "execution_count": 8,
     "metadata": {},
     "output_type": "execute_result"
    }
   ],
   "source": [
    "path_to_output_data = path_to_processed_data_folder + r\"\\data.db\"\n",
    "\n",
    "path_to_output_data"
   ]
  },
  {
   "cell_type": "markdown",
   "metadata": {},
   "source": [
    "# Bulk load txt files\n",
    "\n",
    "Code skeleton\n",
    "https://pymotw.com/3/sqlite3/\n",
    "\n",
    "Executemany docs (insert multiple rows at once)\n",
    "https://kite.com/python/docs/sqlite3.Cursor.executemany"
   ]
  },
  {
   "cell_type": "code",
   "execution_count": 9,
   "metadata": {},
   "outputs": [
    {
     "data": {
      "text/plain": [
       "'Connected: @C:\\\\Users\\\\RowanM\\\\Documents\\\\dublin_energy_masterplan\\\\Residential\\\\data\\\\inputs\\\\processed\\\\data.db'"
      ]
     },
     "execution_count": 9,
     "metadata": {},
     "output_type": "execute_result"
    }
   ],
   "source": [
    "%sql sqlite:///$path_to_output_data"
   ]
  },
  {
   "cell_type": "code",
   "execution_count": 10,
   "metadata": {},
   "outputs": [
    {
     "data": {
      "text/plain": [
       "<sqlite3.Cursor at 0x2300be6e490>"
      ]
     },
     "execution_count": 10,
     "metadata": {},
     "output_type": "execute_result"
    }
   ],
   "source": [
    "db_filename = path_to_output_data\n",
    "\n",
    "conn = sqlite3.connect(db_filename)  # or use :memory: to put it in RAM\n",
    "cursor = conn.cursor()\n",
    "\n",
    "# create a table\n",
    "cursor.execute(\n",
    "    \"\"\"CREATE TABLE IF NOT EXISTS electricity_data_raw (\n",
    "            ID TEXT,\n",
    "            Date_ID INTEGER,\n",
    "            Consumption FLOAT\n",
    "        ); \n",
    "               \"\"\"\n",
    ")"
   ]
  },
  {
   "cell_type": "code",
   "execution_count": 12,
   "metadata": {},
   "outputs": [
    {
     "name": "stdout",
     "output_type": "stream",
     "text": [
      "Wall time: 8min 20s\n"
     ]
    }
   ],
   "source": [
    "%%time\n",
    "\n",
    "SQL_insert_query = \"\"\"\n",
    "INSERT INTO electricity_data_raw \n",
    "(ID, Date_ID, Consumption)\n",
    "VALUES (?,?,?);\n",
    "\"\"\"\n",
    "\n",
    "for input_file in all_files:\n",
    "\n",
    "    \"\"\" Can only look at file data within with block as outside it the file is closed\"\"\"\n",
    "    with open(input_file, \"rt\") as csv_file:\n",
    "        csv_reader = csv.reader(csv_file, delimiter=\" \")\n",
    "\n",
    "        with sqlite3.connect(db_filename) as conn:\n",
    "            cursor = conn.cursor()\n",
    "            cursor.executemany(SQL_insert_query, csv_reader)"
   ]
  },
  {
   "cell_type": "code",
   "execution_count": 14,
   "metadata": {},
   "outputs": [
    {
     "name": "stdout",
     "output_type": "stream",
     "text": [
      " * sqlite:///C:\\Users\\RowanM\\Documents\\dublin_energy_masterplan\\Residential\\data\\inputs\\processed\\data.db\n",
      "Done.\n"
     ]
    },
    {
     "data": {
      "text/html": [
       "<table>\n",
       "    <tr>\n",
       "        <th>ID</th>\n",
       "        <th>Date_ID</th>\n",
       "        <th>Consumption</th>\n",
       "    </tr>\n",
       "    <tr>\n",
       "        <td>1392</td>\n",
       "        <td>19503</td>\n",
       "        <td>0.14</td>\n",
       "    </tr>\n",
       "    <tr>\n",
       "        <td>1392</td>\n",
       "        <td>19504</td>\n",
       "        <td>0.138</td>\n",
       "    </tr>\n",
       "    <tr>\n",
       "        <td>1392</td>\n",
       "        <td>19505</td>\n",
       "        <td>0.14</td>\n",
       "    </tr>\n",
       "    <tr>\n",
       "        <td>1392</td>\n",
       "        <td>19506</td>\n",
       "        <td>0.145</td>\n",
       "    </tr>\n",
       "    <tr>\n",
       "        <td>1392</td>\n",
       "        <td>19507</td>\n",
       "        <td>0.145</td>\n",
       "    </tr>\n",
       "</table>"
      ],
      "text/plain": [
       "[('1392', 19503, 0.14),\n",
       " ('1392', 19504, 0.138),\n",
       " ('1392', 19505, 0.14),\n",
       " ('1392', 19506, 0.145),\n",
       " ('1392', 19507, 0.145)]"
      ]
     },
     "execution_count": 14,
     "metadata": {},
     "output_type": "execute_result"
    }
   ],
   "source": [
    "%%sql \n",
    "SELECT * FROM electricity_data_raw\n",
    "LIMIT 5"
   ]
  }
 ],
 "metadata": {
  "hide_input": false,
  "kernelspec": {
   "display_name": "Python 3",
   "language": "python",
   "name": "python3"
  },
  "language_info": {
   "codemirror_mode": {
    "name": "ipython",
    "version": 3
   },
   "file_extension": ".py",
   "mimetype": "text/x-python",
   "name": "python",
   "nbconvert_exporter": "python",
   "pygments_lexer": "ipython3",
   "version": "3.8.1"
  },
  "notify_time": "5",
  "toc": {
   "base_numbering": 1,
   "nav_menu": {},
   "number_sections": true,
   "sideBar": true,
   "skip_h1_title": false,
   "title_cell": "Table of Contents",
   "title_sidebar": "Contents",
   "toc_cell": false,
   "toc_position": {},
   "toc_section_display": true,
   "toc_window_display": false
  },
  "varInspector": {
   "cols": {
    "lenName": 16,
    "lenType": 16,
    "lenVar": 40
   },
   "kernels_config": {
    "python": {
     "delete_cmd_postfix": "",
     "delete_cmd_prefix": "del ",
     "library": "var_list.py",
     "varRefreshCmd": "print(var_dic_list())"
    },
    "r": {
     "delete_cmd_postfix": ") ",
     "delete_cmd_prefix": "rm(",
     "library": "var_list.r",
     "varRefreshCmd": "cat(var_dic_list()) "
    }
   },
   "position": {
    "height": "208.85px",
    "left": "807.4px",
    "right": "20px",
    "top": "121px",
    "width": "350px"
   },
   "types_to_exclude": [
    "module",
    "function",
    "builtin_function_or_method",
    "instance",
    "_Feature"
   ],
   "window_display": false
  }
 },
 "nbformat": 4,
 "nbformat_minor": 4
}
