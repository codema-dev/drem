{
 "cells": [
  {
   "cell_type": "markdown",
   "metadata": {},
   "source": [
    "# 7_Pull_avg_hourly_demand_into_csv"
   ]
  },
  {
   "cell_type": "code",
   "execution_count": 7,
   "metadata": {},
   "outputs": [],
   "source": [
    "%load_ext sql\n",
    "%load_ext lab_black"
   ]
  },
  {
   "cell_type": "code",
   "execution_count": 5,
   "metadata": {},
   "outputs": [
    {
     "data": {
      "text/plain": [
       "'C:\\\\Users\\\\RowanM\\\\Documents\\\\dublin_energy_masterplan\\\\Residential\\\\data\\\\processed\\\\data.db'"
      ]
     },
     "execution_count": 5,
     "metadata": {},
     "output_type": "execute_result"
    }
   ],
   "source": [
    "from src.features import paths\n",
    "\n",
    "path_to_data_database = paths.get_path_to_data(\"data.db\")\n",
    "path_to_data_database"
   ]
  },
  {
   "cell_type": "code",
   "execution_count": 8,
   "metadata": {},
   "outputs": [
    {
     "data": {
      "text/plain": [
       "'Connected: @C:\\\\Users\\\\RowanM\\\\Documents\\\\dublin_energy_masterplan\\\\Residential\\\\data\\\\processed\\\\data.db'"
      ]
     },
     "execution_count": 8,
     "metadata": {},
     "output_type": "execute_result"
    }
   ],
   "source": [
    "%sql sqlite:///$path_to_data_database"
   ]
  },
  {
   "cell_type": "code",
   "execution_count": 9,
   "metadata": {},
   "outputs": [
    {
     "name": "stdout",
     "output_type": "stream",
     "text": [
      " * sqlite:///C:\\Users\\RowanM\\Documents\\dublin_energy_masterplan\\Residential\\data\\inputs\\processed\\data.db\n",
      "Done.\n",
      "Wall time: 15.6 ms\n"
     ]
    },
    {
     "data": {
      "text/html": [
       "<table>\n",
       "    <tr>\n",
       "        <th>Date</th>\n",
       "        <th>Time</th>\n",
       "        <th>Consumption</th>\n",
       "    </tr>\n",
       "    <tr>\n",
       "        <td>2009-07-15</td>\n",
       "        <td>00:00:00</td>\n",
       "        <td>0.5822443136631121</td>\n",
       "    </tr>\n",
       "    <tr>\n",
       "        <td>2009-07-15</td>\n",
       "        <td>00:30:00</td>\n",
       "        <td>0.5020396055352317</td>\n",
       "    </tr>\n",
       "    <tr>\n",
       "        <td>2009-07-15</td>\n",
       "        <td>01:00:00</td>\n",
       "        <td>0.4328597105137602</td>\n",
       "    </tr>\n",
       "    <tr>\n",
       "        <td>2009-07-15</td>\n",
       "        <td>01:30:00</td>\n",
       "        <td>0.38651121361539587</td>\n",
       "    </tr>\n",
       "    <tr>\n",
       "        <td>2009-07-15</td>\n",
       "        <td>02:00:00</td>\n",
       "        <td>0.35428805471608116</td>\n",
       "    </tr>\n",
       "</table>"
      ],
      "text/plain": [
       "[('2009-07-15', '00:00:00', 0.5822443136631121),\n",
       " ('2009-07-15', '00:30:00', 0.5020396055352317),\n",
       " ('2009-07-15', '01:00:00', 0.4328597105137602),\n",
       " ('2009-07-15', '01:30:00', 0.38651121361539587),\n",
       " ('2009-07-15', '02:00:00', 0.35428805471608116)]"
      ]
     },
     "execution_count": 9,
     "metadata": {},
     "output_type": "execute_result"
    }
   ],
   "source": [
    "%%time\n",
    "%%sql\n",
    "\n",
    "SELECT * \n",
    "FROM electricity_average_consumption\n",
    "LIMIT 5;"
   ]
  },
  {
   "cell_type": "markdown",
   "metadata": {},
   "source": [
    "# Sum every two rows into an hourly value"
   ]
  },
  {
   "cell_type": "code",
   "execution_count": 36,
   "metadata": {},
   "outputs": [
    {
     "name": "stdout",
     "output_type": "stream",
     "text": [
      " * sqlite:///C:\\Users\\RowanM\\Documents\\dublin_energy_masterplan\\Residential\\data\\inputs\\processed\\data.db\n",
      "Done.\n",
      "Wall time: 45 ms\n"
     ]
    },
    {
     "data": {
      "text/html": [
       "<table>\n",
       "    <tr>\n",
       "        <th>Date</th>\n",
       "        <th>Time</th>\n",
       "        <th>Sum_every_two_rows</th>\n",
       "    </tr>\n",
       "    <tr>\n",
       "        <td>2009-07-15</td>\n",
       "        <td>00:00:00</td>\n",
       "        <td>0.5822443136631121</td>\n",
       "    </tr>\n",
       "    <tr>\n",
       "        <td>2009-07-15</td>\n",
       "        <td>00:30:00</td>\n",
       "        <td>1.0842839191983438</td>\n",
       "    </tr>\n",
       "    <tr>\n",
       "        <td>2009-07-15</td>\n",
       "        <td>01:00:00</td>\n",
       "        <td>0.934899316048992</td>\n",
       "    </tr>\n",
       "    <tr>\n",
       "        <td>2009-07-15</td>\n",
       "        <td>01:30:00</td>\n",
       "        <td>0.819370924129156</td>\n",
       "    </tr>\n",
       "    <tr>\n",
       "        <td>2009-07-15</td>\n",
       "        <td>02:00:00</td>\n",
       "        <td>0.740799268331477</td>\n",
       "    </tr>\n",
       "    <tr>\n",
       "        <td>2009-07-15</td>\n",
       "        <td>02:30:00</td>\n",
       "        <td>0.6844383648799117</td>\n",
       "    </tr>\n",
       "</table>"
      ],
      "text/plain": [
       "[('2009-07-15', '00:00:00', 0.5822443136631121),\n",
       " ('2009-07-15', '00:30:00', 1.0842839191983438),\n",
       " ('2009-07-15', '01:00:00', 0.934899316048992),\n",
       " ('2009-07-15', '01:30:00', 0.819370924129156),\n",
       " ('2009-07-15', '02:00:00', 0.740799268331477),\n",
       " ('2009-07-15', '02:30:00', 0.6844383648799117)]"
      ]
     },
     "execution_count": 36,
     "metadata": {},
     "output_type": "execute_result"
    }
   ],
   "source": [
    "%%time\n",
    "%%sql\n",
    "\n",
    "SELECT \n",
    "    Date, \n",
    "    Time, \n",
    "    Consumption + COALESCE(LAG(Consumption, 1) OVER (ORDER BY Date, Time), 0) AS Sum_every_two_rows\n",
    "FROM electricity_average_consumption\n",
    "LIMIT 6;"
   ]
  },
  {
   "cell_type": "code",
   "execution_count": null,
   "metadata": {},
   "outputs": [],
   "source": [
    "SELECT \"date\", \n",
    "sum(\"count\") OVER (order by \"date\" ROWS BETWEEN 2 preceding AND current row)\n",
    "FROM t\n",
    "ORDER BY \"date\";"
   ]
  },
  {
   "cell_type": "code",
   "execution_count": 41,
   "metadata": {},
   "outputs": [
    {
     "name": "stdout",
     "output_type": "stream",
     "text": [
      " * sqlite:///C:\\Users\\RowanM\\Documents\\dublin_energy_masterplan\\Residential\\data\\inputs\\processed\\data.db\n",
      "Done.\n",
      "Wall time: 44.6 ms\n"
     ]
    },
    {
     "data": {
      "text/html": [
       "<table>\n",
       "    <tr>\n",
       "        <th>Date</th>\n",
       "        <th>Time</th>\n",
       "        <th>sum(Consumption) OVER (ORDER BY Date, Time ROWS BETWEEN 1 preceding AND current row)</th>\n",
       "    </tr>\n",
       "    <tr>\n",
       "        <td>2009-07-15</td>\n",
       "        <td>00:00:00</td>\n",
       "        <td>0.5822443136631121</td>\n",
       "    </tr>\n",
       "    <tr>\n",
       "        <td>2009-07-15</td>\n",
       "        <td>00:30:00</td>\n",
       "        <td>1.0842839191983438</td>\n",
       "    </tr>\n",
       "    <tr>\n",
       "        <td>2009-07-15</td>\n",
       "        <td>01:00:00</td>\n",
       "        <td>0.9348993160489918</td>\n",
       "    </tr>\n",
       "    <tr>\n",
       "        <td>2009-07-15</td>\n",
       "        <td>01:30:00</td>\n",
       "        <td>0.8193709241291559</td>\n",
       "    </tr>\n",
       "    <tr>\n",
       "        <td>2009-07-15</td>\n",
       "        <td>02:00:00</td>\n",
       "        <td>0.7407992683314768</td>\n",
       "    </tr>\n",
       "    <tr>\n",
       "        <td>2009-07-15</td>\n",
       "        <td>02:30:00</td>\n",
       "        <td>0.6844383648799115</td>\n",
       "    </tr>\n",
       "</table>"
      ],
      "text/plain": [
       "[('2009-07-15', '00:00:00', 0.5822443136631121),\n",
       " ('2009-07-15', '00:30:00', 1.0842839191983438),\n",
       " ('2009-07-15', '01:00:00', 0.9348993160489918),\n",
       " ('2009-07-15', '01:30:00', 0.8193709241291559),\n",
       " ('2009-07-15', '02:00:00', 0.7407992683314768),\n",
       " ('2009-07-15', '02:30:00', 0.6844383648799115)]"
      ]
     },
     "execution_count": 41,
     "metadata": {},
     "output_type": "execute_result"
    }
   ],
   "source": [
    "%%time\n",
    "%%sql\n",
    "\n",
    "SELECT \n",
    "    Date, \n",
    "    Time, \n",
    "    sum(Consumption) OVER (ORDER BY Date, Time ROWS BETWEEN 1 preceding AND current row)\n",
    "FROM electricity_average_consumption\n",
    "LIMIT 6;"
   ]
  },
  {
   "cell_type": "code",
   "execution_count": null,
   "metadata": {},
   "outputs": [],
   "source": []
  },
  {
   "cell_type": "code",
   "execution_count": 40,
   "metadata": {},
   "outputs": [
    {
     "name": "stdout",
     "output_type": "stream",
     "text": [
      " * sqlite:///C:\\Users\\RowanM\\Documents\\dublin_energy_masterplan\\Residential\\data\\inputs\\processed\\data.db\n",
      "Done.\n",
      "Wall time: 321 ms\n"
     ]
    },
    {
     "data": {
      "text/html": [
       "<table>\n",
       "    <tr>\n",
       "        <th>Date</th>\n",
       "        <th>Time</th>\n",
       "        <th>Hourly_consumption</th>\n",
       "    </tr>\n",
       "    <tr>\n",
       "        <td>2009-07-15</td>\n",
       "        <td>00:00:00</td>\n",
       "        <td>0</td>\n",
       "    </tr>\n",
       "    <tr>\n",
       "        <td>2009-07-15</td>\n",
       "        <td>00:30:00</td>\n",
       "        <td>0</td>\n",
       "    </tr>\n",
       "    <tr>\n",
       "        <td>2009-07-15</td>\n",
       "        <td>01:00:00</td>\n",
       "        <td>0</td>\n",
       "    </tr>\n",
       "    <tr>\n",
       "        <td>2009-07-15</td>\n",
       "        <td>01:30:00</td>\n",
       "        <td>0</td>\n",
       "    </tr>\n",
       "    <tr>\n",
       "        <td>2009-07-15</td>\n",
       "        <td>02:00:00</td>\n",
       "        <td>0</td>\n",
       "    </tr>\n",
       "    <tr>\n",
       "        <td>2009-07-15</td>\n",
       "        <td>02:30:00</td>\n",
       "        <td>0</td>\n",
       "    </tr>\n",
       "</table>"
      ],
      "text/plain": [
       "[('2009-07-15', '00:00:00', 0),\n",
       " ('2009-07-15', '00:30:00', 0),\n",
       " ('2009-07-15', '01:00:00', 0),\n",
       " ('2009-07-15', '01:30:00', 0),\n",
       " ('2009-07-15', '02:00:00', 0),\n",
       " ('2009-07-15', '02:30:00', 0)]"
      ]
     },
     "execution_count": 40,
     "metadata": {},
     "output_type": "execute_result"
    }
   ],
   "source": [
    "%%time\n",
    "%%sql\n",
    "\n",
    "SELECT \n",
    "    Date, \n",
    "    Time, \n",
    "    CASE\n",
    "        WHEN \n",
    "            Time = LEAD(Time,1,0) OVER (ORDER BY Date, Time) \n",
    "        THEN\n",
    "            Consumption + COALESCE(LAG(Consumption, 1) OVER (ORDER BY Date, Time), 0) \n",
    "        ELSE 0\n",
    "        END Hourly_consumption\n",
    "FROM electricity_average_consumption\n",
    "LIMIT 6;"
   ]
  },
  {
   "cell_type": "markdown",
   "metadata": {},
   "source": [
    "SOURCES:\n",
    "- Get sum of every two neighbouring rows https://stackoverflow.com/questions/11268398/sum-every-3-rows-of-a-table\n",
    "- From second comment of above SO post https://www.postgresql.org/docs/current/sql-expressions.html#SYNTAX-WINDOW-FUNCTIONS"
   ]
  },
  {
   "cell_type": "code",
   "execution_count": 38,
   "metadata": {},
   "outputs": [
    {
     "name": "stdout",
     "output_type": "stream",
     "text": [
      " * sqlite:///C:\\Users\\RowanM\\Documents\\dublin_energy_masterplan\\Residential\\data\\inputs\\processed\\data.db\n",
      "Done.\n",
      "Wall time: 120 ms\n"
     ]
    },
    {
     "data": {
      "text/html": [
       "<table>\n",
       "    <tr>\n",
       "        <th>Date</th>\n",
       "        <th>Time</th>\n",
       "        <th>LEAD(Time,1,0) OVER (ORDER BY Date, Time)</th>\n",
       "    </tr>\n",
       "    <tr>\n",
       "        <td>2009-07-15</td>\n",
       "        <td>00:00:00</td>\n",
       "        <td>00:30:00</td>\n",
       "    </tr>\n",
       "    <tr>\n",
       "        <td>2009-07-15</td>\n",
       "        <td>00:30:00</td>\n",
       "        <td>01:00:00</td>\n",
       "    </tr>\n",
       "    <tr>\n",
       "        <td>2009-07-15</td>\n",
       "        <td>01:00:00</td>\n",
       "        <td>01:30:00</td>\n",
       "    </tr>\n",
       "    <tr>\n",
       "        <td>2009-07-15</td>\n",
       "        <td>01:30:00</td>\n",
       "        <td>02:00:00</td>\n",
       "    </tr>\n",
       "    <tr>\n",
       "        <td>2009-07-15</td>\n",
       "        <td>02:00:00</td>\n",
       "        <td>02:30:00</td>\n",
       "    </tr>\n",
       "</table>"
      ],
      "text/plain": [
       "[('2009-07-15', '00:00:00', '00:30:00'),\n",
       " ('2009-07-15', '00:30:00', '01:00:00'),\n",
       " ('2009-07-15', '01:00:00', '01:30:00'),\n",
       " ('2009-07-15', '01:30:00', '02:00:00'),\n",
       " ('2009-07-15', '02:00:00', '02:30:00')]"
      ]
     },
     "execution_count": 38,
     "metadata": {},
     "output_type": "execute_result"
    }
   ],
   "source": [
    "%%time\n",
    "%%sql\n",
    "\n",
    "SELECT Date, Time, LEAD(Time,1,0) OVER (ORDER BY Date, Time)\n",
    "FROM electricity_average_consumption\n",
    "LIMIT 5;"
   ]
  },
  {
   "cell_type": "markdown",
   "metadata": {},
   "source": [
    "SOURCES:\n",
    "- Use LEAD() to access next row https://www.sqlitetutorial.net/sqlite-window-functions/sqlite-lead/\n",
    "- Use SUM() HAVING '00' == '00', '01' = '01' etc to sum every hour https://www.sqlitetutorial.net/sqlite-sum/\n",
    "- Use SUBSTR() To split Time string https://www.sqlitetutorial.net/sqlite-functions/sqlite-substr/"
   ]
  },
  {
   "cell_type": "markdown",
   "metadata": {},
   "source": [
    "# Push these hourly values into a CSV for use in EnergyPRO"
   ]
  },
  {
   "cell_type": "code",
   "execution_count": null,
   "metadata": {},
   "outputs": [],
   "source": []
  },
  {
   "cell_type": "markdown",
   "metadata": {},
   "source": [
    "SOURCES:\n",
    "- Export from database to csv https://www.quackit.com/sqlite/tutorial/export_data_to_csv_file.cfm"
   ]
  }
 ],
 "metadata": {
  "kernelspec": {
   "display_name": "Python 3",
   "language": "python",
   "name": "python3"
  },
  "language_info": {
   "codemirror_mode": {
    "name": "ipython",
    "version": 3
   },
   "file_extension": ".py",
   "mimetype": "text/x-python",
   "name": "python",
   "nbconvert_exporter": "python",
   "pygments_lexer": "ipython3",
   "version": "3.8.1"
  }
 },
 "nbformat": 4,
 "nbformat_minor": 4
}
