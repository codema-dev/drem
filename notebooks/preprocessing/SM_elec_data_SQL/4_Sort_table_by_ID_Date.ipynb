{
 "cells": [
  {
   "cell_type": "markdown",
   "metadata": {},
   "source": [
    "# 4_Sort_table_by_ID_Date.ipynb"
   ]
  },
  {
   "cell_type": "code",
   "execution_count": 2,
   "metadata": {},
   "outputs": [],
   "source": [
    "## import libraries\n",
    "\n",
    "import pandas as pd\n",
    "import glob\n",
    "# from tqdm import tqdm_notebook\n",
    "\n",
    "from pathlib import Path\n",
    "import sys"
   ]
  },
  {
   "cell_type": "code",
   "execution_count": 3,
   "metadata": {},
   "outputs": [],
   "source": [
    "%load_ext sql\n",
    "%load_ext lab_black"
   ]
  },
  {
   "cell_type": "markdown",
   "metadata": {},
   "source": [
    "# Link to database"
   ]
  },
  {
   "cell_type": "code",
   "execution_count": 4,
   "metadata": {},
   "outputs": [],
   "source": [
    "## import custom functions\n",
    "\n",
    "# Create path to custom functions\n",
    "funcs_path = Path.cwd().parents[1]\n",
    "sys.path.insert(1, str(funcs_path))\n",
    "\n",
    "from funcs import paths"
   ]
  },
  {
   "cell_type": "code",
   "execution_count": 5,
   "metadata": {},
   "outputs": [
    {
     "data": {
      "text/plain": [
       "'C:\\\\Users\\\\RowanM\\\\Documents\\\\dublin_energy_masterplan\\\\Residential\\\\data\\\\inputs\\\\processed'"
      ]
     },
     "execution_count": 5,
     "metadata": {},
     "output_type": "execute_result"
    }
   ],
   "source": [
    "## Get path to processed data folder\n",
    "\n",
    "path_to_processed_data_folder = paths.get_path_to_folder(\"processed\")\n",
    "\n",
    "path_to_processed_data_folder"
   ]
  },
  {
   "cell_type": "code",
   "execution_count": 6,
   "metadata": {},
   "outputs": [
    {
     "data": {
      "text/plain": [
       "'C:\\\\Users\\\\RowanM\\\\Documents\\\\dublin_energy_masterplan\\\\Residential\\\\data\\\\inputs\\\\processed\\\\data.db'"
      ]
     },
     "execution_count": 6,
     "metadata": {},
     "output_type": "execute_result"
    }
   ],
   "source": [
    "path_to_data_database = path_to_processed_data_folder + r\"\\data.db\"\n",
    "\n",
    "path_to_data_database"
   ]
  },
  {
   "cell_type": "code",
   "execution_count": 7,
   "metadata": {},
   "outputs": [
    {
     "data": {
      "text/plain": [
       "'Connected: @C:\\\\Users\\\\RowanM\\\\Documents\\\\dublin_energy_masterplan\\\\Residential\\\\data\\\\inputs\\\\processed\\\\data.db'"
      ]
     },
     "execution_count": 7,
     "metadata": {},
     "output_type": "execute_result"
    }
   ],
   "source": [
    "%sql sqlite:///$path_to_data_database"
   ]
  },
  {
   "cell_type": "code",
   "execution_count": 8,
   "metadata": {},
   "outputs": [
    {
     "name": "stdout",
     "output_type": "stream",
     "text": [
      " * sqlite:///C:\\Users\\RowanM\\Documents\\dublin_energy_masterplan\\Residential\\data\\inputs\\processed\\data.db\n",
      "Done.\n"
     ]
    },
    {
     "data": {
      "text/html": [
       "<table>\n",
       "    <tr>\n",
       "        <th>ID</th>\n",
       "        <th>Date_ID</th>\n",
       "        <th>Consumption</th>\n",
       "        <th>Day</th>\n",
       "        <th>Time_ID</th>\n",
       "        <th>Year</th>\n",
       "        <th>Date</th>\n",
       "        <th>Time</th>\n",
       "    </tr>\n",
       "    <tr>\n",
       "        <td>1392</td>\n",
       "        <td>19503</td>\n",
       "        <td>0.14</td>\n",
       "        <td>195</td>\n",
       "        <td>3</td>\n",
       "        <td>2009</td>\n",
       "        <td>2009-07-15</td>\n",
       "        <td>01:30:00</td>\n",
       "    </tr>\n",
       "    <tr>\n",
       "        <td>1392</td>\n",
       "        <td>19504</td>\n",
       "        <td>0.138</td>\n",
       "        <td>195</td>\n",
       "        <td>4</td>\n",
       "        <td>2009</td>\n",
       "        <td>2009-07-15</td>\n",
       "        <td>02:00:00</td>\n",
       "    </tr>\n",
       "    <tr>\n",
       "        <td>1392</td>\n",
       "        <td>19505</td>\n",
       "        <td>0.14</td>\n",
       "        <td>195</td>\n",
       "        <td>5</td>\n",
       "        <td>2009</td>\n",
       "        <td>2009-07-15</td>\n",
       "        <td>02:30:00</td>\n",
       "    </tr>\n",
       "    <tr>\n",
       "        <td>1392</td>\n",
       "        <td>19506</td>\n",
       "        <td>0.145</td>\n",
       "        <td>195</td>\n",
       "        <td>6</td>\n",
       "        <td>2009</td>\n",
       "        <td>2009-07-15</td>\n",
       "        <td>03:00:00</td>\n",
       "    </tr>\n",
       "    <tr>\n",
       "        <td>1392</td>\n",
       "        <td>19507</td>\n",
       "        <td>0.145</td>\n",
       "        <td>195</td>\n",
       "        <td>7</td>\n",
       "        <td>2009</td>\n",
       "        <td>2009-07-15</td>\n",
       "        <td>03:30:00</td>\n",
       "    </tr>\n",
       "</table>"
      ],
      "text/plain": [
       "[('1392', 19503, 0.14, 195, 3, 2009, '2009-07-15', '01:30:00'),\n",
       " ('1392', 19504, 0.138, 195, 4, 2009, '2009-07-15', '02:00:00'),\n",
       " ('1392', 19505, 0.14, 195, 5, 2009, '2009-07-15', '02:30:00'),\n",
       " ('1392', 19506, 0.145, 195, 6, 2009, '2009-07-15', '03:00:00'),\n",
       " ('1392', 19507, 0.145, 195, 7, 2009, '2009-07-15', '03:30:00')]"
      ]
     },
     "execution_count": 8,
     "metadata": {},
     "output_type": "execute_result"
    }
   ],
   "source": [
    "%%sql \n",
    "SELECT * FROM electricity_data_raw\n",
    "LIMIT 5"
   ]
  },
  {
   "cell_type": "markdown",
   "metadata": {},
   "source": [
    "# Create a new ordered table and delete raw data"
   ]
  },
  {
   "cell_type": "code",
   "execution_count": 9,
   "metadata": {},
   "outputs": [
    {
     "name": "stdout",
     "output_type": "stream",
     "text": [
      " * sqlite:///C:\\Users\\RowanM\\Documents\\dublin_energy_masterplan\\Residential\\data\\inputs\\processed\\data.db\n",
      "Done.\n"
     ]
    },
    {
     "data": {
      "text/plain": [
       "[]"
      ]
     },
     "execution_count": 9,
     "metadata": {},
     "output_type": "execute_result"
    }
   ],
   "source": [
    "%%sql\n",
    "CREATE TABLE IF NOT EXISTS electricity_data_ordered (\n",
    "    ID TEXT,\n",
    "    Date TEXT,\n",
    "    Time TEXT,\n",
    "    Consumption FLOAT\n",
    ");"
   ]
  },
  {
   "cell_type": "code",
   "execution_count": 10,
   "metadata": {},
   "outputs": [
    {
     "name": "stdout",
     "output_type": "stream",
     "text": [
      " * sqlite:///C:\\Users\\RowanM\\Documents\\dublin_energy_masterplan\\Residential\\data\\inputs\\processed\\data.db\n",
      "157992996 rows affected.\n",
      "Wall time: 16min 41s\n"
     ]
    },
    {
     "data": {
      "text/plain": [
       "[]"
      ]
     },
     "execution_count": 10,
     "metadata": {},
     "output_type": "execute_result"
    }
   ],
   "source": [
    "%%time\n",
    "%%sql\n",
    "\n",
    "INSERT INTO electricity_data_ordered \n",
    "(ID, Date, Time, Consumption)\n",
    "SELECT ID, Date, Time, Consumption FROM electricity_data_raw \n",
    "ORDER BY ID, Date, Time;"
   ]
  },
  {
   "cell_type": "code",
   "execution_count": 11,
   "metadata": {},
   "outputs": [
    {
     "name": "stdout",
     "output_type": "stream",
     "text": [
      " * sqlite:///C:\\Users\\RowanM\\Documents\\dublin_energy_masterplan\\Residential\\data\\inputs\\processed\\data.db\n",
      "Done.\n"
     ]
    },
    {
     "data": {
      "text/plain": [
       "[]"
      ]
     },
     "execution_count": 11,
     "metadata": {},
     "output_type": "execute_result"
    }
   ],
   "source": [
    "# %sql DROP TABLE electricity_data_raw;"
   ]
  },
  {
   "cell_type": "code",
   "execution_count": 12,
   "metadata": {},
   "outputs": [
    {
     "name": "stdout",
     "output_type": "stream",
     "text": [
      " * sqlite:///C:\\Users\\RowanM\\Documents\\dublin_energy_masterplan\\Residential\\data\\inputs\\processed\\data.db\n",
      "Done.\n"
     ]
    },
    {
     "data": {
      "text/html": [
       "<table>\n",
       "    <tr>\n",
       "        <th>ID</th>\n",
       "        <th>Date</th>\n",
       "        <th>Time</th>\n",
       "        <th>Consumption</th>\n",
       "    </tr>\n",
       "    <tr>\n",
       "        <td>1000</td>\n",
       "        <td>2009-07-15</td>\n",
       "        <td>00:00:00</td>\n",
       "        <td>0.152</td>\n",
       "    </tr>\n",
       "    <tr>\n",
       "        <td>1000</td>\n",
       "        <td>2009-07-15</td>\n",
       "        <td>00:30:00</td>\n",
       "        <td>0.117</td>\n",
       "    </tr>\n",
       "    <tr>\n",
       "        <td>1000</td>\n",
       "        <td>2009-07-15</td>\n",
       "        <td>01:00:00</td>\n",
       "        <td>0.05</td>\n",
       "    </tr>\n",
       "    <tr>\n",
       "        <td>1000</td>\n",
       "        <td>2009-07-15</td>\n",
       "        <td>01:30:00</td>\n",
       "        <td>0.025</td>\n",
       "    </tr>\n",
       "    <tr>\n",
       "        <td>1000</td>\n",
       "        <td>2009-07-15</td>\n",
       "        <td>02:00:00</td>\n",
       "        <td>0.025</td>\n",
       "    </tr>\n",
       "</table>"
      ],
      "text/plain": [
       "[('1000', '2009-07-15', '00:00:00', 0.152),\n",
       " ('1000', '2009-07-15', '00:30:00', 0.117),\n",
       " ('1000', '2009-07-15', '01:00:00', 0.05),\n",
       " ('1000', '2009-07-15', '01:30:00', 0.025),\n",
       " ('1000', '2009-07-15', '02:00:00', 0.025)]"
      ]
     },
     "execution_count": 12,
     "metadata": {},
     "output_type": "execute_result"
    }
   ],
   "source": [
    "%%sql \n",
    "SELECT * FROM electricity_data_ordered\n",
    "LIMIT 5"
   ]
  },
  {
   "cell_type": "markdown",
   "metadata": {},
   "source": [
    "Source: https://stackoverflow.com/questions/4568154/sort-an-entire-sqlite-table"
   ]
  }
 ],
 "metadata": {
  "kernelspec": {
   "display_name": "Python 3",
   "language": "python",
   "name": "python3"
  },
  "language_info": {
   "codemirror_mode": {
    "name": "ipython",
    "version": 3
   },
   "file_extension": ".py",
   "mimetype": "text/x-python",
   "name": "python",
   "nbconvert_exporter": "python",
   "pygments_lexer": "ipython3",
   "version": "3.8.1"
  }
 },
 "nbformat": 4,
 "nbformat_minor": 4
}
