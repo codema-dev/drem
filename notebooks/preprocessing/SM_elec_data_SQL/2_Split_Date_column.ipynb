{
 "cells": [
  {
   "cell_type": "code",
   "execution_count": 1,
   "metadata": {},
   "outputs": [],
   "source": [
    "## import libraries\n",
    "\n",
    "import pandas as pd\n",
    "import glob\n",
    "# from tqdm import tqdm_notebook\n",
    "\n",
    "from pathlib import Path\n",
    "import sys"
   ]
  },
  {
   "cell_type": "code",
   "execution_count": 2,
   "metadata": {},
   "outputs": [],
   "source": [
    "%load_ext sql"
   ]
  },
  {
   "cell_type": "code",
   "execution_count": 3,
   "metadata": {},
   "outputs": [],
   "source": [
    "%load_ext lab_black"
   ]
  },
  {
   "cell_type": "code",
   "execution_count": 4,
   "metadata": {},
   "outputs": [],
   "source": [
    "## import custom functions\n",
    "\n",
    "# Create path to custom functions\n",
    "funcs_path = Path.cwd().parents[1]\n",
    "sys.path.insert(1, str(funcs_path))\n",
    "\n",
    "from funcs import paths"
   ]
  },
  {
   "cell_type": "code",
   "execution_count": 5,
   "metadata": {},
   "outputs": [
    {
     "data": {
      "text/plain": [
       "'C:\\\\Users\\\\RowanM\\\\Documents\\\\dublin_energy_masterplan\\\\Residential\\\\data\\\\inputs\\\\processed'"
      ]
     },
     "execution_count": 5,
     "metadata": {},
     "output_type": "execute_result"
    }
   ],
   "source": [
    "## Get path to processed data folder\n",
    "\n",
    "path_to_processed_data_folder = paths.get_path_to_folder(\"processed\")\n",
    "\n",
    "path_to_processed_data_folder"
   ]
  },
  {
   "cell_type": "code",
   "execution_count": 6,
   "metadata": {},
   "outputs": [
    {
     "data": {
      "text/plain": [
       "'C:\\\\Users\\\\RowanM\\\\Documents\\\\dublin_energy_masterplan\\\\Residential\\\\data\\\\inputs\\\\processed\\\\data.db'"
      ]
     },
     "execution_count": 6,
     "metadata": {},
     "output_type": "execute_result"
    }
   ],
   "source": [
    "path_to_data_database = path_to_processed_data_folder + r\"\\data.db\"\n",
    "\n",
    "path_to_data_database"
   ]
  },
  {
   "cell_type": "code",
   "execution_count": 7,
   "metadata": {},
   "outputs": [
    {
     "data": {
      "text/plain": [
       "'Connected: @C:\\\\Users\\\\RowanM\\\\Documents\\\\dublin_energy_masterplan\\\\Residential\\\\data\\\\inputs\\\\processed\\\\data.db'"
      ]
     },
     "execution_count": 7,
     "metadata": {},
     "output_type": "execute_result"
    }
   ],
   "source": [
    "%sql sqlite:///$path_to_data_database"
   ]
  },
  {
   "cell_type": "code",
   "execution_count": 8,
   "metadata": {},
   "outputs": [
    {
     "name": "stdout",
     "output_type": "stream",
     "text": [
      " * sqlite:///C:\\Users\\RowanM\\Documents\\dublin_energy_masterplan\\Residential\\data\\inputs\\processed\\data.db\n",
      "Done.\n"
     ]
    },
    {
     "data": {
      "text/html": [
       "<table>\n",
       "    <tr>\n",
       "        <th>ID</th>\n",
       "        <th>Date_ID</th>\n",
       "        <th>Consumption</th>\n",
       "        <th>Day</th>\n",
       "        <th>Time_ID</th>\n",
       "    </tr>\n",
       "    <tr>\n",
       "        <td>1392</td>\n",
       "        <td>19503</td>\n",
       "        <td>0.14</td>\n",
       "        <td>None</td>\n",
       "        <td>None</td>\n",
       "    </tr>\n",
       "    <tr>\n",
       "        <td>1392</td>\n",
       "        <td>19504</td>\n",
       "        <td>0.138</td>\n",
       "        <td>None</td>\n",
       "        <td>None</td>\n",
       "    </tr>\n",
       "    <tr>\n",
       "        <td>1392</td>\n",
       "        <td>19505</td>\n",
       "        <td>0.14</td>\n",
       "        <td>None</td>\n",
       "        <td>None</td>\n",
       "    </tr>\n",
       "    <tr>\n",
       "        <td>1392</td>\n",
       "        <td>19506</td>\n",
       "        <td>0.145</td>\n",
       "        <td>None</td>\n",
       "        <td>None</td>\n",
       "    </tr>\n",
       "    <tr>\n",
       "        <td>1392</td>\n",
       "        <td>19507</td>\n",
       "        <td>0.145</td>\n",
       "        <td>None</td>\n",
       "        <td>None</td>\n",
       "    </tr>\n",
       "</table>"
      ],
      "text/plain": [
       "[('1392', 19503, 0.14, None, None),\n",
       " ('1392', 19504, 0.138, None, None),\n",
       " ('1392', 19505, 0.14, None, None),\n",
       " ('1392', 19506, 0.145, None, None),\n",
       " ('1392', 19507, 0.145, None, None)]"
      ]
     },
     "execution_count": 8,
     "metadata": {},
     "output_type": "execute_result"
    }
   ],
   "source": [
    "%%sql \n",
    "SELECT * FROM electricity_data_raw\n",
    "LIMIT 5"
   ]
  },
  {
   "cell_type": "code",
   "execution_count": 9,
   "metadata": {},
   "outputs": [
    {
     "name": "stdout",
     "output_type": "stream",
     "text": [
      " * sqlite:///C:\\Users\\RowanM\\Documents\\dublin_energy_masterplan\\Residential\\data\\inputs\\processed\\data.db\n",
      "Done.\n"
     ]
    },
    {
     "data": {
      "text/html": [
       "<table>\n",
       "    <tr>\n",
       "        <th>Day</th>\n",
       "        <th>Time_ID</th>\n",
       "    </tr>\n",
       "    <tr>\n",
       "        <td>195</td>\n",
       "        <td>03</td>\n",
       "    </tr>\n",
       "    <tr>\n",
       "        <td>195</td>\n",
       "        <td>04</td>\n",
       "    </tr>\n",
       "    <tr>\n",
       "        <td>195</td>\n",
       "        <td>05</td>\n",
       "    </tr>\n",
       "</table>"
      ],
      "text/plain": [
       "[('195', '03'), ('195', '04'), ('195', '05')]"
      ]
     },
     "execution_count": 9,
     "metadata": {},
     "output_type": "execute_result"
    }
   ],
   "source": [
    "%%sql \n",
    "SELECT SUBSTR(Date_ID, 0, 4) AS Day, SUBSTR(Date_ID, 4, 2) AS Time_ID FROM electricity_data_raw\n",
    "LIMIT 3;"
   ]
  },
  {
   "cell_type": "code",
   "execution_count": 10,
   "metadata": {},
   "outputs": [
    {
     "name": "stdout",
     "output_type": "stream",
     "text": [
      " * sqlite:///C:\\Users\\RowanM\\Documents\\dublin_energy_masterplan\\Residential\\data\\inputs\\processed\\data.db\n",
      "(sqlite3.OperationalError) duplicate column name: Day\n",
      "[SQL: ALTER TABLE raw_electricity_data\n",
      "  ADD column Day INTEGER;]\n",
      "(Background on this error at: http://sqlalche.me/e/e3q8)\n"
     ]
    }
   ],
   "source": [
    "%%sql\n",
    "ALTER TABLE electricity_data_raw\n",
    "  ADD column Day INTEGER;\n",
    "\n",
    "ALTER TABLE electricity_data_raw\n",
    "  ADD column Time_ID INTEGER;"
   ]
  },
  {
   "cell_type": "code",
   "execution_count": 11,
   "metadata": {},
   "outputs": [
    {
     "name": "stdout",
     "output_type": "stream",
     "text": [
      " * sqlite:///C:\\Users\\RowanM\\Documents\\dublin_energy_masterplan\\Residential\\data\\inputs\\processed\\data.db\n",
      "Done.\n"
     ]
    },
    {
     "data": {
      "text/html": [
       "<table>\n",
       "    <tr>\n",
       "        <th>ID</th>\n",
       "        <th>Date_ID</th>\n",
       "        <th>Consumption</th>\n",
       "        <th>Day</th>\n",
       "        <th>Time_ID</th>\n",
       "    </tr>\n",
       "    <tr>\n",
       "        <td>1392</td>\n",
       "        <td>19503</td>\n",
       "        <td>0.14</td>\n",
       "        <td>None</td>\n",
       "        <td>None</td>\n",
       "    </tr>\n",
       "    <tr>\n",
       "        <td>1392</td>\n",
       "        <td>19504</td>\n",
       "        <td>0.138</td>\n",
       "        <td>None</td>\n",
       "        <td>None</td>\n",
       "    </tr>\n",
       "    <tr>\n",
       "        <td>1392</td>\n",
       "        <td>19505</td>\n",
       "        <td>0.14</td>\n",
       "        <td>None</td>\n",
       "        <td>None</td>\n",
       "    </tr>\n",
       "</table>"
      ],
      "text/plain": [
       "[('1392', 19503, 0.14, None, None),\n",
       " ('1392', 19504, 0.138, None, None),\n",
       " ('1392', 19505, 0.14, None, None)]"
      ]
     },
     "execution_count": 11,
     "metadata": {},
     "output_type": "execute_result"
    }
   ],
   "source": [
    "%%sql \n",
    "SELECT * FROM electricity_data_raw\n",
    "LIMIT 3\n",
    ";"
   ]
  },
  {
   "cell_type": "code",
   "execution_count": 12,
   "metadata": {},
   "outputs": [
    {
     "name": "stdout",
     "output_type": "stream",
     "text": [
      " * sqlite:///C:\\Users\\RowanM\\Documents\\dublin_energy_masterplan\\Residential\\data\\inputs\\processed\\data.db\n",
      "157992996 rows affected.\n",
      "157992996 rows affected.\n",
      "Wall time: 13min 16s\n"
     ]
    },
    {
     "data": {
      "text/plain": [
       "[]"
      ]
     },
     "execution_count": 12,
     "metadata": {},
     "output_type": "execute_result"
    }
   ],
   "source": [
    "%%time\n",
    "%%sql \n",
    "\n",
    "UPDATE electricity_data_raw\n",
    "  SET Day = SUBSTR(Date_ID, 0, 4);\n",
    "\n",
    "UPDATE electricity_data_raw\n",
    "  SET Time_ID = SUBSTR(Date_ID, 4, 2);"
   ]
  },
  {
   "cell_type": "code",
   "execution_count": 14,
   "metadata": {},
   "outputs": [
    {
     "name": "stdout",
     "output_type": "stream",
     "text": [
      " * sqlite:///C:\\Users\\RowanM\\Documents\\dublin_energy_masterplan\\Residential\\data\\inputs\\processed\\data.db\n",
      "Done.\n"
     ]
    },
    {
     "data": {
      "text/html": [
       "<table>\n",
       "    <tr>\n",
       "        <th>ID</th>\n",
       "        <th>Date_ID</th>\n",
       "        <th>Consumption</th>\n",
       "        <th>Day</th>\n",
       "        <th>Time_ID</th>\n",
       "    </tr>\n",
       "    <tr>\n",
       "        <td>1392</td>\n",
       "        <td>19503</td>\n",
       "        <td>0.14</td>\n",
       "        <td>195</td>\n",
       "        <td>3</td>\n",
       "    </tr>\n",
       "    <tr>\n",
       "        <td>1392</td>\n",
       "        <td>19504</td>\n",
       "        <td>0.138</td>\n",
       "        <td>195</td>\n",
       "        <td>4</td>\n",
       "    </tr>\n",
       "    <tr>\n",
       "        <td>1392</td>\n",
       "        <td>19505</td>\n",
       "        <td>0.14</td>\n",
       "        <td>195</td>\n",
       "        <td>5</td>\n",
       "    </tr>\n",
       "</table>"
      ],
      "text/plain": [
       "[('1392', 19503, 0.14, 195, 3),\n",
       " ('1392', 19504, 0.138, 195, 4),\n",
       " ('1392', 19505, 0.14, 195, 5)]"
      ]
     },
     "execution_count": 14,
     "metadata": {},
     "output_type": "execute_result"
    }
   ],
   "source": [
    "%%sql \n",
    "SELECT * FROM electricity_data_raw\n",
    "LIMIT 3\n",
    ";"
   ]
  }
 ],
 "metadata": {
  "kernelspec": {
   "display_name": "Python 3",
   "language": "python",
   "name": "python3"
  },
  "language_info": {
   "codemirror_mode": {
    "name": "ipython",
    "version": 3
   },
   "file_extension": ".py",
   "mimetype": "text/x-python",
   "name": "python",
   "nbconvert_exporter": "python",
   "pygments_lexer": "ipython3",
   "version": "3.8.1"
  }
 },
 "nbformat": 4,
 "nbformat_minor": 4
}
