{
 "cells": [
  {
   "cell_type": "markdown",
   "metadata": {},
   "source": [
    "# 6_Create_table_avg_half_hourly_demand"
   ]
  },
  {
   "cell_type": "code",
   "execution_count": 1,
   "metadata": {},
   "outputs": [],
   "source": [
    "%load_ext sql\n",
    "%load_ext lab_black"
   ]
  },
  {
   "cell_type": "code",
   "execution_count": 2,
   "metadata": {},
   "outputs": [],
   "source": [
    "from pathlib import Path\n",
    "import sys\n",
    "\n",
    "## import custom functions\n",
    "\n",
    "# Create path to custom functions\n",
    "funcs_path = Path.cwd().parents[1]\n",
    "sys.path.insert(1, str(funcs_path))\n",
    "\n",
    "from funcs import paths\n",
    "\n",
    "## Get path to processed data folder\n",
    "\n",
    "path_to_processed_data_folder = paths.get_path_to_folder(\"processed\")\n",
    "path_to_data_database = path_to_processed_data_folder + r\"\\data.db\"\n",
    "path_to_data_database"
   ]
  },
  {
   "cell_type": "code",
   "execution_count": 7,
   "metadata": {},
   "outputs": [
    {
     "data": {
      "text/plain": [
       "'Connected: @C:\\\\Users\\\\RowanM\\\\Documents\\\\dublin_energy_masterplan\\\\Residential\\\\data\\\\inputs\\\\processed\\\\data.db'"
      ]
     },
     "execution_count": 7,
     "metadata": {},
     "output_type": "execute_result"
    }
   ],
   "source": [
    "%sql sqlite:///$path_to_data_database"
   ]
  },
  {
   "cell_type": "markdown",
   "metadata": {},
   "source": [
    "# Create Table containing average consumption of all IDs for each date, time"
   ]
  },
  {
   "cell_type": "code",
   "execution_count": 8,
   "metadata": {},
   "outputs": [
    {
     "name": "stdout",
     "output_type": "stream",
     "text": [
      " * sqlite:///C:\\Users\\RowanM\\Documents\\dublin_energy_masterplan\\Residential\\data\\inputs\\processed\\data.db\n",
      "Done.\n"
     ]
    },
    {
     "data": {
      "text/plain": [
       "[]"
      ]
     },
     "execution_count": 8,
     "metadata": {},
     "output_type": "execute_result"
    }
   ],
   "source": [
    "%%sql\n",
    "CREATE TABLE IF NOT EXISTS electricity_average_consumption (\n",
    "    Date TEXT,\n",
    "    Time TEXT,\n",
    "    Consumption FLOAT\n",
    ");"
   ]
  },
  {
   "cell_type": "code",
   "execution_count": 13,
   "metadata": {},
   "outputs": [
    {
     "name": "stdout",
     "output_type": "stream",
     "text": [
      " * sqlite:///C:\\Users\\RowanM\\Documents\\dublin_energy_masterplan\\Residential\\data\\inputs\\processed\\data.db\n",
      "(sqlite3.OperationalError) no such table: electricity_average_consumption\n",
      "[SQL: DROP TABLE electricity_average_consumption;]\n",
      "(Background on this error at: http://sqlalche.me/e/e3q8)\n"
     ]
    }
   ],
   "source": [
    "# %sql DROP TABLE electricity_average_consumption;"
   ]
  },
  {
   "cell_type": "code",
   "execution_count": 9,
   "metadata": {},
   "outputs": [
    {
     "name": "stdout",
     "output_type": "stream",
     "text": [
      " * sqlite:///C:\\Users\\RowanM\\Documents\\dublin_energy_masterplan\\Residential\\data\\inputs\\processed\\data.db\n",
      "25726 rows affected.\n",
      "Wall time: 7min 46s\n"
     ]
    },
    {
     "data": {
      "text/plain": [
       "[]"
      ]
     },
     "execution_count": 9,
     "metadata": {},
     "output_type": "execute_result"
    }
   ],
   "source": [
    "%%time\n",
    "%%sql\n",
    "\n",
    "INSERT INTO electricity_average_consumption \n",
    "(Date, Time, Consumption)\n",
    "SELECT Date, Time, AVG(Consumption) FROM electricity_data_ordered \n",
    "GROUP BY Date, Time;"
   ]
  },
  {
   "cell_type": "code",
   "execution_count": 10,
   "metadata": {
    "collapsed": true,
    "jupyter": {
     "outputs_hidden": true
    }
   },
   "outputs": [
    {
     "name": "stdout",
     "output_type": "stream",
     "text": [
      " * sqlite:///C:\\Users\\RowanM\\Documents\\dublin_energy_masterplan\\Residential\\data\\inputs\\processed\\data.db\n",
      "Done.\n",
      "Wall time: 0 ns\n"
     ]
    },
    {
     "data": {
      "text/html": [
       "<table>\n",
       "    <tr>\n",
       "        <th>Date</th>\n",
       "        <th>Time</th>\n",
       "        <th>Consumption</th>\n",
       "    </tr>\n",
       "    <tr>\n",
       "        <td>2009-07-15</td>\n",
       "        <td>00:00:00</td>\n",
       "        <td>0.5822443136631121</td>\n",
       "    </tr>\n",
       "    <tr>\n",
       "        <td>2009-07-15</td>\n",
       "        <td>00:30:00</td>\n",
       "        <td>0.5020396055352317</td>\n",
       "    </tr>\n",
       "    <tr>\n",
       "        <td>2009-07-15</td>\n",
       "        <td>01:00:00</td>\n",
       "        <td>0.4328597105137602</td>\n",
       "    </tr>\n",
       "    <tr>\n",
       "        <td>2009-07-15</td>\n",
       "        <td>01:30:00</td>\n",
       "        <td>0.38651121361539587</td>\n",
       "    </tr>\n",
       "    <tr>\n",
       "        <td>2009-07-15</td>\n",
       "        <td>02:00:00</td>\n",
       "        <td>0.35428805471608116</td>\n",
       "    </tr>\n",
       "    <tr>\n",
       "        <td>2009-07-15</td>\n",
       "        <td>02:30:00</td>\n",
       "        <td>0.3301503101638305</td>\n",
       "    </tr>\n",
       "    <tr>\n",
       "        <td>2009-07-15</td>\n",
       "        <td>03:00:00</td>\n",
       "        <td>0.32170462859869614</td>\n",
       "    </tr>\n",
       "    <tr>\n",
       "        <td>2009-07-15</td>\n",
       "        <td>03:30:00</td>\n",
       "        <td>0.31548528710036594</td>\n",
       "    </tr>\n",
       "    <tr>\n",
       "        <td>2009-07-15</td>\n",
       "        <td>04:00:00</td>\n",
       "        <td>0.3064940353109591</td>\n",
       "    </tr>\n",
       "    <tr>\n",
       "        <td>2009-07-15</td>\n",
       "        <td>04:30:00</td>\n",
       "        <td>0.30331429934786064</td>\n",
       "    </tr>\n",
       "    <tr>\n",
       "        <td>2009-07-15</td>\n",
       "        <td>05:00:00</td>\n",
       "        <td>0.3081631938921605</td>\n",
       "    </tr>\n",
       "    <tr>\n",
       "        <td>2009-07-15</td>\n",
       "        <td>05:30:00</td>\n",
       "        <td>0.30801272466995455</td>\n",
       "    </tr>\n",
       "    <tr>\n",
       "        <td>2009-07-15</td>\n",
       "        <td>06:00:00</td>\n",
       "        <td>0.31939605535231336</td>\n",
       "    </tr>\n",
       "    <tr>\n",
       "        <td>2009-07-15</td>\n",
       "        <td>06:30:00</td>\n",
       "        <td>0.35564036901542867</td>\n",
       "    </tr>\n",
       "    <tr>\n",
       "        <td>2009-07-15</td>\n",
       "        <td>07:00:00</td>\n",
       "        <td>0.39400445363448394</td>\n",
       "    </tr>\n",
       "    <tr>\n",
       "        <td>2009-07-15</td>\n",
       "        <td>07:30:00</td>\n",
       "        <td>0.45897630030220876</td>\n",
       "    </tr>\n",
       "    <tr>\n",
       "        <td>2009-07-15</td>\n",
       "        <td>08:00:00</td>\n",
       "        <td>0.5380063623349765</td>\n",
       "    </tr>\n",
       "    <tr>\n",
       "        <td>2009-07-15</td>\n",
       "        <td>08:30:00</td>\n",
       "        <td>0.62609273103229</td>\n",
       "    </tr>\n",
       "    <tr>\n",
       "        <td>2009-07-15</td>\n",
       "        <td>09:00:00</td>\n",
       "        <td>0.6996058533481774</td>\n",
       "    </tr>\n",
       "    <tr>\n",
       "        <td>2009-07-15</td>\n",
       "        <td>09:30:00</td>\n",
       "        <td>0.7748037219659638</td>\n",
       "    </tr>\n",
       "    <tr>\n",
       "        <td>2009-07-15</td>\n",
       "        <td>10:00:00</td>\n",
       "        <td>0.8130103387943395</td>\n",
       "    </tr>\n",
       "    <tr>\n",
       "        <td>2009-07-15</td>\n",
       "        <td>10:30:00</td>\n",
       "        <td>0.8549740734849711</td>\n",
       "    </tr>\n",
       "    <tr>\n",
       "        <td>2009-07-15</td>\n",
       "        <td>11:00:00</td>\n",
       "        <td>0.8676554795610002</td>\n",
       "    </tr>\n",
       "    <tr>\n",
       "        <td>2009-07-15</td>\n",
       "        <td>11:30:00</td>\n",
       "        <td>0.8866179417846362</td>\n",
       "    </tr>\n",
       "    <tr>\n",
       "        <td>2009-07-15</td>\n",
       "        <td>12:00:00</td>\n",
       "        <td>0.8859831398123111</td>\n",
       "    </tr>\n",
       "    <tr>\n",
       "        <td>2009-07-15</td>\n",
       "        <td>12:30:00</td>\n",
       "        <td>0.9028883410211548</td>\n",
       "    </tr>\n",
       "    <tr>\n",
       "        <td>2009-07-15</td>\n",
       "        <td>13:00:00</td>\n",
       "        <td>0.9189066327342116</td>\n",
       "    </tr>\n",
       "    <tr>\n",
       "        <td>2009-07-15</td>\n",
       "        <td>13:30:00</td>\n",
       "        <td>0.9018371242245925</td>\n",
       "    </tr>\n",
       "    <tr>\n",
       "        <td>2009-07-15</td>\n",
       "        <td>14:00:00</td>\n",
       "        <td>0.8511735326864964</td>\n",
       "    </tr>\n",
       "    <tr>\n",
       "        <td>2009-07-15</td>\n",
       "        <td>14:30:00</td>\n",
       "        <td>0.8654844918084952</td>\n",
       "    </tr>\n",
       "    <tr>\n",
       "        <td>2009-07-15</td>\n",
       "        <td>15:00:00</td>\n",
       "        <td>0.8537808175600449</td>\n",
       "    </tr>\n",
       "    <tr>\n",
       "        <td>2009-07-15</td>\n",
       "        <td>15:30:00</td>\n",
       "        <td>0.8536642277715939</td>\n",
       "    </tr>\n",
       "    <tr>\n",
       "        <td>2009-07-15</td>\n",
       "        <td>16:00:00</td>\n",
       "        <td>0.865023699697789</td>\n",
       "    </tr>\n",
       "    <tr>\n",
       "        <td>2009-07-15</td>\n",
       "        <td>16:30:00</td>\n",
       "        <td>0.9072564020995687</td>\n",
       "    </tr>\n",
       "    <tr>\n",
       "        <td>2009-07-15</td>\n",
       "        <td>17:00:00</td>\n",
       "        <td>0.943023063464293</td>\n",
       "    </tr>\n",
       "    <tr>\n",
       "        <td>2009-07-15</td>\n",
       "        <td>17:30:00</td>\n",
       "        <td>0.9944709718466663</td>\n",
       "    </tr>\n",
       "    <tr>\n",
       "        <td>2009-07-15</td>\n",
       "        <td>18:00:00</td>\n",
       "        <td>0.9870101797359637</td>\n",
       "    </tr>\n",
       "    <tr>\n",
       "        <td>2009-07-15</td>\n",
       "        <td>18:30:00</td>\n",
       "        <td>0.9256707491649425</td>\n",
       "    </tr>\n",
       "    <tr>\n",
       "        <td>2009-07-15</td>\n",
       "        <td>19:00:00</td>\n",
       "        <td>0.8885185303006194</td>\n",
       "    </tr>\n",
       "    <tr>\n",
       "        <td>2009-07-15</td>\n",
       "        <td>19:30:00</td>\n",
       "        <td>0.8588037219659582</td>\n",
       "    </tr>\n",
       "    <tr>\n",
       "        <td>2009-07-15</td>\n",
       "        <td>20:00:00</td>\n",
       "        <td>0.79605551137267</td>\n",
       "    </tr>\n",
       "    <tr>\n",
       "        <td>2009-07-15</td>\n",
       "        <td>20:30:00</td>\n",
       "        <td>0.7756305073962148</td>\n",
       "    </tr>\n",
       "    <tr>\n",
       "        <td>2009-07-15</td>\n",
       "        <td>21:00:00</td>\n",
       "        <td>0.7517443931923</td>\n",
       "    </tr>\n",
       "    <tr>\n",
       "        <td>2009-07-15</td>\n",
       "        <td>21:30:00</td>\n",
       "        <td>0.7631593764911727</td>\n",
       "    </tr>\n",
       "    <tr>\n",
       "        <td>2009-07-15</td>\n",
       "        <td>22:00:00</td>\n",
       "        <td>0.7579615078733886</td>\n",
       "    </tr>\n",
       "    <tr>\n",
       "        <td>2009-07-15</td>\n",
       "        <td>22:30:00</td>\n",
       "        <td>0.7841196118975652</td>\n",
       "    </tr>\n",
       "    <tr>\n",
       "        <td>2009-07-15</td>\n",
       "        <td>23:00:00</td>\n",
       "        <td>0.7566720216319358</td>\n",
       "    </tr>\n",
       "    <tr>\n",
       "        <td>2009-07-15</td>\n",
       "        <td>23:30:00</td>\n",
       "        <td>0.6767496421186582</td>\n",
       "    </tr>\n",
       "    <tr>\n",
       "        <td>2009-07-16</td>\n",
       "        <td>00:00:00</td>\n",
       "        <td>0.5911245229007646</td>\n",
       "    </tr>\n",
       "</table>"
      ],
      "text/plain": [
       "[('2009-07-15', '00:00:00', 0.5822443136631121),\n",
       " ('2009-07-15', '00:30:00', 0.5020396055352317),\n",
       " ('2009-07-15', '01:00:00', 0.4328597105137602),\n",
       " ('2009-07-15', '01:30:00', 0.38651121361539587),\n",
       " ('2009-07-15', '02:00:00', 0.35428805471608116),\n",
       " ('2009-07-15', '02:30:00', 0.3301503101638305),\n",
       " ('2009-07-15', '03:00:00', 0.32170462859869614),\n",
       " ('2009-07-15', '03:30:00', 0.31548528710036594),\n",
       " ('2009-07-15', '04:00:00', 0.3064940353109591),\n",
       " ('2009-07-15', '04:30:00', 0.30331429934786064),\n",
       " ('2009-07-15', '05:00:00', 0.3081631938921605),\n",
       " ('2009-07-15', '05:30:00', 0.30801272466995455),\n",
       " ('2009-07-15', '06:00:00', 0.31939605535231336),\n",
       " ('2009-07-15', '06:30:00', 0.35564036901542867),\n",
       " ('2009-07-15', '07:00:00', 0.39400445363448394),\n",
       " ('2009-07-15', '07:30:00', 0.45897630030220876),\n",
       " ('2009-07-15', '08:00:00', 0.5380063623349765),\n",
       " ('2009-07-15', '08:30:00', 0.62609273103229),\n",
       " ('2009-07-15', '09:00:00', 0.6996058533481774),\n",
       " ('2009-07-15', '09:30:00', 0.7748037219659638),\n",
       " ('2009-07-15', '10:00:00', 0.8130103387943395),\n",
       " ('2009-07-15', '10:30:00', 0.8549740734849711),\n",
       " ('2009-07-15', '11:00:00', 0.8676554795610002),\n",
       " ('2009-07-15', '11:30:00', 0.8866179417846362),\n",
       " ('2009-07-15', '12:00:00', 0.8859831398123111),\n",
       " ('2009-07-15', '12:30:00', 0.9028883410211548),\n",
       " ('2009-07-15', '13:00:00', 0.9189066327342116),\n",
       " ('2009-07-15', '13:30:00', 0.9018371242245925),\n",
       " ('2009-07-15', '14:00:00', 0.8511735326864964),\n",
       " ('2009-07-15', '14:30:00', 0.8654844918084952),\n",
       " ('2009-07-15', '15:00:00', 0.8537808175600449),\n",
       " ('2009-07-15', '15:30:00', 0.8536642277715939),\n",
       " ('2009-07-15', '16:00:00', 0.865023699697789),\n",
       " ('2009-07-15', '16:30:00', 0.9072564020995687),\n",
       " ('2009-07-15', '17:00:00', 0.943023063464293),\n",
       " ('2009-07-15', '17:30:00', 0.9944709718466663),\n",
       " ('2009-07-15', '18:00:00', 0.9870101797359637),\n",
       " ('2009-07-15', '18:30:00', 0.9256707491649425),\n",
       " ('2009-07-15', '19:00:00', 0.8885185303006194),\n",
       " ('2009-07-15', '19:30:00', 0.8588037219659582),\n",
       " ('2009-07-15', '20:00:00', 0.79605551137267),\n",
       " ('2009-07-15', '20:30:00', 0.7756305073962148),\n",
       " ('2009-07-15', '21:00:00', 0.7517443931923),\n",
       " ('2009-07-15', '21:30:00', 0.7631593764911727),\n",
       " ('2009-07-15', '22:00:00', 0.7579615078733886),\n",
       " ('2009-07-15', '22:30:00', 0.7841196118975652),\n",
       " ('2009-07-15', '23:00:00', 0.7566720216319358),\n",
       " ('2009-07-15', '23:30:00', 0.6767496421186582),\n",
       " ('2009-07-16', '00:00:00', 0.5911245229007646)]"
      ]
     },
     "execution_count": 10,
     "metadata": {},
     "output_type": "execute_result"
    }
   ],
   "source": [
    "%%time\n",
    "%%sql\n",
    "\n",
    "SELECT * \n",
    "FROM electricity_average_consumption\n",
    "LIMIT 49;"
   ]
  }
 ],
 "metadata": {
  "kernelspec": {
   "display_name": "Python 3",
   "language": "python",
   "name": "python3"
  },
  "language_info": {
   "codemirror_mode": {
    "name": "ipython",
    "version": 3
   },
   "file_extension": ".py",
   "mimetype": "text/x-python",
   "name": "python",
   "nbconvert_exporter": "python",
   "pygments_lexer": "ipython3",
   "version": "3.8.1"
  }
 },
 "nbformat": 4,
 "nbformat_minor": 4
}
