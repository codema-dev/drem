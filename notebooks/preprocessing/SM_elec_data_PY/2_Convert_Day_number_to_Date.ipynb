{
 "cells": [
  {
   "cell_type": "markdown",
   "metadata": {},
   "source": [
    "<span style=\"color:red\"> **Warning!** </span> Runtime of approx 15 minutes "
   ]
  },
  {
   "cell_type": "code",
   "execution_count": 1,
   "metadata": {
    "ExecuteTime": {
     "end_time": "2020-01-27T10:06:54.663482Z",
     "start_time": "2020-01-27T10:06:53.904487Z"
    }
   },
   "outputs": [],
   "source": [
    "## import libraries\n",
    "\n",
    "import pandas as pd\n",
    "import glob\n",
    "from tqdm import tqdm_notebook\n",
    "\n",
    "from pathlib import Path\n",
    "import sys"
   ]
  },
  {
   "cell_type": "code",
   "execution_count": 2,
   "metadata": {
    "ExecuteTime": {
     "end_time": "2020-01-27T10:06:54.682377Z",
     "start_time": "2020-01-27T10:06:54.673375Z"
    }
   },
   "outputs": [],
   "source": [
    "## import custom functions\n",
    "\n",
    "# Create path to custom functions\n",
    "funcs_path = Path.cwd().parents[1]\n",
    "sys.path.insert(1, str(funcs_path))\n",
    "\n",
    "from funcs import paths"
   ]
  },
  {
   "cell_type": "code",
   "execution_count": 3,
   "metadata": {
    "ExecuteTime": {
     "end_time": "2020-01-27T10:06:59.024100Z",
     "start_time": "2020-01-27T10:06:59.012101Z"
    }
   },
   "outputs": [
    {
     "data": {
      "text/plain": [
       "'C:\\\\Users\\\\RowanM\\\\Documents\\\\dublin_energy_masterplan\\\\Residential\\\\data\\\\temp\\\\elec_data'"
      ]
     },
     "execution_count": 3,
     "metadata": {},
     "output_type": "execute_result"
    }
   ],
   "source": [
    "## Get path to temp electricity data\n",
    "\n",
    "path_to_SM_electricity_temp_data_folder = paths.get_path_to_temp_data(\"elec_data\")\n",
    "\n",
    "path_to_SM_electricity_temp_data_folder"
   ]
  },
  {
   "cell_type": "code",
   "execution_count": 13,
   "metadata": {},
   "outputs": [
    {
     "name": "stdout",
     "output_type": "stream",
     "text": [
      "Wall time: 45.3 s\n"
     ]
    },
    {
     "data": {
      "text/plain": [
       "ID    Day  Hour\n",
       "1000  195  1       0.117004\n",
       "           2       0.049988\n",
       "           3       0.024994\n",
       "           4       0.024994\n",
       "           5       0.049011\n",
       "Name: Elec, dtype: float16"
      ]
     },
     "execution_count": 13,
     "metadata": {},
     "output_type": "execute_result"
    }
   ],
   "source": [
    "%%time\n",
    "\n",
    "raw_elec_data = pd.read_pickle(\n",
    "    path_to_SM_electricity_temp_data_folder + \"\\raw_Elec_data.pkl\", compression=\"xz\"\n",
    ")\n",
    "\n",
    "raw_elec_data.head()"
   ]
  },
  {
   "cell_type": "code",
   "execution_count": 15,
   "metadata": {},
   "outputs": [
    {
     "name": "stdout",
     "output_type": "stream",
     "text": [
      "Wall time: 9.26 s\n"
     ]
    },
    {
     "data": {
      "text/html": [
       "<div>\n",
       "<style scoped>\n",
       "    .dataframe tbody tr th:only-of-type {\n",
       "        vertical-align: middle;\n",
       "    }\n",
       "\n",
       "    .dataframe tbody tr th {\n",
       "        vertical-align: top;\n",
       "    }\n",
       "\n",
       "    .dataframe thead th {\n",
       "        text-align: right;\n",
       "    }\n",
       "</style>\n",
       "<table border=\"1\" class=\"dataframe\">\n",
       "  <thead>\n",
       "    <tr style=\"text-align: right;\">\n",
       "      <th></th>\n",
       "      <th>ID</th>\n",
       "      <th>Day</th>\n",
       "      <th>Hour</th>\n",
       "      <th>Elec</th>\n",
       "    </tr>\n",
       "  </thead>\n",
       "  <tbody>\n",
       "    <tr>\n",
       "      <th>0</th>\n",
       "      <td>1000</td>\n",
       "      <td>195</td>\n",
       "      <td>1</td>\n",
       "      <td>0.117004</td>\n",
       "    </tr>\n",
       "    <tr>\n",
       "      <th>1</th>\n",
       "      <td>1000</td>\n",
       "      <td>195</td>\n",
       "      <td>2</td>\n",
       "      <td>0.049988</td>\n",
       "    </tr>\n",
       "    <tr>\n",
       "      <th>2</th>\n",
       "      <td>1000</td>\n",
       "      <td>195</td>\n",
       "      <td>3</td>\n",
       "      <td>0.024994</td>\n",
       "    </tr>\n",
       "    <tr>\n",
       "      <th>3</th>\n",
       "      <td>1000</td>\n",
       "      <td>195</td>\n",
       "      <td>4</td>\n",
       "      <td>0.024994</td>\n",
       "    </tr>\n",
       "    <tr>\n",
       "      <th>4</th>\n",
       "      <td>1000</td>\n",
       "      <td>195</td>\n",
       "      <td>5</td>\n",
       "      <td>0.049011</td>\n",
       "    </tr>\n",
       "  </tbody>\n",
       "</table>\n",
       "</div>"
      ],
      "text/plain": [
       "     ID  Day  Hour      Elec\n",
       "0  1000  195     1  0.117004\n",
       "1  1000  195     2  0.049988\n",
       "2  1000  195     3  0.024994\n",
       "3  1000  195     4  0.024994\n",
       "4  1000  195     5  0.049011"
      ]
     },
     "execution_count": 15,
     "metadata": {},
     "output_type": "execute_result"
    }
   ],
   "source": [
    "%%time\n",
    "\n",
    "raw_elec_data = raw_elec_data.to_frame()\n",
    "raw_elec_data.reset_index(inplace=True)\n",
    "\n",
    "raw_elec_data.head()"
   ]
  },
  {
   "cell_type": "code",
   "execution_count": 16,
   "metadata": {},
   "outputs": [
    {
     "name": "stdout",
     "output_type": "stream",
     "text": [
      "Wall time: 36.6 s\n"
     ]
    }
   ],
   "source": [
    "%%time\n",
    "\n",
    "# Add Year column to df\n",
    "\n",
    "# @numba.vectorize\n",
    "def add_year (Day):\n",
    "    \n",
    "    if Day <= 365:\n",
    "        return 2009\n",
    "    elif Day <= 730:\n",
    "        return 2010\n",
    "    elif Day <= 1095:\n",
    "        return 2011\n",
    "    \n",
    "add_year = np.vectorize(add_year)        \n",
    "\n",
    "raw_elec_data[\"Year\"] = add_year(raw_elec_data[\"Day\"].values)"
   ]
  },
  {
   "cell_type": "code",
   "execution_count": 17,
   "metadata": {},
   "outputs": [
    {
     "name": "stdout",
     "output_type": "stream",
     "text": [
      "Wall time: 37.7 s\n"
     ]
    }
   ],
   "source": [
    "%%time\n",
    "\n",
    "# Convert days to within 365\n",
    "\n",
    "def convert_days (Day):\n",
    "    \n",
    "    if Day <= 365:\n",
    "        return Day\n",
    "    else:\n",
    "        return Day%365\n",
    "\n",
    "convert_days = np.vectorize(convert_days) \n",
    "\n",
    "raw_elec_data[\"Day\"] = convert_days(raw_elec_data[\"Day\"].values)"
   ]
  },
  {
   "cell_type": "code",
   "execution_count": 18,
   "metadata": {},
   "outputs": [
    {
     "name": "stdout",
     "output_type": "stream",
     "text": [
      "Wall time: 16.4 s\n"
     ]
    }
   ],
   "source": [
    "%%time\n",
    "\n",
    "# Convert Year & Day to dates\n",
    "\n",
    "def compose_date(\n",
    "    years,\n",
    "    months=1,\n",
    "    days=1,\n",
    "    weeks=None,\n",
    "    hours=None,\n",
    "    minutes=None,\n",
    "    seconds=None,\n",
    "    milliseconds=None,\n",
    "    microseconds=None,\n",
    "    nanoseconds=None,\n",
    "):\n",
    "    \"\"\" Docstring:\n",
    "        \n",
    "        Source: https://stackoverflow.com/questions/34258892/converting-year-and-day-of-year-into-datetime-index-in-pandas\n",
    "        \n",
    "        \"\"\"\n",
    "    \n",
    "    years = np.asarray(years) - 1970\n",
    "    months = np.asarray(months) - 1\n",
    "    days = np.asarray(days) - 1\n",
    "    types = (\n",
    "        \"<M8[Y]\",\n",
    "        \"<m8[M]\",\n",
    "        \"<m8[D]\",\n",
    "        \"<m8[W]\",\n",
    "        \"<m8[h]\",\n",
    "        \"<m8[m]\",\n",
    "        \"<m8[s]\",\n",
    "        \"<m8[ms]\",\n",
    "        \"<m8[us]\",\n",
    "        \"<m8[ns]\",\n",
    "    )\n",
    "    vals = (\n",
    "        years,\n",
    "        months,\n",
    "        days,\n",
    "        weeks,\n",
    "        hours,\n",
    "        minutes,\n",
    "        seconds,\n",
    "        milliseconds,\n",
    "        microseconds,\n",
    "        nanoseconds,\n",
    "    )\n",
    "    return sum(np.asarray(v, dtype=t) for t, v in zip(types, vals) if v is not None)\n",
    "\n",
    "raw_elec_data[\"Date\"] = compose_date(raw_elec_data['Year'], days=raw_elec_data['Day'])"
   ]
  },
  {
   "cell_type": "code",
   "execution_count": 20,
   "metadata": {},
   "outputs": [],
   "source": [
    "%%time\n",
    "\n",
    "raw_elec_data.drop(columns=[\"Day\",\"Year\"],inplace=True)\n",
    "\n",
    "raw_elec_data[\"Date\"] = pd.to_datetime(raw_elec_data[\"Date\"])\n",
    "raw_elec_data.set_index([\"ID\",\"Date\",\"Hour\"],inplace=True)"
   ]
  },
  {
   "cell_type": "code",
   "execution_count": 21,
   "metadata": {},
   "outputs": [
    {
     "name": "stdout",
     "output_type": "stream",
     "text": [
      "Reformatted Series with Dates\n"
     ]
    },
    {
     "data": {
      "text/plain": [
       "ID    Date        Hour\n",
       "1000  2009-07-14  1       0.117004\n",
       "                  2       0.049988\n",
       "                  3       0.024994\n",
       "                  4       0.024994\n",
       "                  5       0.049011\n",
       "Name: Elec, dtype: float16"
      ]
     },
     "execution_count": 21,
     "metadata": {},
     "output_type": "execute_result"
    }
   ],
   "source": [
    "# convert to series\n",
    "raw_elec_data = raw_elec_data[\"Elec\"]\n",
    "\n",
    "print(\"Reformatted Series with Dates\")\n",
    "raw_elec_data.head()"
   ]
  },
  {
   "cell_type": "code",
   "execution_count": 24,
   "metadata": {},
   "outputs": [],
   "source": [
    "%%time\n",
    "\n",
    "raw_elec_data.to_pickle(\n",
    "    path_to_SM_electricity_temp_data_folder + \"\\half_hourly_elec_data.pkl.pkl\",\n",
    "    compression=\"xz\",\n",
    ")"
   ]
  },
  {
   "cell_type": "code",
   "execution_count": null,
   "metadata": {},
   "outputs": [],
   "source": [
    "# os.remove(r\"temp\\raw_elec_data.pkl\")"
   ]
  }
 ],
 "metadata": {
  "hide_input": false,
  "kernelspec": {
   "display_name": "Python 3",
   "language": "python",
   "name": "python3"
  },
  "language_info": {
   "codemirror_mode": {
    "name": "ipython",
    "version": 3
   },
   "file_extension": ".py",
   "mimetype": "text/x-python",
   "name": "python",
   "nbconvert_exporter": "python",
   "pygments_lexer": "ipython3",
   "version": "3.8.1"
  },
  "toc": {
   "base_numbering": 1,
   "nav_menu": {},
   "number_sections": true,
   "sideBar": true,
   "skip_h1_title": false,
   "title_cell": "Table of Contents",
   "title_sidebar": "Contents",
   "toc_cell": false,
   "toc_position": {},
   "toc_section_display": true,
   "toc_window_display": false
  },
  "varInspector": {
   "cols": {
    "lenName": 16,
    "lenType": 16,
    "lenVar": 40
   },
   "kernels_config": {
    "python": {
     "delete_cmd_postfix": "",
     "delete_cmd_prefix": "del ",
     "library": "var_list.py",
     "varRefreshCmd": "print(var_dic_list())"
    },
    "r": {
     "delete_cmd_postfix": ") ",
     "delete_cmd_prefix": "rm(",
     "library": "var_list.r",
     "varRefreshCmd": "cat(var_dic_list()) "
    }
   },
   "types_to_exclude": [
    "module",
    "function",
    "builtin_function_or_method",
    "instance",
    "_Feature"
   ],
   "window_display": false
  }
 },
 "nbformat": 4,
 "nbformat_minor": 4
}
