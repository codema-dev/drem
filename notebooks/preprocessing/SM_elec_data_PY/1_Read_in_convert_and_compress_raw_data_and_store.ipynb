{
 "cells": [
  {
   "cell_type": "markdown",
   "metadata": {},
   "source": [
    "Read https://stackoverflow.com/questions/14614512/merging-two-tables-with-millions-of-rows-in-python/14617925#14617925\n",
    "\n",
    "For idea on using PyTables for disk memory processing"
   ]
  },
  {
   "cell_type": "markdown",
   "metadata": {},
   "source": [
    "https://www.pytables.org/"
   ]
  },
  {
   "cell_type": "markdown",
   "metadata": {},
   "source": [
    "https://stackoverflow.com/questions/27203161/convert-large-csv-to-hdf5\n",
    "\n",
    "https://pandas.pydata.org/pandas-docs/version/0.15.1/io.html#table-format\n"
   ]
  },
  {
   "cell_type": "markdown",
   "metadata": {},
   "source": [
    "<span style=\"color:red\"> **Warning!** </span> Runtime of approx 10 minutes "
   ]
  },
  {
   "cell_type": "code",
   "execution_count": 1,
   "metadata": {
    "ExecuteTime": {
     "end_time": "2020-01-27T10:05:32.573271Z",
     "start_time": "2020-01-27T10:05:31.241273Z"
    }
   },
   "outputs": [],
   "source": [
    "## import libraries\n",
    "\n",
    "import pandas as pd\n",
    "import glob\n",
    "from tqdm import tqdm_notebook\n",
    "\n",
    "from pathlib import Path\n",
    "import sys\n"
   ]
  },
  {
   "cell_type": "code",
   "execution_count": 2,
   "metadata": {
    "ExecuteTime": {
     "end_time": "2020-01-27T10:05:32.592272Z",
     "start_time": "2020-01-27T10:05:32.576273Z"
    }
   },
   "outputs": [],
   "source": [
    "## import custom functions\n",
    "\n",
    "# Create path to custom functions\n",
    "funcs_path = Path.cwd().parents[1]\n",
    "sys.path.insert(1, str(funcs_path))\n",
    "\n",
    "from funcs import paths"
   ]
  },
  {
   "cell_type": "code",
   "execution_count": 3,
   "metadata": {
    "ExecuteTime": {
     "end_time": "2020-01-27T10:00:22.515812Z",
     "start_time": "2020-01-27T10:00:22.493813Z"
    }
   },
   "outputs": [
    {
     "data": {
      "text/plain": [
       "'C:\\\\Users\\\\RowanM\\\\Documents\\\\dublin_energy_masterplan\\\\Residential\\\\data\\\\inputs\\\\raw\\\\SM_Electricity'"
      ]
     },
     "execution_count": 3,
     "metadata": {},
     "output_type": "execute_result"
    }
   ],
   "source": [
    "## Get path to raw electricity data\n",
    "\n",
    "path_to_SM_electricity_raw_data_folder = paths.get_path_to_raw_input(\"elec_data\")\n",
    "\n",
    "path_to_SM_electricity_raw_data_folder"
   ]
  },
  {
   "cell_type": "code",
   "execution_count": 4,
   "metadata": {
    "scrolled": true
   },
   "outputs": [
    {
     "data": {
      "application/vnd.jupyter.widget-view+json": {
       "model_id": "527655a2bd9249e2a4a73bae15060010",
       "version_major": 2,
       "version_minor": 0
      },
      "text/plain": [
       "HBox(children=(IntProgress(value=0, max=6), HTML(value='')))"
      ]
     },
     "metadata": {},
     "output_type": "display_data"
    },
    {
     "name": "stdout",
     "output_type": "stream",
     "text": [
      "\n",
      "Wall time: 5min 11s\n"
     ]
    }
   ],
   "source": [
    "%%time\n",
    "\n",
    "## Code to run through all 6 files:\n",
    "\n",
    "path = path_to_SM_electricity_raw_data_folder + r\"\\File\"\n",
    "all_files = glob.glob(path + \"*.txt\")\n",
    "\n",
    "elec_data_df = pd.DataFrame()\n",
    "\n",
    "# Go through all 6 txt files and convert to type\n",
    "for file in tqdm_notebook(all_files):\n",
    "\n",
    "    raw_df = pd.read_csv(file,header=None)\n",
    "    \n",
    "    temp = pd.DataFrame()\n",
    "    temp['ID'] = raw_df[0].str[0:4].astype('category')\n",
    "    temp['Day'] = raw_df[0].str[5:8].astype('int16')\n",
    "    temp['Hour'] = raw_df[0].str[8:10].astype('int8')\n",
    "    temp['Elec'] = raw_df[0].str[11:].astype('float16')\n",
    "    \n",
    "    elec_data_df = elec_data_df.append(temp)"
   ]
  },
  {
   "cell_type": "code",
   "execution_count": 5,
   "metadata": {},
   "outputs": [
    {
     "name": "stdout",
     "output_type": "stream",
     "text": [
      "Wall time: 1min 50s\n"
     ]
    }
   ],
   "source": [
    "%%time\n",
    "df.sort_values(['ID','Day','Hour'],inplace=True);"
   ]
  },
  {
   "cell_type": "code",
   "execution_count": 6,
   "metadata": {},
   "outputs": [
    {
     "name": "stdout",
     "output_type": "stream",
     "text": [
      "Wall time: 26.2 s\n"
     ]
    }
   ],
   "source": [
    "%%time\n",
    "df.set_index(['ID','Day','Hour'],inplace=True);"
   ]
  },
  {
   "cell_type": "code",
   "execution_count": 4,
   "metadata": {
    "ExecuteTime": {
     "end_time": "2020-01-27T10:06:11.003146Z",
     "start_time": "2020-01-27T10:06:10.996144Z"
    }
   },
   "outputs": [
    {
     "data": {
      "text/plain": [
       "'C:\\\\Users\\\\RowanM\\\\Documents\\\\dublin_energy_masterplan\\\\Residential\\\\data\\\\temp\\\\elec_data'"
      ]
     },
     "execution_count": 4,
     "metadata": {},
     "output_type": "execute_result"
    }
   ],
   "source": [
    "## Get path to temp electricity data\n",
    "\n",
    "path_to_SM_electricity_temp_data_folder = paths.get_path_to_temp_data(\"elec_data\")\n",
    "\n",
    "path_to_SM_electricity_temp_data_folder"
   ]
  },
  {
   "cell_type": "code",
   "execution_count": 7,
   "metadata": {},
   "outputs": [],
   "source": [
    "%%time\n",
    "\n",
    "# .squeeze converts a single-column dataframe to a series\n",
    "df.squeeze(\"columns\").to_pickle(\n",
    "    path_to_SM_electricity_temp_data_folder + \"\\raw_Elec_data.pkl\", compression=\"xz\"\n",
    ")\n",
    "\n",
    "# SOURCE: https://pandas.pydata.org/pandas-docs/stable/reference/api/pandas.DataFrame.squeeze.html"
   ]
  }
 ],
 "metadata": {
  "hide_input": false,
  "kernelspec": {
   "display_name": "Python 3",
   "language": "python",
   "name": "python3"
  },
  "language_info": {
   "codemirror_mode": {
    "name": "ipython",
    "version": 3
   },
   "file_extension": ".py",
   "mimetype": "text/x-python",
   "name": "python",
   "nbconvert_exporter": "python",
   "pygments_lexer": "ipython3",
   "version": "3.8.1"
  },
  "toc": {
   "base_numbering": 1,
   "nav_menu": {},
   "number_sections": true,
   "sideBar": true,
   "skip_h1_title": false,
   "title_cell": "Table of Contents",
   "title_sidebar": "Contents",
   "toc_cell": false,
   "toc_position": {},
   "toc_section_display": true,
   "toc_window_display": false
  },
  "varInspector": {
   "cols": {
    "lenName": 16,
    "lenType": 16,
    "lenVar": 40
   },
   "kernels_config": {
    "python": {
     "delete_cmd_postfix": "",
     "delete_cmd_prefix": "del ",
     "library": "var_list.py",
     "varRefreshCmd": "print(var_dic_list())"
    },
    "r": {
     "delete_cmd_postfix": ") ",
     "delete_cmd_prefix": "rm(",
     "library": "var_list.r",
     "varRefreshCmd": "cat(var_dic_list()) "
    }
   },
   "types_to_exclude": [
    "module",
    "function",
    "builtin_function_or_method",
    "instance",
    "_Feature"
   ],
   "window_display": false
  }
 },
 "nbformat": 4,
 "nbformat_minor": 2
}
