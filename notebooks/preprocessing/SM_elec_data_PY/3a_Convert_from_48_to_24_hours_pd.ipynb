{
 "cells": [
  {
   "cell_type": "markdown",
   "metadata": {},
   "source": [
    "<span style=\"color:red\"> NOTE </span> code gets v buggy and slow after loading in the raw elec data"
   ]
  },
  {
   "cell_type": "code",
   "execution_count": 11,
   "metadata": {
    "ExecuteTime": {
     "end_time": "2020-01-31T15:30:27.269405Z",
     "start_time": "2020-01-31T15:30:27.265408Z"
    }
   },
   "outputs": [],
   "source": [
    "import pandas as pd\n",
    "\n",
    "from pathlib import Path\n",
    "import sys"
   ]
  },
  {
   "cell_type": "code",
   "execution_count": 2,
   "metadata": {
    "ExecuteTime": {
     "end_time": "2020-01-31T15:22:43.198670Z",
     "start_time": "2020-01-31T15:22:43.167671Z"
    }
   },
   "outputs": [],
   "source": [
    "## import custom functions\n",
    "\n",
    "# Create path to custom functions\n",
    "funcs_path = Path.cwd().parents[1]\n",
    "sys.path.insert(1, str(funcs_path))\n",
    "\n",
    "from funcs import paths"
   ]
  },
  {
   "cell_type": "code",
   "execution_count": 3,
   "metadata": {
    "ExecuteTime": {
     "end_time": "2020-01-31T15:22:44.860588Z",
     "start_time": "2020-01-31T15:22:44.842587Z"
    }
   },
   "outputs": [
    {
     "data": {
      "text/plain": [
       "'C:\\\\Users\\\\RowanM\\\\Documents\\\\dublin_energy_masterplan\\\\Residential\\\\data\\\\temp\\\\elec_data\\\\half_hourly_elec_data.pkl'"
      ]
     },
     "execution_count": 3,
     "metadata": {},
     "output_type": "execute_result"
    }
   ],
   "source": [
    "## Get path to temp electricity data\n",
    "\n",
    "path_to_SM_half_hourly_electricity = paths.get_path_to_data(\"half_hourly_elec_data.pkl\")\n",
    "\n",
    "path_to_SM_half_hourly_electricity"
   ]
  },
  {
   "cell_type": "raw",
   "metadata": {
    "ExecuteTime": {
     "end_time": "2020-01-31T14:58:06.666202Z",
     "start_time": "2020-01-31T14:56:58.799432Z"
    },
    "scrolled": false
   },
   "source": [
    "%%time\n",
    "\n",
    "halfhourly_elec_data = pd.read_pickle(\n",
    "    path_to_SM_half_hourly_electricity,\n",
    "    compression=\"xz\",\n",
    ")\n"
   ]
  },
  {
   "cell_type": "raw",
   "metadata": {
    "ExecuteTime": {
     "end_time": "2020-01-31T14:58:07.966202Z",
     "start_time": "2020-01-31T14:58:06.669204Z"
    }
   },
   "source": [
    "hourly_elec_values = halfhourly_elec_data.values[::2] + halfhourly_elec_data.values[1::2]"
   ]
  },
  {
   "cell_type": "raw",
   "metadata": {
    "ExecuteTime": {
     "end_time": "2020-01-31T14:58:08.449213Z",
     "start_time": "2020-01-31T14:58:07.968203Z"
    }
   },
   "source": [
    "hourly_elec_data = halfhourly_elec_data.iloc[0::2].copy()\n",
    "\n",
    "hourly_elec_data.head()"
   ]
  },
  {
   "cell_type": "raw",
   "metadata": {
    "ExecuteTime": {
     "end_time": "2020-01-31T15:06:02.145381Z",
     "start_time": "2020-01-31T15:06:00.843381Z"
    }
   },
   "source": [
    "hours24 = np.arange(1,25)\n",
    "column_length = hourly_elec_data.size\n",
    "hour_column = np.resize(hours24,column_length)"
   ]
  },
  {
   "cell_type": "raw",
   "metadata": {
    "ExecuteTime": {
     "start_time": "2020-01-31T15:06:42.658Z"
    }
   },
   "source": [
    "hourly_elec_data.index = hourly_elec_data.index.set_levels(hour_column,level=-1)"
   ]
  },
  {
   "cell_type": "raw",
   "metadata": {},
   "source": []
  },
  {
   "cell_type": "raw",
   "metadata": {
    "ExecuteTime": {
     "end_time": "2020-01-31T14:34:42.325593Z",
     "start_time": "2020-01-31T14:34:42.279592Z"
    }
   },
   "source": [
    "# del halfhourly_elec_data"
   ]
  },
  {
   "cell_type": "raw",
   "metadata": {
    "ExecuteTime": {
     "start_time": "2020-01-31T14:38:38.712Z"
    }
   },
   "source": [
    "hourly_elec_data.to_frame()"
   ]
  },
  {
   "cell_type": "raw",
   "metadata": {
    "ExecuteTime": {
     "start_time": "2020-01-31T14:36:55.685Z"
    }
   },
   "source": [
    "hourly_elec_data.update( pd.Series(hourly_elec_values) )"
   ]
  },
  {
   "cell_type": "raw",
   "metadata": {},
   "source": [
    "hourly_elec_data"
   ]
  },
  {
   "cell_type": "raw",
   "metadata": {},
   "source": [
    "# hourly_elec_data = "
   ]
  },
  {
   "cell_type": "raw",
   "metadata": {},
   "source": [
    "# hourly_elec_data.to_pickle(data_path + \"\\hourly_elec_data.pkl\", compression = 'xz')"
   ]
  }
 ],
 "metadata": {
  "hide_input": false,
  "kernelspec": {
   "display_name": "Python 3",
   "language": "python",
   "name": "python3"
  },
  "language_info": {
   "codemirror_mode": {
    "name": "ipython",
    "version": 3
   },
   "file_extension": ".py",
   "mimetype": "text/x-python",
   "name": "python",
   "nbconvert_exporter": "python",
   "pygments_lexer": "ipython3",
   "version": "3.8.1"
  },
  "notify_time": "5",
  "toc": {
   "base_numbering": 1,
   "nav_menu": {},
   "number_sections": true,
   "sideBar": true,
   "skip_h1_title": false,
   "title_cell": "Table of Contents",
   "title_sidebar": "Contents",
   "toc_cell": false,
   "toc_position": {},
   "toc_section_display": true,
   "toc_window_display": false
  },
  "varInspector": {
   "cols": {
    "lenName": 16,
    "lenType": 16,
    "lenVar": 40
   },
   "kernels_config": {
    "python": {
     "delete_cmd_postfix": "",
     "delete_cmd_prefix": "del ",
     "library": "var_list.py",
     "varRefreshCmd": "print(var_dic_list())"
    },
    "r": {
     "delete_cmd_postfix": ") ",
     "delete_cmd_prefix": "rm(",
     "library": "var_list.r",
     "varRefreshCmd": "cat(var_dic_list()) "
    }
   },
   "position": {
    "height": "208.85px",
    "left": "807.4px",
    "right": "20px",
    "top": "121px",
    "width": "350px"
   },
   "types_to_exclude": [
    "module",
    "function",
    "builtin_function_or_method",
    "instance",
    "_Feature"
   ],
   "window_display": false
  }
 },
 "nbformat": 4,
 "nbformat_minor": 2
}
