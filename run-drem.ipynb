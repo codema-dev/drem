{
 "cells": [
  {
   "cell_type": "markdown",
   "metadata": {},
   "source": [
    "# Run etl flow"
   ]
  },
  {
   "cell_type": "markdown",
   "metadata": {},
   "source": [
    "<span style=\"color:red\">__Register your email address with SEAI https://ndber.seai.ie/BERResearchTool/Register/Register.aspx__</span>"
   ]
  },
  {
   "cell_type": "code",
   "execution_count": 1,
   "metadata": {},
   "outputs": [],
   "source": [
    "email_address = \"<ENTER YOUR EMAIL ADDRESS>\""
   ]
  },
  {
   "cell_type": "code",
   "execution_count": 2,
   "metadata": {},
   "outputs": [],
   "source": [
    "!export PREFECT__CONTEXT__SECRETS__email_address=\"{email_address}\""
   ]
  },
  {
   "cell_type": "code",
   "execution_count": 3,
   "metadata": {},
   "outputs": [
    {
     "name": "stderr",
     "output_type": "stream",
     "text": [
      "/usr/local/lib/.cache/pypoetry/virtualenvs/drem-C9BKf97Q-py3.8/lib/python3.8/site-packages/geopandas/_compat.py:84: UserWarning: The Shapely GEOS version (3.8.0-CAPI-1.13.1 ) is incompatible with the GEOS version PyGEOS was compiled with (3.8.1-CAPI-1.13.3). Conversions between both will be slow.\n",
      "  warnings.warn(\n"
     ]
    }
   ],
   "source": [
    "run src/drem/etl/residential.py"
   ]
  },
  {
   "cell_type": "code",
   "execution_count": 4,
   "metadata": {},
   "outputs": [
    {
     "name": "stdout",
     "output_type": "stream",
     "text": [
      "[2020-11-05 08:06:11] INFO - prefect.FlowRunner | Beginning Flow run for 'Extract, Transform & Load DREM Data'\n",
      "[2020-11-05 08:06:11] INFO - prefect.TaskRunner | Task 'Get Filepath': Starting task run...\n",
      "[2020-11-05 08:06:11] INFO - prefect.TaskRunner | Task 'Get Filepath': Finished task run for task with final state: 'Success'\n",
      "[2020-11-05 08:06:11] INFO - prefect.TaskRunner | Task 'Get Filepath': Starting task run...\n",
      "[2020-11-05 08:06:11] INFO - prefect.TaskRunner | Task 'Get Filepath': Finished task run for task with final state: 'Success'\n",
      "[2020-11-05 08:06:11] INFO - prefect.TaskRunner | Task 'Get Filepath': Starting task run...\n",
      "[2020-11-05 08:06:11] INFO - prefect.TaskRunner | Task 'Get Filepath': Finished task run for task with final state: 'Success'\n",
      "[2020-11-05 08:06:11] INFO - prefect.TaskRunner | Task 'Get Filepath': Starting task run...\n",
      "[2020-11-05 08:06:11] INFO - prefect.TaskRunner | Task 'Get Filepath': Finished task run for task with final state: 'Success'\n",
      "[2020-11-05 08:06:11] INFO - prefect.TaskRunner | Task 'Get Filepath': Starting task run...\n",
      "[2020-11-05 08:06:11] INFO - prefect.TaskRunner | Task 'Get Filepath': Finished task run for task with final state: 'Success'\n",
      "[2020-11-05 08:06:11] INFO - prefect.TaskRunner | Task 'Get Filepath': Starting task run...\n",
      "[2020-11-05 08:06:11] INFO - prefect.TaskRunner | Task 'Get Filepath': Finished task run for task with final state: 'Success'\n",
      "[2020-11-05 08:06:11] INFO - prefect.TaskRunner | Task 'Get Filepath': Starting task run...\n",
      "[2020-11-05 08:06:11] INFO - prefect.TaskRunner | Task 'Get Filepath': Finished task run for task with final state: 'Success'\n",
      "[2020-11-05 08:06:12] INFO - prefect.TaskRunner | Task 'Get Filepath': Starting task run...\n",
      "[2020-11-05 08:06:12] INFO - prefect.TaskRunner | Task 'Get Filepath': Finished task run for task with final state: 'Success'\n",
      "[2020-11-05 08:06:12] INFO - prefect.TaskRunner | Task 'Get Filepath': Starting task run...\n",
      "[2020-11-05 08:06:12] INFO - prefect.TaskRunner | Task 'Get Filepath': Finished task run for task with final state: 'Success'\n",
      "[2020-11-05 08:06:12] INFO - prefect.TaskRunner | Task 'Get Filepath': Starting task run...\n",
      "[2020-11-05 08:06:12] INFO - prefect.TaskRunner | Task 'Get Filepath': Finished task run for task with final state: 'Success'\n",
      "[2020-11-05 08:06:12] INFO - prefect.TaskRunner | Task 'Get Filepath': Starting task run...\n",
      "[2020-11-05 08:06:12] INFO - prefect.TaskRunner | Task 'Get Filepath': Finished task run for task with final state: 'Success'\n",
      "[2020-11-05 08:06:12] INFO - prefect.TaskRunner | Task 'Get Filepath': Starting task run...\n",
      "[2020-11-05 08:06:12] INFO - prefect.TaskRunner | Task 'Get Filepath': Finished task run for task with final state: 'Success'\n",
      "[2020-11-05 08:06:12] INFO - prefect.TaskRunner | Task 'Get Filepath': Starting task run...\n",
      "[2020-11-05 08:06:12] INFO - prefect.TaskRunner | Task 'Get Filepath': Finished task run for task with final state: 'Success'\n",
      "[2020-11-05 08:06:12] INFO - prefect.TaskRunner | Task 'Get Filepath': Starting task run...\n",
      "[2020-11-05 08:06:12] INFO - prefect.TaskRunner | Task 'Get Filepath': Finished task run for task with final state: 'Success'\n",
      "[2020-11-05 08:06:12] INFO - prefect.TaskRunner | Task 'Get Filepath': Starting task run...\n",
      "[2020-11-05 08:06:12] INFO - prefect.TaskRunner | Task 'Get Filepath': Finished task run for task with final state: 'Success'\n",
      "[2020-11-05 08:06:12] INFO - prefect.TaskRunner | Task 'Get Filepath': Starting task run...\n",
      "[2020-11-05 08:06:12] INFO - prefect.TaskRunner | Task 'Get Filepath': Finished task run for task with final state: 'Success'\n",
      "[2020-11-05 08:06:12] INFO - prefect.TaskRunner | Task 'Get Filepath': Starting task run...\n",
      "[2020-11-05 08:06:12] INFO - prefect.TaskRunner | Task 'Get Filepath': Finished task run for task with final state: 'Success'\n",
      "[2020-11-05 08:06:13] INFO - prefect.TaskRunner | Task 'Get Filepath': Starting task run...\n",
      "[2020-11-05 08:06:13] INFO - prefect.TaskRunner | Task 'Get Filepath': Finished task run for task with final state: 'Success'\n",
      "[2020-11-05 08:06:13] INFO - prefect.TaskRunner | Task 'Get Filepath': Starting task run...\n",
      "[2020-11-05 08:06:13] INFO - prefect.TaskRunner | Task 'Get Filepath': Finished task run for task with final state: 'Success'\n",
      "[2020-11-05 08:06:13] INFO - prefect.TaskRunner | Task 'Get Filepath': Starting task run...\n",
      "[2020-11-05 08:06:13] INFO - prefect.TaskRunner | Task 'Get Filepath': Finished task run for task with final state: 'Success'\n",
      "[2020-11-05 08:06:13] INFO - prefect.TaskRunner | Task 'Get Filepath': Starting task run...\n",
      "[2020-11-05 08:06:13] INFO - prefect.TaskRunner | Task 'Get Filepath': Finished task run for task with final state: 'Success'\n",
      "[2020-11-05 08:06:13] INFO - prefect.TaskRunner | Task 'Get Filepath': Starting task run...\n",
      "[2020-11-05 08:06:13] INFO - prefect.TaskRunner | Task 'Get Filepath': Finished task run for task with final state: 'Success'\n",
      "[2020-11-05 08:06:13] INFO - prefect.TaskRunner | Task 'Get Filepath': Starting task run...\n",
      "[2020-11-05 08:06:13] INFO - prefect.TaskRunner | Task 'Get Filepath': Finished task run for task with final state: 'Success'\n",
      "[2020-11-05 08:06:13] INFO - prefect.TaskRunner | Task 'Get Filepath': Starting task run...\n",
      "[2020-11-05 08:06:13] INFO - prefect.TaskRunner | Task 'Get Filepath': Finished task run for task with final state: 'Success'\n",
      "[2020-11-05 08:06:13] INFO - prefect.TaskRunner | Task 'Get Filepath': Starting task run...\n",
      "[2020-11-05 08:06:13] INFO - prefect.TaskRunner | Task 'Get Filepath': Finished task run for task with final state: 'Success'\n",
      "[2020-11-05 08:06:13] INFO - prefect.TaskRunner | Task 'email_address': Starting task run...\n",
      "[2020-11-05 08:06:13] ERROR - prefect.TaskRunner | Unexpected error: ValueError('Local Secret \"email_address\" was not found.')\n",
      "Traceback (most recent call last):\n",
      "  File \"/usr/local/lib/.cache/pypoetry/virtualenvs/drem-C9BKf97Q-py3.8/lib/python3.8/site-packages/prefect/engine/runner.py\", line 48, in inner\n",
      "    new_state = method(self, state, *args, **kwargs)\n",
      "  File \"/usr/local/lib/.cache/pypoetry/virtualenvs/drem-C9BKf97Q-py3.8/lib/python3.8/site-packages/prefect/engine/task_runner.py\", line 845, in get_task_run_state\n",
      "    value = prefect.utilities.executors.run_task_with_timeout(\n",
      "  File \"/usr/local/lib/.cache/pypoetry/virtualenvs/drem-C9BKf97Q-py3.8/lib/python3.8/site-packages/prefect/utilities/executors.py\", line 298, in run_task_with_timeout\n",
      "    return task.run(*args, **kwargs)  # type: ignore\n",
      "  File \"/usr/local/lib/.cache/pypoetry/virtualenvs/drem-C9BKf97Q-py3.8/lib/python3.8/site-packages/prefect/utilities/tasks.py\", line 449, in method\n",
      "    return run_method(self, *args, **kwargs)\n",
      "  File \"/usr/local/lib/.cache/pypoetry/virtualenvs/drem-C9BKf97Q-py3.8/lib/python3.8/site-packages/prefect/tasks/secrets/base.py\", line 66, in run\n",
      "    return _Secret(name).get()\n",
      "  File \"/usr/local/lib/.cache/pypoetry/virtualenvs/drem-C9BKf97Q-py3.8/lib/python3.8/site-packages/prefect/client/secrets.py\", line 163, in get\n",
      "    raise ValueError(\n",
      "ValueError: Local Secret \"email_address\" was not found.\n",
      "[2020-11-05 08:06:13] INFO - prefect.TaskRunner | Task 'email_address': Finished task run for task with final state: 'Failed'\n",
      "[2020-11-05 08:06:13] INFO - prefect.TaskRunner | Task 'Get Filepath': Starting task run...\n",
      "[2020-11-05 08:06:14] INFO - prefect.TaskRunner | Task 'Get Filepath': Finished task run for task with final state: 'Success'\n",
      "[2020-11-05 08:06:14] INFO - prefect.TaskRunner | Task 'Get Filepath': Starting task run...\n",
      "[2020-11-05 08:06:14] INFO - prefect.TaskRunner | Task 'Get Filepath': Finished task run for task with final state: 'Success'\n",
      "[2020-11-05 08:06:14] INFO - prefect.TaskRunner | Task 'Get Filepath': Starting task run...\n",
      "[2020-11-05 08:06:14] INFO - prefect.TaskRunner | Task 'Get Filepath': Finished task run for task with final state: 'Success'\n",
      "[2020-11-05 08:06:14] INFO - prefect.TaskRunner | Task 'Download CSO 2019 Postcode Annual Network Gas Consumption': Starting task run...\n"
     ]
    },
    {
     "name": "stderr",
     "output_type": "stream",
     "text": [
      "\r",
      "  0%|          | 0.00/33.4k [00:00<?, ?iB/s]"
     ]
    },
    {
     "name": "stdout",
     "output_type": "stream",
     "text": [
      "[2020-11-05 08:06:14] ERROR - prefect.TaskRunner | Unexpected error: FileNotFoundError(2, 'No such file or directory')\n",
      "Traceback (most recent call last):\n",
      "  File \"/usr/local/lib/.cache/pypoetry/virtualenvs/drem-C9BKf97Q-py3.8/lib/python3.8/site-packages/prefect/engine/runner.py\", line 48, in inner\n",
      "    new_state = method(self, state, *args, **kwargs)\n",
      "  File \"/usr/local/lib/.cache/pypoetry/virtualenvs/drem-C9BKf97Q-py3.8/lib/python3.8/site-packages/prefect/engine/task_runner.py\", line 845, in get_task_run_state\n",
      "    value = prefect.utilities.executors.run_task_with_timeout(\n",
      "  File \"/usr/local/lib/.cache/pypoetry/virtualenvs/drem-C9BKf97Q-py3.8/lib/python3.8/site-packages/prefect/utilities/executors.py\", line 298, in run_task_with_timeout\n",
      "    return task.run(*args, **kwargs)  # type: ignore\n",
      "  File \"/drem/src/drem/utilities/download.py\", line 99, in run\n",
      "    download_file_from_response(response, filepath)\n",
      "  File \"/drem/src/drem/utilities/download.py\", line 24, in download_file_from_response\n",
      "    with open(filepath, \"wb\") as save_destination:\n",
      "FileNotFoundError: [Errno 2] No such file or directory: '/drem/src/data/external/cso_gas_2019.html'\n",
      "[2020-11-05 08:06:14] INFO - prefect.TaskRunner | Task 'Download CSO 2019 Postcode Annual Network Gas Consumption': Finished task run for task with final state: 'Failed'\n",
      "[2020-11-05 08:06:14] INFO - prefect.TaskRunner | Task 'Get Filepath': Starting task run...\n",
      "[2020-11-05 08:06:14] INFO - prefect.TaskRunner | Task 'Get Filepath': Finished task run for task with final state: 'Success'\n",
      "[2020-11-05 08:06:14] INFO - prefect.TaskRunner | Task 'Get Filepath': Starting task run...\n",
      "[2020-11-05 08:06:14] INFO - prefect.TaskRunner | Task 'Get Filepath': Finished task run for task with final state: 'Success'\n",
      "[2020-11-05 08:06:14] INFO - prefect.TaskRunner | Task 'Get Filepath': Starting task run...\n",
      "[2020-11-05 08:06:14] INFO - prefect.TaskRunner | Task 'Get Filepath': Finished task run for task with final state: 'Success'\n",
      "[2020-11-05 08:06:14] INFO - prefect.TaskRunner | Task 'Get Filepath': Starting task run...\n",
      "[2020-11-05 08:06:14] INFO - prefect.TaskRunner | Task 'Get Filepath': Finished task run for task with final state: 'Success'\n",
      "[2020-11-05 08:06:15] INFO - prefect.TaskRunner | Task 'Get Filepath': Starting task run...\n",
      "[2020-11-05 08:06:15] INFO - prefect.TaskRunner | Task 'Get Filepath': Finished task run for task with final state: 'Success'\n",
      "[2020-11-05 08:06:15] INFO - prefect.TaskRunner | Task 'Get Filepath': Starting task run...\n",
      "[2020-11-05 08:06:15] INFO - prefect.TaskRunner | Task 'Get Filepath': Finished task run for task with final state: 'Success'\n",
      "[2020-11-05 08:06:15] INFO - prefect.TaskRunner | Task 'Download Dublin Postcode Geometries': Starting task run...\n"
     ]
    },
    {
     "name": "stderr",
     "output_type": "stream",
     "text": [
      "\n",
      "0.00iB [00:00, ?iB/s]\u001b[A"
     ]
    },
    {
     "name": "stdout",
     "output_type": "stream",
     "text": [
      "[2020-11-05 08:06:16] ERROR - prefect.TaskRunner | Unexpected error: FileNotFoundError(2, 'No such file or directory')\n",
      "Traceback (most recent call last):\n",
      "  File \"/usr/local/lib/.cache/pypoetry/virtualenvs/drem-C9BKf97Q-py3.8/lib/python3.8/site-packages/prefect/engine/runner.py\", line 48, in inner\n",
      "    new_state = method(self, state, *args, **kwargs)\n",
      "  File \"/usr/local/lib/.cache/pypoetry/virtualenvs/drem-C9BKf97Q-py3.8/lib/python3.8/site-packages/prefect/engine/task_runner.py\", line 845, in get_task_run_state\n",
      "    value = prefect.utilities.executors.run_task_with_timeout(\n",
      "  File \"/usr/local/lib/.cache/pypoetry/virtualenvs/drem-C9BKf97Q-py3.8/lib/python3.8/site-packages/prefect/utilities/executors.py\", line 298, in run_task_with_timeout\n",
      "    return task.run(*args, **kwargs)  # type: ignore\n",
      "  File \"/drem/src/drem/utilities/download.py\", line 99, in run\n",
      "    download_file_from_response(response, filepath)\n",
      "  File \"/drem/src/drem/utilities/download.py\", line 24, in download_file_from_response\n",
      "    with open(filepath, \"wb\") as save_destination:\n",
      "FileNotFoundError: [Errno 2] No such file or directory: '/drem/src/data/external/dublin_postcodes.zip'\n",
      "[2020-11-05 08:06:16] INFO - prefect.TaskRunner | Task 'Download Dublin Postcode Geometries': Finished task run for task with final state: 'Failed'\n",
      "[2020-11-05 08:06:16] INFO - prefect.TaskRunner | Task 'Download Ireland BER Data': Starting task run...\n",
      "[2020-11-05 08:06:16] INFO - prefect.TaskRunner | Task 'Download Ireland BER Data': Finished task run for task with final state: 'TriggerFailed'\n",
      "[2020-11-05 08:06:16] INFO - prefect.TaskRunner | Task 'Get Filepath': Starting task run...\n",
      "[2020-11-05 08:06:16] INFO - prefect.TaskRunner | Task 'Get Filepath': Finished task run for task with final state: 'Success'\n",
      "[2020-11-05 08:06:16] INFO - prefect.TaskRunner | Task 'Get Filepath': Starting task run...\n",
      "[2020-11-05 08:06:16] INFO - prefect.TaskRunner | Task 'Get Filepath': Finished task run for task with final state: 'Success'\n",
      "[2020-11-05 08:06:16] INFO - prefect.TaskRunner | Task 'Get Filepath': Starting task run...\n",
      "[2020-11-05 08:06:16] INFO - prefect.TaskRunner | Task 'Get Filepath': Finished task run for task with final state: 'Success'\n",
      "[2020-11-05 08:06:16] INFO - prefect.TaskRunner | Task 'Get Filepath': Starting task run...\n",
      "[2020-11-05 08:06:16] INFO - prefect.TaskRunner | Task 'Get Filepath': Finished task run for task with final state: 'Success'\n",
      "[2020-11-05 08:06:16] INFO - prefect.TaskRunner | Task 'Get Filepath': Starting task run...\n",
      "[2020-11-05 08:06:16] INFO - prefect.TaskRunner | Task 'Get Filepath': Finished task run for task with final state: 'Success'\n",
      "[2020-11-05 08:06:16] INFO - prefect.TaskRunner | Task 'Get Filepath': Starting task run...\n",
      "[2020-11-05 08:06:16] INFO - prefect.TaskRunner | Task 'Get Filepath': Finished task run for task with final state: 'Success'\n",
      "[2020-11-05 08:06:16] INFO - prefect.TaskRunner | Task 'Get Filepath': Starting task run...\n",
      "[2020-11-05 08:06:16] INFO - prefect.TaskRunner | Task 'Get Filepath': Finished task run for task with final state: 'Success'\n",
      "[2020-11-05 08:06:16] INFO - prefect.TaskRunner | Task 'unzip': Starting task run...\n",
      "[2020-11-05 08:06:16] INFO - prefect.TaskRunner | Task 'unzip': Finished task run for task with final state: 'TriggerFailed'\n",
      "[2020-11-05 08:06:17] INFO - prefect.TaskRunner | Task 'Get Filepath': Starting task run...\n",
      "[2020-11-05 08:06:17] INFO - prefect.TaskRunner | Task 'Get Filepath': Finished task run for task with final state: 'Success'\n",
      "[2020-11-05 08:06:17] INFO - prefect.TaskRunner | Task 'Get Filepath': Starting task run...\n",
      "[2020-11-05 08:06:17] INFO - prefect.TaskRunner | Task 'Get Filepath': Finished task run for task with final state: 'Success'\n",
      "[2020-11-05 08:06:17] INFO - prefect.TaskRunner | Task 'Get Filepath': Starting task run...\n",
      "[2020-11-05 08:06:17] INFO - prefect.TaskRunner | Task 'Get Filepath': Finished task run for task with final state: 'Success'\n",
      "[2020-11-05 08:06:17] INFO - prefect.TaskRunner | Task 'Get Filepath': Starting task run...\n",
      "[2020-11-05 08:06:17] INFO - prefect.TaskRunner | Task 'Get Filepath': Finished task run for task with final state: 'Success'\n",
      "[2020-11-05 08:06:17] INFO - prefect.TaskRunner | Task 'Download Small Area Glossary': Starting task run...\n"
     ]
    },
    {
     "name": "stderr",
     "output_type": "stream",
     "text": [
      "\n",
      "\n",
      "  0%|          | 0.00/39.1k [00:00<?, ?iB/s]\u001b[A\u001b[A"
     ]
    },
    {
     "name": "stdout",
     "output_type": "stream",
     "text": [
      "[2020-11-05 08:06:17] ERROR - prefect.TaskRunner | Unexpected error: FileNotFoundError(2, 'No such file or directory')\n",
      "Traceback (most recent call last):\n",
      "  File \"/usr/local/lib/.cache/pypoetry/virtualenvs/drem-C9BKf97Q-py3.8/lib/python3.8/site-packages/prefect/engine/runner.py\", line 48, in inner\n",
      "    new_state = method(self, state, *args, **kwargs)\n",
      "  File \"/usr/local/lib/.cache/pypoetry/virtualenvs/drem-C9BKf97Q-py3.8/lib/python3.8/site-packages/prefect/engine/task_runner.py\", line 845, in get_task_run_state\n",
      "    value = prefect.utilities.executors.run_task_with_timeout(\n",
      "  File \"/usr/local/lib/.cache/pypoetry/virtualenvs/drem-C9BKf97Q-py3.8/lib/python3.8/site-packages/prefect/utilities/executors.py\", line 298, in run_task_with_timeout\n",
      "    return task.run(*args, **kwargs)  # type: ignore\n",
      "  File \"/drem/src/drem/utilities/download.py\", line 99, in run\n",
      "    download_file_from_response(response, filepath)\n",
      "  File \"/drem/src/drem/utilities/download.py\", line 24, in download_file_from_response\n",
      "    with open(filepath, \"wb\") as save_destination:\n",
      "FileNotFoundError: [Errno 2] No such file or directory: '/drem/src/data/external/small_area_glossary_2016.xlsx'\n",
      "[2020-11-05 08:06:17] INFO - prefect.TaskRunner | Task 'Download Small Area Glossary': Finished task run for task with final state: 'Failed'\n",
      "[2020-11-05 08:06:17] INFO - prefect.TaskRunner | Task 'Download Small Area Statistics': Starting task run...\n"
     ]
    },
    {
     "name": "stderr",
     "output_type": "stream",
     "text": [
      "\n",
      "\n",
      "\n",
      "  0%|          | 0.00/38.4M [00:00<?, ?iB/s]\u001b[A\u001b[A\u001b[A"
     ]
    },
    {
     "name": "stdout",
     "output_type": "stream",
     "text": [
      "[2020-11-05 08:06:18] ERROR - prefect.TaskRunner | Unexpected error: FileNotFoundError(2, 'No such file or directory')\n",
      "Traceback (most recent call last):\n",
      "  File \"/usr/local/lib/.cache/pypoetry/virtualenvs/drem-C9BKf97Q-py3.8/lib/python3.8/site-packages/prefect/engine/runner.py\", line 48, in inner\n",
      "    new_state = method(self, state, *args, **kwargs)\n",
      "  File \"/usr/local/lib/.cache/pypoetry/virtualenvs/drem-C9BKf97Q-py3.8/lib/python3.8/site-packages/prefect/engine/task_runner.py\", line 845, in get_task_run_state\n",
      "    value = prefect.utilities.executors.run_task_with_timeout(\n",
      "  File \"/usr/local/lib/.cache/pypoetry/virtualenvs/drem-C9BKf97Q-py3.8/lib/python3.8/site-packages/prefect/utilities/executors.py\", line 298, in run_task_with_timeout\n",
      "    return task.run(*args, **kwargs)  # type: ignore\n",
      "  File \"/drem/src/drem/utilities/download.py\", line 99, in run\n",
      "    download_file_from_response(response, filepath)\n",
      "  File \"/drem/src/drem/utilities/download.py\", line 24, in download_file_from_response\n",
      "    with open(filepath, \"wb\") as save_destination:\n",
      "FileNotFoundError: [Errno 2] No such file or directory: '/drem/src/data/external/small_area_statistics_2016.csv'\n",
      "[2020-11-05 08:06:18] INFO - prefect.TaskRunner | Task 'Download Small Area Statistics': Finished task run for task with final state: 'Failed'\n",
      "[2020-11-05 08:06:18] INFO - prefect.TaskRunner | Task 'Download Small Area Geometries': Starting task run...\n"
     ]
    },
    {
     "name": "stderr",
     "output_type": "stream",
     "text": [
      "\n",
      "\n",
      "\n",
      "\n",
      "  0%|          | 0.00/120M [00:00<?, ?iB/s]\u001b[A\u001b[A\u001b[A\u001b[A"
     ]
    },
    {
     "name": "stdout",
     "output_type": "stream",
     "text": [
      "[2020-11-05 08:06:19] ERROR - prefect.TaskRunner | Unexpected error: FileNotFoundError(2, 'No such file or directory')\n",
      "Traceback (most recent call last):\n",
      "  File \"/usr/local/lib/.cache/pypoetry/virtualenvs/drem-C9BKf97Q-py3.8/lib/python3.8/site-packages/prefect/engine/runner.py\", line 48, in inner\n",
      "    new_state = method(self, state, *args, **kwargs)\n",
      "  File \"/usr/local/lib/.cache/pypoetry/virtualenvs/drem-C9BKf97Q-py3.8/lib/python3.8/site-packages/prefect/engine/task_runner.py\", line 845, in get_task_run_state\n",
      "    value = prefect.utilities.executors.run_task_with_timeout(\n",
      "  File \"/usr/local/lib/.cache/pypoetry/virtualenvs/drem-C9BKf97Q-py3.8/lib/python3.8/site-packages/prefect/utilities/executors.py\", line 298, in run_task_with_timeout\n",
      "    return task.run(*args, **kwargs)  # type: ignore\n",
      "  File \"/drem/src/drem/utilities/download.py\", line 99, in run\n",
      "    download_file_from_response(response, filepath)\n",
      "  File \"/drem/src/drem/utilities/download.py\", line 24, in download_file_from_response\n",
      "    with open(filepath, \"wb\") as save_destination:\n",
      "FileNotFoundError: [Errno 2] No such file or directory: '/drem/src/data/external/small_area_geometries_2016.zip'\n",
      "[2020-11-05 08:06:19] INFO - prefect.TaskRunner | Task 'Download Small Area Geometries': Finished task run for task with final state: 'Failed'\n",
      "[2020-11-05 08:06:19] INFO - prefect.TaskRunner | Task 'csv_to_parquet': Starting task run...\n",
      "[2020-11-05 08:06:19] INFO - prefect.TaskRunner | Task 'csv_to_parquet': Finished task run for task with final state: 'TriggerFailed'\n",
      "[2020-11-05 08:06:19] INFO - prefect.TaskRunner | Task 'excel_to_parquet': Starting task run...\n",
      "[2020-11-05 08:06:19] INFO - prefect.TaskRunner | Task 'excel_to_parquet': Finished task run for task with final state: 'TriggerFailed'\n",
      "[2020-11-05 08:06:20] INFO - prefect.TaskRunner | Task 'csv_to_dask_parquet': Starting task run...\n",
      "[2020-11-05 08:06:20] INFO - prefect.TaskRunner | Task 'csv_to_dask_parquet': Finished task run for task with final state: 'TriggerFailed'\n",
      "[2020-11-05 08:06:20] INFO - prefect.TaskRunner | Task 'TransformBER': Starting task run...\n",
      "[2020-11-05 08:06:20] INFO - prefect.TaskRunner | Task 'TransformBER': Finished task run for task with final state: 'TriggerFailed'\n",
      "[2020-11-05 08:06:20] INFO - prefect.TaskRunner | Task 'unzip': Starting task run...\n",
      "[2020-11-05 08:06:20] INFO - prefect.TaskRunner | Task 'unzip': Finished task run for task with final state: 'TriggerFailed'\n",
      "[2020-11-05 08:06:20] INFO - prefect.TaskRunner | Task 'CreateBERArchetypes': Starting task run...\n",
      "[2020-11-05 08:06:20] INFO - prefect.TaskRunner | Task 'CreateBERArchetypes': Finished task run for task with final state: 'TriggerFailed'\n",
      "[2020-11-05 08:06:20] INFO - prefect.TaskRunner | Task 'unzip': Starting task run...\n",
      "[2020-11-05 08:06:20] INFO - prefect.TaskRunner | Task 'unzip': Finished task run for task with final state: 'TriggerFailed'\n",
      "[2020-11-05 08:06:20] INFO - prefect.TaskRunner | Task 'shapefile_to_parquet': Starting task run...\n",
      "[2020-11-05 08:06:20] INFO - prefect.TaskRunner | Task 'shapefile_to_parquet': Finished task run for task with final state: 'TriggerFailed'\n",
      "[2020-11-05 08:06:20] INFO - prefect.TaskRunner | Task 'shapefile_to_parquet': Starting task run...\n",
      "[2020-11-05 08:06:20] INFO - prefect.TaskRunner | Task 'shapefile_to_parquet': Finished task run for task with final state: 'TriggerFailed'\n",
      "[2020-11-05 08:06:21] INFO - prefect.TaskRunner | Task 'Transform Small Area Geometries': Starting task run...\n",
      "[2020-11-05 08:06:21] INFO - prefect.TaskRunner | Task 'Transform Small Area Geometries': Finished task run for task with final state: 'TriggerFailed'\n",
      "[2020-11-05 08:06:21] INFO - prefect.TaskRunner | Task 'TransformDublinPostcodes': Starting task run...\n",
      "[2020-11-05 08:06:21] INFO - prefect.TaskRunner | Task 'TransformDublinPostcodes': Finished task run for task with final state: 'TriggerFailed'\n",
      "[2020-11-05 08:06:21] INFO - prefect.TaskRunner | Task 'TransformSaStatistics': Starting task run...\n",
      "[2020-11-05 08:06:21] INFO - prefect.TaskRunner | Task 'TransformSaStatistics': Finished task run for task with final state: 'TriggerFailed'\n",
      "[2020-11-05 08:06:21] INFO - prefect.TaskRunner | Task 'TransformCSOGas': Starting task run...\n",
      "[2020-11-05 08:06:21] INFO - prefect.TaskRunner | Task 'TransformCSOGas': Finished task run for task with final state: 'TriggerFailed'\n",
      "[2020-11-05 08:06:21] INFO - prefect.TaskRunner | Task 'EstimateSmallAreaDemand': Starting task run...\n",
      "[2020-11-05 08:06:21] INFO - prefect.TaskRunner | Task 'EstimateSmallAreaDemand': Finished task run for task with final state: 'TriggerFailed'\n",
      "[2020-11-05 08:06:21] INFO - prefect.FlowRunner | Flow run FAILED: some reference tasks failed.\n"
     ]
    }
   ],
   "source": [
    "state = flow.run()"
   ]
  }
 ],
 "metadata": {
  "kernelspec": {
   "display_name": "Python 3",
   "language": "python",
   "name": "python3"
  },
  "language_info": {
   "codemirror_mode": {
    "name": "ipython",
    "version": 3
   },
   "file_extension": ".py",
   "mimetype": "text/x-python",
   "name": "python",
   "nbconvert_exporter": "python",
   "pygments_lexer": "ipython3",
   "version": "3.8.3"
  }
 },
 "nbformat": 4,
 "nbformat_minor": 4
}
