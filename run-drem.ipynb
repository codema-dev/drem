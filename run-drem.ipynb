{
 "cells": [
  {
   "cell_type": "markdown",
   "metadata": {},
   "source": [
    "# Run etl flow"
   ]
  },
  {
   "cell_type": "markdown",
   "metadata": {},
   "source": [
    "<span style=\"color:red\">__Register your email address with SEAI https://ndber.seai.ie/BERResearchTool/Register/Register.aspx__</span>"
   ]
  },
  {
   "cell_type": "code",
   "execution_count": 1,
   "metadata": {},
   "outputs": [],
   "source": [
    "email_address = \"<ENTER YOUR EMAIL ADDRESS>\""
   ]
  },
  {
   "cell_type": "code",
   "execution_count": 2,
   "metadata": {},
   "outputs": [],
   "source": [
    "from os import environ\n",
    "environ[\"PREFECT__CONTEXT__SECRETS__email_address\"] = email_address"
   ]
  },
  {
   "cell_type": "code",
   "execution_count": 3,
   "metadata": {},
   "outputs": [
    {
     "name": "stdout",
     "output_type": "stream",
     "text": [
      "<ENTER YOUR EMAIL ADDRESS>\r\n"
     ]
    }
   ],
   "source": [
    "!echo $PREFECT__CONTEXT__SECRETS__email_address"
   ]
  },
  {
   "cell_type": "code",
   "execution_count": 4,
   "metadata": {},
   "outputs": [
    {
     "name": "stderr",
     "output_type": "stream",
     "text": [
      "/usr/local/lib/.cache/pypoetry/virtualenvs/drem-C9BKf97Q-py3.8/lib/python3.8/site-packages/geopandas/_compat.py:84: UserWarning: The Shapely GEOS version (3.8.0-CAPI-1.13.1 ) is incompatible with the GEOS version PyGEOS was compiled with (3.8.1-CAPI-1.13.3). Conversions between both will be slow.\n",
      "  warnings.warn(\n"
     ]
    }
   ],
   "source": [
    "run src/drem/etl/residential.py"
   ]
  },
  {
   "cell_type": "code",
   "execution_count": 5,
   "metadata": {},
   "outputs": [
    {
     "name": "stdout",
     "output_type": "stream",
     "text": [
      "[2020-11-05 10:32:16] INFO - prefect.FlowRunner | Beginning Flow run for 'Extract, Transform & Load DREM Data'\n",
      "[2020-11-05 10:32:16] INFO - prefect.TaskRunner | Task 'Get Filepath': Starting task run...\n",
      "[2020-11-05 10:32:16] INFO - prefect.TaskRunner | Task 'Get Filepath': Finished task run for task with final state: 'Success'\n",
      "[2020-11-05 10:32:16] INFO - prefect.TaskRunner | Task 'Get Filepath': Starting task run...\n",
      "[2020-11-05 10:32:16] INFO - prefect.TaskRunner | Task 'Get Filepath': Finished task run for task with final state: 'Success'\n",
      "[2020-11-05 10:32:16] INFO - prefect.TaskRunner | Task 'Get Filepath': Starting task run...\n",
      "[2020-11-05 10:32:16] INFO - prefect.TaskRunner | Task 'Get Filepath': Finished task run for task with final state: 'Success'\n",
      "[2020-11-05 10:32:16] INFO - prefect.TaskRunner | Task 'Get Filepath': Starting task run...\n",
      "[2020-11-05 10:32:16] INFO - prefect.TaskRunner | Task 'Get Filepath': Finished task run for task with final state: 'Success'\n",
      "[2020-11-05 10:32:16] INFO - prefect.TaskRunner | Task 'Get Filepath': Starting task run...\n",
      "[2020-11-05 10:32:16] INFO - prefect.TaskRunner | Task 'Get Filepath': Finished task run for task with final state: 'Success'\n",
      "[2020-11-05 10:32:16] INFO - prefect.TaskRunner | Task 'Get Filepath': Starting task run...\n",
      "[2020-11-05 10:32:16] INFO - prefect.TaskRunner | Task 'Get Filepath': Finished task run for task with final state: 'Success'\n",
      "[2020-11-05 10:32:16] INFO - prefect.TaskRunner | Task 'Get Filepath': Starting task run...\n",
      "[2020-11-05 10:32:17] INFO - prefect.TaskRunner | Task 'Get Filepath': Finished task run for task with final state: 'Success'\n",
      "[2020-11-05 10:32:17] INFO - prefect.TaskRunner | Task 'Get Filepath': Starting task run...\n",
      "[2020-11-05 10:32:17] INFO - prefect.TaskRunner | Task 'Get Filepath': Finished task run for task with final state: 'Success'\n",
      "[2020-11-05 10:32:17] INFO - prefect.TaskRunner | Task 'Get Filepath': Starting task run...\n",
      "[2020-11-05 10:32:17] INFO - prefect.TaskRunner | Task 'Get Filepath': Finished task run for task with final state: 'Success'\n",
      "[2020-11-05 10:32:17] INFO - prefect.TaskRunner | Task 'Download CSO 2019 Postcode Annual Network Gas Consumption': Starting task run...\n",
      "[2020-11-05 10:32:17] INFO - prefect.Download CSO 2019 Postcode Annual Network Gas Consumption | Skipping download as /drem/data/external/cso_gas_2019.html exists!\n",
      "[2020-11-05 10:32:17] INFO - prefect.TaskRunner | Task 'Download CSO 2019 Postcode Annual Network Gas Consumption': Finished task run for task with final state: 'Success'\n",
      "[2020-11-05 10:32:17] INFO - prefect.TaskRunner | Task 'Get Filepath': Starting task run...\n",
      "[2020-11-05 10:32:17] INFO - prefect.TaskRunner | Task 'Get Filepath': Finished task run for task with final state: 'Success'\n",
      "[2020-11-05 10:32:17] INFO - prefect.TaskRunner | Task 'Get Filepath': Starting task run...\n",
      "[2020-11-05 10:32:17] INFO - prefect.TaskRunner | Task 'Get Filepath': Finished task run for task with final state: 'Success'\n",
      "[2020-11-05 10:32:17] INFO - prefect.TaskRunner | Task 'Get Filepath': Starting task run...\n",
      "[2020-11-05 10:32:17] INFO - prefect.TaskRunner | Task 'Get Filepath': Finished task run for task with final state: 'Success'\n",
      "[2020-11-05 10:32:17] INFO - prefect.TaskRunner | Task 'Get Filepath': Starting task run...\n",
      "[2020-11-05 10:32:17] INFO - prefect.TaskRunner | Task 'Get Filepath': Finished task run for task with final state: 'Success'\n",
      "[2020-11-05 10:32:18] INFO - prefect.TaskRunner | Task 'Get Filepath': Starting task run...\n",
      "[2020-11-05 10:32:18] INFO - prefect.TaskRunner | Task 'Get Filepath': Finished task run for task with final state: 'Success'\n",
      "[2020-11-05 10:32:18] INFO - prefect.TaskRunner | Task 'Get Filepath': Starting task run...\n",
      "[2020-11-05 10:32:18] INFO - prefect.TaskRunner | Task 'Get Filepath': Finished task run for task with final state: 'Success'\n",
      "[2020-11-05 10:32:18] INFO - prefect.TaskRunner | Task 'Get Filepath': Starting task run...\n",
      "[2020-11-05 10:32:18] INFO - prefect.TaskRunner | Task 'Get Filepath': Finished task run for task with final state: 'Success'\n",
      "[2020-11-05 10:32:18] INFO - prefect.TaskRunner | Task 'Get Filepath': Starting task run...\n",
      "[2020-11-05 10:32:18] INFO - prefect.TaskRunner | Task 'Get Filepath': Finished task run for task with final state: 'Success'\n",
      "[2020-11-05 10:32:18] INFO - prefect.TaskRunner | Task 'Get Filepath': Starting task run...\n",
      "[2020-11-05 10:32:18] INFO - prefect.TaskRunner | Task 'Get Filepath': Finished task run for task with final state: 'Success'\n",
      "[2020-11-05 10:32:18] INFO - prefect.TaskRunner | Task 'Get Filepath': Starting task run...\n",
      "[2020-11-05 10:32:18] INFO - prefect.TaskRunner | Task 'Get Filepath': Finished task run for task with final state: 'Success'\n",
      "[2020-11-05 10:32:18] INFO - prefect.TaskRunner | Task 'Get Filepath': Starting task run...\n",
      "[2020-11-05 10:32:18] INFO - prefect.TaskRunner | Task 'Get Filepath': Finished task run for task with final state: 'Success'\n",
      "[2020-11-05 10:32:18] INFO - prefect.TaskRunner | Task 'Get Filepath': Starting task run...\n",
      "[2020-11-05 10:32:18] INFO - prefect.TaskRunner | Task 'Get Filepath': Finished task run for task with final state: 'Success'\n",
      "[2020-11-05 10:32:19] INFO - prefect.TaskRunner | Task 'Get Filepath': Starting task run...\n",
      "[2020-11-05 10:32:19] INFO - prefect.TaskRunner | Task 'Get Filepath': Finished task run for task with final state: 'Success'\n",
      "[2020-11-05 10:32:19] INFO - prefect.TaskRunner | Task 'email_address': Starting task run...\n",
      "[2020-11-05 10:32:19] INFO - prefect.TaskRunner | Task 'email_address': Finished task run for task with final state: 'Success'\n",
      "[2020-11-05 10:32:19] INFO - prefect.TaskRunner | Task 'Get Filepath': Starting task run...\n",
      "[2020-11-05 10:32:19] INFO - prefect.TaskRunner | Task 'Get Filepath': Finished task run for task with final state: 'Success'\n",
      "[2020-11-05 10:32:19] INFO - prefect.TaskRunner | Task 'Get Filepath': Starting task run...\n",
      "[2020-11-05 10:32:19] INFO - prefect.TaskRunner | Task 'Get Filepath': Finished task run for task with final state: 'Success'\n",
      "[2020-11-05 10:32:19] INFO - prefect.TaskRunner | Task 'Get Filepath': Starting task run...\n",
      "[2020-11-05 10:32:19] INFO - prefect.TaskRunner | Task 'Get Filepath': Finished task run for task with final state: 'Success'\n",
      "[2020-11-05 10:32:19] INFO - prefect.TaskRunner | Task 'Get Filepath': Starting task run...\n",
      "[2020-11-05 10:32:19] INFO - prefect.TaskRunner | Task 'Get Filepath': Finished task run for task with final state: 'Success'\n",
      "[2020-11-05 10:32:19] INFO - prefect.TaskRunner | Task 'Get Filepath': Starting task run...\n",
      "[2020-11-05 10:32:19] INFO - prefect.TaskRunner | Task 'Get Filepath': Finished task run for task with final state: 'Success'\n",
      "[2020-11-05 10:32:19] INFO - prefect.TaskRunner | Task 'Get Filepath': Starting task run...\n",
      "[2020-11-05 10:32:19] INFO - prefect.TaskRunner | Task 'Get Filepath': Finished task run for task with final state: 'Success'\n",
      "[2020-11-05 10:32:19] INFO - prefect.TaskRunner | Task 'Get Filepath': Starting task run...\n",
      "[2020-11-05 10:32:20] INFO - prefect.TaskRunner | Task 'Get Filepath': Finished task run for task with final state: 'Success'\n",
      "[2020-11-05 10:32:20] INFO - prefect.TaskRunner | Task 'Get Filepath': Starting task run...\n",
      "[2020-11-05 10:32:20] INFO - prefect.TaskRunner | Task 'Get Filepath': Finished task run for task with final state: 'Success'\n",
      "[2020-11-05 10:32:20] INFO - prefect.TaskRunner | Task 'Get Filepath': Starting task run...\n",
      "[2020-11-05 10:32:20] INFO - prefect.TaskRunner | Task 'Get Filepath': Finished task run for task with final state: 'Success'\n",
      "[2020-11-05 10:32:20] INFO - prefect.TaskRunner | Task 'Get Filepath': Starting task run...\n",
      "[2020-11-05 10:32:20] INFO - prefect.TaskRunner | Task 'Get Filepath': Finished task run for task with final state: 'Success'\n",
      "[2020-11-05 10:32:20] INFO - prefect.TaskRunner | Task 'Get Filepath': Starting task run...\n",
      "[2020-11-05 10:32:20] INFO - prefect.TaskRunner | Task 'Get Filepath': Finished task run for task with final state: 'Success'\n",
      "[2020-11-05 10:32:20] INFO - prefect.TaskRunner | Task 'Get Filepath': Starting task run...\n",
      "[2020-11-05 10:32:20] INFO - prefect.TaskRunner | Task 'Get Filepath': Finished task run for task with final state: 'Success'\n"
     ]
    },
    {
     "name": "stdout",
     "output_type": "stream",
     "text": [
      "[2020-11-05 10:32:20] INFO - prefect.TaskRunner | Task 'Get Filepath': Starting task run...\n",
      "[2020-11-05 10:32:20] INFO - prefect.TaskRunner | Task 'Get Filepath': Finished task run for task with final state: 'Success'\n",
      "[2020-11-05 10:32:20] INFO - prefect.TaskRunner | Task 'Download Ireland BER Data': Starting task run...\n",
      "[2020-11-05 10:32:20] ERROR - prefect.TaskRunner | Unexpected error: ViolationError(\"File /drem/src/drem/download/ber.py, line 26 in DownloadBER:\\nEmail address is invalid!: validate_email(email_address):\\nemail_address was '<ENTER YOUR EMAIL ADDRESS>'\\nvalidate_email(email_address) was False\")\n",
      "Traceback (most recent call last):\n",
      "  File \"/usr/local/lib/.cache/pypoetry/virtualenvs/drem-C9BKf97Q-py3.8/lib/python3.8/site-packages/prefect/engine/runner.py\", line 48, in inner\n",
      "    new_state = method(self, state, *args, **kwargs)\n",
      "  File \"/usr/local/lib/.cache/pypoetry/virtualenvs/drem-C9BKf97Q-py3.8/lib/python3.8/site-packages/prefect/engine/task_runner.py\", line 845, in get_task_run_state\n",
      "    value = prefect.utilities.executors.run_task_with_timeout(\n",
      "  File \"/usr/local/lib/.cache/pypoetry/virtualenvs/drem-C9BKf97Q-py3.8/lib/python3.8/site-packages/prefect/utilities/executors.py\", line 298, in run_task_with_timeout\n",
      "    return task.run(*args, **kwargs)  # type: ignore\n",
      "  File \"/usr/local/lib/.cache/pypoetry/virtualenvs/drem-C9BKf97Q-py3.8/lib/python3.8/site-packages/icontract/_checkers.py\", line 379, in wrapper\n",
      "    raise violation_err  # pylint: disable=raising-bad-type\n",
      "  File \"/usr/local/lib/.cache/pypoetry/virtualenvs/drem-C9BKf97Q-py3.8/lib/python3.8/site-packages/icontract/_checkers.py\", line 373, in wrapper\n",
      "    _assert_precondition(contract=contract, resolved_kwargs=resolved_kwargs)\n",
      "  File \"/usr/local/lib/.cache/pypoetry/virtualenvs/drem-C9BKf97Q-py3.8/lib/python3.8/site-packages/icontract/_checkers.py\", line 154, in _assert_precondition\n",
      "    raise ViolationError(msg)\n",
      "icontract.errors.ViolationError: File /drem/src/drem/download/ber.py, line 26 in DownloadBER:\n",
      "Email address is invalid!: validate_email(email_address):\n",
      "email_address was '<ENTER YOUR EMAIL ADDRESS>'\n",
      "validate_email(email_address) was False\n",
      "[2020-11-05 10:32:20] INFO - prefect.TaskRunner | Task 'Download Ireland BER Data': Finished task run for task with final state: 'Failed'\n",
      "[2020-11-05 10:32:20] INFO - prefect.TaskRunner | Task 'Get Filepath': Starting task run...\n",
      "[2020-11-05 10:32:20] INFO - prefect.TaskRunner | Task 'Get Filepath': Finished task run for task with final state: 'Success'\n",
      "[2020-11-05 10:32:21] INFO - prefect.TaskRunner | Task 'Get Filepath': Starting task run...\n",
      "[2020-11-05 10:32:21] INFO - prefect.TaskRunner | Task 'Get Filepath': Finished task run for task with final state: 'Success'\n",
      "[2020-11-05 10:32:21] INFO - prefect.TaskRunner | Task 'Get Filepath': Starting task run...\n",
      "[2020-11-05 10:32:21] INFO - prefect.TaskRunner | Task 'Get Filepath': Finished task run for task with final state: 'Success'\n",
      "[2020-11-05 10:32:21] INFO - prefect.TaskRunner | Task 'Get Filepath': Starting task run...\n",
      "[2020-11-05 10:32:21] INFO - prefect.TaskRunner | Task 'Get Filepath': Finished task run for task with final state: 'Success'\n",
      "[2020-11-05 10:32:21] INFO - prefect.TaskRunner | Task 'Get Filepath': Starting task run...\n",
      "[2020-11-05 10:32:21] INFO - prefect.TaskRunner | Task 'Get Filepath': Finished task run for task with final state: 'Success'\n",
      "[2020-11-05 10:32:21] INFO - prefect.TaskRunner | Task 'Get Filepath': Starting task run...\n",
      "[2020-11-05 10:32:21] INFO - prefect.TaskRunner | Task 'Get Filepath': Finished task run for task with final state: 'Success'\n",
      "[2020-11-05 10:32:21] INFO - prefect.TaskRunner | Task 'Get Filepath': Starting task run...\n",
      "[2020-11-05 10:32:21] INFO - prefect.TaskRunner | Task 'Get Filepath': Finished task run for task with final state: 'Success'\n",
      "[2020-11-05 10:32:21] INFO - prefect.TaskRunner | Task 'Get Filepath': Starting task run...\n",
      "[2020-11-05 10:32:21] INFO - prefect.TaskRunner | Task 'Get Filepath': Finished task run for task with final state: 'Success'\n",
      "[2020-11-05 10:32:21] INFO - prefect.TaskRunner | Task 'Get Filepath': Starting task run...\n",
      "[2020-11-05 10:32:21] INFO - prefect.TaskRunner | Task 'Get Filepath': Finished task run for task with final state: 'Success'\n",
      "[2020-11-05 10:32:21] INFO - prefect.TaskRunner | Task 'Get Filepath': Starting task run...\n",
      "[2020-11-05 10:32:21] INFO - prefect.TaskRunner | Task 'Get Filepath': Finished task run for task with final state: 'Success'\n",
      "[2020-11-05 10:32:22] INFO - prefect.TaskRunner | Task 'Download Dublin Postcode Geometries': Starting task run...\n",
      "[2020-11-05 10:32:22] INFO - prefect.Download Dublin Postcode Geometries | Skipping download as /drem/data/external/dublin_postcodes.zip exists!\n",
      "[2020-11-05 10:32:22] INFO - prefect.TaskRunner | Task 'Download Dublin Postcode Geometries': Finished task run for task with final state: 'Success'\n",
      "[2020-11-05 10:32:22] INFO - prefect.TaskRunner | Task 'Download Small Area Statistics': Starting task run...\n",
      "[2020-11-05 10:32:22] INFO - prefect.Download Small Area Statistics | Skipping download as /drem/data/external/small_area_statistics_2016.csv exists!\n",
      "[2020-11-05 10:32:22] INFO - prefect.TaskRunner | Task 'Download Small Area Statistics': Finished task run for task with final state: 'Success'\n",
      "[2020-11-05 10:32:22] INFO - prefect.TaskRunner | Task 'Download Small Area Glossary': Starting task run...\n",
      "[2020-11-05 10:32:22] INFO - prefect.Download Small Area Glossary | Skipping download as /drem/data/external/small_area_glossary_2016.xlsx exists!\n",
      "[2020-11-05 10:32:22] INFO - prefect.TaskRunner | Task 'Download Small Area Glossary': Finished task run for task with final state: 'Success'\n",
      "[2020-11-05 10:32:22] INFO - prefect.TaskRunner | Task 'unzip': Starting task run...\n",
      "[2020-11-05 10:32:22] INFO - prefect.TaskRunner | Task 'unzip': Finished task run for task with final state: 'TriggerFailed'\n",
      "[2020-11-05 10:32:22] INFO - prefect.TaskRunner | Task 'Download Small Area Geometries': Starting task run...\n",
      "[2020-11-05 10:32:22] INFO - prefect.Download Small Area Geometries | Skipping download as /drem/data/external/small_area_geometries_2016.zip exists!\n",
      "[2020-11-05 10:32:22] INFO - prefect.TaskRunner | Task 'Download Small Area Geometries': Finished task run for task with final state: 'Success'\n",
      "[2020-11-05 10:32:22] INFO - prefect.TaskRunner | Task 'unzip': Starting task run...\n"
     ]
    },
    {
     "name": "stderr",
     "output_type": "stream",
     "text": [
      "2020-11-05 10:32:22.553 | INFO     | drem.utilities.zip:unzip:51 - Skipping as /drem/data/external/dublin_postcodes has already been unzipped!\n"
     ]
    },
    {
     "name": "stdout",
     "output_type": "stream",
     "text": [
      "[2020-11-05 10:32:22] INFO - prefect.TaskRunner | Task 'unzip': Finished task run for task with final state: 'Success'\n",
      "[2020-11-05 10:32:22] INFO - prefect.TaskRunner | Task 'csv_to_parquet': Starting task run...\n",
      "[2020-11-05 10:32:22] INFO - prefect.csv_to_parquet | /drem/data/external/small_area_statistics_2016.parquet already exists\n",
      "[2020-11-05 10:32:22] INFO - prefect.TaskRunner | Task 'csv_to_parquet': Finished task run for task with final state: 'Success'\n",
      "[2020-11-05 10:32:22] INFO - prefect.TaskRunner | Task 'excel_to_parquet': Starting task run...\n",
      "[2020-11-05 10:32:22] INFO - prefect.excel_to_parquet | /drem/data/external/small_area_glossary_2016.parquet already exists\n",
      "[2020-11-05 10:32:22] INFO - prefect.TaskRunner | Task 'excel_to_parquet': Finished task run for task with final state: 'Success'\n",
      "[2020-11-05 10:32:22] INFO - prefect.TaskRunner | Task 'csv_to_dask_parquet': Starting task run...\n",
      "[2020-11-05 10:32:22] INFO - prefect.TaskRunner | Task 'csv_to_dask_parquet': Finished task run for task with final state: 'TriggerFailed'\n",
      "[2020-11-05 10:32:23] INFO - prefect.TaskRunner | Task 'shapefile_to_parquet': Starting task run...\n",
      "[2020-11-05 10:32:23] INFO - prefect.shapefile_to_parquet | /drem/data/external/dublin_postcodes.parquet already exists\n",
      "[2020-11-05 10:32:23] INFO - prefect.TaskRunner | Task 'shapefile_to_parquet': Finished task run for task with final state: 'Success'\n",
      "[2020-11-05 10:32:23] INFO - prefect.TaskRunner | Task 'unzip': Starting task run...\n"
     ]
    },
    {
     "name": "stderr",
     "output_type": "stream",
     "text": [
      "2020-11-05 10:32:23.136 | INFO     | drem.utilities.zip:unzip:51 - Skipping as /drem/data/external/small_area_geometries_2016 has already been unzipped!\n"
     ]
    },
    {
     "name": "stdout",
     "output_type": "stream",
     "text": [
      "[2020-11-05 10:32:23] INFO - prefect.TaskRunner | Task 'unzip': Finished task run for task with final state: 'Success'\n",
      "[2020-11-05 10:32:23] INFO - prefect.TaskRunner | Task 'shapefile_to_parquet': Starting task run...\n",
      "[2020-11-05 10:32:23] INFO - prefect.shapefile_to_parquet | /drem/data/external/small_area_geometries_2016.parquet already exists\n",
      "[2020-11-05 10:32:23] INFO - prefect.TaskRunner | Task 'shapefile_to_parquet': Finished task run for task with final state: 'Success'\n",
      "[2020-11-05 10:32:23] INFO - prefect.TaskRunner | Task 'TransformDublinPostcodes': Starting task run...\n",
      "[2020-11-05 10:32:23] INFO - prefect.FlowRunner | Beginning Flow run for 'Clean Dublin Postcodes'\n",
      "[2020-11-05 10:32:23] INFO - prefect.TaskRunner | Task 'fpath': Starting task run...\n",
      "[2020-11-05 10:32:23] INFO - prefect.TaskRunner | Task 'fpath': Finished task run for task with final state: 'Success'\n",
      "[2020-11-05 10:32:23] INFO - prefect.TaskRunner | Task 'read_parquet': Starting task run...\n",
      "[2020-11-05 10:32:23] INFO - prefect.TaskRunner | Task 'read_parquet': Finished task run for task with final state: 'Success'\n",
      "[2020-11-05 10:32:23] INFO - prefect.TaskRunner | Task 'to_crs': Starting task run...\n",
      "[2020-11-05 10:32:23] INFO - prefect.TaskRunner | Task 'to_crs': Finished task run for task with final state: 'Success'\n",
      "[2020-11-05 10:32:24] INFO - prefect.TaskRunner | Task 'replace_substring_in_column': Starting task run...\n",
      "[2020-11-05 10:32:24] INFO - prefect.TaskRunner | Task 'replace_substring_in_column': Finished task run for task with final state: 'Success'\n",
      "[2020-11-05 10:32:24] INFO - prefect.TaskRunner | Task 'dissolve': Starting task run...\n",
      "[2020-11-05 10:32:24] INFO - prefect.TaskRunner | Task 'dissolve': Finished task run for task with final state: 'Success'\n",
      "[2020-11-05 10:32:24] INFO - prefect.TaskRunner | Task 'get_columns': Starting task run...\n",
      "[2020-11-05 10:32:24] INFO - prefect.TaskRunner | Task 'get_columns': Finished task run for task with final state: 'Success'\n",
      "[2020-11-05 10:32:24] INFO - prefect.FlowRunner | Flow run SUCCESS: all reference tasks succeeded\n",
      "[2020-11-05 10:32:24] INFO - prefect.TaskRunner | Task 'TransformDublinPostcodes': Finished task run for task with final state: 'Success'\n",
      "[2020-11-05 10:32:24] INFO - prefect.TaskRunner | Task 'TransformBER': Starting task run...\n",
      "[2020-11-05 10:32:24] INFO - prefect.TaskRunner | Task 'TransformBER': Finished task run for task with final state: 'TriggerFailed'\n",
      "[2020-11-05 10:32:24] INFO - prefect.TaskRunner | Task 'Transform Small Area Geometries': Starting task run...\n",
      "[2020-11-05 10:32:29] INFO - prefect.TaskRunner | Task 'Transform Small Area Geometries': Finished task run for task with final state: 'Success'\n",
      "[2020-11-05 10:32:29] INFO - prefect.TaskRunner | Task 'CreateBERArchetypes': Starting task run...\n",
      "[2020-11-05 10:32:29] INFO - prefect.TaskRunner | Task 'CreateBERArchetypes': Finished task run for task with final state: 'TriggerFailed'\n",
      "[2020-11-05 10:32:29] INFO - prefect.TaskRunner | Task 'TransformSaStatistics': Starting task run...\n",
      "[2020-11-05 10:32:29] INFO - prefect.FlowRunner | Beginning Flow run for 'Transform Dublin Small Area Statistics'\n",
      "[2020-11-05 10:32:29] INFO - prefect.TaskRunner | Task 'sa_glossary_fpath': Starting task run...\n",
      "[2020-11-05 10:32:29] INFO - prefect.TaskRunner | Task 'sa_glossary_fpath': Finished task run for task with final state: 'Success'\n",
      "[2020-11-05 10:32:29] INFO - prefect.TaskRunner | Task 'sa_stats_fpath': Starting task run...\n",
      "[2020-11-05 10:32:29] INFO - prefect.TaskRunner | Task 'sa_stats_fpath': Finished task run for task with final state: 'Success'\n",
      "[2020-11-05 10:32:29] INFO - prefect.TaskRunner | Task 'Read Parquet file': Starting task run...\n",
      "[2020-11-05 10:32:30] INFO - prefect.TaskRunner | Task 'Read Parquet file': Finished task run for task with final state: 'Success'\n",
      "[2020-11-05 10:32:30] INFO - prefect.TaskRunner | Task 'Read Parquet file': Starting task run...\n",
      "[2020-11-05 10:32:31] INFO - prefect.TaskRunner | Task 'Read Parquet file': Finished task run for task with final state: 'Success'\n",
      "[2020-11-05 10:32:31] INFO - prefect.TaskRunner | Task 'sa_geometries_fpath': Starting task run...\n",
      "[2020-11-05 10:32:31] INFO - prefect.TaskRunner | Task 'sa_geometries_fpath': Finished task run for task with final state: 'Success'\n",
      "[2020-11-05 10:32:31] INFO - prefect.TaskRunner | Task 'postcode_geometries_fpath': Starting task run...\n",
      "[2020-11-05 10:32:31] INFO - prefect.TaskRunner | Task 'postcode_geometries_fpath': Finished task run for task with final state: 'Success'\n",
      "[2020-11-05 10:32:31] INFO - prefect.TaskRunner | Task 'read_parquet': Starting task run...\n",
      "[2020-11-05 10:32:31] INFO - prefect.TaskRunner | Task 'read_parquet': Finished task run for task with final state: 'Success'\n",
      "[2020-11-05 10:32:31] INFO - prefect.TaskRunner | Task '_extract_rows_from_glossary': Starting task run...\n",
      "[2020-11-05 10:32:31] INFO - prefect.TaskRunner | Task '_extract_rows_from_glossary': Finished task run for task with final state: 'Success'\n",
      "[2020-11-05 10:32:31] INFO - prefect.TaskRunner | Task '_convert_columns_to_dict': Starting task run...\n",
      "[2020-11-05 10:32:32] INFO - prefect.TaskRunner | Task '_convert_columns_to_dict': Finished task run for task with final state: 'Success'\n",
      "[2020-11-05 10:32:32] INFO - prefect.TaskRunner | Task '_extract_column_names_via_glossary': Starting task run...\n",
      "[2020-11-05 10:32:32] INFO - prefect.TaskRunner | Task '_extract_column_names_via_glossary': Finished task run for task with final state: 'Success'\n",
      "[2020-11-05 10:32:32] INFO - prefect.TaskRunner | Task 'read_parquet': Starting task run...\n",
      "[2020-11-05 10:32:32] INFO - prefect.TaskRunner | Task 'read_parquet': Finished task run for task with final state: 'Success'\n",
      "[2020-11-05 10:32:32] INFO - prefect.TaskRunner | Task '_extract_rows_from_glossary': Starting task run...\n",
      "[2020-11-05 10:32:32] INFO - prefect.TaskRunner | Task '_extract_rows_from_glossary': Finished task run for task with final state: 'Success'\n",
      "[2020-11-05 10:32:32] INFO - prefect.TaskRunner | Task '_rename_columns_via_glossary': Starting task run...\n",
      "[2020-11-05 10:32:33] INFO - prefect.TaskRunner | Task '_rename_columns_via_glossary': Finished task run for task with final state: 'Success'\n",
      "[2020-11-05 10:32:33] INFO - prefect.TaskRunner | Task '_convert_columns_to_dict': Starting task run...\n",
      "[2020-11-05 10:32:33] INFO - prefect.TaskRunner | Task '_convert_columns_to_dict': Finished task run for task with final state: 'Success'\n",
      "[2020-11-05 10:32:33] INFO - prefect.TaskRunner | Task '_extract_column_names_via_glossary': Starting task run...\n",
      "[2020-11-05 10:32:33] INFO - prefect.TaskRunner | Task '_extract_column_names_via_glossary': Finished task run for task with final state: 'Success'\n",
      "[2020-11-05 10:32:33] INFO - prefect.TaskRunner | Task '_melt_columns': Starting task run...\n",
      "[2020-11-05 10:32:33] INFO - prefect.TaskRunner | Task '_melt_columns': Finished task run for task with final state: 'Success'\n",
      "[2020-11-05 10:32:33] INFO - prefect.TaskRunner | Task 'rename': Starting task run...\n",
      "[2020-11-05 10:32:33] INFO - prefect.TaskRunner | Task 'rename': Finished task run for task with final state: 'Success'\n",
      "[2020-11-05 10:32:33] INFO - prefect.TaskRunner | Task '_rename_columns_via_glossary': Starting task run...\n",
      "[2020-11-05 10:32:33] INFO - prefect.TaskRunner | Task '_rename_columns_via_glossary': Finished task run for task with final state: 'Success'\n",
      "[2020-11-05 10:32:33] INFO - prefect.TaskRunner | Task '_melt_columns': Starting task run...\n",
      "[2020-11-05 10:32:33] INFO - prefect.TaskRunner | Task '_melt_columns': Finished task run for task with final state: 'Success'\n",
      "[2020-11-05 10:32:33] INFO - prefect.TaskRunner | Task '_replace_substring_in_column': Starting task run...\n",
      "[2020-11-05 10:32:34] INFO - prefect.TaskRunner | Task '_replace_substring_in_column': Finished task run for task with final state: 'Success'\n",
      "[2020-11-05 10:32:34] INFO - prefect.TaskRunner | Task '_split_column_in_two_on_substring': Starting task run...\n",
      "[2020-11-05 10:32:36] INFO - prefect.TaskRunner | Task '_split_column_in_two_on_substring': Finished task run for task with final state: 'Success'\n",
      "[2020-11-05 10:32:36] INFO - prefect.TaskRunner | Task '_replace_substring_in_column': Starting task run...\n"
     ]
    },
    {
     "name": "stdout",
     "output_type": "stream",
     "text": [
      "[2020-11-05 10:32:37] INFO - prefect.TaskRunner | Task '_replace_substring_in_column': Finished task run for task with final state: 'Success'\n",
      "[2020-11-05 10:32:37] INFO - prefect.TaskRunner | Task '_merge_with_geometries': Starting task run...\n",
      "[2020-11-05 10:32:37] INFO - prefect.TaskRunner | Task '_merge_with_geometries': Finished task run for task with final state: 'Success'\n",
      "[2020-11-05 10:32:37] INFO - prefect.TaskRunner | Task '_link_small_areas_to_postcodes': Starting task run...\n"
     ]
    },
    {
     "name": "stderr",
     "output_type": "stream",
     "text": [
      "/drem/src/drem/transform/sa_statistics.py:187: UserWarning: Geometry is in a geographic CRS. Results from 'centroid' are likely incorrect. Use 'GeoSeries.to_crs()' to re-project geometries to a projected CRS before this operation.\n",
      "\n",
      "  geometry=lambda gdf: gdf.geometry.centroid,\n"
     ]
    },
    {
     "name": "stdout",
     "output_type": "stream",
     "text": [
      "[2020-11-05 10:32:42] INFO - prefect.TaskRunner | Task '_link_small_areas_to_postcodes': Finished task run for task with final state: 'Success'\n",
      "[2020-11-05 10:32:42] INFO - prefect.TaskRunner | Task 'get_columns': Starting task run...\n",
      "[2020-11-05 10:32:42] INFO - prefect.TaskRunner | Task 'get_columns': Finished task run for task with final state: 'Success'\n",
      "[2020-11-05 10:32:42] INFO - prefect.TaskRunner | Task '_replace_substring_in_column': Starting task run...\n",
      "[2020-11-05 10:32:43] INFO - prefect.TaskRunner | Task '_replace_substring_in_column': Finished task run for task with final state: 'Success'\n",
      "[2020-11-05 10:32:43] INFO - prefect.TaskRunner | Task '_strip_column': Starting task run...\n",
      "[2020-11-05 10:32:43] INFO - prefect.TaskRunner | Task '_strip_column': Finished task run for task with final state: 'Success'\n",
      "[2020-11-05 10:32:43] INFO - prefect.TaskRunner | Task '_pivot_table': Starting task run...\n",
      "[2020-11-05 10:32:44] INFO - prefect.TaskRunner | Task '_pivot_table': Finished task run for task with final state: 'Success'\n",
      "[2020-11-05 10:32:44] INFO - prefect.TaskRunner | Task '_merge_with_geometries': Starting task run...\n",
      "[2020-11-05 10:32:44] INFO - prefect.TaskRunner | Task '_merge_with_geometries': Finished task run for task with final state: 'Success'\n",
      "[2020-11-05 10:32:44] INFO - prefect.TaskRunner | Task '_link_small_areas_to_postcodes': Starting task run...\n"
     ]
    },
    {
     "name": "stderr",
     "output_type": "stream",
     "text": [
      "/drem/src/drem/transform/sa_statistics.py:187: UserWarning: Geometry is in a geographic CRS. Results from 'centroid' are likely incorrect. Use 'GeoSeries.to_crs()' to re-project geometries to a projected CRS before this operation.\n",
      "\n",
      "  geometry=lambda gdf: gdf.geometry.centroid,\n"
     ]
    },
    {
     "name": "stdout",
     "output_type": "stream",
     "text": [
      "[2020-11-05 10:32:49] INFO - prefect.TaskRunner | Task '_link_small_areas_to_postcodes': Finished task run for task with final state: 'Success'\n",
      "[2020-11-05 10:32:49] INFO - prefect.TaskRunner | Task '_get_columns': Starting task run...\n",
      "[2020-11-05 10:32:49] INFO - prefect.TaskRunner | Task '_get_columns': Finished task run for task with final state: 'Success'\n",
      "[2020-11-05 10:32:49] INFO - prefect.FlowRunner | Flow run SUCCESS: all reference tasks succeeded\n",
      "[2020-11-05 10:32:53] INFO - prefect.TaskRunner | Task 'TransformSaStatistics': Finished task run for task with final state: 'Success'\n",
      "[2020-11-05 10:32:53] INFO - prefect.TaskRunner | Task 'TransformCSOGas': Starting task run...\n",
      "[2020-11-05 10:32:53] INFO - prefect.FlowRunner | Beginning Flow run for 'Transform CSO Residential Network Gas Data'\n",
      "[2020-11-05 10:32:53] INFO - prefect.TaskRunner | Task 'sa_boilers_fpath': Starting task run...\n",
      "[2020-11-05 10:32:53] INFO - prefect.TaskRunner | Task 'sa_boilers_fpath': Finished task run for task with final state: 'Success'\n",
      "[2020-11-05 10:32:53] INFO - prefect.TaskRunner | Task 'postcode_geometries_fpath': Starting task run...\n",
      "[2020-11-05 10:32:53] INFO - prefect.TaskRunner | Task 'postcode_geometries_fpath': Finished task run for task with final state: 'Success'\n",
      "[2020-11-05 10:32:54] INFO - prefect.TaskRunner | Task 'fpath': Starting task run...\n",
      "[2020-11-05 10:32:54] INFO - prefect.TaskRunner | Task 'fpath': Finished task run for task with final state: 'Success'\n",
      "[2020-11-05 10:32:54] INFO - prefect.TaskRunner | Task 'read_parquet': Starting task run...\n",
      "[2020-11-05 10:32:54] INFO - prefect.TaskRunner | Task 'read_parquet': Finished task run for task with final state: 'Success'\n",
      "[2020-11-05 10:32:54] INFO - prefect.TaskRunner | Task 'read_parquet': Starting task run...\n",
      "[2020-11-05 10:32:57] INFO - prefect.TaskRunner | Task 'read_parquet': Finished task run for task with final state: 'Success'\n",
      "[2020-11-05 10:32:57] INFO - prefect.TaskRunner | Task 'Extract boiler totals from boiler Small Area Statistics': Starting task run...\n",
      "[2020-11-05 10:32:58] INFO - prefect.TaskRunner | Task 'Extract boiler totals from boiler Small Area Statistics': Finished task run for task with final state: 'Success'\n",
      "[2020-11-05 10:32:58] INFO - prefect.TaskRunner | Task 'Read HTML File': Starting task run...\n",
      "[2020-11-05 10:33:00] INFO - prefect.TaskRunner | Task 'Read HTML File': Finished task run for task with final state: 'Success'\n",
      "[2020-11-05 10:33:00] INFO - prefect.TaskRunner | Task 'Extract Gas boiler totals from boiler Small Area Statistics': Starting task run...\n",
      "[2020-11-05 10:33:00] INFO - prefect.TaskRunner | Task 'Extract Gas boiler totals from boiler Small Area Statistics': Finished task run for task with final state: 'Success'\n",
      "[2020-11-05 10:33:01] INFO - prefect.TaskRunner | Task 'Calculate the total number of boilers in each Postcode': Starting task run...\n",
      "[2020-11-05 10:33:01] INFO - prefect.TaskRunner | Task 'Calculate the total number of boilers in each Postcode': Finished task run for task with final state: 'Success'\n",
      "[2020-11-05 10:33:01] INFO - prefect.TaskRunner | Task 'Calculate the total number of boilers in each Postcode': Starting task run...\n",
      "[2020-11-05 10:33:01] INFO - prefect.TaskRunner | Task 'Calculate the total number of boilers in each Postcode': Finished task run for task with final state: 'Success'\n",
      "[2020-11-05 10:33:01] INFO - prefect.TaskRunner | Task 'GetItem': Starting task run...\n",
      "[2020-11-05 10:33:01] INFO - prefect.TaskRunner | Task 'GetItem': Finished task run for task with final state: 'Success'\n",
      "[2020-11-05 10:33:02] INFO - prefect.TaskRunner | Task 'GetItem': Starting task run...\n",
      "[2020-11-05 10:33:02] INFO - prefect.TaskRunner | Task 'GetItem': Finished task run for task with final state: 'Success'\n",
      "[2020-11-05 10:33:02] INFO - prefect.TaskRunner | Task 'GetItem': Starting task run...\n",
      "[2020-11-05 10:33:02] INFO - prefect.TaskRunner | Task 'GetItem': Finished task run for task with final state: 'Success'\n",
      "[2020-11-05 10:33:02] INFO - prefect.TaskRunner | Task 'Replace column names with values from the row': Starting task run...\n",
      "[2020-11-05 10:33:02] INFO - prefect.TaskRunner | Task 'Replace column names with values from the row': Finished task run for task with final state: 'Success'\n",
      "[2020-11-05 10:33:02] INFO - prefect.TaskRunner | Task 'GetItem': Starting task run...\n",
      "[2020-11-05 10:33:02] INFO - prefect.TaskRunner | Task 'GetItem': Finished task run for task with final state: 'Success'\n",
      "[2020-11-05 10:33:02] INFO - prefect.TaskRunner | Task 'Rename 'total' to 'gas_hh_2016'': Starting task run...\n",
      "[2020-11-05 10:33:03] INFO - prefect.TaskRunner | Task 'Rename 'total' to 'gas_hh_2016'': Finished task run for task with final state: 'Success'\n",
      "[2020-11-05 10:33:03] INFO - prefect.TaskRunner | Task 'Rename 'total' to 'gas_hh_2016'': Starting task run...\n",
      "[2020-11-05 10:33:03] INFO - prefect.TaskRunner | Task 'Rename 'total' to 'gas_hh_2016'': Finished task run for task with final state: 'Success'\n",
      "[2020-11-05 10:33:03] INFO - prefect.TaskRunner | Task 'Delete all county names starting with a 0 followed by a number': Starting task run...\n",
      "[2020-11-05 10:33:03] INFO - prefect.TaskRunner | Task 'Delete all county names starting with a 0 followed by a number': Finished task run for task with final state: 'Success'\n",
      "[2020-11-05 10:33:03] INFO - prefect.TaskRunner | Task 'Replace column names with values from the row': Starting task run...\n",
      "[2020-11-05 10:33:03] INFO - prefect.TaskRunner | Task 'Replace column names with values from the row': Finished task run for task with final state: 'Success'\n",
      "[2020-11-05 10:33:03] INFO - prefect.TaskRunner | Task 'Replace column names with values from the row': Starting task run...\n",
      "[2020-11-05 10:33:04] INFO - prefect.TaskRunner | Task 'Replace column names with values from the row': Finished task run for task with final state: 'Success'\n",
      "[2020-11-05 10:33:04] INFO - prefect.TaskRunner | Task 'Delete all county names starting with a 0 followed by a number': Starting task run...\n",
      "[2020-11-05 10:33:04] INFO - prefect.TaskRunner | Task 'Delete all county names starting with a 0 followed by a number': Finished task run for task with final state: 'Success'\n",
      "[2020-11-05 10:33:04] INFO - prefect.TaskRunner | Task 'Replace column names with values from the row': Starting task run...\n",
      "[2020-11-05 10:33:04] INFO - prefect.TaskRunner | Task 'Replace column names with values from the row': Finished task run for task with final state: 'Success'\n",
      "[2020-11-05 10:33:04] INFO - prefect.TaskRunner | Task 'Link Gas Boiler Postcode Totals to Boiler Postcode Totals': Starting task run...\n",
      "[2020-11-05 10:33:04] INFO - prefect.TaskRunner | Task 'Link Gas Boiler Postcode Totals to Boiler Postcode Totals': Finished task run for task with final state: 'Success'\n",
      "[2020-11-05 10:33:04] INFO - prefect.TaskRunner | Task 'Replace 'Dublin County' with 'Co. Dublin'': Starting task run...\n",
      "[2020-11-05 10:33:04] INFO - prefect.TaskRunner | Task 'Replace 'Dublin County' with 'Co. Dublin'': Finished task run for task with final state: 'Success'\n",
      "[2020-11-05 10:33:05] INFO - prefect.TaskRunner | Task 'List': Starting task run...\n",
      "[2020-11-05 10:33:05] INFO - prefect.TaskRunner | Task 'List': Finished task run for task with final state: 'Success'\n",
      "[2020-11-05 10:33:05] INFO - prefect.TaskRunner | Task 'Replace 'Dublin County' with 'Co. Dublin'': Starting task run...\n",
      "[2020-11-05 10:33:05] INFO - prefect.TaskRunner | Task 'Replace 'Dublin County' with 'Co. Dublin'': Finished task run for task with final state: 'Success'\n",
      "[2020-11-05 10:33:05] INFO - prefect.TaskRunner | Task 'List': Starting task run...\n",
      "[2020-11-05 10:33:05] INFO - prefect.TaskRunner | Task 'List': Finished task run for task with final state: 'Success'\n",
      "[2020-11-05 10:33:05] INFO - prefect.TaskRunner | Task 'Join County-level Data to Postcode-level Data': Starting task run...\n",
      "[2020-11-05 10:33:06] INFO - prefect.TaskRunner | Task 'Join County-level Data to Postcode-level Data': Finished task run for task with final state: 'Success'\n",
      "[2020-11-05 10:33:06] INFO - prefect.TaskRunner | Task 'Join County-level Data to Postcode-level Data': Starting task run...\n",
      "[2020-11-05 10:33:06] INFO - prefect.TaskRunner | Task 'Join County-level Data to Postcode-level Data': Finished task run for task with final state: 'Success'\n"
     ]
    },
    {
     "name": "stdout",
     "output_type": "stream",
     "text": [
      "[2020-11-05 10:33:06] INFO - prefect.TaskRunner | Task 'Link Postcode Demands to Dwelling Boiler Totals': Starting task run...\n",
      "[2020-11-05 10:33:06] INFO - prefect.TaskRunner | Task 'Link Postcode Demands to Dwelling Boiler Totals': Finished task run for task with final state: 'Success'\n",
      "[2020-11-05 10:33:06] INFO - prefect.TaskRunner | Task 'Link Postcode Demands to Postcode Geometries': Starting task run...\n",
      "[2020-11-05 10:33:06] INFO - prefect.TaskRunner | Task 'Link Postcode Demands to Postcode Geometries': Finished task run for task with final state: 'Success'\n",
      "[2020-11-05 10:33:06] INFO - prefect.TaskRunner | Task 'Link Postcode Demands to Postcode Geometries': Starting task run...\n",
      "[2020-11-05 10:33:07] INFO - prefect.TaskRunner | Task 'Link Postcode Demands to Postcode Geometries': Finished task run for task with final state: 'Success'\n",
      "[2020-11-05 10:33:07] INFO - prefect.FlowRunner | Flow run SUCCESS: all reference tasks succeeded\n",
      "[2020-11-05 10:33:07] INFO - prefect.TaskRunner | Task 'TransformCSOGas': Finished task run for task with final state: 'Success'\n",
      "[2020-11-05 10:33:07] INFO - prefect.TaskRunner | Task 'EstimateSmallAreaDemand': Starting task run...\n",
      "[2020-11-05 10:33:07] INFO - prefect.TaskRunner | Task 'EstimateSmallAreaDemand': Finished task run for task with final state: 'TriggerFailed'\n",
      "[2020-11-05 10:33:07] INFO - prefect.FlowRunner | Flow run FAILED: some reference tasks failed.\n"
     ]
    }
   ],
   "source": [
    "state = flow.run()"
   ]
  }
 ],
 "metadata": {
  "kernelspec": {
   "display_name": "Python 3",
   "language": "python",
   "name": "python3"
  },
  "language_info": {
   "codemirror_mode": {
    "name": "ipython",
    "version": 3
   },
   "file_extension": ".py",
   "mimetype": "text/x-python",
   "name": "python",
   "nbconvert_exporter": "python",
   "pygments_lexer": "ipython3",
   "version": "3.8.3"
  }
 },
 "nbformat": 4,
 "nbformat_minor": 4
}
